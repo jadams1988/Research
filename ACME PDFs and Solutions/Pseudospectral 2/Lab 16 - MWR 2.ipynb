{
 "cells": [
  {
   "cell_type": "code",
   "execution_count": null,
   "metadata": {
    "collapsed": true
   },
   "outputs": [],
   "source": [
    "import numpy as np\n",
    "from scipy.fftpack import fft, ifft\n",
    "import matplotlib.pyplot as plt\n",
    "from mpl_toolkits.mplot3d import Axes3D"
   ]
  },
  {
   "cell_type": "markdown",
   "metadata": {},
   "source": [
    "# Sample Code"
   ]
  },
  {
   "cell_type": "code",
   "execution_count": null,
   "metadata": {},
   "outputs": [],
   "source": [
    "N=24\n",
    "x1 = (2.*np.pi/N)*np.arange(N)\n",
    "f = np.sin(x1)**2.*np.cos(x1) + np.exp(2.*np.sin(x1+1))\n",
    "\n",
    "k = np.concatenate(( np.arange(0,N/2) ,\n",
    "                    np.array([0]) , # Because hat{f}'(k) at k = N/2 is zero.\n",
    "                    np.arange(-N/2+1,0) ))\n",
    "\n",
    "# Approximates the derivative using the pseudospectral method\n",
    "f_hat = fft(f)\n",
    "fp_hat = ((1j*k)*f_hat)\n",
    "fp = np.real(ifft(fp_hat))\n",
    "\n",
    "# Calculates the derivative analytically\n",
    "x2 = np.linspace(0,2*np.pi,200)\n",
    "derivative = (2.*np.sin(x2)*np.cos(x2)**2. -\n",
    "              np.sin(x2)**3. +\n",
    "              2*np.cos(x2+1)*np.exp(2*np.sin(x2+1))\n",
    "             )\n",
    "\n",
    "plt.plot(x2,derivative,'-k',linewidth=2.)\n",
    "plt.plot(x1,fp,'*b')\n",
    "plt.show()"
   ]
  },
  {
   "cell_type": "markdown",
   "metadata": {},
   "source": [
    "# Problem 1"
   ]
  },
  {
   "cell_type": "code",
   "execution_count": null,
   "metadata": {},
   "outputs": [],
   "source": [
    "d2 = (-2*np.exp(2*np.sin(x2+1))*np.sin(x2+1) +\n",
    "      2*np.cos(x2)**3 -\n",
    "      2*np.cos(x2)*np.sin(x2)**2 +\n",
    "      4*np.exp(2*np.sin(x2+1))*np.cos(x2+1)**2 -\n",
    "      5*np.sin(x2)**2*np.cos(x2))\n",
    "\n",
    "fpp_hat = ((1j*k)**2*f_hat)\n",
    "fpp = np.real(ifft(fpp_hat))\n",
    "\n",
    "plt.plot(x1,fpp,'*b')\n",
    "plt.plot(x2,d2,'-k')\n",
    "plt.show()"
   ]
  },
  {
   "cell_type": "code",
   "execution_count": null,
   "metadata": {},
   "outputs": [],
   "source": [
    "plt.plot(x2,.5*d2 - derivative,'-k')\n",
    "plt.plot(x1,.5*fpp - fp,'*b')\n",
    "plt.show()"
   ]
  },
  {
   "cell_type": "markdown",
   "metadata": {},
   "source": [
    "# Problem 2 - setup"
   ]
  },
  {
   "cell_type": "code",
   "execution_count": null,
   "metadata": {
    "collapsed": true
   },
   "outputs": [],
   "source": [
    "def initialize_all(a,b,y0,h):\n",
    "    n = int((b-a)/h+1)\n",
    "    X = np.linspace(a,b,n)\n",
    "    if isinstance(y0,np.ndarray):\n",
    "        Y = np.empty((n, y0.size))\n",
    "    else:\n",
    "        Y = np.empty(n)\n",
    "    Y[0] = y0\n",
    "    return X,Y,h,int(n)\n",
    "\n",
    "def RK4(f,X,Y,h,n):\n",
    "    for i in range(n-1):\n",
    "        K1 = f(X[i],Y[i])\n",
    "        K2 = f(X[i]+h/2,Y[i]+h/2*K1)\n",
    "        K3 = f(X[i]+h/2,Y[i]+h/2*K2)\n",
    "        K4 = f(X[i+1],Y[i]+h*K3)\n",
    "        Y[i+1] = Y[i] + h/6*(K1+2*K2+2*K3+K4)\n",
    "    return Y"
   ]
  },
  {
   "cell_type": "markdown",
   "metadata": {},
   "source": [
    "# Problem 2."
   ]
  },
  {
   "cell_type": "code",
   "execution_count": null,
   "metadata": {},
   "outputs": [],
   "source": [
    "t_steps = 150\n",
    "x_steps = 100\n",
    "N = x_steps\n",
    "a = 0\n",
    "b = 8\n",
    "h = float(b-a)/t_steps\n",
    "k = np.hstack((np.arange(0, N//2), np.array([0]), np.arange(-N//2+1,0,1)))\n",
    "\n",
    "x_domain = np.arange(x_steps)*2*np.pi/x_steps\n",
    "t_domain = np.linspace(a,b,t_steps)\n",
    "c = .2+np.sin(x_domain-1)**2\n",
    "y0 = np.exp(-100*(x_domain-1)**2)\n",
    "\n",
    "f = lambda u,y:np.real(-c*ifft(1j*k*fft(y)))\n",
    "\n",
    "X, Y, h, n = initialize_all(a, b, y0, h)\n",
    "sol = RK4(f,X,Y,h,n)[:-1]\n",
    "\n",
    "X,Y = np.meshgrid(x_domain, t_domain)\n",
    "fig = plt.figure()\n",
    "ax = fig.add_subplot(111, projection=\"3d\")\n",
    "ax.plot_wireframe(X,Y,sol)\n",
    "ax.set_zlim(0,3)\n",
    "plt.show()"
   ]
  }
 ],
 "metadata": {
  "kernelspec": {
   "display_name": "Python 3",
   "language": "python",
   "name": "python3"
  },
  "language_info": {
   "codemirror_mode": {
    "name": "ipython",
    "version": 3
   },
   "file_extension": ".py",
   "mimetype": "text/x-python",
   "name": "python",
   "nbconvert_exporter": "python",
   "pygments_lexer": "ipython3",
   "version": "3.6.1"
  }
 },
 "nbformat": 4,
 "nbformat_minor": 1
}
