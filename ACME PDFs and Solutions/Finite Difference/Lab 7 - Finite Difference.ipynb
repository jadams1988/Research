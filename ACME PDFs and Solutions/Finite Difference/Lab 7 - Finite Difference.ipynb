{
 "cells": [
  {
   "cell_type": "code",
   "execution_count": null,
   "metadata": {
    "collapsed": true
   },
   "outputs": [],
   "source": [
    "import numpy as np\n",
    "import matplotlib.pyplot as plt"
   ]
  },
  {
   "cell_type": "markdown",
   "metadata": {},
   "source": [
    "# Prob 1"
   ]
  },
  {
   "cell_type": "code",
   "execution_count": null,
   "metadata": {},
   "outputs": [],
   "source": [
    "def u(x):\n",
    "    return np.sin((x+np.pi)**2-1)\n",
    "\n",
    "def finite_diff_d2udx2(f, a, b, k):\n",
    "    '''\n",
    "    f = function with input x\n",
    "    a = start\n",
    "    b = end\n",
    "    k = number of grid points\n",
    "    '''\n",
    "    n = k - 1    # This is the number of subintervals\n",
    "    h = 1.*(b-a)/n\n",
    "    grid = np.linspace(a,b,k)    # Creates the grid with k points, n=k-1 subintervals\n",
    "    \n",
    "    one = np.ones(n-1)\n",
    "    D = -2*np.diag(one,0) + np.diag(one[:-1],1) + np.diag(one[:-1],-1)\n",
    "    E = np.zeros(n-1)\n",
    "    E[0] = f(a)\n",
    "    E[-1] = f(b)\n",
    "    \n",
    "    return 1/h**2 * (D.dot(f(grid[1:-1])) + E)\n",
    "\n",
    "#This uses the alternate method for calculating the second derivative matrix\n",
    "def finite_diff_alternate_d2udx2(f, a, b, k):\n",
    "    '''\n",
    "    f = function with input x\n",
    "    a = start\n",
    "    b = end\n",
    "    k = number of grid points\n",
    "    '''\n",
    "    n = k - 1    # This is the number of subintervals\n",
    "    h = 1.*(b-a)/n\n",
    "    grid = np.linspace(a,b,k)    # Creates the grid with k points, n=k-1 subintervals\n",
    "    \n",
    "    D = np.zeros((n-1,n+1))\n",
    "    ones = np.ones(n-1)\n",
    "    D[:,:-2] += np.diag(ones,0)\n",
    "    D[:,1:-1] += np.diag(-2*ones,0)\n",
    "    D[:,2:] += np.diag(ones,0)\n",
    "    \n",
    "    return 1/h**2 * D.dot(f(grid))\n",
    "\n",
    "def finite_diff(f,a,b,k):\n",
    "    '''\n",
    "    f = function with input x\n",
    "    a = start\n",
    "    b = end\n",
    "    k = number of grid points\n",
    "    '''\n",
    "    n = k - 1    # This is the number of subintervals\n",
    "    h = 1.*(b-a)/n\n",
    "    grid = np.linspace(a,b,k)    # Creates the grid with k points, n=k-1 subintervals\n",
    "    \n",
    "    # Create matrices for d2udx2\n",
    "    one = np.ones(n-1)\n",
    "    D = -2*np.diag(one,0) + np.diag(one[:-1],1) + np.diag(one[:-1],-1)\n",
    "    E = np.zeros(n-1)\n",
    "    E[0] = f(a)\n",
    "    E[-1] = f(b)\n",
    "    \n",
    "    # Create matrices for dudx\n",
    "    G = np.diag(np.zeros(n-1),0) + np.diag(one[:-1],1) - np.diag(one[:-1],-1)\n",
    "    H = np.copy(E)    # Careful to not set H=E since then changing H changes E\n",
    "    H[0] = -H[0]\n",
    "    \n",
    "    d2udx2 = 1./h**2 * (D.dot(f(grid[1:-1])) + E)\n",
    "    dudx = 1./(2*h) * (G.dot(f(grid[1:-1])) + H)\n",
    "    \n",
    "    return d2udx2, dudx\n",
    "\n",
    "def prob1():\n",
    "    d2, d = finite_diff(u, 0, 1, 11)\n",
    "    result = .5*d2 - d\n",
    "    plt.plot(np.linspace(0,1,11)[1:-1], result)\n",
    "    plt.show()\n",
    "    print(result)\n",
    "\n",
    "prob1()"
   ]
  },
  {
   "cell_type": "markdown",
   "metadata": {},
   "source": [
    "# Prob 2"
   ]
  },
  {
   "cell_type": "code",
   "execution_count": null,
   "metadata": {},
   "outputs": [],
   "source": [
    "def prob2(epsilon, N):\n",
    "    '''\n",
    "    N = number of subintervals\n",
    "    '''\n",
    "    def f(x):\n",
    "        return -1*np.ones_like(x)\n",
    "    \n",
    "    alpha = 1\n",
    "    beta = 3\n",
    "    \n",
    "    grid = np.linspace(0,1,N+1)\n",
    "    h = 1./N\n",
    "    D = np.diag(-2*epsilon*np.ones(N-1),0) + np.diag((epsilon+h/2.)*np.ones(N-2),-1) + np.diag((epsilon-h/2.)*np.ones(N-2),1)\n",
    "    D = D/h**2\n",
    "    b = f(grid[1:-1])\n",
    "    b[0] -= alpha*(epsilon+h/2)/h**2\n",
    "    b[-1] -= beta*(epsilon-h/2)/h**2\n",
    "    \n",
    "    sol = np.linalg.inv(D).dot(b)\n",
    "    sol = np.append(alpha,sol)\n",
    "    sol = np.append(sol,beta)\n",
    "    \n",
    "    return sol\n",
    "\n",
    "plt.plot(np.linspace(0,1,11), prob2(.1,10))\n",
    "plt.show()"
   ]
  },
  {
   "cell_type": "markdown",
   "metadata": {},
   "source": [
    "# Problem 3"
   ]
  },
  {
   "cell_type": "code",
   "execution_count": null,
   "metadata": {},
   "outputs": [],
   "source": [
    "def bvp(f, epsilon, alpha, beta, N):\n",
    "    \n",
    "    grid = np.linspace(0,1,N+1)\n",
    "    h = 1./N\n",
    "    D = np.diag(-2*epsilon*np.ones(N-1),0) + np.diag((epsilon+h/2)*np.ones(N-2),-1) + np.diag((epsilon-h/2)*np.ones(N-2),1)\n",
    "    D = D/h**2\n",
    "    b = f(grid[1:-1])\n",
    "    if isinstance(b, int):\n",
    "        b *= np.ones(N-1)\n",
    "    b[0] -= alpha*(epsilon+h/2)/h**2\n",
    "    b[-1] -= beta*(epsilon-h/2)/h**2\n",
    "    \n",
    "    sol = np.linalg.inv(D).dot(b)\n",
    "    sol = np.append(alpha,sol)\n",
    "    sol = np.append(sol,beta)\n",
    "    \n",
    "    return sol\n",
    "\n",
    "num_approx = 10 # Number of Approximations\n",
    "N = 5*np.array([2**j for j in range(num_approx)])\n",
    "h, max_error = (1.-0)/N[:-1], np.ones(num_approx-1)\n",
    "\n",
    "# Best numerical solution, used to approximate the true solution.\n",
    "# bvp returns the grid, and the grid function, approximating the solution\n",
    "# with N subintervals of equal length.\n",
    "num_sol_best = bvp(lambda x:-1, epsilon=.1, alpha=1, beta=3, N=N[-1])\n",
    "\n",
    "for j in range(len(N)-1):\n",
    "    num_sol = bvp(lambda x:-1, epsilon=.1, alpha=1, beta=3, N=N[j])\n",
    "    max_error[j] = np.max(np.abs(num_sol - num_sol_best[::2**(num_approx-j-1)] ))\n",
    "plt.loglog(h,max_error,'.-r',label=\"$E(h)$\")\n",
    "plt.loglog(h,h**(2.),'-k',label=\"$h^{\\, 2}$\")\n",
    "plt.xlabel(\"$h$\")\n",
    "plt.legend(loc='best')\n",
    "plt.show()\n",
    "print(\"The order of the finite difference approximation is about \", ( (np.log(max_error[0]) -\n",
    "np.log(max_error[-1]) )/( np.log(h[0]) - np.log(h[-1]) ) ), \".\")"
   ]
  },
  {
   "cell_type": "markdown",
   "metadata": {},
   "source": [
    "# Problem 4"
   ]
  },
  {
   "cell_type": "code",
   "execution_count": null,
   "metadata": {},
   "outputs": [],
   "source": [
    "def finite_diff_Dirichlet(N, a, b, alpha, beta, a1, a2, a3, f):\n",
    "    h = 1.*(b-a)/N\n",
    "    grid = np.linspace(a, b, N+1)\n",
    "    \n",
    "    A1 = a1(grid[1:-1])\n",
    "    if isinstance(A1,float) or isinstance(A1,int):\n",
    "        A1 *= np.ones(N-1)\n",
    "    A2 = a2(grid[1:-1])\n",
    "    if isinstance(A2,float) or isinstance(A2,int):\n",
    "        A2 *= np.ones(N-1)\n",
    "    A3 = a3(grid[1:-1])\n",
    "    if isinstance(A3,float) or isinstance(A3,int):\n",
    "        A3 *= np.ones(N-1)  \n",
    "    \n",
    "    lam_neg = A1/h**2 - A2/(2*h)\n",
    "    lam_pos = A1/h**2 + A2/(2*h)\n",
    "    d = -2*A1/h**2 + A3\n",
    "    \n",
    "    M = np.zeros((N+1,N+1))\n",
    "    M[0,0] = 1.\n",
    "    M[-1,-1] = 1.\n",
    "    M[1:-1,:-2] += np.diag(lam_neg,0)\n",
    "    M[1:-1,1:-1] += np.diag(d,0)\n",
    "    M[1:-1,2:] += np.diag(lam_pos,0)\n",
    "    \n",
    "    b = f(grid)\n",
    "    if isinstance(b,int) or isinstance(b,float):\n",
    "        b *= np.ones(N+1)\n",
    "    b[0] = alpha\n",
    "    b[-1] = beta\n",
    "    \n",
    "    sol = np.linalg.inv(M).dot(b)\n",
    "    \n",
    "    return grid, sol\n",
    "\n",
    "A = finite_diff_Dirichlet(10, 0, 1, 1, 3, lambda x:.1, lambda x:-1, lambda x:0, lambda x:-1)\n",
    "\n",
    "plt.plot(A[0],A[1])\n",
    "plt.show()"
   ]
  },
  {
   "cell_type": "code",
   "execution_count": null,
   "metadata": {},
   "outputs": [],
   "source": [
    "a1 = lambda x:.1\n",
    "a2 = lambda x:0\n",
    "a3 = lambda x:-4*(np.pi-x**2)\n",
    "f = lambda x:np.cos(x)\n",
    "\n",
    "A = finite_diff_Dirichlet(1000, 0, np.pi/2, 0, 1, a1, a2, a3, f)\n",
    "plt.plot(A[0],A[1])\n",
    "plt.show()"
   ]
  },
  {
   "cell_type": "markdown",
   "metadata": {},
   "source": [
    "# Problem 5"
   ]
  },
  {
   "cell_type": "code",
   "execution_count": null,
   "metadata": {},
   "outputs": [],
   "source": [
    "eps = [.1, .01, .001]\n",
    "\n",
    "a1 = lambda x:epsilon\n",
    "a2 = lambda x:x\n",
    "a3 = lambda x:0\n",
    "f = lambda x:-epsilon*np.pi**2*np.cos(np.pi*x)-np.pi*x*np.sin(np.pi*x)\n",
    "\n",
    "for epsilon in eps:\n",
    "    A = finite_diff_Dirichlet(1000, -1, 1, -2, 0, a1, a2, a3, f)\n",
    "    plt.plot(A[0], A[1])\n",
    "\n",
    "plt.show()"
   ]
  },
  {
   "cell_type": "markdown",
   "metadata": {},
   "source": [
    "# Problem 6"
   ]
  },
  {
   "cell_type": "code",
   "execution_count": null,
   "metadata": {},
   "outputs": [],
   "source": [
    "eps = [.05, .02]\n",
    "\n",
    "a1 = lambda x:epsilon+x**2\n",
    "a2 = lambda x:4*x\n",
    "a3 = lambda x:2\n",
    "f = lambda x:0\n",
    "\n",
    "for epsilon in eps:\n",
    "    A = finite_diff_Dirichlet(1000, -1, 1, 1./(1+epsilon), 1./(1+epsilon), a1, a2, a3, f)\n",
    "    plt.plot(A[0],A[1])\n",
    "    \n",
    "plt.show()"
   ]
  },
  {
   "cell_type": "code",
   "execution_count": null,
   "metadata": {
    "collapsed": true
   },
   "outputs": [],
   "source": []
  }
 ],
 "metadata": {
  "kernelspec": {
   "display_name": "Python 3",
   "language": "python",
   "name": "python3"
  },
  "language_info": {
   "codemirror_mode": {
    "name": "ipython",
    "version": 3
   },
   "file_extension": ".py",
   "mimetype": "text/x-python",
   "name": "python",
   "nbconvert_exporter": "python",
   "pygments_lexer": "ipython3",
   "version": "3.6.1"
  }
 },
 "nbformat": 4,
 "nbformat_minor": 1
}
