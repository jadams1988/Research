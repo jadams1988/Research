{
 "cells": [
  {
   "cell_type": "code",
   "execution_count": null,
   "metadata": {},
   "outputs": [],
   "source": [
    "import numpy as np\n",
    "import matplotlib.pyplot as plt\n",
    "from numpy.linalg import norm\n",
    "\n",
    "from __future__ import division"
   ]
  },
  {
   "cell_type": "markdown",
   "metadata": {},
   "source": [
    "# Sample code - new problem 1"
   ]
  },
  {
   "cell_type": "code",
   "execution_count": null,
   "metadata": {},
   "outputs": [],
   "source": [
    "a = -1\n",
    "b = 1\n",
    "alpha = 1.\n",
    "beta = 7.\n",
    "\n",
    "#This is to be filled in\n",
    "x_steps = 20\n",
    "final_T = .2\n",
    "time_steps = 250\n",
    "\n",
    "delta_t = final_T/time_steps\n",
    "delta_x = (b-a)/x_steps\n",
    "x0 = np.linspace(a, b, x_steps+1)\n",
    "\n",
    "if delta_t/delta_x**2. > .5:\n",
    "    print 'stability condition fails'\n",
    "\n",
    "u = np.empty((2,x_steps+1))\n",
    "u[0] = (beta-alpha)/(b-a)*(x0-a) + alpha\n",
    "u[1] = (beta-alpha)/(b-a)*(x0-a) + alpha\n",
    "init_guess = u[0].copy()\n",
    "\n",
    "def rhs(y):\n",
    "    # Approximate first and second derivatives to second order accuracy\n",
    "    yp = (np.roll(y,-1) - np.roll(y,1))/(2.*delta_x)\n",
    "    ypp = (np.roll(y,-1) - 2.*y + np.roll(y,1))/delta_x**2.\n",
    "    # Find approximation for next time step using first order Euler step\n",
    "    y[1:-1] -= delta_t*(1. + yp[1:-1]**2. - 1.*y[1:-1]*ypp[1:-1])\n",
    "\n",
    "# Time step until successive iterations are close\n",
    "iteration = 0\n",
    "while iteration < time_steps:\n",
    "    rhs(u[1])\n",
    "    if norm(np.abs(u[0]-u[1])) < 1e-5: break\n",
    "    u[0]=u[1]\n",
    "    iteration +=1\n",
    "\n",
    "print \"Difference in iteration is \", norm(np.abs((u[0]-u[1])))\n",
    "print \"Final time = \", iteration*delta_t"
   ]
  },
  {
   "cell_type": "code",
   "execution_count": null,
   "metadata": {},
   "outputs": [],
   "source": [
    "plt.plot(x0,init_guess)\n",
    "plt.plot(x0,u[0])\n",
    "plt.show()"
   ]
  },
  {
   "cell_type": "markdown",
   "metadata": {},
   "source": [
    "# Code to import and noise an image"
   ]
  },
  {
   "cell_type": "code",
   "execution_count": null,
   "metadata": {
    "collapsed": true
   },
   "outputs": [],
   "source": [
    "from numpy.random import randint, uniform, randn #random_integers deprecated\n",
    "from matplotlib import cm\n",
    "from scipy.misc import imread, imsave"
   ]
  },
  {
   "cell_type": "code",
   "execution_count": null,
   "metadata": {},
   "outputs": [],
   "source": [
    "imagename = 'balloons_resized_bw.jpg'\n",
    "changed_pixels = 40000\n",
    "IM = imread(imagename, flatten=True) * 1./255    # Flatten=True changes to grayscale\n",
    "IM_x, IM_y = IM.shape\n",
    "\n",
    "plt.imshow(IM, cmap=cm.gray)\n",
    "plt.show()\n",
    "\n",
    "for lost in xrange(changed_pixels):\n",
    "    x_, y_ = randint(1, IM_x-2), randint(1,IM_y-2)\n",
    "    val = .1*randn() + .5\n",
    "    IM[x_,y_] = max(min(val,1.), 0.)\n",
    "\n",
    "plt.imshow(IM, cmap=cm.gray)\n",
    "plt.show()"
   ]
  },
  {
   "cell_type": "markdown",
   "metadata": {},
   "source": [
    "# Problem 1"
   ]
  },
  {
   "cell_type": "code",
   "execution_count": null,
   "metadata": {},
   "outputs": [],
   "source": [
    "f = IM.copy()\n",
    "u = f.copy()\n",
    "\n",
    "delta_t = 1e-3\n",
    "lambda_ = 40\n",
    "delta_x = 1\n",
    "delta_y = 1\n",
    "t_steps = 250\n",
    "\n",
    "for t in xrange(t_steps):\n",
    "    u_xx = (np.roll(u,-1,axis=1) - 2*u + np.roll(u,1,axis=1))/delta_x**2\n",
    "    u_yy = (np.roll(u,-1,axis=0) - 2*u + np.roll(u,1,axis=0))/delta_y**2\n",
    "    u_t = -(u-f-lambda_*(u_xx+u_yy))\n",
    "    u += u_t*delta_t\n",
    "    \n",
    "plt.imshow(u,cmap=cm.gray)\n",
    "plt.show()"
   ]
  },
  {
   "cell_type": "markdown",
   "metadata": {},
   "source": [
    "# Problem 2"
   ]
  },
  {
   "cell_type": "code",
   "execution_count": null,
   "metadata": {},
   "outputs": [],
   "source": [
    "f = IM.copy()\n",
    "u = f.copy()\n",
    "\n",
    "delta_t = 1e-3\n",
    "lambda_ = 1\n",
    "delta_x = 1\n",
    "delta_y = 1\n",
    "t_steps = 200\n",
    "epsilon = .000001  # This should be adjusted for a good solution\n",
    "\n",
    "for t in xrange(t_steps):\n",
    "    u_x = (np.roll(u,-1,axis=1) - np.roll(u,1,axis=1))/2\n",
    "    u_xx = (np.roll(u,-1,axis=1) - 2*u + np.roll(u,1,axis=1))/delta_x**2\n",
    "    u_y = (np.roll(u,-1,axis=0) - np.roll(u,1,axis=0))/2\n",
    "    u_yy = (np.roll(u,-1,axis=0) - 2*u + np.roll(u,1,axis=0))/delta_y**2\n",
    "    u_xy = (np.roll(u_x,-1,axis=0) - np.roll(u_x,1,axis=0))/2\n",
    "    u_t = -lambda_*(u-f)+(u_xx*u_y**2 + u_yy*u_x**2 - 2*u_x*u_y*u_xy)/(epsilon + u_x**2 + u_y**2)**1.5\n",
    "    u += u_t*delta_t\n",
    "\n",
    "plt.imshow(u,cmap=cm.gray)\n",
    "plt.show()"
   ]
  },
  {
   "cell_type": "code",
   "execution_count": null,
   "metadata": {},
   "outputs": [],
   "source": []
  },
  {
   "cell_type": "code",
   "execution_count": null,
   "metadata": {
    "collapsed": true
   },
   "outputs": [],
   "source": []
  }
 ],
 "metadata": {
  "kernelspec": {
   "display_name": "Python 3",
   "language": "python",
   "name": "python3"
  },
  "language_info": {
   "codemirror_mode": {
    "name": "ipython",
    "version": 3
   },
   "file_extension": ".py",
   "mimetype": "text/x-python",
   "name": "python",
   "nbconvert_exporter": "python",
   "pygments_lexer": "ipython3",
   "version": "3.6.1"
  }
 },
 "nbformat": 4,
 "nbformat_minor": 1
}
