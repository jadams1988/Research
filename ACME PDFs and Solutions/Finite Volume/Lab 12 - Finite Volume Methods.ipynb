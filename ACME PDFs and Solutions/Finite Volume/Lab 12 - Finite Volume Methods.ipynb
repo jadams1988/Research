{
 "cells": [
  {
   "cell_type": "code",
   "execution_count": null,
   "metadata": {
    "collapsed": true
   },
   "outputs": [],
   "source": [
    "import numpy as np\n",
    "from matplotlib import pyplot as plt\n",
    "from math import floor"
   ]
  },
  {
   "cell_type": "code",
   "execution_count": null,
   "metadata": {},
   "outputs": [],
   "source": [
    "def upwind(u0, a, xmin, xmax, t_final, nt):\n",
    "    \"\"\" Solve the advection equation with periodic\n",
    "    boundary conditions on the interval [xmin, xmax]\n",
    "    111\n",
    "    using the upwind finite volume scheme.\n",
    "    Use u0 as the initial conditions.\n",
    "    a is the constant from the PDE.\n",
    "    Use the size of u0 as the number of nodes in\n",
    "    the spatial dimension.\n",
    "    Let nt be the number of spaces in the time dimension\n",
    "    (this is the same as the number of steps if you do\n",
    "    not include the initial state).\n",
    "    Plot and show the computed solution along\n",
    "    with the exact solution. \"\"\"\n",
    "    dt = float(t_final) / nt\n",
    "    # Since we are doing periodic boundary conditions,\n",
    "    # we need to divide by u0.size instead of (u0.size - 1).\n",
    "    dx = float(xmax - xmin) / u0.size\n",
    "    lambda_ = a * dt / dx\n",
    "    u = u0.copy()\n",
    "    for j in xrange(nt):\n",
    "        # The Upwind method. The np.roll function helps us\n",
    "        # account for the periodic boundary conditions.\n",
    "        u -= lambda_ * (u - np.roll(u, 1))\n",
    "    # Get the x values for the plots.\n",
    "    x = np.linspace(xmin, xmax, u0.size+1)[:-1]\n",
    "    # Plot the computed solution.\n",
    "    plt.plot(x, u, label='Upwind Method')\n",
    "    # Find the exact solution and plot it.\n",
    "    distance = a * t_final\n",
    "    roll = int((distance - floor(distance)) * u0.size)\n",
    "    plt.plot(x, np.roll(u0, roll), label='Exact solution')\n",
    "    # Show the plot with the legend.\n",
    "    plt.legend(loc='best')\n",
    "    plt.show()\n",
    "\n",
    "# Define the initial conditions.\n",
    "# Leave off the last point since we're using periodic\n",
    "# boundary conditions.\n",
    "nx = 100\n",
    "nt = nx * 3 // 2\n",
    "x = np.linspace(0., 1., nx+1)[:-1]\n",
    "u0 = np.exp(-(x - .3)**2 / .005)\n",
    "arr = (.6 < x) & (x < .7 )\n",
    "u0[arr] += 1.\n",
    "\n",
    "# Run the simulation.\n",
    "upwind(u0, 1.2, 0, 1, 1.2, nt)"
   ]
  },
  {
   "cell_type": "markdown",
   "metadata": {},
   "source": [
    "# Problem 1"
   ]
  },
  {
   "cell_type": "code",
   "execution_count": null,
   "metadata": {},
   "outputs": [],
   "source": [
    "def Lax_Wendroff(u0, a, xmin, xmax, t_final, nt):\n",
    "    dt = float(t_final) / nt\n",
    "    dx = float(xmax - xmin) / u0.size\n",
    "    lambda_ = a * dt / dx\n",
    "    u = u0.copy()\n",
    "    for j in xrange(nt):\n",
    "        m = (np.roll(u,-1) - u)/dx\n",
    "        F_plus = a * (u + m/2. * (dx - a*dt))\n",
    "        F_minus = a * (np.roll(u,1) + np.roll(m,1)/2. * (dx - a*dt))\n",
    "        u -= dt/dx * (F_plus - F_minus)\n",
    "    \n",
    "    x = np.linspace(xmin, xmax, u0.size+1)[:-1]\n",
    "    plt.plot(x, u, label='Lax-Wendroff Method')\n",
    "    \n",
    "    distance = a * t_final\n",
    "    roll = int((distance - floor(distance)) * u0.size)\n",
    "    plt.plot(x, np.roll(u0, roll), label='Exact solution')\n",
    "    \n",
    "    plt.legend(loc='best')\n",
    "    plt.show()\n",
    "\n",
    "nx = 100\n",
    "nt = nx * 3 // 2\n",
    "x = np.linspace(0., 1., nx+1)[:-1]\n",
    "u0 = np.exp(-(x - .3)**2 / .005)\n",
    "arr = (.6 < x) & (x < .7 )\n",
    "u0[arr] += 1.\n",
    "\n",
    "N = [30, 60, 120, 240]\n",
    "for nx in N:\n",
    "    nt = int(1.5*nx)\n",
    "    x = np.linspace(0., 1., nx+1)[:-1]\n",
    "    u0 = np.exp(-(x - .3)**2 / .005)\n",
    "    arr = (.6 < x) & (x < .7 )\n",
    "    u0[arr] += 1.\n",
    "    Lax_Wendroff(u0, 1.2, 0, 1, 1.2, nt)"
   ]
  },
  {
   "cell_type": "code",
   "execution_count": null,
   "metadata": {},
   "outputs": [],
   "source": [
    "def minmod(a, b):\n",
    "    c = np.zeros_like(a)\n",
    "    c = np.minimum(np.abs(a), np.abs(b))*np.sign(a)\n",
    "    c[a*b<0] = 0\n",
    "    return c\n",
    "\n",
    "def Min_mod(u0, a, xmin, xmax, t_final, nt):\n",
    "    dt = float(t_final) / nt\n",
    "    dx = float(xmax - xmin) / u0.size\n",
    "    lambda_ = a * dt / dx\n",
    "    u = u0.copy()\n",
    "    for j in xrange(nt):\n",
    "        m = minmod((u-np.roll(u,1))/dx, (np.roll(u,-1)-u)/dx)\n",
    "        F = a * (u+m/2. * (dx-a*dt))\n",
    "        F_plus = a * (u + m/2. * (dx - a*dt))\n",
    "        F_minus = a * (np.roll(u,1) + np.roll(m,1)/2. * (dx - a*dt))\n",
    "        #u -= dt/dx * (F_plus - F_minus)\n",
    "        u -= dt/dx * (F - np.roll(F,1))\n",
    "        #print 'slope='+str(m), 'F='+str(F)\n",
    "    \n",
    "    x = np.linspace(xmin, xmax, u0.size+1)[:-1]\n",
    "    plt.plot(x, u, label='Minmod Method')\n",
    "    \n",
    "    distance = a * t_final\n",
    "    roll = int((distance - floor(distance)) * u0.size)\n",
    "    plt.plot(x, np.roll(u0, roll), label='Exact solution')\n",
    "    \n",
    "    plt.legend(loc='best')\n",
    "    plt.show()\n",
    "\n",
    "nx = 100\n",
    "nt = nx * 3 // 2\n",
    "x = np.linspace(0., 1., nx+1)[:-1]\n",
    "u0 = np.exp(-(x - .3)**2 / .005)\n",
    "arr = (.6 < x) & (x < .7 )\n",
    "u0[arr] += 1.\n",
    "\n",
    "N = [30, 60, 120, 240]\n",
    "for nx in N:\n",
    "    nt = int(1.5*nx)\n",
    "    x = np.linspace(0., 1., nx+1)[:-1]\n",
    "    u0 = np.exp(-(x - .3)**2 / .005)\n",
    "    arr = (.6 < x) & (x < .7 )\n",
    "    u0[arr] += 1.\n",
    "    Min_mod(u0, 1.2, 0, 1, 1.2, nt)"
   ]
  },
  {
   "cell_type": "code",
   "execution_count": null,
   "metadata": {
    "collapsed": true
   },
   "outputs": [],
   "source": []
  },
  {
   "cell_type": "code",
   "execution_count": null,
   "metadata": {
    "scrolled": true
   },
   "outputs": [],
   "source": []
  },
  {
   "cell_type": "code",
   "execution_count": null,
   "metadata": {
    "scrolled": true
   },
   "outputs": [],
   "source": []
  },
  {
   "cell_type": "code",
   "execution_count": null,
   "metadata": {},
   "outputs": [],
   "source": []
  },
  {
   "cell_type": "code",
   "execution_count": null,
   "metadata": {},
   "outputs": [],
   "source": []
  },
  {
   "cell_type": "code",
   "execution_count": null,
   "metadata": {
    "collapsed": true
   },
   "outputs": [],
   "source": []
  }
 ],
 "metadata": {
  "kernelspec": {
   "display_name": "Python 3",
   "language": "python",
   "name": "python3"
  },
  "language_info": {
   "codemirror_mode": {
    "name": "ipython",
    "version": 3
   },
   "file_extension": ".py",
   "mimetype": "text/x-python",
   "name": "python",
   "nbconvert_exporter": "python",
   "pygments_lexer": "ipython3",
   "version": "3.6.1"
  }
 },
 "nbformat": 4,
 "nbformat_minor": 1
}
