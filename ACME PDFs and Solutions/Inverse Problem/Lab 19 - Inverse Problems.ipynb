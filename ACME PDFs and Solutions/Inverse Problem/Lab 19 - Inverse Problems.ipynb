{
 "cells": [
  {
   "cell_type": "code",
   "execution_count": null,
   "metadata": {
    "collapsed": true
   },
   "outputs": [],
   "source": [
    "import numpy as np\n",
    "from scipy.optimize import minimize\n",
    "import matplotlib.pyplot as plt\n",
    "from scipy.integrate import quad"
   ]
  },
  {
   "cell_type": "markdown",
   "metadata": {},
   "source": [
    "# Problem 1"
   ]
  },
  {
   "cell_type": "code",
   "execution_count": null,
   "metadata": {},
   "outputs": [],
   "source": [
    "def f(x):\n",
    "    if isinstance(x, float):    #### Had to add this. Quad acts on f  by inputting one value at a time.\n",
    "        x = np.array([x])       ####\n",
    "    \n",
    "    out = -np.ones(x.shape)\n",
    "    m = np.where(x<.5)\n",
    "    out[m] = -6*x[m]**2. + 3.*x[m] - 1.\n",
    "    return out\n",
    "\n",
    "def u(x):\n",
    "    return (x+1./4)**2. + 1./4\n",
    "\n",
    "def integral_of_f(x):\n",
    "    out = np.array([quad(f,0,x[i])[0] for i in xrange(len(x))])  #quad outputs (y, error)\n",
    "    return out\n",
    "\n",
    "def derivative_of_u(x):\n",
    "    out = 2*x + .5\n",
    "    return out\n",
    "\n",
    "x = np.linspace(0,1,11)\n",
    "F = integral_of_f(x)\n",
    "u_p = derivative_of_u(x)\n",
    "\n",
    "def sum_of_squares(alpha):\n",
    "    out = np.sum(((c0 - F)/alpha-derivative_of_u(x))**2)\n",
    "    return out\n",
    "\n",
    "c0 = 3./8\n",
    "\n",
    "guess = (1./4)*(3-x)\n",
    "sol = minimize(sum_of_squares,guess)\n",
    "\n",
    "plt.plot(x,sol.x,'-ob',linewidth=2)\n",
    "plt.show()"
   ]
  },
  {
   "cell_type": "markdown",
   "metadata": {},
   "source": [
    "# Problem 2"
   ]
  },
  {
   "cell_type": "code",
   "execution_count": null,
   "metadata": {
    "scrolled": true
   },
   "outputs": [],
   "source": [
    "for eps in [.9,.8, .6, .4]:#,.7,.69,.68,.67]:\n",
    "\n",
    "    def f(x):\n",
    "        out = np.array([-1])\n",
    "        return out\n",
    "\n",
    "    def u(x):\n",
    "        return x+1+eps*np.sin(x/eps**2)\n",
    "\n",
    "    def integral_of_f(x):\n",
    "        out = np.array([quad(f,0,x[i])[0] for i in xrange(len(x))])  #quad outputs (y, error)\n",
    "        return out\n",
    "\n",
    "    def derivative_of_u(x):\n",
    "        out = 1+1/eps*np.cos(x/eps**2)\n",
    "        return out\n",
    "\n",
    "    x = np.linspace(0,1,11)\n",
    "    F = integral_of_f(x)\n",
    "    u_p = derivative_of_u(x)\n",
    "\n",
    "    def sum_of_squares(alpha):\n",
    "        out = np.sum(((c0 - F)/alpha-derivative_of_u(x))**2)\n",
    "        return out\n",
    "\n",
    "\n",
    "\n",
    "    c0 = 1.\n",
    "\n",
    "    guess = (1./4)*(3-x)\n",
    "    sol = minimize(sum_of_squares,guess)\n",
    "\n",
    "    plt.plot(x,sol.x,'-ob',linewidth=2)\n",
    "plt.show()"
   ]
  },
  {
   "cell_type": "code",
   "execution_count": null,
   "metadata": {
    "collapsed": true
   },
   "outputs": [],
   "source": []
  }
 ],
 "metadata": {
  "kernelspec": {
   "display_name": "Python 3",
   "language": "python",
   "name": "python3"
  },
  "language_info": {
   "codemirror_mode": {
    "name": "ipython",
    "version": 3
   },
   "file_extension": ".py",
   "mimetype": "text/x-python",
   "name": "python",
   "nbconvert_exporter": "python",
   "pygments_lexer": "ipython3",
   "version": "3.6.1"
  }
 },
 "nbformat": 4,
 "nbformat_minor": 1
}
