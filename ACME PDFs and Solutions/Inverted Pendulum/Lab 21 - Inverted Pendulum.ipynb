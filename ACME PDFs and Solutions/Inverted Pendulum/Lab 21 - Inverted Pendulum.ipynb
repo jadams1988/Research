{
 "cells": [
  {
   "cell_type": "code",
   "execution_count": null,
   "metadata": {},
   "outputs": [],
   "source": [
    "import numpy as np\n",
    "from scipy.optimize import root\n",
    "from scipy.integrate import odeint\n",
    "from scipy.linalg import solve_continuous_are\n",
    "import matplotlib.pyplot as plt"
   ]
  },
  {
   "cell_type": "markdown",
   "metadata": {},
   "source": [
    "# Problem 1"
   ]
  },
  {
   "cell_type": "code",
   "execution_count": null,
   "metadata": {
    "collapsed": true
   },
   "outputs": [],
   "source": [
    "def linearized_init(M, m, l, q1, q2, q3, q4, r):\n",
    "    '''\n",
    "    Parameters:\n",
    "    ----------\n",
    "    M, m: floats\n",
    "          masses of the rickshaw and the present\n",
    "    l   : float\n",
    "          length of the rod\n",
    "    q1, q2, q3, q4, r : floats\n",
    "        relative weights of the position and velocity of the rickshaw, the\n",
    "        angular displacement theta and the change in theta, and the control\n",
    "\n",
    "\n",
    "    Return\n",
    "    -------\n",
    "    A : ndarray of shape (4,4)\n",
    "    B : ndarray of shape (4,1)\n",
    "    Q : ndarray of shape (4,4)\n",
    "    R : ndarray of shape (1,1)\n",
    "    '''\n",
    "    G = 9.8\n",
    "    A = np.array([[0,1.,0,0],[0,0,m*G/M,0],[0,0,0,1.],[0,0,G/(M*l)*(M+m),0]])\n",
    "    B = np.array([0,1./M,0,1./(M*l)])[:,np.newaxis]\n",
    "    Q = np.array([[q1,0,0,0],[0,q2,0,0],[0,0,q3,0],[0,0,0,q4]])\n",
    "    R = np.array([[r]])\n",
    "    \n",
    "    return A, B, Q, R"
   ]
  },
  {
   "cell_type": "markdown",
   "metadata": {},
   "source": [
    "# Problem 2"
   ]
  },
  {
   "cell_type": "code",
   "execution_count": null,
   "metadata": {
    "collapsed": true
   },
   "outputs": [],
   "source": [
    "def find_P(A,B,Q,Rinv):\n",
    "    '''\n",
    "    Parameters:\n",
    "    ----------\n",
    "    A, B, Q : ndarrays of shape (4,4)\n",
    "    R : ndarray of shape (1,1)\n",
    "    \n",
    "    Returns\n",
    "    -------\n",
    "    P : the matrix solution of the Riccati equation\n",
    "    '''\n",
    "    #Rinv = np.linalg.inv(R)\n",
    "    P = np.ones(16)*.1\n",
    "    P = np.random.randn(16)\n",
    "    def f(x):\n",
    "        x = x.reshape((4,4))\n",
    "        eqn = x.dot(A) + np.dot(A.T, x) + Q - x.dot(B.dot(Rinv.dot(B.T.dot(x))))\n",
    "        return eqn.reshape(16)\n",
    "    sol = root(f, P)['x'].reshape((4,4))\n",
    "    \n",
    "    return sol"
   ]
  },
  {
   "cell_type": "code",
   "execution_count": null,
   "metadata": {},
   "outputs": [],
   "source": [
    "M, m = 23., 5.\n",
    "l = 4.\n",
    "q1, q2, q3, q4 = 1., 1., 1., 1.\n",
    "r = 5.\n",
    "\n",
    "A, B, Q, R = linearized_init(M, m, l, q1, q2, q3, q4, r)\n",
    "Rinv = np.linalg.inv(R)\n",
    "\n",
    "P = find_P(A, B, Q, Rinv)"
   ]
  },
  {
   "cell_type": "code",
   "execution_count": null,
   "metadata": {},
   "outputs": [],
   "source": [
    "result = A - B.dot(Rinv.dot(B.T.dot(P)))\n",
    "print np.linalg.eig(result)[0]\n",
    "print\n",
    "print 'There is a positive eigenvalue, so the solution will not go to 0 over time.'"
   ]
  },
  {
   "cell_type": "markdown",
   "metadata": {},
   "source": [
    "# Problem 3"
   ]
  },
  {
   "cell_type": "code",
   "execution_count": null,
   "metadata": {},
   "outputs": [],
   "source": [
    "def rickshaw(tv, X0, A, B, Q, R_inv, P):\n",
    "    '''\n",
    "    Parameters:\n",
    "    ----------\n",
    "    tv : ndarray of time values, with shape (n+1,)\n",
    "    X0 : \n",
    "    A, B, Q : ndarrays of shape (4,4)\n",
    "    R_inv : ndarray of shape (1,1), inverse of R\n",
    "    P : ndarray of shape (4,4)\n",
    "    \n",
    "    Returns\n",
    "    -------\n",
    "    Z : ndarray of shape (n+1,4), the state vector at each time\n",
    "    U : ndarray of shape (n,), the control values\n",
    "    '''\n",
    "    \n",
    "    K = A - B.dot(R_inv.dot(B.T.dot(P)))\n",
    "    def f(y, t):\n",
    "        return K.dot(y)\n",
    "    \n",
    "    Z = odeint(f, X0, tv)\n",
    "    U = -R_inv.dot(B.T).dot(P).dot(Z.T).flatten()\n",
    "    \n",
    "    return Z, U"
   ]
  },
  {
   "cell_type": "markdown",
   "metadata": {},
   "source": [
    "# Problem 4"
   ]
  },
  {
   "cell_type": "code",
   "execution_count": null,
   "metadata": {},
   "outputs": [],
   "source": [
    "M, m = 23., 5.\n",
    "l = 4.\n",
    "q1, q2, q3, q4 = 1., 1., 1., 1.\n",
    "r = 10.\n",
    "tf1 = 7\n",
    "tf2 = 60\n",
    "X0 = np.array([-1., -1., .1, -.2])\n",
    "jumps = 200\n",
    "tv1 = np.linspace(0, tf1, jumps)\n",
    "tv2 = np.linspace(0, tf2, jumps)\n",
    "\n",
    "A, B, Q, R = linearized_init(M, m, l, q1, q2, q3, q4, r)\n",
    "Rinv = np.linalg.inv(R)\n",
    "P1 = find_P(A, B, Q, Rinv)\n",
    "P2 = solve_continuous_are(A, B, Q, R)\n",
    "\n",
    "Z1, U1 = rickshaw(tv1, X0, A, B, Q, Rinv, P1)\n",
    "Z2, U2 = rickshaw(tv2, X0, A, B, Q, Rinv, P2)"
   ]
  },
  {
   "cell_type": "code",
   "execution_count": null,
   "metadata": {},
   "outputs": [],
   "source": [
    "plt.plot(tv1, Z1[:,0], label='$x$')\n",
    "plt.plot(tv1, Z1[:,1], label='$\\dot x$')\n",
    "plt.plot(tv1, Z1[:,2], label='$\\\\theta$')\n",
    "plt.plot(tv1, Z1[:,3], label='$\\dot \\\\theta$')\n",
    "plt.plot(tv1, U1, label='$\\~ u$')\n",
    "\n",
    "plt.xlim(0, 7)\n",
    "plt.ylim(-60, 20)\n",
    "\n",
    "plt.legend(loc=0)\n",
    "plt.show()\n",
    "\n",
    "plt.plot(tv2, Z2[:,0], label='$x$')\n",
    "plt.plot(tv2, Z2[:,1], label='$\\dot x$')\n",
    "plt.plot(tv2, Z2[:,2], label='$\\\\theta$')\n",
    "plt.plot(tv2, Z2[:,3], label='$\\dot \\\\theta$')\n",
    "plt.plot(tv2, U2, label='$\\~ u$')\n",
    "\n",
    "plt.xlim(0, 60)\n",
    "plt.ylim(-6, 6)\n",
    "\n",
    "plt.legend(loc=0)\n",
    "plt.show()"
   ]
  },
  {
   "cell_type": "markdown",
   "metadata": {},
   "source": [
    "# Problem 5"
   ]
  },
  {
   "cell_type": "code",
   "execution_count": null,
   "metadata": {},
   "outputs": [],
   "source": [
    "M, m = 23., 5.\n",
    "l = 4.\n",
    "q1, q2, q3, q4 = 1., 1., 1., 1.\n",
    "r = 10.\n",
    "tf = 60\n",
    "jumps = 200\n",
    "for i in np.linspace(0,.2,5):\n",
    "    for j in np.linspace(-.4,0,5):\n",
    "        X0 = np.array([-1, -1, i, j])\n",
    "\n",
    "        tv = np.linspace(0, tf, jumps)\n",
    "\n",
    "        A, B, Q, R = linearized_init(M, m, l, q1, q2, q3, q4, r)\n",
    "        Rinv = np.linalg.inv(R)\n",
    "        P = solve_continuous_are(A, B, Q, R)\n",
    "\n",
    "        Z, U = rickshaw(tv, X0, A, B, Q, Rinv, P)\n",
    "        \n",
    "        plt.plot(tv, Z[:,0], label='$x$')\n",
    "        plt.plot(tv, Z[:,1], label='$\\dot x$')\n",
    "        plt.plot(tv, Z[:,2], label='$\\\\theta$')\n",
    "        plt.plot(tv, Z[:,3], label='$\\dot \\\\theta$')\n",
    "        plt.plot(tv, U, label='$\\~ u$')\n",
    "        \n",
    "        plt.xlim(0, 60)\n",
    "        plt.ylim(-6, 6)\n",
    "        \n",
    "        plt.title('$\\\\theta={}, \\dot\\\\theta={}$'.format(i,j))\n",
    "        plt.legend(loc=0)\n",
    "        plt.show()"
   ]
  },
  {
   "cell_type": "code",
   "execution_count": null,
   "metadata": {
    "collapsed": true
   },
   "outputs": [],
   "source": []
  }
 ],
 "metadata": {
  "kernelspec": {
   "display_name": "Python 3",
   "language": "python",
   "name": "python3"
  },
  "language_info": {
   "codemirror_mode": {
    "name": "ipython",
    "version": 3
   },
   "file_extension": ".py",
   "mimetype": "text/x-python",
   "name": "python",
   "nbconvert_exporter": "python",
   "pygments_lexer": "ipython3",
   "version": "3.6.1"
  }
 },
 "nbformat": 4,
 "nbformat_minor": 1
}
