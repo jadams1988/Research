{
 "cells": [
  {
   "cell_type": "code",
   "execution_count": null,
   "metadata": {
    "collapsed": true
   },
   "outputs": [],
   "source": [
    "import scipy as sp\n",
    "from scipy.sparse import spdiags\n",
    "from scipy.sparse.linalg import spsolve\n",
    "import numpy as np\n",
    "import matplotlib.pyplot as plt"
   ]
  },
  {
   "cell_type": "markdown",
   "metadata": {},
   "source": [
    "# Set up"
   ]
  },
  {
   "cell_type": "code",
   "execution_count": null,
   "metadata": {
    "collapsed": true
   },
   "outputs": [],
   "source": [
    "def create_matrix(x_space,alpha,beta,epsilon):\n",
    "    n = len(x_space)-1\n",
    "    h = x_space[1:]-x_space[:-1]\n",
    "    #print h\n",
    "    \n",
    "    Phi = np.zeros_like(x_space)\n",
    "    Phi[1:-1] = -.5*(h[:-1]+h[1:])\n",
    "    Phi[0] = alpha\n",
    "    Phi[-1] = beta\n",
    "    \n",
    "    main = np.ones_like(x_space)\n",
    "    main[1:-1] = -epsilon/h[:-1]-epsilon/h[1:]\n",
    "    \n",
    "    upp_diag = np.zeros_like(x_space)\n",
    "    upp_diag[2:] = epsilon/h[1:] - 1/2\n",
    "    \n",
    "    low_diag = np.zeros_like(x_space)\n",
    "    low_diag[:-2] = epsilon/h[:-1] + 1/2\n",
    "    \n",
    "    A = spdiags([main, upp_diag, low_diag], [0,1,-1], n+1, n+1)\n",
    "    \n",
    "    return A, Phi"
   ]
  },
  {
   "cell_type": "code",
   "execution_count": null,
   "metadata": {
    "collapsed": true
   },
   "outputs": [],
   "source": [
    "def phi(x,i,linspace):\n",
    "    h = linspace[1:] - linspace[:-1]\n",
    "    if i == 0:\n",
    "        if x >= linspace[i] and x <= linspace[i+1]:\n",
    "            return (linspace[i+1]-x)/h[i]\n",
    "        else:\n",
    "            return 0\n",
    "    elif i == len(linspace)-1:\n",
    "        if x >= linspace[i-1] and x <= linspace[i]:\n",
    "            return (x - linspace[i-1])/h[i-1]\n",
    "        else:\n",
    "            return 0\n",
    "    else:\n",
    "        if x >= linspace[i-1] and x <= linspace[i]:\n",
    "            return (x - linspace[i-1])/h[i-1]\n",
    "        elif x >= linspace[i] and x <= linspace[i+1]:\n",
    "            return (linspace[i+1] - x)/h[i]\n",
    "        else:\n",
    "            return 0"
   ]
  },
  {
   "cell_type": "code",
   "execution_count": null,
   "metadata": {
    "collapsed": true
   },
   "outputs": [],
   "source": [
    "def func(x):\n",
    "    return alpha + x + (beta - alpha - 1)*(np.exp(x/epsilon)-1)/(np.exp(1/epsilon)-1)"
   ]
  },
  {
   "cell_type": "markdown",
   "metadata": {},
   "source": [
    "# Problem 1"
   ]
  },
  {
   "cell_type": "code",
   "execution_count": null,
   "metadata": {},
   "outputs": [],
   "source": [
    "a = 0\n",
    "b = 1\n",
    "alpha = 2\n",
    "beta = 4\n",
    "epsilon = .02\n",
    "N = 100\n",
    "\n",
    "x_space = np.linspace(a,b,N+1)\n",
    "\n",
    "matrix = create_matrix(x_space, alpha, beta, epsilon)\n",
    "\n",
    "sol = spsolve(matrix[0], matrix[1])\n",
    "y = [np.sum(sol[i]*phi(x,i,x_space) for i in range(N+1)) for x in x_space]\n",
    "\n",
    "plt.plot(x_space, y, 'k')\n",
    "plt.plot(x_space, func(x_space), 'g')\n",
    "plt.show()"
   ]
  },
  {
   "cell_type": "markdown",
   "metadata": {},
   "source": [
    "# Problem 2"
   ]
  },
  {
   "cell_type": "code",
   "execution_count": null,
   "metadata": {},
   "outputs": [],
   "source": [
    "a = 0\n",
    "b = 1\n",
    "alpha = 2\n",
    "beta = 4\n",
    "epsilon = .02\n",
    "\n",
    "even_grid = np.linspace(a,b,15)\n",
    "clustered_grid = np.linspace(a,b,15)**(1/8)\n",
    "\n",
    "even = create_matrix(even_grid, alpha, beta, epsilon)\n",
    "clustered = create_matrix(clustered_grid, alpha, beta, epsilon)\n",
    "\n",
    "sol_even = spsolve(even[0], even[1])\n",
    "y_even = [np.sum(sol_even[i]*phi(x,i,even_grid) for i in range(15)) for x in even_grid]\n",
    "\n",
    "sol_clustered = spsolve(clustered[0], clustered[1])\n",
    "y_clustered = [np.sum(sol_clustered[i]*phi(x,i,clustered_grid) for i in range(15)) for x in clustered_grid]\n",
    "\n",
    "plt.plot(even_grid, y_even, 'k')\n",
    "plt.plot(clustered_grid, y_clustered, 'r')\n",
    "plt.plot(even_grid, func(even_grid), 'g')\n",
    "plt.show()"
   ]
  },
  {
   "cell_type": "markdown",
   "metadata": {},
   "source": [
    "# Problem 3"
   ]
  },
  {
   "cell_type": "code",
   "execution_count": null,
   "metadata": {},
   "outputs": [],
   "source": [
    "ns = []\n",
    "errors = []\n",
    "for i in range(4,22):\n",
    "    X = np.linspace(a,b,2**i+1)\n",
    "    ns.append(2**i)\n",
    "    Actual = func(X)\n",
    "    soln = create_matrix(X, alpha, beta, epsilon)\n",
    "    soln = spsolve(soln[0], soln[1])\n",
    "    error = np.max(np.abs(Actual-soln))\n",
    "#     error = np.linalg.norm(Actual-soln)\n",
    "    errors.append(error)\n",
    "plt.loglog(ns, errors)\n",
    "plt.xlabel('$n$', fontsize=16)\n",
    "plt.ylabel('$E(n)$', fontsize=16)\n",
    "#plt.savefig('FEM_error_2nd_order.pdf')\n",
    "plt.show()\n",
    "    "
   ]
  },
  {
   "cell_type": "code",
   "execution_count": null,
   "metadata": {
    "collapsed": true
   },
   "outputs": [],
   "source": []
  }
 ],
 "metadata": {
  "kernelspec": {
   "display_name": "Python 3",
   "language": "python",
   "name": "python3"
  },
  "language_info": {
   "codemirror_mode": {
    "name": "ipython",
    "version": 3
   },
   "file_extension": ".py",
   "mimetype": "text/x-python",
   "name": "python",
   "nbconvert_exporter": "python",
   "pygments_lexer": "ipython3",
   "version": "3.6.1"
  }
 },
 "nbformat": 4,
 "nbformat_minor": 1
}
