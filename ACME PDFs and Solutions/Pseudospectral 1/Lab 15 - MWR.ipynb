{
 "cells": [
  {
   "cell_type": "code",
   "execution_count": null,
   "metadata": {},
   "outputs": [],
   "source": [
    "import numpy as np\n",
    "from matplotlib import pyplot as plt\n",
    "from scipy.interpolate import barycentric_interpolate\n",
    "from numpy import linalg as la\n",
    "from scipy.optimize import root\n",
    "from mpl_toolkits.mplot3d import Axes3D\n",
    "\n",
    "%matplotlib inline"
   ]
  },
  {
   "cell_type": "markdown",
   "metadata": {},
   "source": [
    "# Problem 1"
   ]
  },
  {
   "cell_type": "code",
   "execution_count": null,
   "metadata": {
    "collapsed": true
   },
   "outputs": [],
   "source": [
    "def cheb(N):\n",
    "    x = np.cos((np.pi/N)*np.linspace(0,N,N+1))\n",
    "    x.shape = (N+1,1)\n",
    "    lin = np.linspace(0,N,N+1)\n",
    "    lin.shape = (N+1,1)\n",
    "    \n",
    "    c = np.ones((N+1,1))\n",
    "    c[0], c[-1] = 2., 2.\n",
    "    c = c*(-1.)**lin\n",
    "    X = x*np.ones(N+1) # broadcast along 2nd dimension (columns)\n",
    "    \n",
    "    dX = X - X.T\n",
    "    \n",
    "    D = (c*(1./c).T)/(dX + np.eye(N+1))\n",
    "    D = D - np.diag(np.sum(D.T,axis=0))\n",
    "    x.shape = (N+1,)\n",
    "    # Here we return the differentiation matrix and the Chebyshev points,\n",
    "    # numbered from x_0 = 1 to x_N = -1\n",
    "    return D, x"
   ]
  },
  {
   "cell_type": "code",
   "execution_count": null,
   "metadata": {},
   "outputs": [],
   "source": [
    "u = lambda x:np.exp(x)*np.cos(6*x)\n",
    "\n",
    "actual_deriv = lambda x:-6*np.exp(x)*np.sin(6*x)+u(x)\n",
    "x_even = np.linspace(-1,1,100)\n",
    "\n",
    "for N in [6, 8, 10]:\n",
    "    D, x = cheb(N)\n",
    "    u_prime = np.dot(D,u(x))\n",
    "    barycentric = barycentric_interpolate(x, u_prime, x_even)\n",
    "    \n",
    "    plt.plot(x, u_prime,'r',label='Chebyshev Approx: '+str(N))\n",
    "    plt.plot(x_even, actual_deriv(x_even),'b',label='actual')\n",
    "    plt.plot(x_even, barycentric,'k',label='Barycentric')\n",
    "    plt.legend()\n",
    "    plt.show()"
   ]
  },
  {
   "cell_type": "markdown",
   "metadata": {},
   "source": [
    "# Problem 2"
   ]
  },
  {
   "cell_type": "code",
   "execution_count": null,
   "metadata": {},
   "outputs": [],
   "source": [
    "f = lambda x:np.exp(2*x)\n",
    "\n",
    "actual = lambda x:(-np.cosh(2)-np.sinh(2)*x+np.exp(2*x))/4\n",
    "\n",
    "N=8\n",
    "D, x = cheb(N)\n",
    "DD = D.dot(D)\n",
    "DD[0,:] = 0\n",
    "DD[-1,:] = 0\n",
    "DD[0,0] = 1\n",
    "DD[-1,-1] = 1\n",
    "F = f(x)\n",
    "F[0] = 0\n",
    "F[-1] = 0\n",
    "\n",
    "U = la.solve(DD,F)\n",
    "\n",
    "barycentric = barycentric_interpolate(x, U, np.linspace(-1,1,100))\n",
    "\n",
    "lin = np.linspace(-1,1,100)\n",
    "plt.plot(lin, barycentric,'r',label='Barycentric')\n",
    "plt.plot(lin, actual(lin),'g',label='Actual')\n",
    "plt.legend()\n",
    "plt.show()"
   ]
  },
  {
   "cell_type": "markdown",
   "metadata": {},
   "source": [
    "# Problem 3"
   ]
  },
  {
   "cell_type": "code",
   "execution_count": null,
   "metadata": {},
   "outputs": [],
   "source": [
    "f = lambda x:np.exp(3*x)\n",
    "\n",
    "N=8\n",
    "D, x = cheb(N)\n",
    "operator = D.dot(D)+D\n",
    "operator[0,:] = 0\n",
    "operator[-1,:] = 0\n",
    "operator[0,0] = 1\n",
    "operator[-1,-1] = 1\n",
    "F = f(x)\n",
    "F[0] = -1\n",
    "F[-1] = 2\n",
    "\n",
    "U = la.solve(operator,F)\n",
    "\n",
    "barycentric = barycentric_interpolate(x, U, np.linspace(-1,1,100))\n",
    "\n",
    "lin = np.linspace(-1,1,100)\n",
    "plt.plot(lin, barycentric,'r',label='Barycentric')\n",
    "plt.legend()\n",
    "plt.show()"
   ]
  },
  {
   "cell_type": "markdown",
   "metadata": {},
   "source": [
    "# Problem 4"
   ]
  },
  {
   "cell_type": "code",
   "execution_count": null,
   "metadata": {},
   "outputs": [],
   "source": [
    "N = 20\n",
    "D, x = cheb(N)\n",
    "DD = D.dot(D)\n",
    "\n",
    "def F(U):\n",
    "    out = 4*np.dot(DD,U) - lam*np.sinh(lam*U)\n",
    "    out[0] = U[0]-1\n",
    "    out[-1] = U[-1]\n",
    "    return out\n",
    "\n",
    "for lam in [4, 8, 12]:\n",
    "    guess = np.ones(N+1)\n",
    "    sol = root(F,guess).x\n",
    "    lin = np.linspace(-1,1,100)\n",
    "    barycentric = barycentric_interpolate(x, sol, lin)\n",
    "    plt.plot(.5*(lin+1), barycentric, label='lam= '+str(lam))\n",
    "    plt.plot(.5*(x+1), sol)\n",
    "\n",
    "plt.legend()\n",
    "plt.show()\n",
    "    "
   ]
  },
  {
   "cell_type": "markdown",
   "metadata": {},
   "source": [
    "# Problem 5"
   ]
  },
  {
   "cell_type": "code",
   "execution_count": null,
   "metadata": {},
   "outputs": [],
   "source": [
    "N = 50\n",
    "D, x = cheb(N)\n",
    "DD = np.dot(D,D)\n",
    "\n",
    "def F(U):\n",
    "    out = U*DD.dot(U)-D.dot(U)**2-1\n",
    "    out[0] = U[0]-7\n",
    "    out[-1] = U[-1]-1\n",
    "    return out\n",
    "\n",
    "guess = 2*np.ones(N+1)\n",
    "sol = root(F,guess).x\n",
    "lin = np.linspace(-1,1,100)\n",
    "barycentric = barycentric_interpolate(x, sol, lin)\n",
    "\n",
    "plt.plot(x, sol, label='actual')\n",
    "plt.plot(lin, barycentric, label='barycentric')\n",
    "\n",
    "theta = np.linspace(0,2*np.pi,401)\n",
    "X, T = np.meshgrid(lin, theta)\n",
    "Y, Z = barycentric*np.cos(T), barycentric*np.sin(T)\n",
    "fig = plt.figure()\n",
    "ax = fig.gca(projection=\"3d\")\n",
    "ax.plot_wireframe(X, Y, Z, rstride=10, cstride=10)\n",
    "plt.show()"
   ]
  },
  {
   "cell_type": "code",
   "execution_count": null,
   "metadata": {},
   "outputs": [],
   "source": [
    "print 2*np.pi*np.sum(sol*np.sqrt(1+np.dot(D,sol)**2))*2./50"
   ]
  },
  {
   "cell_type": "code",
   "execution_count": null,
   "metadata": {},
   "outputs": [],
   "source": []
  },
  {
   "cell_type": "code",
   "execution_count": null,
   "metadata": {
    "collapsed": true
   },
   "outputs": [],
   "source": []
  }
 ],
 "metadata": {
  "kernelspec": {
   "display_name": "Python 3",
   "language": "python",
   "name": "python3"
  },
  "language_info": {
   "codemirror_mode": {
    "name": "ipython",
    "version": 3
   },
   "file_extension": ".py",
   "mimetype": "text/x-python",
   "name": "python",
   "nbconvert_exporter": "python",
   "pygments_lexer": "ipython3",
   "version": "3.6.1"
  }
 },
 "nbformat": 4,
 "nbformat_minor": 1
}
