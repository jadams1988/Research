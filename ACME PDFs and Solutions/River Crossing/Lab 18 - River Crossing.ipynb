{
 "cells": [
  {
   "cell_type": "code",
   "execution_count": null,
   "metadata": {
    "collapsed": true
   },
   "outputs": [],
   "source": [
    "import numpy as np\n",
    "from matplotlib import pyplot as plt\n",
    "from scipy.interpolate import barycentric_interpolate\n",
    "from numpy import linalg as la\n",
    "from scipy.optimize import root"
   ]
  },
  {
   "cell_type": "markdown",
   "metadata": {},
   "source": [
    "# Problem 1"
   ]
  },
  {
   "cell_type": "code",
   "execution_count": null,
   "metadata": {
    "collapsed": true
   },
   "outputs": [],
   "source": [
    "c = lambda x:-.7*(x**2-1)\n",
    "alpha = lambda x:1/np.sqrt(1-c(x)**2)"
   ]
  },
  {
   "cell_type": "code",
   "execution_count": null,
   "metadata": {
    "collapsed": true
   },
   "outputs": [],
   "source": [
    "def L_(y, dy, x):\n",
    "    L = alpha(x)*np.sqrt(1+(alpha(x)*dy(x))**2)-alpha(x)**2*c(x)*dy(x)\n",
    "    return L"
   ]
  },
  {
   "cell_type": "code",
   "execution_count": null,
   "metadata": {
    "collapsed": true
   },
   "outputs": [],
   "source": [
    "def T(y,dy,x0,x1,N):\n",
    "    x_domain = np.linspace(x0,x1,N+1)\n",
    "    h = 1.*(x1-x0)/N\n",
    "    T = h*np.sum([L_(y,dy,x_domain[i]) for i in xrange(N+1)])\n",
    "    return T"
   ]
  },
  {
   "cell_type": "markdown",
   "metadata": {},
   "source": [
    "# Problem 2"
   ]
  },
  {
   "cell_type": "code",
   "execution_count": null,
   "metadata": {
    "collapsed": true
   },
   "outputs": [],
   "source": [
    "y = lambda x:2.5*(x+1)\n",
    "dy = lambda x:2.5"
   ]
  },
  {
   "cell_type": "code",
   "execution_count": null,
   "metadata": {},
   "outputs": [],
   "source": [
    "print 'upper bound: ' + str(T(y,dy,-1,1,100000))"
   ]
  },
  {
   "cell_type": "code",
   "execution_count": null,
   "metadata": {},
   "outputs": [],
   "source": [
    "print 'lower bound: 2'"
   ]
  },
  {
   "cell_type": "markdown",
   "metadata": {},
   "source": [
    "# Problem 3"
   ]
  },
  {
   "cell_type": "code",
   "execution_count": null,
   "metadata": {
    "collapsed": true
   },
   "outputs": [],
   "source": [
    "def cheb(N):\n",
    "    x = np.cos((np.pi/N)*np.linspace(0,N,N+1))\n",
    "    x.shape = (N+1,1)\n",
    "    lin = np.linspace(0,N,N+1)\n",
    "    lin.shape = (N+1,1)\n",
    "    \n",
    "    c = np.ones((N+1,1))\n",
    "    c[0], c[-1] = 2., 2.\n",
    "    c = c*(-1.)**lin\n",
    "    X = x*np.ones(N+1) # broadcast along 2nd dimension (columns)\n",
    "    \n",
    "    dX = X - X.T\n",
    "    \n",
    "    D = (c*(1./c).T)/(dX + np.eye(N+1))\n",
    "    D = D - np.diag(np.sum(D.T,axis=0))\n",
    "    x.shape = (N+1,)\n",
    "    # Here we return the differentiation matrix and the Chebyshev points,\n",
    "    # numbered from x_0 = 1 to x_N = -1\n",
    "    return D, x"
   ]
  },
  {
   "cell_type": "code",
   "execution_count": null,
   "metadata": {},
   "outputs": [],
   "source": [
    "N = 25\n",
    "D, x = cheb(N)"
   ]
  },
  {
   "cell_type": "code",
   "execution_count": null,
   "metadata": {
    "collapsed": true
   },
   "outputs": [],
   "source": [
    "def Newton(Y):\n",
    "    dY = D.dot(Y)\n",
    "    a = alpha(x)\n",
    "    out = D.dot(a**3*dY/np.sqrt((1+(a*dY)**2)) - a**2*c(x))\n",
    "    out[0] = Y[0]-5\n",
    "    out[-1] = Y[-1]\n",
    "    return out"
   ]
  },
  {
   "cell_type": "code",
   "execution_count": null,
   "metadata": {},
   "outputs": [],
   "source": [
    "guess = 2.5*(x+1)\n",
    "sol = root(Newton, guess).x"
   ]
  },
  {
   "cell_type": "code",
   "execution_count": null,
   "metadata": {},
   "outputs": [],
   "source": [
    "lin = np.linspace(-1,1,100)\n",
    "barycentric = barycentric_interpolate(x, sol, lin)\n",
    "plt.plot(lin, barycentric)\n",
    "plt.plot(lin, 2.5*(lin+1))\n",
    "plt.ylim((-1,5))\n",
    "plt.show()\n",
    "\n"
   ]
  },
  {
   "cell_type": "markdown",
   "metadata": {},
   "source": [
    "# Problem 4"
   ]
  },
  {
   "cell_type": "code",
   "execution_count": null,
   "metadata": {},
   "outputs": [],
   "source": [
    "theta = []\n",
    "dy = D.dot(sol)\n",
    "\n",
    "def find_theta(theta_i):\n",
    "    return dy[i]-c(x[i])/np.cos(theta_i)-np.tan(theta_i)\n",
    "\n",
    "for i in xrange(N+1):\n",
    "    theta_i = root(find_theta, np.pi/4).x\n",
    "    theta.append(theta_i)"
   ]
  },
  {
   "cell_type": "code",
   "execution_count": null,
   "metadata": {},
   "outputs": [],
   "source": [
    "plt.plot(x,theta)\n",
    "plt.xlim((-1,1))\n",
    "plt.ylim((0,np.pi/2))\n",
    "plt.show()"
   ]
  },
  {
   "cell_type": "code",
   "execution_count": null,
   "metadata": {},
   "outputs": [],
   "source": [
    "lin = np.linspace(-1,1,100)\n",
    "barycentric = barycentric_interpolate(x, theta, lin)\n",
    "\n",
    "plt.plot(lin,barycentric)\n",
    "plt.xlim((-1,1))\n",
    "plt.ylim((0,np.pi/2))\n",
    "plt.xlabel('x')\n",
    "plt.ylabel(r'$\\theta$')\n",
    "plt.yticks((0, np.pi/6., np.pi/3., np.pi/2.),\n",
    "        ('0', r'$\\frac{\\pi}{6}$', r'$\\frac{\\pi}{3}$', r'$\\frac{\\pi}{2}$'))\n",
    "plt.show()"
   ]
  },
  {
   "cell_type": "code",
   "execution_count": null,
   "metadata": {
    "collapsed": true
   },
   "outputs": [],
   "source": []
  }
 ],
 "metadata": {
  "kernelspec": {
   "display_name": "Python 3",
   "language": "python",
   "name": "python3"
  },
  "language_info": {
   "codemirror_mode": {
    "name": "ipython",
    "version": 3
   },
   "file_extension": ".py",
   "mimetype": "text/x-python",
   "name": "python",
   "nbconvert_exporter": "python",
   "pygments_lexer": "ipython3",
   "version": "3.6.1"
  }
 },
 "nbformat": 4,
 "nbformat_minor": 1
}
