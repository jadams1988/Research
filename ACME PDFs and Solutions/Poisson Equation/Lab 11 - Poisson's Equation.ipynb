{
 "cells": [
  {
   "cell_type": "code",
   "execution_count": null,
   "metadata": {
    "collapsed": true
   },
   "outputs": [],
   "source": [
    "from __future__ import division\n",
    "from scipy.sparse import spdiags\n",
    "from scipy.sparse.linalg import spsolve\n",
    "import numpy as np\n",
    "import matplotlib.pyplot as plt\n",
    "#plt.switch_backend('qt4agg')\n",
    "%matplotlib inline"
   ]
  },
  {
   "cell_type": "markdown",
   "metadata": {},
   "source": [
    "# Problem 1"
   ]
  },
  {
   "cell_type": "code",
   "execution_count": null,
   "metadata": {
    "collapsed": true
   },
   "outputs": [],
   "source": [
    "def poisson_square(a1,b1,c1,d1,n,bcs, source):\n",
    "    # n = number of subintervals\n",
    "    # We discretize in the x dimension by\n",
    "    # a1 = x_0 < x_1< ... < x_n=b1, and\n",
    "    # We discretize in the y dimension by\n",
    "    # c1 = y_0 < y_1< ... < y_n=d1.\n",
    "    # This means that we have interior points\n",
    "    # {x_1, ..., x_{n-1}}\\times {y_1, ..., y_{n-1}}\n",
    "    # or {x_1, ..., x_m}\\times {y_1, ..., y_m} where m = n-1.\n",
    "    # In Python, this is indexed as\n",
    "    # {x_0, ..., x_{m-1}}\\times {y_0, ..., y_{m-1}}\n",
    "    # We will have m**2 pairs of interior points, and\n",
    "    # m**2 corresponding equations.\n",
    "    # We will organize these equations by their\n",
    "    # y coordinates: all equations centered\n",
    "    # at (x_i, y_0) will be listed first,\n",
    "    # then (x_i, y_1), and so on till (x_i, y_{m-1})\n",
    "    delta_x, delta_y, h, m = (b1-a1)/n, (d1-c1)/n, (b1-a1)/n, n-1\n",
    "    \n",
    "    #### Construct the matrix A ####\n",
    "    main_diag = -4*np.ones(m**2)\n",
    "    off_diag_up = np.ones(m**2)\n",
    "    off_diag_up[m::m] = 0\n",
    "    off_diag_down = np.ones(m**2)\n",
    "    off_diag_down[m-1::m] = 0\n",
    "    off_iden = np.ones(m**2)\n",
    "    \n",
    "    data = np.array([main_diag, off_diag_up, off_diag_down, off_iden, off_iden])\n",
    "    diags = np.array([0,1,-1,m,-m])\n",
    "    \n",
    "    A = 1./h**2 * spdiags(data, diags, (n-1)**2, (n-1)**2)\n",
    "    \n",
    "    print A.todense()\n",
    "    \n",
    "    #### Here we construct the vector b ####\n",
    "    b, Array = np.zeros(m**2), np.linspace(0.,1.,m+2)[1:-1]\n",
    "    # In the next line, source represents\n",
    "    # the inhomogenous part of Poisson's equation\n",
    "    for j in xrange(m):\n",
    "        b[j*m:(j+1)*m] = source(a1+(b1-a1)*Array, c1+(j+1)*h*np.ones(m) )\n",
    "    \n",
    "    # In the next four lines, bcs represents the\n",
    "    # Dirichlet conditions on the boundary\n",
    "    # y = c1+h, d1-h\n",
    "    b[0:m] -= h**(-2.)*bcs(a1+(b1-a1)*Array,c1*np.ones(m))\n",
    "    b[(m-1)*m:m**2] -= h**(-2.)*bcs(a1+(b1-a1)*Array,d1*np.ones(m))\n",
    "    # x = a1+h, b1-h\n",
    "    b[0::m] -= h**(-2.)*bcs(a1*np.ones(m),c1+(d1-c1)*Array)\n",
    "    b[(m-1)::m] -= h**(-2.)*bcs(b1*np.ones(m),c1+(d1-c1)*Array)\n",
    "    \n",
    "    \n",
    "    #### Here we solve the system A*soln = b ####\n",
    "    soln = spsolve(A,b)\n",
    "    \n",
    "    # We return the solution, and the boundary values,\n",
    "    # in the array z.\n",
    "    z = np.zeros((m+2,m+2) )\n",
    "    for j in xrange(m):\n",
    "        z[1:-1,j+1] = soln[j*m:(j+1)*m]\n",
    "    \n",
    "    x, y = np.linspace(a1,b1,m+2), np.linspace(c1,d1,m+2)\n",
    "    z[:,0], z[:,m+1] = bcs(x,c1*np.ones(len(x)) ), bcs(x,d1*np.ones(len(x)) )\n",
    "    z[0,:], z[m+1,:] = bcs(a1*np.ones(len(x)),y), bcs(b1*np.ones(len(x)),y)\n",
    "    return z"
   ]
  },
  {
   "cell_type": "code",
   "execution_count": null,
   "metadata": {},
   "outputs": [],
   "source": [
    "a = 0\n",
    "b = 1\n",
    "c = 0\n",
    "d = 1\n",
    "n = 4\n",
    "g = lambda x,y:x**3\n",
    "f = lambda x,y:np.zeros_like(x)\n",
    "\n",
    "solution = poisson_square(a,b,c,d,n,g,f)"
   ]
  },
  {
   "cell_type": "code",
   "execution_count": null,
   "metadata": {},
   "outputs": [],
   "source": [
    "# 3D plot of solution\n",
    "x = np.linspace(a,b,n+1)\n",
    "y = np.linspace(c,d,n+1)\n",
    "X, Y = np.meshgrid(x, y)\n",
    "Z = solution\n",
    "\n",
    "from mpl_toolkits.mplot3d import Axes3D\n",
    "fig = plt.figure()\n",
    "ax = fig.gca(projection='3d')\n",
    "ax.plot_surface(X, Y, Z)\n",
    "plt.show()"
   ]
  },
  {
   "cell_type": "markdown",
   "metadata": {},
   "source": [
    "# Problem 2"
   ]
  },
  {
   "cell_type": "code",
   "execution_count": null,
   "metadata": {},
   "outputs": [],
   "source": [
    "import matplotlib.colors as mcolors\n",
    "\n",
    "def source(X,Y):\n",
    "    \"\"\"\n",
    "    Takes arbitrary arrays of coordinates X and Y and returns an array of the same shape\n",
    "    representing the charge density of nested charged squares\n",
    "    \"\"\"\n",
    "    src = np.zeros(X.shape)\n",
    "    src[ np.logical_or(np.logical_and( np.logical_or(abs(X-1.5) < .1,abs(X+1.5) < .1) ,abs(Y) <  1.6),\n",
    "    np.logical_and( np.logical_or(abs(Y-1.5) < .1,abs(Y+1.5) < .1) ,abs(X) <  1.6))] = 1\n",
    "    \n",
    "    src[ np.logical_or(np.logical_and( np.logical_or(abs(X-0.9) < .1,abs(X+0.9) < .1) ,abs(Y) <  1.0),\n",
    "    np.logical_and( np.logical_or(abs(Y-0.9) < .1,abs(Y+0.9) < .1) ,abs(X) <  1.0))] = -1\n",
    "    return src\n",
    "    \n",
    "#Generate a color dictionary for use with LinearSegmentedColormap\n",
    "#that places red and blue at the min and max values of data\n",
    "#and white when data is zero\n",
    "\n",
    "def genDict(data):\n",
    "    zero = 1/(1 - np.max(data)/np.min(data))\n",
    "    cdict = {\n",
    "    'red': [(0.0, 1.0, 1.0),(zero, 1.0, 1.0),(1.0, 0.0, 0.0)],\n",
    "    'green': [(0.0, 0.0, 0.0),(zero, 1.0, 1.0),(1.0, 0.0, 0.0)],\n",
    "    'blue': [(0.0, 0.0, 0.0),(zero, 1.0, 1.0),(1.0, 1.0, 1.0)]\n",
    "    }\n",
    "    return cdict\n",
    "\n",
    "a1 = -2.\n",
    "b1 = 2.\n",
    "c1 = -2.\n",
    "d1 = 2.\n",
    "n =100\n",
    "X = np.linspace(a1,b1,n)\n",
    "Y = np.linspace(c1,d1,n)\n",
    "X,Y = np.meshgrid(X,Y)\n",
    "\n",
    "plt.imshow(source(X,Y),cmap = mcolors.LinearSegmentedColormap('cmap', genDict(source(X,Y))))\n",
    "plt.colorbar(label=\"Relative Charge\")\n",
    "plt.show()"
   ]
  },
  {
   "cell_type": "code",
   "execution_count": null,
   "metadata": {},
   "outputs": [],
   "source": [
    "boundary_func = lambda x,y:np.zeros_like(x)\n",
    "\n",
    "solution = poisson_square(a1,b1,c1,d1,n,boundary_func,source)\n",
    "\n",
    "x = np.linspace(a1,b1,n+1)\n",
    "y = np.linspace(c1,d1,n+1)\n",
    "X,Y = np.meshgrid(x,y)\n",
    "\n",
    "plt.imshow(solution,cmap = mcolors.LinearSegmentedColormap('cmap', genDict(solution)))\n",
    "plt.colorbar(label=\"Relative Charge\")\n",
    "plt.show()"
   ]
  },
  {
   "cell_type": "code",
   "execution_count": null,
   "metadata": {
    "collapsed": true
   },
   "outputs": [],
   "source": []
  }
 ],
 "metadata": {
  "kernelspec": {
   "display_name": "Python 3",
   "language": "python",
   "name": "python3"
  },
  "language_info": {
   "codemirror_mode": {
    "name": "ipython",
    "version": 3
   },
   "file_extension": ".py",
   "mimetype": "text/x-python",
   "name": "python",
   "nbconvert_exporter": "python",
   "pygments_lexer": "ipython3",
   "version": "3.6.1"
  }
 },
 "nbformat": 4,
 "nbformat_minor": 1
}
