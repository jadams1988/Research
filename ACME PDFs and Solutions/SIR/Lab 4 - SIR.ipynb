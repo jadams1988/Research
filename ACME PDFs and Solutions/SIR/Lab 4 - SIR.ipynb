{
 "cells": [
  {
   "cell_type": "code",
   "execution_count": null,
   "metadata": {
    "collapsed": true
   },
   "outputs": [],
   "source": [
    "import numpy as np\n",
    "from scipy.integrate import odeint\n",
    "from matplotlib import pyplot as plt"
   ]
  },
  {
   "cell_type": "markdown",
   "metadata": {},
   "source": [
    "# Preliminaries"
   ]
  },
  {
   "cell_type": "code",
   "execution_count": null,
   "metadata": {
    "collapsed": true
   },
   "outputs": [],
   "source": [
    "# The system\n",
    "def ode(y,x):\n",
    "    return np.array([-beta*y[1]*y[0],beta*y[1]*y[0]-gamma*y[1],gamma*y[1]])"
   ]
  },
  {
   "cell_type": "markdown",
   "metadata": {},
   "source": [
    "# Problem 1"
   ]
  },
  {
   "cell_type": "code",
   "execution_count": null,
   "metadata": {},
   "outputs": [],
   "source": [
    "# Initial Conditions\n",
    "S0 = 1-6.25*10**(-7)\n",
    "I0 = 6.25*10**(-7)\n",
    "R0 = 0\n",
    "init = np.array([S0,I0,R0])\n",
    "\n",
    "beta = .5\n",
    "gamma = .25\n",
    "\n",
    "days = 100\n",
    "X = np.linspace(0,days,days+1)\n",
    "\n",
    "Y = odeint(ode,init,X)\n",
    "\n",
    "plt.plot(X,Y[:,0],label='Susceptible')\n",
    "plt.plot(X,Y[:,1],label='Infected')\n",
    "plt.plot(X,Y[:,2],label='Recovered')\n",
    "plt.axis([0,100,-.1,1.1])\n",
    "plt.xlabel('Day')\n",
    "plt.ylabel('Proportion of Population')\n",
    "plt.legend(loc=0)\n",
    "plt.show()"
   ]
  },
  {
   "cell_type": "markdown",
   "metadata": {},
   "source": [
    "# Problem 2"
   ]
  },
  {
   "cell_type": "code",
   "execution_count": null,
   "metadata": {},
   "outputs": [],
   "source": [
    "Pop = 3000000\n",
    "num_infected = 5.\n",
    "S0 = 1-num_infected/Pop\n",
    "I0 = num_infected/Pop\n",
    "R0 = 0\n",
    "init = np.array([S0,I0,R0])\n",
    "\n",
    "# Change gamma\n",
    "days_infected = 3.\n",
    "beta = 1.\n",
    "gamma = 1./days_infected\n",
    "\n",
    "days = 50\n",
    "X = np.linspace(0,days,days+1)\n",
    "\n",
    "Y = odeint(ode,init,X)\n",
    "\n",
    "plt.plot(X,Y[:,0],label='Susceptible')\n",
    "plt.plot(X,Y[:,1],label='Infected')\n",
    "plt.plot(X,Y[:,2],label='Recovered')\n",
    "plt.axis([0,50,-.1,1.1])\n",
    "plt.xlabel('Day')\n",
    "plt.ylabel('Proportion of Population')\n",
    "plt.legend(loc=0)\n",
    "plt.show()\n",
    "\n",
    "# Print out the max number of infected, number who can still work\n",
    "print(\"Max number infected is \"+str(Pop*max(Y[:,1])))\n",
    "print (\"Max number who can work is \"+str(Pop-Pop*max(Y[:,1])))"
   ]
  },
  {
   "cell_type": "code",
   "execution_count": null,
   "metadata": {
    "collapsed": true
   },
   "outputs": [],
   "source": [
    "# Pop = 3000000\n",
    "# num_infected = 5.\n",
    "# S0 = 1-num_infected/Pop\n",
    "# I0 = num_infected/Pop\n",
    "# R0 = 0\n",
    "# init = np.array([S0,I0,R0])\n",
    "\n",
    "# # Change gamma\n",
    "# days_infected = 7.\n",
    "# beta = 1.\n",
    "# gamma = 1./days_infected\n",
    "\n",
    "# days = 50\n",
    "# X = np.linspace(0,days,days+1)\n",
    "\n",
    "# Y = odeint(ode,init,X)\n",
    "\n",
    "# plt.plot(X,Y[:,0],label='Susceptible')\n",
    "# plt.plot(X,Y[:,1],label='Infected')\n",
    "# plt.plot(X,Y[:,2],label='Recovered')\n",
    "# plt.axis([0,50,-.1,1.1])\n",
    "# plt.xlabel('Day')\n",
    "# plt.ylabel('Proportion of Population')\n",
    "# plt.legend(loc=0)\n",
    "# plt.show()\n",
    "\n",
    "# # Print out the max number of infected, number who can still work\n",
    "# print \"Max number infected is \"+str(Pop*max(Y[:,1]))\n",
    "# print \"Max number who can work is \"+str(Pop-Pop*max(Y[:,1]))"
   ]
  },
  {
   "cell_type": "markdown",
   "metadata": {},
   "source": [
    "# Problem 3"
   ]
  },
  {
   "cell_type": "code",
   "execution_count": null,
   "metadata": {},
   "outputs": [],
   "source": [
    "Pop = 3000000\n",
    "num_infected = 5.\n",
    "S0 = 1-num_infected/Pop\n",
    "I0 = num_infected/Pop\n",
    "R0 = 0\n",
    "init = np.array([S0,I0,R0])\n",
    "\n",
    "# Change beta and gamma\n",
    "days_infected = 4.\n",
    "beta = .3\n",
    "gamma = 1./days_infected\n",
    "\n",
    "# Extend the x axis to show more days\n",
    "days = 500\n",
    "X = np.linspace(0,days,days+1)\n",
    "\n",
    "Y = odeint(ode,init,X)\n",
    "\n",
    "plt.plot(X,Y[:,0],label='Susceptible')\n",
    "plt.plot(X,Y[:,1],label='Infected')\n",
    "plt.plot(X,Y[:,2],label='Recovered')\n",
    "#plt.axis([0,days,-.1,1.1])\n",
    "plt.xlabel('Day')\n",
    "plt.ylabel('Proportion of Population')\n",
    "plt.legend(loc=0)\n",
    "plt.show()"
   ]
  },
  {
   "cell_type": "markdown",
   "metadata": {},
   "source": [
    "# Problem 4"
   ]
  },
  {
   "cell_type": "code",
   "execution_count": null,
   "metadata": {},
   "outputs": [],
   "source": [
    "beta = 1/2\n",
    "gamma = 1/10\n",
    "f = 1/50\n",
    "mu = .0001\n",
    "\n",
    "def ode(y,x):\n",
    "    return np.array([-beta*y[1]*y[0]+f*y[2]+mu*(1-y[0]),beta*y[1]*y[0]-gamma*y[1]-mu*y[1],gamma*y[1]-f*y[2]-mu*y[2]])\n",
    "\n",
    "Pop = 7000000000\n",
    "num_infected = 1000\n",
    "I0 = num_infected/Pop\n",
    "S0 = 1-I0\n",
    "R0 = 0\n",
    "init = np.array([S0, I0, R0])\n",
    "\n",
    "days = 365\n",
    "X = np.linspace(0,days,days+1)\n",
    "Y = odeint(ode,init,X)\n",
    "\n",
    "plt.plot(X,Y[:,0],label='Susceptible')\n",
    "plt.plot(X,Y[:,1],label='Infected')\n",
    "plt.plot(X,Y[:,2],label='Recovered')\n",
    "plt.xlabel('Day')\n",
    "plt.ylabel('Proportion of Population')\n",
    "plt.legend(loc=0)\n",
    "plt.show()"
   ]
  },
  {
   "cell_type": "markdown",
   "metadata": {},
   "source": [
    "# Problem 5"
   ]
  },
  {
   "cell_type": "code",
   "execution_count": null,
   "metadata": {
    "collapsed": true
   },
   "outputs": [],
   "source": [
    "from scipy.integrate import solve_bvp"
   ]
  },
  {
   "cell_type": "code",
   "execution_count": null,
   "metadata": {
    "scrolled": true
   },
   "outputs": [],
   "source": [
    "beta_1 = 1.\n",
    "beta_0 = 1575.\n",
    "eta = .01\n",
    "lamb = .0279\n",
    "mu = .02\n",
    "a = 0\n",
    "b = 1\n",
    "days = 365\n",
    "T = np.linspace(a,b,days+1)\n",
    "\n",
    "def beta(t):\n",
    "    return beta_0*(1+beta_1*np.cos(2*np.pi*t))\n",
    "\n",
    "def ode(t, y):\n",
    "    length = len(y[0])\n",
    "    return np.array([mu-beta(t)*y[0]*y[2],beta(t)*y[0]*y[2]-y[1]/lamb,\n",
    "                      y[1]/lamb-y[2]/eta,0*np.zeros(length),0*np.zeros(length),0*np.zeros(length)])    \n",
    "# Note the extra 0's on the end, this keeps the C from changing.\n",
    "\n",
    "def bcs(ya, yb):\n",
    "    BCa = ya[0:3] - ya[3:] # 1 Boundary condition on the left\n",
    "    BCb = yb[0:3] - yb[3:] # 1 Boundary condition on the right\n",
    "\n",
    "    return np.hstack([BCa, BCb])\n",
    "\n",
    "Y = np.array([.07, .0001, .0001, .08, .0001, .0001]).reshape((-1,1))*np.ones((6,len(T)))\n",
    "\n",
    "solution = solve_bvp(ode, bcs, T, Y)\n",
    "\n",
    "t_plot = np.linspace(0,1,366)\n",
    "y_plot = solution.sol(t_plot)[0:3]\n",
    "plt.plot(t_plot, y_plot[0], label='Susceptible')\n",
    "plt.plot(t_plot, y_plot[1], label='Exposed')\n",
    "plt.plot(t_plot, y_plot[2], label='Infectious')\n",
    "plt.legend()\n",
    "plt.xlabel('T (years)')\n",
    "plt.ylabel('Proportion of Population')\n",
    "plt.savefig('measles.pdf')\n",
    "plt.show()"
   ]
  },
  {
   "cell_type": "code",
   "execution_count": null,
   "metadata": {},
   "outputs": [],
   "source": []
  },
  {
   "cell_type": "code",
   "execution_count": null,
   "metadata": {
    "collapsed": true
   },
   "outputs": [],
   "source": []
  },
  {
   "cell_type": "code",
   "execution_count": null,
   "metadata": {
    "collapsed": true
   },
   "outputs": [],
   "source": []
  },
  {
   "cell_type": "code",
   "execution_count": null,
   "metadata": {},
   "outputs": [],
   "source": []
  },
  {
   "cell_type": "code",
   "execution_count": null,
   "metadata": {
    "collapsed": true
   },
   "outputs": [],
   "source": []
  },
  {
   "cell_type": "code",
   "execution_count": null,
   "metadata": {
    "collapsed": true
   },
   "outputs": [],
   "source": []
  },
  {
   "cell_type": "code",
   "execution_count": null,
   "metadata": {},
   "outputs": [],
   "source": [
    "import numpy as np\n",
    "from scipy.integrate import solve_bvp\n",
    "import matplotlib.pyplot as plt\n",
    "\n",
    "epsilon, lbc, rbc = .1, 1, -1/3\n",
    "\n",
    "def ode(x, y):\n",
    "    return np.array([y[1], (1/epsilon)*(y[0]-y[0]*y[1])])\n",
    "\n",
    "def bcs(ya, yb):\n",
    "    BCa = np.array([ya[0] - lbc])\n",
    "    BCb = np.array([yb[0] - rbc])\n",
    "    return np.hstack([BCa, BCb])\n",
    "\n",
    "X = np.linspace(-1, 1, 200)\n",
    "y = np.array([-1/3, -4/3]).reshape((-1,1)) * np.ones((2, len(X)))\n",
    "\n",
    "solution = solve_bvp(ode, bcs, X, y)\n",
    "\n",
    "y_plot = solution.sol(X)[0]\n",
    "\n",
    "plt.plot(X, y_plot)\n",
    "plt.savefig(\"bvp_example.pdf\")\n",
    "plt.show()"
   ]
  },
  {
   "cell_type": "code",
   "execution_count": null,
   "metadata": {},
   "outputs": [],
   "source": []
  },
  {
   "cell_type": "code",
   "execution_count": null,
   "metadata": {
    "collapsed": true
   },
   "outputs": [],
   "source": []
  }
 ],
 "metadata": {
  "kernelspec": {
   "display_name": "Python 3",
   "language": "python",
   "name": "python3"
  },
  "language_info": {
   "codemirror_mode": {
    "name": "ipython",
    "version": 3
   },
   "file_extension": ".py",
   "mimetype": "text/x-python",
   "name": "python",
   "nbconvert_exporter": "python",
   "pygments_lexer": "ipython3",
   "version": "3.6.1"
  }
 },
 "nbformat": 4,
 "nbformat_minor": 1
}
