{
 "cells": [
  {
   "cell_type": "code",
   "execution_count": null,
   "metadata": {},
   "outputs": [],
   "source": [
    "from __future__ import division\n",
    "from math import pi, sqrt, sin, cos, exp\n",
    "from numpy import linspace, array, tanh, cosh, ones, arctan\n",
    "import numpy as np\n",
    "from scipy.special import erf\n",
    "from scipy.optimize import root\n",
    "\n",
    "from scikits import bvp_solver\n",
    "\n",
    "\n",
    "# from bvp6c import bvp6c, bvpinit, deval\n",
    "# from structure_variable import struct"
   ]
  },
  {
   "cell_type": "code",
   "execution_count": null,
   "metadata": {
    "collapsed": true
   },
   "outputs": [],
   "source": [
    "R = 209\n",
    "beta = 4.26\n",
    "rho0 = 2.704e-3\n",
    "g = 3.2172e-4\n",
    "s = 26600\n",
    "\n",
    "def C_d(u):\n",
    "    return 1.174 - 0.9*cos(u)\n",
    "\n",
    "def C_l(u):\n",
    "    return 0.6*sin(u)"
   ]
  },
  {
   "cell_type": "markdown",
   "metadata": {},
   "source": [
    "# Problem 1"
   ]
  },
  {
   "cell_type": "code",
   "execution_count": null,
   "metadata": {},
   "outputs": [],
   "source": [
    "def ode(x,y):\n",
    "    # Parameters:\n",
    "    # x: independent variable (unused in our ODEs)\n",
    "    # y: vector-valued dependent variable; it is an ndarray\n",
    "    # with shape (7,)\n",
    "    \n",
    "    # Returns:\n",
    "    # ndarray of length (7,) that evalutes the RHS of the ODES\n",
    "    u = arctan((6*y[4])/(9*y[0]*y[3] ))\n",
    "    rho = rho0*exp(-beta*R*y[2])\n",
    "    \n",
    "    G_0 = -s*rho*y[0]**2*C_d(u) - g*sin(y[1])/(1+y[2])**2\n",
    "    G_1 = ( s*rho*y[0]*C_l(u) + y[0]*cos(y[1])/(R*(1 + y[2])) - \n",
    "             g*cos(y[1])/(y[0]*(1+y[2])**2) )\n",
    "    G_2 = y[0]*sin(y[1])/R\n",
    "    G_3 = -( 30*y[0]**2.*sqrt(rho) +\n",
    "             y[3]*(-2*s*rho*y[0]*C_d(u)) +\n",
    "             y[4]*(s*rho*C_l(u) +cos(y[1])/(R*(1 + y[2])) + g*cos(y[1])/(y[0]**2*(1+y[2])**2)) +\n",
    "             y[5]*(sin(y[1])/R) )\n",
    "    G_4 = -( y[3]*(-g*cos(y[1])/(1+y[2])**2) +\n",
    "             y[4]*(-y[0]*sin(y[1])/(R*(1+y[2])) + g*sin(y[1])/(y[0]*(1+y[2])**2)) +\n",
    "             y[5]*(y[0]*cos(y[1])/R ) )\n",
    "    G_5 = -( y[3]*(2*g*sin(y[1])/(1+y[2])**3) +\n",
    "             y[4]*(-y[0]*cos(y[1])/(R*(1+y[2])**2) + 2*g*cos(y[1])/(y[0]*(1+y[2]**3))) ) # Finish this line\n",
    "    G_6 = 0\n",
    "    \n",
    "    out = y[6]*array([G_0, G_1, G_2, G_3, G_4, G_5, G_6])\n",
    "    return out"
   ]
  },
  {
   "cell_type": "markdown",
   "metadata": {},
   "source": [
    "# Problem 2"
   ]
  },
  {
   "cell_type": "code",
   "execution_count": null,
   "metadata": {
    "collapsed": true
   },
   "outputs": [],
   "source": [
    "T0 = 230\n",
    "\n",
    "def ode_auxiliary(t,y):\n",
    "    u = y[3]*erf( y[4]*(y[5]-(1.*t)/T0) )\n",
    "    rho = rho0*exp(-beta*R*y[2])\n",
    "    out = array([-s*rho*y[0]**2*C_d(u) - g*sin(y[1])/(1+y[2])**2,\n",
    "                ( s*rho*y[0]*C_l(u) + y[0]*cos(y[1])/(R*(1 + y[2])) -\n",
    "                    g*cos(y[1])/(y[0]*(1+y[2])**2) ),\n",
    "                y[0]*sin(y[1])/R,\n",
    "                0,\n",
    "                0,\n",
    "                0 ])\n",
    "    return out\n",
    "\n",
    "def bcs_auxiliary(ya,yb):\n",
    "    out1 = array([ ya[0]-.36,\n",
    "                ya[1]+8.1*pi/180,\n",
    "                ya[2]-4/R\n",
    "                ])\n",
    "    out2 = array([ yb[0]-.27,\n",
    "                yb[1],\n",
    "                yb[2]-2.5/R\n",
    "                ])\n",
    "    return out1, out2\n",
    "\n",
    "#This is the actual problem:\n",
    "p1 = 1.3\n",
    "p2 = 4.5\n",
    "p3 = .5\n",
    "def guess_auxiliary(t):\n",
    "    out = array([ .5*(.36+.27)-.5*(.36-.27)*tanh(.025*(t-.45*T0)),\n",
    "                np.pi/180*(.5*(-8.1+0)-.5*(-8.1-0)*tanh(.025*(t-.45*T0))),\n",
    "                1./R*(.5*(4+2.5)-.5*(4-2.5)*tanh(.03*(t-.3*T0)) - 1.4*cosh(.025*(t-.25*T0))**(-2.)),\n",
    "                p1*ones(t.shape),\n",
    "                p2*ones(t.shape),\n",
    "                p3*ones(t.shape) ])\n",
    "    return out"
   ]
  },
  {
   "cell_type": "code",
   "execution_count": null,
   "metadata": {},
   "outputs": [],
   "source": [
    "problem_auxiliary = bvp_solver.ProblemDefinition(num_ODE = 6,\n",
    "                                                num_parameters = 0,\n",
    "                                                num_left_boundary_conditions = 3,\n",
    "                                                boundary_points = (0, T0),\n",
    "                                                function = ode_auxiliary,\n",
    "                                                boundary_conditions = bcs_auxiliary)\n",
    "\n",
    "solution_auxiliary = bvp_solver.solve(problem_auxiliary,solution_guess = guess_auxiliary)\n",
    "\n",
    "N = 240\n",
    "t_guess = linspace(0,T0,N+1)\n",
    "guess = solution_auxiliary(t_guess)"
   ]
  },
  {
   "cell_type": "code",
   "execution_count": null,
   "metadata": {
    "collapsed": true
   },
   "outputs": [],
   "source": []
  }
 ],
 "metadata": {
  "kernelspec": {
   "display_name": "Python 3",
   "language": "python",
   "name": "python3"
  },
  "language_info": {
   "codemirror_mode": {
    "name": "ipython",
    "version": 3
   },
   "file_extension": ".py",
   "mimetype": "text/x-python",
   "name": "python",
   "nbconvert_exporter": "python",
   "pygments_lexer": "ipython3",
   "version": "3.6.1"
  }
 },
 "nbformat": 4,
 "nbformat_minor": 1
}
