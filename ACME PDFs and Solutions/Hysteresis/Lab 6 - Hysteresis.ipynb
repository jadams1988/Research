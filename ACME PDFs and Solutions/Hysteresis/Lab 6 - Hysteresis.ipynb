{
 "cells": [
  {
   "cell_type": "code",
   "execution_count": null,
   "metadata": {
    "collapsed": true
   },
   "outputs": [],
   "source": [
    "import numpy as np\n",
    "import matplotlib.pyplot as plt\n",
    "from scipy.optimize import newton"
   ]
  },
  {
   "cell_type": "markdown",
   "metadata": {},
   "source": [
    "# Problem 1"
   ]
  },
  {
   "cell_type": "code",
   "execution_count": null,
   "metadata": {},
   "outputs": [],
   "source": [
    "def EmbeddingAlg(param_list, guess, F):\n",
    "    X = []\n",
    "    for param in param_list:\n",
    "        try:\n",
    "            x_value = newton(F, guess, fprime=None, args=(param,), tol=1e-7, maxiter=50)\n",
    "            X.append(x_value)\n",
    "            guess = x_value\n",
    "        except RuntimeError:\n",
    "            return param_list[:len(X)], X\n",
    "    return param_list, X\n",
    "\n",
    "def G(x, lmbda):\n",
    "    return lmbda*x - x**3\n",
    "\n",
    "T = np.linspace(5, -5, 401)\n",
    "\n",
    "C1, X1 = EmbeddingAlg(T, np.sqrt(5), G)\n",
    "C2, X2 = EmbeddingAlg(T, -np.sqrt(5), G)\n",
    "C3, X3 = EmbeddingAlg(T, 0, G)\n",
    "\n",
    "plt.plot( C1, X1 )\n",
    "plt.plot( C2, X2 )\n",
    "plt.plot( C3, X3 )\n",
    "plt.xlim(-5,5)\n",
    "plt.ylim(min(min(X1),min(X2),min(X3)), max(max(X1),max(X2),max(X3)))\n",
    "plt.title('$\\dot{x}=\\lambda x - x^3$')\n",
    "plt.show()"
   ]
  },
  {
   "cell_type": "markdown",
   "metadata": {},
   "source": [
    "# Problem 2a\n",
    "#### There are lots of ways to aproach this problem. This first method iterates through the 4 different functions and plots the graphs. The next method pulls in an extra parameter, so it iterates through the 4 $\\eta$ values instead. That was not taught so it is not expected that anyone will have that solution."
   ]
  },
  {
   "cell_type": "code",
   "execution_count": null,
   "metadata": {
    "collapsed": true
   },
   "outputs": [],
   "source": [
    "def f1(x, lmbda):\n",
    "    return -1 + lmbda*x - x**3\n",
    "def f2(x, lmbda):\n",
    "    return -.2 + lmbda*x - x**3\n",
    "def f3(x, lmbda):\n",
    "    return .2 + lmbda*x - x**3\n",
    "def f4(x, lmbda):\n",
    "    return 1 + lmbda*x - x**3\n",
    "\n",
    "def plot_bifurcation(f, eta):\n",
    "    T = np.linspace(5,-5,401)\n",
    "    \n",
    "    C1, X1 = EmbeddingAlg(T, np.sqrt(5), f)\n",
    "    C2, X2 = EmbeddingAlg(T, -np.sqrt(5), f)\n",
    "    C3, X3 = EmbeddingAlg(T, 0, f)\n",
    "\n",
    "    plt.plot( C1, X1 )\n",
    "    plt.plot( C2, X2 )\n",
    "    plt.plot( C3, X3 )\n",
    "    plt.xlim(-5,5)\n",
    "    plt.ylim(-3,3)\n",
    "    plt.title('$\\dot{x}=\\eta+\\lambda x-x^3$, $\\eta =$ ' + str(eta))\n",
    "    plt.show()"
   ]
  },
  {
   "cell_type": "code",
   "execution_count": null,
   "metadata": {},
   "outputs": [],
   "source": [
    "plot_bifurcation(f1, -1)\n",
    "plot_bifurcation(f2, -.2)\n",
    "plot_bifurcation(f3, .2)\n",
    "plot_bifurcation(f4, 1)"
   ]
  },
  {
   "cell_type": "markdown",
   "metadata": {},
   "source": [
    "# Problem 2b - let $\\eta$ be a parameter"
   ]
  },
  {
   "cell_type": "code",
   "execution_count": null,
   "metadata": {
    "collapsed": true
   },
   "outputs": [],
   "source": [
    "def EmbeddingAlg_eta(param_list, guess, eta, F):\n",
    "    X = []\n",
    "    for param in param_list:\n",
    "        try:\n",
    "            x_value = newton(F, guess, fprime=None, args=(param,eta,), tol=1e-7, maxiter=50)\n",
    "            X.append(x_value)\n",
    "            guess = x_value\n",
    "        except RuntimeError:\n",
    "            return param_list[:len(X)], X\n",
    "    return param_list, X\n",
    "\n",
    "def eta_bifurcation(x, lmbda, eta):\n",
    "    return eta + lmbda*x - x**3\n",
    "\n",
    "def plot_eta_bifurcation(f, eta):\n",
    "    T = np.linspace(5,-5,401)\n",
    "    \n",
    "    C1, X1 = EmbeddingAlg_eta(T, np.sqrt(5), eta, f)\n",
    "    C2, X2 = EmbeddingAlg_eta(T, -np.sqrt(5), eta, f)\n",
    "    C3, X3 = EmbeddingAlg_eta(T, 0, eta, f)\n",
    "\n",
    "    plt.plot( C1, X1 )\n",
    "    plt.plot( C2, X2 )\n",
    "    plt.plot( C3, X3 )\n",
    "    plt.xlim(-5,5)\n",
    "    plt.ylim(min(min(X1),min(X2),min(X3)), max(max(X1),max(X2),max(X3)))\n",
    "    plt.title('Eta = ' + str(eta))\n",
    "    plt.show()"
   ]
  },
  {
   "cell_type": "code",
   "execution_count": null,
   "metadata": {
    "collapsed": true
   },
   "outputs": [],
   "source": [
    "for eta in [-1, -.2, .2, 1]:\n",
    "    plot_eta_bifurcation(eta_bifurcation, eta)"
   ]
  },
  {
   "cell_type": "markdown",
   "metadata": {},
   "source": [
    "# Problem 3 - Hysteresis"
   ]
  },
  {
   "cell_type": "code",
   "execution_count": null,
   "metadata": {},
   "outputs": [],
   "source": [
    "r = .56\n",
    "\n",
    "def Hysteresis(x, k):\n",
    "    return r*x*(1 - x/k) - x**2/(1 + x**2)\n",
    "\n",
    "C1, X1 = EmbeddingAlg(np.linspace(2, 15, 200), 5, Hysteresis); plt.plot(C1, X1, '-k')\n",
    "C2, X2 = EmbeddingAlg(np.linspace(15, 2, 200), 8, Hysteresis); plt.plot(C2, X2, '-k')\n",
    "C3, X3 = EmbeddingAlg(np.linspace(8, 12, 200), 3, Hysteresis); plt.plot(C3, X3, '--k')\n",
    "C4, X4 = EmbeddingAlg(np.linspace(8, 4, 200), 3, Hysteresis); plt.plot(C4, X4, '--k')\n",
    "\n",
    "plt.xlim((0, 15))\n",
    "plt.ylim((-5, 15))\n",
    "plt.title(\"Problem 3\")\n",
    "plt.xlabel('k')\n",
    "plt.ylabel('Population y')\n",
    "plt.show()"
   ]
  },
  {
   "cell_type": "code",
   "execution_count": null,
   "metadata": {
    "collapsed": true
   },
   "outputs": [],
   "source": []
  }
 ],
 "metadata": {
  "kernelspec": {
   "display_name": "Python 3",
   "language": "python",
   "name": "python3"
  },
  "language_info": {
   "codemirror_mode": {
    "name": "ipython",
    "version": 3
   },
   "file_extension": ".py",
   "mimetype": "text/x-python",
   "name": "python",
   "nbconvert_exporter": "python",
   "pygments_lexer": "ipython3",
   "version": "3.6.1"
  }
 },
 "nbformat": 4,
 "nbformat_minor": 1
}
