{
 "cells": [
  {
   "cell_type": "code",
   "execution_count": null,
   "metadata": {
    "collapsed": true
   },
   "outputs": [],
   "source": [
    "%matplotlib inline\n",
    "\n",
    "import numpy as np\n",
    "from matplotlib import pyplot as plt\n",
    "from sys import stdout"
   ]
  },
  {
   "cell_type": "markdown",
   "metadata": {},
   "source": [
    "# Preliminaries\n",
    "### Define Euler, Midpoint, and RK4 methods"
   ]
  },
  {
   "cell_type": "code",
   "execution_count": null,
   "metadata": {
    "collapsed": true
   },
   "outputs": [],
   "source": [
    "def initialize_all(a,b,y0,h):\n",
    "    \"\"\"Given an initial and final time a and b, with y(a)=y0, and step size h,\n",
    "    return several things.\n",
    "    \n",
    "    X: an aray from a to b with n elements, where n is the number of steps from a to b.\n",
    "    Y: an empty array of size (n, y.size), Y[0]=y0.\n",
    "    h: the step size.\n",
    "    n: the number of steps to be taken.\n",
    "    \n",
    "    \"\"\"\n",
    "    n = int((b-a)/h+1)\n",
    "    X = np.linspace(a,b,n)\n",
    "    if isinstance(y0,np.ndarray):\n",
    "        Y = np.empty((n, y0.size))\n",
    "    else:\n",
    "        Y = np.empty(n)\n",
    "    Y[0] = y0\n",
    "    return X,Y,h,int(n)"
   ]
  },
  {
   "cell_type": "code",
   "execution_count": null,
   "metadata": {
    "collapsed": true
   },
   "outputs": [],
   "source": [
    "def euler(f,X,Y,h,n):\n",
    "    \"\"\"Use the Euler method to compute an approximate solution\n",
    "    to the ODE y' = f(t, y) over X.\n",
    "\n",
    "    Y[0] = y0\n",
    "    f is assumed to accept two arguments.\n",
    "    The first is a constant giving the value of t.\n",
    "    The second is a one-dimensional numpy array of the same size as y.\n",
    "\n",
    "    This function returns an array Y of shape (n,) if\n",
    "    y is a constant or an array of size 1.\n",
    "    It returns an array of shape (n, y.size) otherwise.\n",
    "    In either case, Y[i] is the approximate value of y at\n",
    "    the i'th value of X.\n",
    "    \"\"\"\n",
    "    for i in range(n-1):\n",
    "        Y[i+1] = Y[i] + h * f(X[i],Y[i])\n",
    "    return Y"
   ]
  },
  {
   "cell_type": "code",
   "execution_count": null,
   "metadata": {
    "collapsed": true
   },
   "outputs": [],
   "source": [
    "def midpoint(f,X,Y,h,n):\n",
    "    \"\"\" Use the midpoint method to compute an approximate solution\n",
    "    to the ODE y' = f(t, y) at n equispaced parameter values over X\n",
    "\n",
    "    Y[0] = y0\n",
    "    f is assumed to accept two arguments.\n",
    "    The first is a constant giving the value of t.\n",
    "    The second is a one-dimensional numpy array of the same size as y.\n",
    "\n",
    "    This function returns an array Y of shape (n,) if\n",
    "    y is a constant or an array of size 1.\n",
    "    It returns an array of shape (n, y.size) otherwise.\n",
    "    In either case, Y[i] is the approximate value of y at\n",
    "    the i'th value of X.\n",
    "    \"\"\"\n",
    "    for i in range(n-1):\n",
    "        Y[i+1] = Y[i]+h*f(X[i]+h/2,Y[i]+h/2*f(X[i],Y[i]))\n",
    "    return Y"
   ]
  },
  {
   "cell_type": "code",
   "execution_count": null,
   "metadata": {
    "collapsed": true
   },
   "outputs": [],
   "source": [
    "def RK4(f,X,Y,h,n):\n",
    "    \"\"\" Use the RK4 method to compute an approximate solution\n",
    "    to the ODE y' = f(t, y) at n equispaced parameter values over X.\n",
    "\n",
    "    Y[0] = y0.\n",
    "    f is assumed to accept two arguments.\n",
    "    The first is a constant giving the value of t.\n",
    "    The second is a one-dimensional numpy array of the same size as y.\n",
    "\n",
    "    This function returns an array Y of shape (n,) if\n",
    "    y is a constant or an array of size 1.\n",
    "    It returns an array of shape (n, y.size) otherwise.\n",
    "    In either case, Y[i] is the approximate value of y at\n",
    "    the i'th value of X.\n",
    "    \"\"\"\n",
    "    for i in range(n-1):\n",
    "        K1 = f(X[i],Y[i])\n",
    "        K2 = f(X[i]+h/2,Y[i]+h/2*K1)\n",
    "        K3 = f(X[i]+h/2,Y[i]+h/2*K2)\n",
    "        K4 = f(X[i+1],Y[i]+h*K3)\n",
    "        Y[i+1] = Y[i] + h/6*(K1+2*K2+2*K3+K4)\n",
    "    return Y"
   ]
  },
  {
   "cell_type": "markdown",
   "metadata": {},
   "source": [
    "# Problem 1"
   ]
  },
  {
   "cell_type": "code",
   "execution_count": null,
   "metadata": {},
   "outputs": [],
   "source": [
    "\"\"\" Test the accuracy of the Euler method using the\n",
    "initial value problem y' - y = 4 - 2x, 0 <= x <= 2, y(0) = 0.\n",
    "Plot your solutions over the given domain with n as 11, 21, and 41.\n",
    "Also plot the exact solution.\n",
    "Show the plot. \"\"\"\n",
    "\n",
    "def sol(x):\n",
    "    return -2 + 2*x + 2*np.exp(x)\n",
    "\n",
    "for i in [.2,.1,.05]:\n",
    "    X,Y,h,n = initialize_all(0,2,0,i)\n",
    "    f = lambda x,y: y-2*x+4\n",
    "    plt.plot(X, euler(f,X,Y,h,n), label=\"h = \"+str(i))\n",
    "\n",
    "X = np.linspace(0,2,41)\n",
    "plt.plot(X, sol(X), '*', color='Black')\n",
    "plt.plot(X, sol(X), color='Black', label='Solution')\n",
    "plt.legend(loc=\"upper left\")\n",
    "    \n",
    "plt.show()"
   ]
  },
  {
   "cell_type": "markdown",
   "metadata": {},
   "source": [
    "# Problem 2"
   ]
  },
  {
   "cell_type": "code",
   "execution_count": null,
   "metadata": {},
   "outputs": [],
   "source": [
    "\"\"\" Compare the convergence rates of Euler's method, the Midpoint\n",
    "method, and the RK4 method. Use n = 11, 21, 41, 81, and 161 gridpoints.\n",
    "Plot the convergence of the methods using a log-log plot, as in\n",
    "Figure 1.3 of the lab. Show the plot.\n",
    "\"\"\"\n",
    "\n",
    "a, b, ya = 0., 2., 0.    #initial conditions\n",
    "\n",
    "def ode_f(x,y):\n",
    "    return np.array([y - 2*x + 4])\n",
    "\n",
    "best_grid = 320        #number of jumps to make\n",
    "h = float((b-a))/best_grid        #find h for a given number of jumps\n",
    "X, Y, h, n = initialize_all(0., 2., 0., h)\n",
    "best_val = euler(ode_f,X,Y,h,n)[-1]        #Compare accuracy of euler() to this value.\n",
    "smaller_grids = [10,20,40,80]\n",
    "h = [2./N for N in smaller_grids]\n",
    "Euler_sol = [euler(ode_f,initialize_all(0.,2.,0.,h[i])[0],initialize_all(0.,2.,0.,h[i])[1],h[i],N+1)[-1] for i,N in enumerate(smaller_grids)] \n",
    "Euler_error = [abs((val-best_val)/float(best_val)) for val in Euler_sol]\n",
    "\n",
    "best_grid = 320\n",
    "h = float((b-a))/best_grid\n",
    "X, Y, h, n = initialize_all(0., 2., 0., h)\n",
    "best_val = midpoint(ode_f,X,Y,h,n)[-1]\n",
    "smaller_grids = [10,20,40,80]\n",
    "h = [2./N for N in smaller_grids]\n",
    "Midpoint_sol = [midpoint(ode_f,initialize_all(0.,2.,0.,h[i])[0],initialize_all(0.,2.,0.,h[i])[1],h[i],N+1)[-1] for i,N in enumerate(smaller_grids)]\n",
    "Midpoint_error = [abs((val-best_val)/float(best_val)) for val in Midpoint_sol]\n",
    "\n",
    "best_grid = 320\n",
    "h = float((b-a))/best_grid\n",
    "X, Y, h, n = initialize_all(0., 2., 0., h)\n",
    "best_val = RK4(ode_f,X,Y,h,n)[-1]\n",
    "smaller_grids = [10,20,40,80]\n",
    "h = [2./N for N in smaller_grids]\n",
    "RK4_sol = [RK4(ode_f,initialize_all(0.,2.,0.,h[i])[0],initialize_all(0.,2.,0.,h[i])[1],h[i],N+1)[-1] for i,N in enumerate(smaller_grids)]\n",
    "RK4_error = [abs((val-best_val)/float(best_val)) for val in RK4_sol]\n",
    "\n",
    "# Code to make the plot look nice\n",
    "plt.loglog(h, Euler_error, label=\"Euler method\",linewidth=2.)\n",
    "plt.loglog(h, Midpoint_error, label=\"Midpoint method\",linewidth=2.)\n",
    "plt.loglog(h, RK4_error, label=\"RK method\",linewidth=2.)\n",
    "plt.legend(loc=0)\n",
    "plt.xlabel('h')\n",
    "plt.ylabel('Relative Error')\n",
    "plt.show()"
   ]
  },
  {
   "cell_type": "markdown",
   "metadata": {},
   "source": [
    "# Problem 3"
   ]
  },
  {
   "cell_type": "code",
   "execution_count": null,
   "metadata": {},
   "outputs": [],
   "source": [
    "\"\"\" Use the RK4 method to solve for the simple harmonic oscillators\n",
    "described in the problem.\n",
    "Plot and show the solutions.\n",
    "\"\"\"\n",
    "\n",
    "X,Y,h,n = initialize_all(0.,20.,np.array([2,-1]),.2)\n",
    "f = lambda x,y:np.array([y[1],-y[0]])\n",
    "Y = RK4(f,X,Y,h,n)\n",
    "plt.plot(X,Y[:,0],label='m=1, k=1')\n",
    "\n",
    "X,Y,h,n = initialize_all(0.,20.,np.array([2,-1]),.2)\n",
    "f = lambda x,y:np.array([y[1],-1./3*y[0]])\n",
    "Y = RK4(f,X,Y,h,n)\n",
    "plt.plot(X,Y[:,0],label='m=3, k=1')\n",
    "\n",
    "plt.xlabel('x')\n",
    "plt.ylabel('y')\n",
    "plt.legend()\n",
    "\n",
    "plt.show()"
   ]
  },
  {
   "cell_type": "markdown",
   "metadata": {},
   "source": [
    "# Problem 4"
   ]
  },
  {
   "cell_type": "code",
   "execution_count": null,
   "metadata": {},
   "outputs": [],
   "source": [
    "\"\"\"Use the RK4 method to solve for the damped harmonic oscillator\n",
    "problem described in the problem about damped harmonic oscillators.\n",
    "Return the array of values at the equispaced points.\n",
    "\"\"\"\n",
    "# Code to graph two different solutions for gamma = 1, .5\n",
    "best_grid = 320\n",
    "X,Y,h,n = initialize_all(0,20,np.array([1,-1]),2./best_grid)\n",
    "gamma = 1\n",
    "f = lambda x,y:np.array([y[1],-gamma*y[1]-y[0]])\n",
    "Y = RK4(f,X,Y,h,n)\n",
    "plt.plot(X,Y[:,0],label='gamma = 1')\n",
    "\n",
    "best_grid = 320\n",
    "X,Y,h,n = initialize_all(0,20,np.array([1,-1]),2./best_grid)\n",
    "gamma = .5\n",
    "#f = lambda x,y:np.array([y[1],-gamma*y[1]-y[0]])\n",
    "Y = RK4(f,X,Y,h,n)\n",
    "plt.plot(X,Y[:,0],label='gamma = .5')\n",
    "\n",
    "plt.legend(loc='upper right')\n",
    "\n",
    "\n",
    "# Code to find the number of iterations needed to reduce relative error\n",
    "best_val = Y[-1,0]    # First find the right solution (according to our approximation)\n",
    "n=10    # Start at small number of steps and work up.\n",
    "X,Y,h,n = initialize_all(0,20,np.array([1,-1]),2./n)\n",
    "approx_val = RK4(f,X,Y,h,n)[-1,0]\n",
    "while (np.abs(best_val-approx_val)/best_val)>.00005:    # While our solution is not close, increase the number of steps\n",
    "    n+=1\n",
    "    X,Y,h,n = initialize_all(0,20,np.array([1,-1]),20./n)\n",
    "    approx_val = RK4(f,X,Y,h,n)[-1,0]\n",
    "print(approx_val)"
   ]
  },
  {
   "cell_type": "markdown",
   "metadata": {
    "collapsed": true
   },
   "source": [
    "# Problem 5"
   ]
  },
  {
   "cell_type": "code",
   "execution_count": null,
   "metadata": {},
   "outputs": [],
   "source": [
    "\"\"\"Use the RK4 method to solve for the damped and forced harmonic\n",
    "oscillator problem.\n",
    "Return the array of values at the n equally spaced points.\n",
    "Plot and show your solution.\n",
    "\"\"\"\n",
    "def f(x,y):\n",
    "    return np.array([y[1], np.cos(omega*x) - (gamma/2.)*y[1] - y[0]])\n",
    "\n",
    "best_grid = 320\n",
    "X,Y,h,n = initialize_all(0,40,np.array([1,-1]),2./best_grid)\n",
    "gamma, omega = .5, 1.5\n",
    "Y = RK4(f,X,Y,h,n)\n",
    "print('For gamma=0.5 and omega=1.5, y(40)='+str(Y[-1,0]))\n",
    "plt.plot(X,Y[:,0],label='gamma=0.5, omega=1.5')\n",
    "\n",
    "best_grid = 320\n",
    "X,Y,h,n = initialize_all(0,40,np.array([1,-1]),2./best_grid)\n",
    "gamma, omega = .1, 1.1\n",
    "Y = RK4(f,X,Y,h,n)\n",
    "print('For gamma=0.1 and omega=1.1, y(40)='+str(Y[-1,0]))\n",
    "plt.plot(X,Y[:,0],label='gamma=0.1, omega=1.1')\n",
    "\n",
    "best_grid = 320\n",
    "X,Y,h,n = initialize_all(0,40,np.array([1,-1]),2./best_grid)\n",
    "gamma, omega = 0, 1.\n",
    "Y = RK4(f,X,Y,h,n)\n",
    "print('For gamma=0 and omega=1, y(40)='+str(Y[-1,0]))\n",
    "plt.plot(X,Y[:,0],label='gamma=0, omega=1')\n",
    "\n",
    "plt.xlabel('x')\n",
    "plt.ylabel('y')\n",
    "plt.legend(loc='upper left')\n",
    "plt.show()"
   ]
  },
  {
   "cell_type": "code",
   "execution_count": null,
   "metadata": {
    "collapsed": true
   },
   "outputs": [],
   "source": []
  }
 ],
 "metadata": {
  "kernelspec": {
   "display_name": "Python 3",
   "language": "python",
   "name": "python3"
  },
  "language_info": {
   "codemirror_mode": {
    "name": "ipython",
    "version": 3
   },
   "file_extension": ".py",
   "mimetype": "text/x-python",
   "name": "python",
   "nbconvert_exporter": "python",
   "pygments_lexer": "ipython3",
   "version": "3.6.1"
  }
 },
 "nbformat": 4,
 "nbformat_minor": 1
}
