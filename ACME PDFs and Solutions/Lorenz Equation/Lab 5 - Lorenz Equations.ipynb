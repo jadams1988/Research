{
 "cells": [
  {
   "cell_type": "markdown",
   "metadata": {},
   "source": [
    "# Preliminaries"
   ]
  },
  {
   "cell_type": "code",
   "execution_count": null,
   "metadata": {
    "collapsed": true
   },
   "outputs": [],
   "source": [
    "# DO NOT USE %matplotlib inline\n",
    "\n",
    "import numpy as np\n",
    "from scipy.integrate import odeint\n",
    "from matplotlib import rcParams, pyplot as plt\n",
    "from mpl_toolkits.mplot3d import Axes3D\n",
    "rcParams['figure.figsize'] = (16,10)    # change the size if the pictures are too big\n",
    "\n",
    "# implement the following if graphs turn out funny. 'tkagg' is another option\n",
    "plt.switch_backend('qt5agg')    # qt5agg pops graphs out into interactive mode"
   ]
  },
  {
   "cell_type": "code",
   "execution_count": null,
   "metadata": {
    "collapsed": true
   },
   "outputs": [],
   "source": [
    "initial = np.random.randint(-15,15,3)\n",
    "sigma = 10.\n",
    "beta = 8./3\n",
    "rho = 28.\n",
    "\n",
    "def lorenz_ode(inputs,T):\n",
    "    X, Y, Z = inputs\n",
    "    Xprime = sigma *(Y - X)\n",
    "    Yprime = rho * X - Y - X * Z\n",
    "    Zprime = X * Y - beta * Z\n",
    "    return Xprime,Yprime,Zprime\n",
    "\n",
    "def solve_lorenz(init_cond,T=10):\n",
    "    X = np.linspace(0,T,T*100)\n",
    "    XYZ = odeint(lorenz_ode, init_cond, X).T\n",
    "    return XYZ"
   ]
  },
  {
   "cell_type": "markdown",
   "metadata": {},
   "source": [
    "# Problem 1"
   ]
  },
  {
   "cell_type": "code",
   "execution_count": null,
   "metadata": {},
   "outputs": [],
   "source": [
    "# Plot a single solution\n",
    "X, Y, Z = solve_lorenz(initial, T=50)\n",
    "\n",
    "fig = plt.figure()\n",
    "ax = fig.gca(projection='3d')\n",
    "ax.plot(X, Y, Z)\n",
    "ax.set_xlabel('X')\n",
    "ax.set_ylabel('Y')\n",
    "ax.set_zlabel('Z')\n",
    "ax.set_xlim3d([min(X), max(X)])\n",
    "ax.set_ylim3d([min(Y), max(Y)])\n",
    "ax.set_zlim3d([min(Z), max(Z)])\n",
    "\n",
    "plt.show()"
   ]
  },
  {
   "cell_type": "markdown",
   "metadata": {},
   "source": [
    "# Problem 2"
   ]
  },
  {
   "cell_type": "code",
   "execution_count": null,
   "metadata": {},
   "outputs": [],
   "source": [
    "fig = plt.figure()\n",
    "ax = fig.gca(projection='3d')\n",
    "ax.set_xlabel('X')\n",
    "ax.set_ylabel('Y')\n",
    "ax.set_zlabel('Z')\n",
    "\n",
    "# plot n figures at a time\n",
    "n=3\n",
    "for i in range(n):\n",
    "    init_cond = np.random.randint(-15,15,3)\n",
    "    X, Y, Z = solve_lorenz(init_cond,50)\n",
    "    ax.plot( X, Y, Z , label='Solution '+str(i+1) )\n",
    "\n",
    "plt.legend(loc=0)\n",
    "plt.show()"
   ]
  },
  {
   "cell_type": "markdown",
   "metadata": {},
   "source": [
    "# Problem 3"
   ]
  },
  {
   "cell_type": "code",
   "execution_count": null,
   "metadata": {},
   "outputs": [],
   "source": [
    "fig = plt.figure()\n",
    "ax = fig.gca(projection='3d')\n",
    "ax.set_xlabel('X')\n",
    "ax.set_ylabel('Y')\n",
    "ax.set_zlabel('Z')\n",
    "\n",
    "init_cond = np.random.randint(-15,15,3)\n",
    "X, Y, Z = solve_lorenz(init_cond, 50)\n",
    "ax.plot(X, Y, Z, color='r', label='Original')\n",
    "\n",
    "init_cond = init_cond+np.random.randn(3)*10**-5\n",
    "X, Y, Z = solve_lorenz(init_cond, 50)\n",
    "ax.plot(X,Y,Z,color='g', label='Perturbed')\n",
    "\n",
    "plt.legend(loc=0)\n",
    "plt.show()"
   ]
  },
  {
   "cell_type": "markdown",
   "metadata": {},
   "source": [
    "# Problem 4"
   ]
  },
  {
   "cell_type": "code",
   "execution_count": null,
   "metadata": {
    "collapsed": true
   },
   "outputs": [],
   "source": [
    "from matplotlib.animation import FuncAnimation\n",
    "\n",
    "fig = plt.figure()\n",
    "ax = fig.gca(projection='3d')\n",
    "ax.set_xlabel('X')\n",
    "ax.set_ylabel('Y')\n",
    "ax.set_zlabel('Z')\n",
    "\n",
    "init_cond_1 = np.random.randint(-15,15,3)\n",
    "init_cond_2 = init_cond_1 + np.random.randn(3)*1E-3\n",
    "\n",
    "X1, Y1, Z1 = solve_lorenz(init_cond_1,50)\n",
    "X2, Y2, Z2 = solve_lorenz(init_cond_2,50)\n",
    "\n",
    "xmax = max(max(X1),max(X2))\n",
    "xmin = min(min(X1),min(X2))\n",
    "ymax = max(max(Y1),max(Y2))\n",
    "ymin = min(min(Y1),min(Y2))\n",
    "zmax = max(max(Z1),max(Z2))\n",
    "zmin = min(min(Z1),min(Z2))\n",
    "\n",
    "ax.set_xlim3d([xmin, xmax]) #Bounds the axes nicely\n",
    "ax.set_ylim3d([ymin, ymax])\n",
    "ax.set_zlim3d([zmin, zmax])\n",
    "\n",
    "cond1_drawing, = ax.plot([],[],[],label='Original')\n",
    "cond2_drawing, = ax.plot([],[],[],label='Perturbed')\n",
    "\n",
    "def update(index):\n",
    "    cond1_drawing.set_data(X1[:index],Y1[:index])\n",
    "    cond1_drawing.set_3d_properties(Z1[:index])\n",
    "    cond2_drawing.set_data(X2[:index],Y2[:index])\n",
    "    cond2_drawing.set_3d_properties(Z2[:index])\n",
    "    return cond1_drawing, cond2_drawing,\n",
    "\n",
    "a = FuncAnimation(fig, update, 5000, interval=2)\n",
    "\n",
    "plt.legend(loc=0)\n",
    "plt.show()"
   ]
  },
  {
   "cell_type": "markdown",
   "metadata": {},
   "source": [
    "# Problem 5"
   ]
  },
  {
   "cell_type": "code",
   "execution_count": null,
   "metadata": {
    "collapsed": true
   },
   "outputs": [],
   "source": [
    "# Want a new function which allows input of a_tol and r_tol values. Could have instantiated this before.\n",
    "def solve_lorenz(init_cond,T=10,a_tol=None,r_tol=None):\n",
    "    atol = a_tol\n",
    "    rtol = r_tol\n",
    "    X = np.linspace(0,T,T*100)\n",
    "    XYZ = odeint(lorenz_ode, init_cond, X, atol=atol, rtol=rtol).T\n",
    "    return XYZ\n",
    "\n",
    "fig = plt.figure()\n",
    "ax = fig.gca(projection='3d')\n",
    "ax.set_xlabel('X')\n",
    "ax.set_ylabel('Y')\n",
    "ax.set_zlabel('Z')\n",
    "\n",
    "init_cond_1 = np.random.randint(-15,15,3)\n",
    "\n",
    "X1, Y1, Z1 = solve_lorenz(init_cond_1,50)\n",
    "X2, Y2, Z2 = solve_lorenz(init_cond_1,50,1e-15,1e-13)\n",
    "\n",
    "xmax = max(max(X1),max(X2))\n",
    "xmin = min(min(X1),min(X2))\n",
    "ymax = max(max(Y1),max(Y2))\n",
    "ymin = min(min(Y1),min(Y2))\n",
    "zmax = max(max(Z1),max(Z2))\n",
    "zmin = min(min(Z1),min(Z2))\n",
    "\n",
    "ax.set_xlim3d([xmin, xmax]) #Bounds the axes nicely\n",
    "ax.set_ylim3d([ymin, ymax])\n",
    "ax.set_zlim3d([zmin, zmax])\n",
    "\n",
    "cond1_drawing, = ax.plot([],[],[],label='Tolerance 1')\n",
    "cond2_drawing, = ax.plot([],[],[],label='Tolerance 2')\n",
    "\n",
    "def update(index):\n",
    "    cond1_drawing.set_data(X1[:index],Y1[:index])\n",
    "    cond1_drawing.set_3d_properties(Z1[:index])\n",
    "    cond2_drawing.set_data(X2[:index],Y2[:index])\n",
    "    cond2_drawing.set_3d_properties(Z2[:index])\n",
    "    return cond1_drawing, cond2_drawing,\n",
    "\n",
    "a = FuncAnimation(fig, update, 5000, interval=2)\n",
    "\n",
    "plt.legend(loc=0)\n",
    "plt.show()"
   ]
  },
  {
   "cell_type": "markdown",
   "metadata": {},
   "source": [
    "# Problem 6"
   ]
  },
  {
   "cell_type": "code",
   "execution_count": null,
   "metadata": {
    "collapsed": true
   },
   "outputs": [],
   "source": [
    "from scipy import linalg as la\n",
    "from scipy.stats import linregress\n",
    "\n",
    "t=10\n",
    "init_cond_1 = np.random.randint(-15,15,3)\n",
    "\n",
    "init_cond_1 = solve_lorenz(init_cond_1,t).T[-1]    #This makes sure that the solution is close to the attractor\n",
    "init_cond_2 = init_cond_1 + np.random.randn(3)*1E-5\n",
    "\n",
    "X1, Y1, Z1 = solve_lorenz(init_cond_1,t)\n",
    "X2, Y2, Z2 = solve_lorenz(init_cond_2,t)\n",
    "\n",
    "Sol1 = np.array([X1, Y1, Z1])\n",
    "Sol2 = np.array([X2, Y2, Z2])\n",
    "\n",
    "norms = la.norm(Sol1-Sol2, axis=0)\n",
    "\n",
    "t = np.linspace(0,t,t*100)\n",
    "plt.semilogy(t, norms)\n",
    "\n",
    "slope, intercept, r_value, p_value, std_err = linregress(t, np.log(norms))\n",
    "y_approx = slope*t + intercept\n",
    "plt.semilogy(t, np.exp(y_approx))\n",
    "title = 'lambda = '+str(slope)\n",
    "plt.title(title)\n",
    "plt.show()\n"
   ]
  },
  {
   "cell_type": "code",
   "execution_count": null,
   "metadata": {
    "collapsed": true
   },
   "outputs": [],
   "source": []
  }
 ],
 "metadata": {
  "kernelspec": {
   "display_name": "Python 3",
   "language": "python",
   "name": "python3"
  },
  "language_info": {
   "codemirror_mode": {
    "name": "ipython",
    "version": 3
   },
   "file_extension": ".py",
   "mimetype": "text/x-python",
   "name": "python",
   "nbconvert_exporter": "python",
   "pygments_lexer": "ipython3",
   "version": "3.6.1"
  }
 },
 "nbformat": 4,
 "nbformat_minor": 1
}
