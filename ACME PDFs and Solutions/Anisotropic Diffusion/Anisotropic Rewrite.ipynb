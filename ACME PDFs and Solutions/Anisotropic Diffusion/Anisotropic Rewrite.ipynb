{
 "cells": [
  {
   "cell_type": "code",
   "execution_count": null,
   "metadata": {
    "collapsed": true
   },
   "outputs": [],
   "source": [
    "import numpy as np\n",
    "from matplotlib import cm, pyplot as plt\n",
    "from scipy.misc import imread, imsave\n",
    "from numpy.random import randint\n",
    "plt.rcParams['figure.figsize'] = (16,10)"
   ]
  },
  {
   "cell_type": "markdown",
   "metadata": {},
   "source": [
    "# Problem 1"
   ]
  },
  {
   "cell_type": "code",
   "execution_count": null,
   "metadata": {
    "collapsed": true
   },
   "outputs": [],
   "source": [
    "def anisdiff_bw(U, N, lambda_, g):\n",
    "    UNew = U.copy()\n",
    "    for i in range(N):\n",
    "        vert_diff = U[:-1] - U[1:]    # top - bottom\n",
    "        UNew[:-1] -= lambda_ * g(-vert_diff) * vert_diff\n",
    "        UNew[1:] += lambda_ * g(vert_diff) * vert_diff\n",
    "        \n",
    "        horz_diff = U[:,:-1] - U[:,1:]    # left - right\n",
    "        UNew[:,:-1] -= lambda_ * g(-horz_diff) * horz_diff\n",
    "        UNew[:,1:] += lambda_ * g(horz_diff) * horz_diff\n",
    "        \n",
    "        U[:] = UNew"
   ]
  },
  {
   "cell_type": "code",
   "execution_count": null,
   "metadata": {},
   "outputs": [],
   "source": [
    "balloon = 'balloon.jpg'\n",
    "lambda_ = .25\n",
    "sigma = .1\n",
    "\n",
    "def g(x):\n",
    "    return np.exp(-(x/sigma)**2)\n",
    "\n",
    "print('Original')\n",
    "U = imread(balloon, flatten=True)*(1./255)\n",
    "plt.imshow(U, cmap=cm.gray)\n",
    "plt.show()\n",
    "\n",
    "for N in [5, 20, 100]:\n",
    "    print('N =', N)\n",
    "    U = imread(balloon, flatten=True)*(1./255)\n",
    "    anisdiff_bw(U, N, lambda_, g)\n",
    "    plt.imshow(U, cmap=cm.gray)\n",
    "    plt.show()"
   ]
  },
  {
   "cell_type": "markdown",
   "metadata": {},
   "source": [
    "# Problem 2"
   ]
  },
  {
   "cell_type": "code",
   "execution_count": null,
   "metadata": {
    "collapsed": true
   },
   "outputs": [],
   "source": [
    "def anisdiff_color(U, N, lambda_, sigma):\n",
    "    def g(x):\n",
    "        norm = np.sqrt(np.sum(x**2, axis=2, keepdims=True))\n",
    "        return np.exp(-norm**2/sigma**2)\n",
    "    \n",
    "    UNew = U.copy()\n",
    "    for i in range(N):\n",
    "        vert_diff = U[:-1] - U[1:]    # top - bottom\n",
    "        UNew[:-1] -= lambda_ * g(-vert_diff) * vert_diff\n",
    "        UNew[1:] += lambda_ * g(vert_diff) * vert_diff\n",
    "        \n",
    "        horz_diff = U[:,:-1] - U[:,1:]    # left - right\n",
    "        UNew[:,:-1] -= lambda_ * g(-horz_diff) * horz_diff\n",
    "        UNew[:,1:] += lambda_ * g(horz_diff) * horz_diff\n",
    "        \n",
    "        U[:] = UNew"
   ]
  },
  {
   "cell_type": "code",
   "execution_count": null,
   "metadata": {
    "scrolled": false
   },
   "outputs": [],
   "source": [
    "balloons_color = 'balloons_color.jpg'\n",
    "lambda_ = .25\n",
    "sigma = .1\n",
    "\n",
    "print('Original')\n",
    "U = imread(balloons_color)*(1./255)\n",
    "plt.imshow(U)\n",
    "plt.show()\n",
    "\n",
    "for N in [5, 20, 100]:\n",
    "    print('N =', N)\n",
    "    U = imread(balloons_color)*(1./255)\n",
    "    anisdiff_color(U, N, lambda_, sigma)\n",
    "    plt.imshow(U)\n",
    "    plt.show()"
   ]
  },
  {
   "cell_type": "markdown",
   "metadata": {},
   "source": [
    "# Problem 3"
   ]
  },
  {
   "cell_type": "code",
   "execution_count": null,
   "metadata": {
    "scrolled": false
   },
   "outputs": [],
   "source": [
    "balloon = 'balloon.jpg'\n",
    "lambda_ = .25\n",
    "sigma = .1\n",
    "\n",
    "def g(x):\n",
    "    return np.exp(-(x/sigma)**2)\n",
    "\n",
    "print('Original')\n",
    "U = imread(balloon, flatten=True)\n",
    "x, y = U.shape\n",
    "for i in range(x*y//100):\n",
    "    U[randint(x),randint(y)] = 127 + randint(127)\n",
    "U = U*(1./225)\n",
    "plt.imshow(U, cmap=cm.gray)\n",
    "plt.show()\n",
    "\n",
    "for N in [5, 20, 100]:\n",
    "    print('N =', N)\n",
    "    V = U.copy()\n",
    "    anisdiff_bw(V, N, lambda_, g)\n",
    "    plt.imshow(V, cmap=cm.gray)\n",
    "    plt.show()"
   ]
  },
  {
   "cell_type": "code",
   "execution_count": null,
   "metadata": {
    "collapsed": true
   },
   "outputs": [],
   "source": []
  }
 ],
 "metadata": {
  "kernelspec": {
   "display_name": "Python 3",
   "language": "python",
   "name": "python3"
  },
  "language_info": {
   "codemirror_mode": {
    "name": "ipython",
    "version": 3
   },
   "file_extension": ".py",
   "mimetype": "text/x-python",
   "name": "python",
   "nbconvert_exporter": "python",
   "pygments_lexer": "ipython3",
   "version": "3.6.1"
  }
 },
 "nbformat": 4,
 "nbformat_minor": 2
}
