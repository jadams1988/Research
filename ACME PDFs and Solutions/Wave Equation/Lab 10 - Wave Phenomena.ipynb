{
 "cells": [
  {
   "cell_type": "code",
   "execution_count": null,
   "metadata": {
    "collapsed": true
   },
   "outputs": [],
   "source": [
    "import numpy as np\n",
    "from matplotlib import animation, pyplot as plt\n",
    "plt.switch_backend('qt5agg')"
   ]
  },
  {
   "cell_type": "markdown",
   "metadata": {},
   "source": [
    "# Alternate Problem 1\n",
    "#### Function form"
   ]
  },
  {
   "cell_type": "code",
   "execution_count": null,
   "metadata": {
    "collapsed": true
   },
   "outputs": [],
   "source": [
    "def animate_wave(s, f, g, x_steps, t_steps, x0, x1, t0, t1, speed):\n",
    "    delta_t = float(t1-t0)/t_steps\n",
    "    delta_x = float(x1-x0)/x_steps\n",
    "    lambda_ = s*delta_t/delta_x\n",
    "\n",
    "    x_int = np.linspace(x0, x1, x_steps+1)\n",
    "    t_int = np.linspace(t0, t1, t_steps+1)\n",
    "\n",
    "    U = np.zeros((t_steps+1,x_steps+1))\n",
    "\n",
    "    A = np.zeros((x_steps-1,x_steps-1))\n",
    "    off_diag = np.ones(x_steps-2)*lambda_**2\n",
    "    diag = np.ones(x_steps-1)*2*(1-lambda_**2)\n",
    "    A += np.diag(diag,0) + np.diag(off_diag,1) + np.diag(off_diag,-1)\n",
    "    \n",
    "    U[0] = f(x_int)\n",
    "    U[1,1:-1] = U[0,1:-1] + g(x_int[1:-1])*delta_t + lambda_**2/2*(U[0,:-2]-2*U[0,1:-1]+U[0,2:])\n",
    "    \n",
    "    for j in range(t_steps-1):\n",
    "        U[j+2,1:-1] = A.dot(U[j+1,1:-1]) - U[j,1:-1]\n",
    "    \n",
    "    im = plt.figure()\n",
    "    plt.axes(xlim=(0,1),ylim=(-1,1))\n",
    "    line, = plt.plot([],[])\n",
    "    \n",
    "    def animate(i):\n",
    "        line.set_data(x_int,U[i])\n",
    "        return line,\n",
    "    a = animation.FuncAnimation(im, animate, frames=U.shape[0], interval=speed)\n",
    "    plt.show()\n",
    "\n",
    "def f(x):\n",
    "    return np.sin(2*np.pi*x)\n",
    "\n",
    "def g(x):\n",
    "    return 0*x\n",
    "\n",
    "animate_wave(1,f,g,50,50,0,1,0,.5,30)"
   ]
  },
  {
   "cell_type": "markdown",
   "metadata": {},
   "source": [
    "# Problem 1"
   ]
  },
  {
   "cell_type": "code",
   "execution_count": null,
   "metadata": {
    "collapsed": true
   },
   "outputs": [],
   "source": [
    "def f(x):\n",
    "    return np.sin(2*np.pi*x)\n",
    "\n",
    "def g(x):\n",
    "    return 0*x\n",
    "\n",
    "# u_tt = s^2*u_xx\n",
    "s = 1\n",
    "\n",
    "x_steps = 50\n",
    "t_steps = 50\n",
    "x0 = 0\n",
    "x1 = 1\n",
    "t0 = 0\n",
    "t1 = .5   #This is where we want to end\n",
    "\n",
    "delta_t = float(t1-t0)/t_steps\n",
    "delta_x = float(x1-x0)/x_steps\n",
    "lambda_ = s*delta_t/delta_x\n",
    "\n",
    "x_int = np.linspace(x0, x1, x_steps+1)\n",
    "t_int = np.linspace(t0, t1, t_steps+1)\n",
    "\n",
    "U = np.zeros((t_steps+1,x_steps+1))\n",
    "\n",
    "A = np.zeros((x_steps-1,x_steps-1))\n",
    "off_diag = np.ones(x_steps-2)*lambda_**2\n",
    "diag = np.ones(x_steps-1)*2*(1-lambda_**2)\n",
    "A += np.diag(diag,0) + np.diag(off_diag,1) + np.diag(off_diag,-1)\n",
    "\n",
    "U[0] = f(x_int)\n",
    "U[1,1:-1] = U[0,1:-1] + g(x_int[1:-1])*delta_t + lambda_**2/2*(U[0,:-2]-2*U[0,1:-1]+U[0,2:])\n",
    "\n",
    "for j in range(t_steps-1):\n",
    "    U[j+2,1:-1] = A.dot(U[j+1,1:-1]) - U[j,1:-1]\n",
    "\n",
    "def prob1():\n",
    "    im = plt.figure()\n",
    "    plt.axes(xlim=(0,1),ylim=(-1,1))\n",
    "    line, = plt.plot([],[])\n",
    "    \n",
    "    x = np.linspace(0,1,x_steps+1)\n",
    "    \n",
    "    def animate(i):\n",
    "        line.set_data(x,U[i])\n",
    "        return line,\n",
    "    a = animation.FuncAnimation(im, animate, frames=U.shape[0], interval=30)\n",
    "    plt.show()\n",
    "prob1()"
   ]
  },
  {
   "cell_type": "code",
   "execution_count": null,
   "metadata": {
    "collapsed": true
   },
   "outputs": [],
   "source": [
    "# plt.axes(xlim=(0,1),ylim=(-1,1))\n",
    "# x = np.linspace(0,1,x_steps+1)\n",
    "# plt.plot(x,U[0])\n",
    "# plt.savefig('prob1.pdf')\n",
    "# plt.show()"
   ]
  },
  {
   "cell_type": "markdown",
   "metadata": {},
   "source": [
    "# Problem 2 - stable"
   ]
  },
  {
   "cell_type": "code",
   "execution_count": null,
   "metadata": {
    "collapsed": true
   },
   "outputs": [],
   "source": [
    "# u_tt = u_xx\n",
    "m=20\n",
    "\n",
    "def f(x):\n",
    "    return .2*np.exp(-m**2*(x-.5)**2)\n",
    "def g(x):\n",
    "    return .4*m**2*(x-.5)*np.exp(-m**2*(x-.5)**2)\n",
    "\n",
    "animate_wave(1,f,g,200,220,0,1,0,1,30)"
   ]
  },
  {
   "cell_type": "code",
   "execution_count": null,
   "metadata": {
    "collapsed": true
   },
   "outputs": [],
   "source": [
    "# plt.axes(xlim=(0,1),ylim=(-1,1))\n",
    "# x = np.linspace(0,1,201)\n",
    "# plt.plot(x,f(x))\n",
    "# plt.savefig('prob2.pdf')\n",
    "# plt.show()"
   ]
  },
  {
   "cell_type": "markdown",
   "metadata": {},
   "source": [
    "# Problem 2 - unstable"
   ]
  },
  {
   "cell_type": "code",
   "execution_count": null,
   "metadata": {
    "collapsed": true
   },
   "outputs": [],
   "source": [
    "animate_wave(1,f,g,200,180,0,1,0,1,30)"
   ]
  },
  {
   "cell_type": "markdown",
   "metadata": {},
   "source": [
    "# Problem 3"
   ]
  },
  {
   "cell_type": "code",
   "execution_count": null,
   "metadata": {
    "collapsed": true
   },
   "outputs": [],
   "source": [
    "m = 20\n",
    "\n",
    "def f(x):\n",
    "    return .2*np.exp(-m**2*(x-.5)**2)\n",
    "def g(x):\n",
    "    return 0*x\n",
    "\n",
    "animate_wave(1,f,g,200,440,0,1,0,2,30)"
   ]
  },
  {
   "cell_type": "markdown",
   "metadata": {},
   "source": [
    "# Problem 4"
   ]
  },
  {
   "cell_type": "code",
   "execution_count": null,
   "metadata": {
    "collapsed": true
   },
   "outputs": [],
   "source": [
    "def f(x):\n",
    "    return [1./3 if i<6./11 and i>5./11 else 0 for i in x]\n",
    "def g(x):\n",
    "    return 0*x\n",
    "\n",
    "animate_wave(1,f,g,200,440,0,1,0,2,30)"
   ]
  },
  {
   "cell_type": "code",
   "execution_count": null,
   "metadata": {
    "collapsed": true
   },
   "outputs": [],
   "source": [
    "# plt.axes(xlim=(0,1),ylim=(-1,1))\n",
    "# x = np.linspace(0,1,201)\n",
    "# plt.plot(x,f(x))\n",
    "# plt.savefig('prob4.pdf')\n",
    "# plt.show()"
   ]
  },
  {
   "cell_type": "code",
   "execution_count": null,
   "metadata": {
    "collapsed": true
   },
   "outputs": [],
   "source": [
    "# u_tt = s^2*u_xx\n",
    "# s = 1\n",
    "\n",
    "# x_steps = 200\n",
    "# t_steps = 440\n",
    "# x0 = 0\n",
    "# x1 = 1\n",
    "# t0 = 0\n",
    "# t1 = 2   #This is where we want to end\n",
    "\n",
    "# delta_t = float(t1-t0)/t_steps\n",
    "# delta_x = float(x1-x0)/x_steps\n",
    "# lambda_ = s*delta_t/delta_x\n",
    "\n",
    "# x_int = np.linspace(x0, x1, x_steps+1)\n",
    "# t_int = np.linspace(t0, t1, t_steps+1)\n",
    "\n",
    "# U = np.zeros((t_steps+1,x_steps+1))\n",
    "\n",
    "# A = np.zeros((x_steps-1,x_steps-1))\n",
    "# off_diag = np.ones(x_steps-2)*lambda_**2\n",
    "# diag = np.ones(x_steps-1)*2*(1-lambda_**2)\n",
    "# A += np.diag(diag,0) + np.diag(off_diag,1) + np.diag(off_diag,-1)\n",
    "\n",
    "# U[0] = f(x_int)\n",
    "# U[1,1:-1] = U[0,1:-1] + g(x_int[1:-1])*delta_t + lambda_**2/2*(U[0,:-2]-2*U[0,1:-1]+U[0,2:])\n",
    "\n",
    "# for j in range(t_steps-1):\n",
    "#     U[j+2,1:-1] = A.dot(U[j+1,1:-1]) - U[j,1:-1]\n",
    "\n",
    "# plt.axes(xlim=(0,1),ylim=(-1,1))\n",
    "# x = np.linspace(0,1,201)\n",
    "# plt.plot(x,U[21])\n",
    "# plt.savefig('prob4_t1.pdf')"
   ]
  },
  {
   "cell_type": "markdown",
   "metadata": {},
   "source": [
    "# Problem 5"
   ]
  },
  {
   "cell_type": "code",
   "execution_count": null,
   "metadata": {
    "collapsed": true
   },
   "outputs": [],
   "source": [
    "from scipy.optimize import fsolve\n",
    "\n",
    "def f(x,u_prev,s,K1,K2):\n",
    "    out = np.zeros_like(u_prev)\n",
    "    out[1:-1] = x[1:-1] - u_prev[1:-1] - K1*((s-x[1:-1])*(x[2:]-x[:-2]) + \n",
    "                                        (s-u_prev[1:-1])*(u_prev[2:]-u_prev[:-2])) - K2*((x[2:] - 2*x[1:-1] + x[:-2]) + (u_prev[2:] - 2*u_prev[1:-1] + u_prev[:-2]))\n",
    "    out[0] = x[0] - u_prev[0]\n",
    "    out[-1] = x[-1] - u_prev[-1]\n",
    "    return out\n",
    "\n",
    "u_p = 1\n",
    "u_m = 5\n",
    "s = float(u_m + u_p)/2\n",
    "a = float(u_m - u_p)/2\n",
    "\n",
    "def v(x):\n",
    "    return 3.5*(np.sin(3*x)+1)*1./np.sqrt(2*np.pi)*np.exp(-x**2/2.)\n",
    "\n",
    "def u_tilda(x):\n",
    "    return s - a*np.tanh(a*x/2)\n",
    "\n",
    "x0 = -20\n",
    "x1 = 20\n",
    "x_steps = 150\n",
    "x_int = np.linspace(x0,x1,x_steps+1)\n",
    "delta_x = float(x1-x0)/x_steps\n",
    "\n",
    "t0 = 0\n",
    "t1 = 1\n",
    "t_steps = 350\n",
    "t_int = np.linspace(t0,t1,t_steps+1)\n",
    "delta_t = float(t1-t0)/t_steps\n",
    "\n",
    "K1 = delta_t/(4*delta_x)\n",
    "K2 = delta_t/(2*delta_x**2)\n",
    "\n",
    "U = np.zeros((t_steps+1,x_steps+1))\n",
    "U[0] = u_tilda(x_int) + v(x_int)\n",
    "U[0,0] = u_m\n",
    "U[0,-1] = u_p\n",
    "\n",
    "for j in range(t_steps):\n",
    "    U[j+1] = fsolve(f,U[j],args=(U[j],s,K1,K2))\n",
    "\n",
    "im = plt.figure()\n",
    "plt.axes(xlim=(x0,x1),ylim=(u_p-1,u_m+1))\n",
    "line, = plt.plot([],[])\n",
    "\n",
    "def animate(i):\n",
    "    line.set_data(x_int,U[i])\n",
    "    return line,\n",
    "an = animation.FuncAnimation(im, animate, frames=U.shape[0], interval=5)\n",
    "plt.show()"
   ]
  },
  {
   "cell_type": "code",
   "execution_count": null,
   "metadata": {
    "collapsed": true
   },
   "outputs": [],
   "source": [
    "# plt.axes(xlim=(x0,x1),ylim=(u_p-1,u_m+1))\n",
    "# plt.plot(x_int,U[0],label='u(t=0)')\n",
    "# plt.legend()\n",
    "# # plt.savefig('prob5_initial.pdf')\n",
    "# plt.show()"
   ]
  },
  {
   "cell_type": "code",
   "execution_count": null,
   "metadata": {
    "collapsed": true
   },
   "outputs": [],
   "source": [
    "# plt.axes(xlim=(x0,x1),ylim=(u_p-1,u_m+1))\n",
    "# plt.plot(x_int, U[-1], label='$u(t=1)$')\n",
    "# plt.plot(x_int, u_tilda(x_int), label='$\\hat{u}$')\n",
    "# plt.legend()\n",
    "# # plt.savefig('prob5_ufinal_utilda.pdf')\n",
    "# plt.show()"
   ]
  }
 ],
 "metadata": {
  "kernelspec": {
   "display_name": "Python 3",
   "language": "python",
   "name": "python3"
  },
  "language_info": {
   "codemirror_mode": {
    "name": "ipython",
    "version": 3
   },
   "file_extension": ".py",
   "mimetype": "text/x-python",
   "name": "python",
   "nbconvert_exporter": "python",
   "pygments_lexer": "ipython3",
   "version": "3.6.1"
  }
 },
 "nbformat": 4,
 "nbformat_minor": 1
}
