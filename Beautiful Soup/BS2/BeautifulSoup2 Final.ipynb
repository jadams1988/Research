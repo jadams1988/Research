{
 "cells": [
  {
   "cell_type": "code",
   "execution_count": 1,
   "metadata": {
    "collapsed": true
   },
   "outputs": [],
   "source": [
    "from bs4 import BeautifulSoup\n",
    "import re\n",
    "import urllib2\n",
    "from matplotlib import pyplot as plt\n",
    "import sqlite3 as sql\n",
    "from selenium import webdriver\n",
    "from selenium.webdriver.common.keys import Keys"
   ]
  },
  {
   "cell_type": "code",
   "execution_count": 2,
   "metadata": {
    "collapsed": false
   },
   "outputs": [
    {
     "name": "stderr",
     "output_type": "stream",
     "text": [
      "C:\\Users\\Joey\\Anaconda\\lib\\site-packages\\bs4\\__init__.py:166: UserWarning: No parser was explicitly specified, so I'm using the best available HTML parser for this system (\"lxml\"). This usually isn't a problem, but if you run this code on another system, or in a different virtual environment, it may use a different parser and behave differently.\n",
      "\n",
      "To get rid of this warning, change this:\n",
      "\n",
      " BeautifulSoup([your markup])\n",
      "\n",
      "to this:\n",
      "\n",
      " BeautifulSoup([your markup], \"lxml\")\n",
      "\n",
      "  markup_type=markup_type))\n"
     ]
    }
   ],
   "source": [
    "#Problem 1\n",
    "\n",
    "BANKS = ['JPMORGAN', 'CAPITAL ONE', 'DISCOVER']\n",
    "\n",
    "bank_data = BeautifulSoup(open('Big Bank Info.htm'))\n",
    "\n",
    "data = list()\n",
    "\n",
    "for bank in BANKS:\n",
    "    info = bank_data.find(text=re.compile(bank))\n",
    "    info = info.parent.parent.find_all('td')\n",
    "    info = [str(info[0].string), str(info[1].string), str(info[2].string), str(info[6].string), str(info[9].string)]\n",
    "    data.append(info)\n",
    "\n"
   ]
  },
  {
   "cell_type": "code",
   "execution_count": 2,
   "metadata": {
    "collapsed": false
   },
   "outputs": [
    {
     "name": "stdout",
     "output_type": "stream",
     "text": [
      "59\n",
      "<a href=\"/history/airport/KSAN/2015/1/2/DailyHistory.html\">Next Day »</a>\n",
      "/history/airport/KSAN/2015/1/2/DailyHistory.html\n"
     ]
    },
    {
     "name": "stderr",
     "output_type": "stream",
     "text": [
      "C:\\Users\\Joey\\Anaconda\\lib\\site-packages\\bs4\\__init__.py:166: UserWarning: No parser was explicitly specified, so I'm using the best available HTML parser for this system (\"lxml\"). This usually isn't a problem, but if you run this code on another system, or in a different virtual environment, it may use a different parser and behave differently.\n",
      "\n",
      "To get rid of this warning, change this:\n",
      "\n",
      " BeautifulSoup([your markup])\n",
      "\n",
      "to this:\n",
      "\n",
      " BeautifulSoup([your markup], \"lxml\")\n",
      "\n",
      "  markup_type=markup_type))\n"
     ]
    }
   ],
   "source": [
    "#Problem 2\n",
    "\n",
    "url = 'http://www.wunderground.com/history/airport/KSAN/2015/1/1/DailyHistory.html?req_city=San+Diego&req_state=CA&req_statename=California&reqdb.zip=92101&reqdb.magic=1&reqdb.wmo=99999&MR=1'\n",
    "\n",
    "url_content = urllib2.urlopen(url).read()\n",
    "soup = BeautifulSoup(url_content)\n",
    "max_temp = soup.find(text=re.compile('Max Temperature'))\n",
    "print(max_temp.parent.parent.next_sibling.next_sibling.find(class_='wx-value').text)\n",
    "\n",
    "next_tag = soup.find(text=re.compile('Next Day'))\n",
    "print(next_tag.parent)\n",
    "print(next_tag.parent['href'])"
   ]
  },
  {
   "cell_type": "code",
   "execution_count": 4,
   "metadata": {
    "collapsed": false
   },
   "outputs": [],
   "source": [
    "#Problem 3\n",
    "\n",
    "weather_url = 'https://www.wunderground.com/history/airport/KSAN/2014/1/1/DailyHistory.html'\n",
    "weather_content = urllib2.urlopen(weather_url).read()\n",
    "weather_soup = BeautifulSoup(weather_content)\n",
    "actual = []\n",
    "while('2015' not in weather_soup.find(class_='history-date').string):\n",
    "    while(len(weather_soup.find_all(string='Actual')) != 1):\n",
    "        weather_content = urllib2.urlopen(weather_url).read()\n",
    "        weather_soup = BeautifulSoup(weather_content)\n",
    "    actual_temp = weather_soup.find(string='Max Temperature').parent.parent.next_sibling.next_sibling.next_sibling.next_sibling.span.span.text\n",
    "    actual.append(int(actual_temp))\n",
    "    next_url = weather_soup.find(string=re.compile('Next Day')).parent['href']\n",
    "    weather_url = 'https://www.wunderground.com'+next_url\n",
    "    weather_content = urllib2.urlopen(weather_url).read()\n",
    "    weather_soup = BeautifulSoup(weather_content)\n",
    "    \n",
    "X = xrange(365)\n",
    "Y = actual\n",
    "plt.plot(X,Y)\n",
    "plt.show()\n",
    "plt.close()"
   ]
  },
  {
   "cell_type": "code",
   "execution_count": 5,
   "metadata": {
    "collapsed": false,
    "scrolled": true
   },
   "outputs": [],
   "source": [
    "#Problem 4, option 1\n",
    "\n",
    "db = sql.connect('soup')\n",
    "cur = db.cursor()\n",
    "cur.execute('drop table if exists Sectors')\n",
    "cur.execute('CREATE TABLE Sectors (Name TEXT, Abbreviation TEXT, Percent TEXT, Cap TEXT);')\n",
    "\n",
    "finance_url = 'http://www.google.com/finance'\n",
    "finance_content = urllib2.urlopen(finance_url).read()\n",
    "finance_soup = BeautifulSoup(finance_content)\n",
    "\n",
    "#print finance_soup\n",
    "Sectors = finance_soup.find(string=re.compile('Sector summary')).parent.parent.parent.next_sibling.next_sibling.find_all(href=True)\n",
    "\n",
    "\n",
    "i=0\n",
    "\n",
    "for sector in Sectors:\n",
    "    i+=1\n",
    "    \n",
    "    sector_url = str('http://www.google.com'+sector['href'])\n",
    "    sector_content = urllib2.urlopen(sector_url).read()\n",
    "    sector_soup = BeautifulSoup(sector_content)\n",
    "        \n",
    "        \n",
    "        \n",
    "    Gainers_tag = sector_soup.find(string=re.compile('Gainers')).parent.parent.parent.next_sibling\n",
    "\n",
    "    Name = Gainers_tag.find_all(href=True)[0].text\n",
    "    Abbrev = Gainers_tag.find_all(href=True)[1].text\n",
    "    Percent = Gainers_tag.find_all('span')[1].text\n",
    "    Cap = Gainers_tag.find_all('td')[4].text\n",
    "    \n",
    "    cur.execute('INSERT INTO Sectors VALUES (?,?,?,?)',[Name, Abbrev, Percent, Cap])    \n",
    "\n",
    "db.close()"
   ]
  },
  {
   "cell_type": "code",
   "execution_count": 14,
   "metadata": {
    "collapsed": false
   },
   "outputs": [],
   "source": [
    "#Problem 4, option 2"
   ]
  },
  {
   "cell_type": "code",
   "execution_count": 16,
   "metadata": {
    "collapsed": true
   },
   "outputs": [],
   "source": [
    "#Problem 4, option 3"
   ]
  },
  {
   "cell_type": "code",
   "execution_count": 3,
   "metadata": {
    "collapsed": false,
    "scrolled": true
   },
   "outputs": [
    {
     "ename": "WebDriverException",
     "evalue": "Message: The browser appears to have exited before we could connect. If you specified a log_file in the FirefoxBinary constructor, check it for details.\n",
     "output_type": "error",
     "traceback": [
      "\u001b[1;31m---------------------------------------------------------------------------\u001b[0m",
      "\u001b[1;31mWebDriverException\u001b[0m                        Traceback (most recent call last)",
      "\u001b[1;32m<ipython-input-3-b147dd1ffde2>\u001b[0m in \u001b[0;36m<module>\u001b[1;34m()\u001b[0m\n\u001b[0;32m      1\u001b[0m \u001b[1;31m#Problem 5\u001b[0m\u001b[1;33m\u001b[0m\u001b[1;33m\u001b[0m\u001b[0m\n\u001b[0;32m      2\u001b[0m \u001b[1;33m\u001b[0m\u001b[0m\n\u001b[1;32m----> 3\u001b[1;33m \u001b[0mdriver\u001b[0m \u001b[1;33m=\u001b[0m \u001b[0mwebdriver\u001b[0m\u001b[1;33m.\u001b[0m\u001b[0mFirefox\u001b[0m\u001b[1;33m(\u001b[0m\u001b[1;33m)\u001b[0m\u001b[1;33m\u001b[0m\u001b[0m\n\u001b[0m\u001b[0;32m      4\u001b[0m \u001b[0mNBA_url\u001b[0m \u001b[1;33m=\u001b[0m \u001b[1;34m'http://stats.nba.com/league/team/#!/?sort=W&dir=1'\u001b[0m\u001b[1;33m\u001b[0m\u001b[0m\n\u001b[0;32m      5\u001b[0m \u001b[0mdriver\u001b[0m\u001b[1;33m.\u001b[0m\u001b[0mget\u001b[0m\u001b[1;33m(\u001b[0m\u001b[0mNBA_url\u001b[0m\u001b[1;33m)\u001b[0m\u001b[1;33m\u001b[0m\u001b[0m\n",
      "\u001b[1;32mC:\\Users\\Joey\\Anaconda\\lib\\site-packages\\selenium\\webdriver\\firefox\\webdriver.pyc\u001b[0m in \u001b[0;36m__init__\u001b[1;34m(self, firefox_profile, firefox_binary, timeout, capabilities, proxy)\u001b[0m\n\u001b[0;32m     62\u001b[0m         RemoteWebDriver.__init__(self,\n\u001b[0;32m     63\u001b[0m             command_executor=ExtensionConnection(\"127.0.0.1\", self.profile,\n\u001b[1;32m---> 64\u001b[1;33m             self.binary, timeout),\n\u001b[0m\u001b[0;32m     65\u001b[0m             \u001b[0mdesired_capabilities\u001b[0m\u001b[1;33m=\u001b[0m\u001b[0mcapabilities\u001b[0m\u001b[1;33m,\u001b[0m\u001b[1;33m\u001b[0m\u001b[0m\n\u001b[0;32m     66\u001b[0m             keep_alive=True)\n",
      "\u001b[1;32mC:\\Users\\Joey\\Anaconda\\lib\\site-packages\\selenium\\webdriver\\firefox\\extension_connection.pyc\u001b[0m in \u001b[0;36m__init__\u001b[1;34m(self, host, firefox_profile, firefox_binary, timeout)\u001b[0m\n\u001b[0;32m     49\u001b[0m         \u001b[0mself\u001b[0m\u001b[1;33m.\u001b[0m\u001b[0mprofile\u001b[0m\u001b[1;33m.\u001b[0m\u001b[0madd_extension\u001b[0m\u001b[1;33m(\u001b[0m\u001b[1;33m)\u001b[0m\u001b[1;33m\u001b[0m\u001b[0m\n\u001b[0;32m     50\u001b[0m \u001b[1;33m\u001b[0m\u001b[0m\n\u001b[1;32m---> 51\u001b[1;33m         \u001b[0mself\u001b[0m\u001b[1;33m.\u001b[0m\u001b[0mbinary\u001b[0m\u001b[1;33m.\u001b[0m\u001b[0mlaunch_browser\u001b[0m\u001b[1;33m(\u001b[0m\u001b[0mself\u001b[0m\u001b[1;33m.\u001b[0m\u001b[0mprofile\u001b[0m\u001b[1;33m)\u001b[0m\u001b[1;33m\u001b[0m\u001b[0m\n\u001b[0m\u001b[0;32m     52\u001b[0m         \u001b[0m_URL\u001b[0m \u001b[1;33m=\u001b[0m \u001b[1;34m\"http://%s:%d/hub\"\u001b[0m \u001b[1;33m%\u001b[0m \u001b[1;33m(\u001b[0m\u001b[0mHOST\u001b[0m\u001b[1;33m,\u001b[0m \u001b[0mPORT\u001b[0m\u001b[1;33m)\u001b[0m\u001b[1;33m\u001b[0m\u001b[0m\n\u001b[0;32m     53\u001b[0m         RemoteConnection.__init__(\n",
      "\u001b[1;32mC:\\Users\\Joey\\Anaconda\\lib\\site-packages\\selenium\\webdriver\\firefox\\firefox_binary.pyc\u001b[0m in \u001b[0;36mlaunch_browser\u001b[1;34m(self, profile)\u001b[0m\n\u001b[0;32m     68\u001b[0m \u001b[1;33m\u001b[0m\u001b[0m\n\u001b[0;32m     69\u001b[0m         \u001b[0mself\u001b[0m\u001b[1;33m.\u001b[0m\u001b[0m_start_from_profile_path\u001b[0m\u001b[1;33m(\u001b[0m\u001b[0mself\u001b[0m\u001b[1;33m.\u001b[0m\u001b[0mprofile\u001b[0m\u001b[1;33m.\u001b[0m\u001b[0mpath\u001b[0m\u001b[1;33m)\u001b[0m\u001b[1;33m\u001b[0m\u001b[0m\n\u001b[1;32m---> 70\u001b[1;33m         \u001b[0mself\u001b[0m\u001b[1;33m.\u001b[0m\u001b[0m_wait_until_connectable\u001b[0m\u001b[1;33m(\u001b[0m\u001b[1;33m)\u001b[0m\u001b[1;33m\u001b[0m\u001b[0m\n\u001b[0m\u001b[0;32m     71\u001b[0m \u001b[1;33m\u001b[0m\u001b[0m\n\u001b[0;32m     72\u001b[0m     \u001b[1;32mdef\u001b[0m \u001b[0mkill\u001b[0m\u001b[1;33m(\u001b[0m\u001b[0mself\u001b[0m\u001b[1;33m)\u001b[0m\u001b[1;33m:\u001b[0m\u001b[1;33m\u001b[0m\u001b[0m\n",
      "\u001b[1;32mC:\\Users\\Joey\\Anaconda\\lib\\site-packages\\selenium\\webdriver\\firefox\\firefox_binary.pyc\u001b[0m in \u001b[0;36m_wait_until_connectable\u001b[1;34m(self)\u001b[0m\n\u001b[0;32m     98\u001b[0m             \u001b[1;32mif\u001b[0m \u001b[0mself\u001b[0m\u001b[1;33m.\u001b[0m\u001b[0mprocess\u001b[0m\u001b[1;33m.\u001b[0m\u001b[0mpoll\u001b[0m\u001b[1;33m(\u001b[0m\u001b[1;33m)\u001b[0m \u001b[1;32mis\u001b[0m \u001b[1;32mnot\u001b[0m \u001b[0mNone\u001b[0m\u001b[1;33m:\u001b[0m\u001b[1;33m\u001b[0m\u001b[0m\n\u001b[0;32m     99\u001b[0m                 \u001b[1;31m# Browser has exited\u001b[0m\u001b[1;33m\u001b[0m\u001b[1;33m\u001b[0m\u001b[0m\n\u001b[1;32m--> 100\u001b[1;33m                 raise WebDriverException(\"The browser appears to have exited \"\n\u001b[0m\u001b[0;32m    101\u001b[0m                       \u001b[1;34m\"before we could connect. If you specified a log_file in \"\u001b[0m\u001b[1;33m\u001b[0m\u001b[0m\n\u001b[0;32m    102\u001b[0m                       \"the FirefoxBinary constructor, check it for details.\")\n",
      "\u001b[1;31mWebDriverException\u001b[0m: Message: The browser appears to have exited before we could connect. If you specified a log_file in the FirefoxBinary constructor, check it for details.\n"
     ]
    }
   ],
   "source": [
    "#Problem 5\n",
    "\n",
    "driver = webdriver.Firefox()\n",
    "NBA_url = 'http://stats.nba.com/league/team/#!/?sort=W&dir=1'\n",
    "driver.get(NBA_url)\n",
    "\n",
    "NBA_soup = BeautifulSoup(driver.page_source)\n",
    "name_tag = NBA_soup.find_all('td', class_='team-name first')\n",
    "Name = [i.a for i in name_tag]\n",
    "\n",
    "driver.quit()"
   ]
  },
  {
   "cell_type": "code",
   "execution_count": 7,
   "metadata": {
    "collapsed": false
   },
   "outputs": [],
   "source": [
    "#Problem 6\n",
    "\n",
    "db = sql.connect('NBA')\n",
    "cur = db.cursor()\n",
    "cur.execute('drop table if exists Stats')\n",
    "cur.execute('create table Stats (Name TEXT, Wins TEXT, Losses TEXT)')\n",
    "\n",
    "for i in Name:\n",
    "    #print i.text\n",
    "    name = i.text\n",
    "    wins = i.parent.parent.find_all('td')[2].text\n",
    "    losses = i.parent.parent.find_all('td')[3].text\n",
    "    \n",
    "    cur.execute('insert into Stats values (?,?,?)',[name, wins, losses])\n",
    "\n",
    "db.close()"
   ]
  },
  {
   "cell_type": "code",
   "execution_count": null,
   "metadata": {
    "collapsed": false
   },
   "outputs": [],
   "source": []
  },
  {
   "cell_type": "code",
   "execution_count": null,
   "metadata": {
    "collapsed": true
   },
   "outputs": [],
   "source": []
  }
 ],
 "metadata": {
  "kernelspec": {
   "display_name": "Python 2",
   "language": "python",
   "name": "python2"
  },
  "language_info": {
   "codemirror_mode": {
    "name": "ipython",
    "version": 2
   },
   "file_extension": ".py",
   "mimetype": "text/x-python",
   "name": "python",
   "nbconvert_exporter": "python",
   "pygments_lexer": "ipython2",
   "version": "2.7.12"
  }
 },
 "nbformat": 4,
 "nbformat_minor": 0
}
