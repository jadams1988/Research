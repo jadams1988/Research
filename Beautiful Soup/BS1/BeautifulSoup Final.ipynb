{
 "cells": [
  {
   "cell_type": "code",
   "execution_count": 2,
   "metadata": {
    "collapsed": false
   },
   "outputs": [
    {
     "name": "stdout",
     "output_type": "stream",
     "text": [
      "html head title meta style body div h1 p a\n",
      "text/css\n"
     ]
    }
   ],
   "source": [
    "#Problem 1\n",
    "# Part 1\n",
    "print 'html', 'head', 'title', 'meta', 'style', 'body', 'div', 'h1', 'p', 'a'\n",
    "\n",
    "# Part 2\n",
    "print \"text/css\""
   ]
  },
  {
   "cell_type": "code",
   "execution_count": 32,
   "metadata": {
    "collapsed": false
   },
   "outputs": [
    {
     "name": "stdout",
     "output_type": "stream",
     "text": [
      "<html>\n",
      " <head>\n",
      "  <title>\n",
      "   The Three Stooges\n",
      "  </title>\n",
      " </head>\n",
      " <body>\n",
      "  <p class=\"title\">\n",
      "   <b>\n",
      "    The Three Stooges\n",
      "   </b>\n",
      "  </p>\n",
      "  <p class=\"story\">\n",
      "   Have you ever met the three stooges? Their names are\n",
      "   <a class=\"stooge\" href=\"http://example.com/larry\" id=\"link1\">\n",
      "    Larry\n",
      "   </a>\n",
      "   ,\n",
      "   <a class=\"stooge\" href=\"http://example.com/mo\" id=\"link2\">\n",
      "    Mo\n",
      "   </a>\n",
      "   and\n",
      "   <a class=\"stooge\" href=\"http://example.com/curly\" id=\"link3\">\n",
      "    Curly\n",
      "   </a>\n",
      "   ;\n",
      "and they are really hilarious.\n",
      "  </p>\n",
      "  <p class=\"story\">\n",
      "   ...\n",
      "  </p>\n",
      " </body>\n",
      "</html>\n"
     ]
    }
   ],
   "source": [
    "from bs4 import BeautifulSoup\n",
    "\n",
    "#Problem 2\n",
    "html_doc = \"\"\"\n",
    "<html><head><title>The Three Stooges</title></head>\n",
    "<body>\n",
    "<p class=\"title\"><b>The Three Stooges</b></p>\n",
    "<p class=\"story\">Have you ever met the three stooges? Their names are\n",
    "<a href=\"http://example.com/larry\" class=\"stooge\" id=\"link1\">Larry</a>,\n",
    "<a href=\"http://example.com/mo\" class=\"stooge\" id=\"link2\">Mo</a> and\n",
    "<a href=\"http://example.com/curly\" class=\"stooge\" id=\"link3\">Curly</a>;\n",
    "and they are really hilarious.</p>\n",
    "<p class=\"story\">...</p>\n",
    "\"\"\"\n",
    "\n",
    "soup = BeautifulSoup(html_doc)\n",
    "print(soup.prettify())"
   ]
  },
  {
   "cell_type": "code",
   "execution_count": 4,
   "metadata": {
    "collapsed": false
   },
   "outputs": [
    {
     "data": {
      "text/plain": [
       "<p class=\"title\"><b>The Three Stooges</b></p>"
      ]
     },
     "execution_count": 4,
     "metadata": {},
     "output_type": "execute_result"
    }
   ],
   "source": [
    "#Problem 3\n",
    "soup.p"
   ]
  },
  {
   "cell_type": "code",
   "execution_count": 23,
   "metadata": {
    "collapsed": false
   },
   "outputs": [
    {
     "data": {
      "text/plain": [
       "u'More information...'"
      ]
     },
     "execution_count": 23,
     "metadata": {},
     "output_type": "execute_result"
    }
   ],
   "source": [
    "#Problem 4\n",
    "# Part 1\n",
    "soup.a.next_sibling.next_sibling.string   #if you use print, you get Mo, not u'Mo'\n",
    "\n",
    "# Part 2\n",
    "soup.body.contents[5]\n",
    "#or\n",
    "soup.p.next_sibling.next_sibling.next_sibling.next_sibling\n",
    "\n",
    "# Part 3\n",
    "example_soup = BeautifulSoup(open('example.htm'),'html.parser')\n",
    "example_soup.a.string\n",
    "example_soup.p.next_sibling.next_sibling.a.string"
   ]
  },
  {
   "cell_type": "code",
   "execution_count": 30,
   "metadata": {
    "collapsed": false
   },
   "outputs": [
    {
     "data": {
      "text/plain": [
       "u'http://www.iana.org/domains/example'"
      ]
     },
     "execution_count": 30,
     "metadata": {},
     "output_type": "execute_result"
    }
   ],
   "source": [
    "#Problem 5\n",
    "example_soup = BeautifulSoup(open('example.htm'),'html.parser')\n",
    "example_soup.find(href=True)['href']\n",
    "example_soup.a['href']"
   ]
  },
  {
   "cell_type": "code",
   "execution_count": 62,
   "metadata": {
    "collapsed": false
   },
   "outputs": [
    {
     "data": {
      "text/plain": [
       "<span class=\"wx-value\">59</span>"
      ]
     },
     "execution_count": 62,
     "metadata": {},
     "output_type": "execute_result"
    }
   ],
   "source": [
    "#Problem 6\n",
    "import re\n",
    "\n",
    "SOUP = BeautifulSoup(open('SanDiegoWeather.htm'))\n",
    "\n",
    "# Part 1\n",
    "SOUP.find(class_='history-date')\n",
    "\n",
    "# Part 2\n",
    "SOUP.find(class_='previous-link').a\n",
    "SOUP.find(class_='next-link').a\n",
    "#or\n",
    "SOUP.find(string=re.compile('Previous Day')).parent\n",
    "SOUP.find(string=re.compile('Next Day')).parent\n",
    "\n",
    "# Part 3\n",
    "SOUP.find(text='Max Temperature').parent.parent.next_sibling.next_sibling.span.span\n",
    "#or\n",
    "SOUP.find(text='Max Temperature').parent.parent.parent.find(class_='wx-value')"
   ]
  },
  {
   "cell_type": "code",
   "execution_count": 75,
   "metadata": {
    "collapsed": false
   },
   "outputs": [
    {
     "data": {
      "text/plain": [
       "[<a class=\"attribute-value\" href=\"view-source:http://www.federalreserve.gov/releases/lbr/20141231/default.htm\">20141231/default.htm</a>,\n",
       " <a class=\"attribute-value\" href=\"view-source:http://www.federalreserve.gov/releases/lbr/20140930/default.htm\">20140930/default.htm</a>,\n",
       " <a class=\"attribute-value\" href=\"view-source:http://www.federalreserve.gov/releases/lbr/20140630/default.htm\">20140630/default.htm</a>,\n",
       " <a class=\"attribute-value\" href=\"view-source:http://www.federalreserve.gov/releases/lbr/20140331/default.htm\">20140331/default.htm</a>,\n",
       " <a class=\"attribute-value\" href=\"view-source:http://www.federalreserve.gov/releases/lbr/20131231/default.htm\">20131231/default.htm</a>,\n",
       " <a class=\"attribute-value\" href=\"view-source:http://www.federalreserve.gov/releases/lbr/20130930/default.htm\">20130930/default.htm</a>,\n",
       " <a class=\"attribute-value\" href=\"view-source:http://www.federalreserve.gov/releases/lbr/20130630/default.htm\">20130630/default.htm</a>,\n",
       " <a class=\"attribute-value\" href=\"view-source:http://www.federalreserve.gov/releases/lbr/20130331/default.htm\">20130331/default.htm</a>,\n",
       " <a class=\"attribute-value\" href=\"view-source:http://www.federalreserve.gov/releases/lbr/20121231/default.htm\">20121231/default.htm</a>,\n",
       " <a class=\"attribute-value\" href=\"view-source:http://www.federalreserve.gov/releases/lbr/20120930/default.htm\">20120930/default.htm</a>,\n",
       " <a class=\"attribute-value\" href=\"view-source:http://www.federalreserve.gov/releases/lbr/20120630/default.htm\">20120630/default.htm</a>,\n",
       " <a class=\"attribute-value\" href=\"view-source:http://www.federalreserve.gov/releases/lbr/20120331/default.htm\">20120331/default.htm</a>,\n",
       " <a class=\"attribute-value\" href=\"view-source:http://www.federalreserve.gov/releases/lbr/20111231/default.htm\">20111231/default.htm</a>,\n",
       " <a class=\"attribute-value\" href=\"view-source:http://www.federalreserve.gov/releases/lbr/20110930/default.htm\">20110930/default.htm</a>,\n",
       " <a class=\"attribute-value\" href=\"view-source:http://www.federalreserve.gov/releases/lbr/20110630/default.htm\">20110630/default.htm</a>,\n",
       " <a class=\"attribute-value\" href=\"view-source:http://www.federalreserve.gov/releases/lbr/20110331/default.htm\">20110331/default.htm</a>,\n",
       " <a class=\"attribute-value\" href=\"view-source:http://www.federalreserve.gov/releases/lbr/20101231/default.htm\">20101231/default.htm</a>,\n",
       " <a class=\"attribute-value\" href=\"view-source:http://www.federalreserve.gov/releases/lbr/20100930/default.htm\">20100930/default.htm</a>,\n",
       " <a class=\"attribute-value\" href=\"view-source:http://www.federalreserve.gov/releases/lbr/20100630/default.htm\">20100630/default.htm</a>,\n",
       " <a class=\"attribute-value\" href=\"view-source:http://www.federalreserve.gov/releases/lbr/20100331/default.htm\">20100331/default.htm</a>,\n",
       " <a class=\"attribute-value\" href=\"view-source:http://www.federalreserve.gov/releases/lbr/20091231/default.htm\">20091231/default.htm</a>,\n",
       " <a class=\"attribute-value\" href=\"view-source:http://www.federalreserve.gov/releases/lbr/20090930/default.htm\">20090930/default.htm</a>,\n",
       " <a class=\"attribute-value\" href=\"view-source:http://www.federalreserve.gov/releases/lbr/20090630/default.htm\">20090630/default.htm</a>,\n",
       " <a class=\"attribute-value\" href=\"view-source:http://www.federalreserve.gov/releases/lbr/20090331/default.htm\">20090331/default.htm</a>,\n",
       " <a class=\"attribute-value\" href=\"view-source:http://www.federalreserve.gov/releases/lbr/20081231/default.htm\">20081231/default.htm</a>,\n",
       " <a class=\"attribute-value\" href=\"view-source:http://www.federalreserve.gov/releases/lbr/20080930/default.htm\">20080930/default.htm</a>,\n",
       " <a class=\"attribute-value\" href=\"view-source:http://www.federalreserve.gov/releases/lbr/20080630/default.htm\">20080630/default.htm</a>,\n",
       " <a class=\"attribute-value\" href=\"view-source:http://www.federalreserve.gov/releases/lbr/20080331/default.htm\">20080331/default.htm</a>,\n",
       " <a class=\"attribute-value\" href=\"view-source:http://www.federalreserve.gov/releases/lbr/20071231/default.htm\">20071231/default.htm</a>,\n",
       " <a class=\"attribute-value\" href=\"view-source:http://www.federalreserve.gov/releases/lbr/20070930/default.htm\">20070930/default.htm</a>,\n",
       " <a class=\"attribute-value\" href=\"view-source:http://www.federalreserve.gov/releases/lbr/20070630/default.htm\">20070630/default.htm</a>,\n",
       " <a class=\"attribute-value\" href=\"view-source:http://www.federalreserve.gov/releases/lbr/20070331/default.htm\">20070331/default.htm</a>,\n",
       " <a class=\"attribute-value\" href=\"view-source:http://www.federalreserve.gov/releases/lbr/20061231/default.htm\">20061231/default.htm</a>,\n",
       " <a class=\"attribute-value\" href=\"view-source:http://www.federalreserve.gov/releases/lbr/20060930/default.htm\">20060930/default.htm</a>,\n",
       " <a class=\"attribute-value\" href=\"view-source:http://www.federalreserve.gov/releases/lbr/20060630/default.htm\">20060630/default.htm</a>,\n",
       " <a class=\"attribute-value\" href=\"view-source:http://www.federalreserve.gov/releases/lbr/20060331/default.htm\">20060331/default.htm</a>,\n",
       " <a class=\"attribute-value\" href=\"view-source:http://www.federalreserve.gov/releases/lbr/20051231/default.htm\">20051231/default.htm</a>,\n",
       " <a class=\"attribute-value\" href=\"view-source:http://www.federalreserve.gov/releases/lbr/20050930/default.htm\">20050930/default.htm</a>,\n",
       " <a class=\"attribute-value\" href=\"view-source:http://www.federalreserve.gov/releases/lbr/20050630/default.htm\">20050630/default.htm</a>,\n",
       " <a class=\"attribute-value\" href=\"view-source:http://www.federalreserve.gov/releases/lbr/20050331/default.htm\">20050331/default.htm</a>,\n",
       " <a class=\"attribute-value\" href=\"view-source:http://www.federalreserve.gov/releases/lbr/20041231/default.htm\">20041231/default.htm</a>,\n",
       " <a class=\"attribute-value\" href=\"view-source:http://www.federalreserve.gov/releases/lbr/20040930/default.htm\">20040930/default.htm</a>,\n",
       " <a class=\"attribute-value\" href=\"view-source:http://www.federalreserve.gov/releases/lbr/20040630/default.htm\">20040630/default.htm</a>,\n",
       " <a class=\"attribute-value\" href=\"view-source:http://www.federalreserve.gov/releases/lbr/20040331/default.htm\">20040331/default.htm</a>,\n",
       " <a class=\"attribute-value\" href=\"view-source:http://www.federalreserve.gov/releases/lbr/20031231/default.htm\">20031231/default.htm</a>,\n",
       " <a class=\"attribute-value\" href=\"view-source:http://www.federalreserve.gov/releases/lbr/20030930/default.htm\">20030930/default.htm</a>]"
      ]
     },
     "execution_count": 75,
     "metadata": {},
     "output_type": "execute_result"
    }
   ],
   "source": [
    "#Problem 7\n",
    "dates_soup = BeautifulSoup(open('Big Data dates.htm'))\n",
    "\n",
    "dates_soup.find_all(href=re.compile('[01]/default.htm')) #this would give all websites that have a date in the directory path. Could accidentally include files from years outside the allowed range 2003-2014\n",
    "#or\n",
    "dates_soup.find_all(href=re.compile('((200[3-9])|(201[0-4])).*/default.htm')) #restricts the years to the correct range 2003-2014"
   ]
  },
  {
   "cell_type": "code",
   "execution_count": null,
   "metadata": {
    "collapsed": true
   },
   "outputs": [],
   "source": []
  }
 ],
 "metadata": {
  "kernelspec": {
   "display_name": "Python 2",
   "language": "python",
   "name": "python2"
  },
  "language_info": {
   "codemirror_mode": {
    "name": "ipython",
    "version": 2
   },
   "file_extension": ".py",
   "mimetype": "text/x-python",
   "name": "python",
   "nbconvert_exporter": "python",
   "pygments_lexer": "ipython2",
   "version": "2.7.7"
  }
 },
 "nbformat": 4,
 "nbformat_minor": 0
}
