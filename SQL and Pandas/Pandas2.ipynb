{
 "cells": [
  {
   "cell_type": "code",
   "execution_count": null,
   "metadata": {
    "collapsed": true
   },
   "outputs": [],
   "source": []
  },
  {
   "cell_type": "code",
   "execution_count": 1,
   "metadata": {
    "collapsed": false
   },
   "outputs": [],
   "source": [
    "import pandas as pd\n",
    "import numpy as np\n",
    "from matplotlib import pyplot as plt\n",
    "#pd.__version__"
   ]
  },
  {
   "cell_type": "code",
   "execution_count": 5,
   "metadata": {
    "collapsed": false
   },
   "outputs": [
    {
     "data": {
      "text/plain": [
       "<class 'pandas.io.pytables.HDFStore'>\n",
       "File path: test_store.h5\n",
       "/df                  frame        (shape->[6,2])                                                     \n",
       "/toy_data            frame_table  (typ->appendable,nrows->10000,ncols->3,indexers->[index],dc->[B,C])"
      ]
     },
     "execution_count": 5,
     "metadata": {},
     "output_type": "execute_result"
    }
   ],
   "source": [
    "my_store = pd.HDFStore('test_store.h5')\n",
    "my_store"
   ]
  },
  {
   "cell_type": "code",
   "execution_count": 15,
   "metadata": {
    "collapsed": false
   },
   "outputs": [
    {
     "data": {
      "text/plain": [
       "<class 'pandas.io.pytables.HDFStore'>\n",
       "File path: test_store.h5\n",
       "/df            frame        (shape->[6,2])\n",
       "/ts            series       (shape->[4])  "
      ]
     },
     "execution_count": 15,
     "metadata": {},
     "output_type": "execute_result"
    }
   ],
   "source": [
    "ts = pd.Series(index=['A','B','C','D'], data=np.random.randn(4))\n",
    "df = pd.DataFrame(index=range(6), columns=['a','b'], data=np.random.random((6,2)))\n",
    "my_store['ts'] = ts\n",
    "my_store['df'] = df\n",
    "my_store"
   ]
  },
  {
   "cell_type": "code",
   "execution_count": 16,
   "metadata": {
    "collapsed": false
   },
   "outputs": [
    {
     "data": {
      "text/plain": [
       "a    True\n",
       "b    True\n",
       "dtype: bool"
      ]
     },
     "execution_count": 16,
     "metadata": {},
     "output_type": "execute_result"
    }
   ],
   "source": [
    "store_df = my_store['df']\n",
    "(df == store_df).all()"
   ]
  },
  {
   "cell_type": "code",
   "execution_count": 17,
   "metadata": {
    "collapsed": false
   },
   "outputs": [
    {
     "data": {
      "text/plain": [
       "<class 'pandas.io.pytables.HDFStore'>\n",
       "File path: test_store.h5\n",
       "/df            frame        (shape->[6,2])"
      ]
     },
     "execution_count": 17,
     "metadata": {},
     "output_type": "execute_result"
    }
   ],
   "source": [
    "del my_store['ts']\n",
    "my_store"
   ]
  },
  {
   "cell_type": "code",
   "execution_count": 25,
   "metadata": {
    "collapsed": false
   },
   "outputs": [],
   "source": [
    "n_rows = 10000\n",
    "n_cols = 3\n",
    "csv_path = 'toy_data.csv'\n",
    "csv_file = open(csv_path, 'w')\n",
    "csv_file.write(\"A B C\\n\")\n",
    "for i in xrange(n_rows):\n",
    "    for num in np.random.randn(3):\n",
    "        csv_file.write(' '+str(num))\n",
    "    csv_file.write('\\n')\n",
    "csv_file.close()"
   ]
  },
  {
   "cell_type": "code",
   "execution_count": 26,
   "metadata": {
    "collapsed": false
   },
   "outputs": [
    {
     "data": {
      "text/plain": [
       "<class 'pandas.io.pytables.HDFStore'>\n",
       "File path: test_store.h5\n",
       "/df                  frame        (shape->[6,2])                                                     \n",
       "/toy_data            frame_table  (typ->appendable,nrows->10000,ncols->3,indexers->[index],dc->[B,C])"
      ]
     },
     "execution_count": 26,
     "metadata": {},
     "output_type": "execute_result"
    }
   ],
   "source": [
    "n_chunk = 1000\n",
    "col_types = {'A':np.float,'B':np.float,'D':np.float}\n",
    "reader = pd.read_csv(csv_path, sep=' ', dtype=col_types, index_col=False, chunksize=n_chunk, skipinitialspace=True)\n",
    "first = True\n",
    "data_cols = ['B','C']\n",
    "for chunk in reader:\n",
    "    if first:\n",
    "        my_store.append('toy_data', chunk, data_columns=data_cols, index=False)\n",
    "        first = False\n",
    "    else:\n",
    "        my_store.append('toy_data', chunk, index=False)\n",
    "my_store"
   ]
  },
  {
   "cell_type": "code",
   "execution_count": 27,
   "metadata": {
    "collapsed": false
   },
   "outputs": [],
   "source": [
    "my_store.create_table_index('toy_data', optlevel=9, kind='full')"
   ]
  },
  {
   "cell_type": "code",
   "execution_count": 24,
   "metadata": {
    "collapsed": false
   },
   "outputs": [],
   "source": [
    "del my_store['toy_data']"
   ]
  },
  {
   "cell_type": "code",
   "execution_count": 21,
   "metadata": {
    "collapsed": false
   },
   "outputs": [],
   "source": [
    "##########################################"
   ]
  },
  {
   "cell_type": "code",
   "execution_count": 6,
   "metadata": {
    "collapsed": false
   },
   "outputs": [],
   "source": [
    "#Problem 1\n",
    "import pandas as pd\n",
    "import numpy as np\n",
    "from matplotlib import pyplot as plt\n",
    "store = pd.HDFStore('Election.h5',mode='r')"
   ]
  },
  {
   "cell_type": "code",
   "execution_count": 7,
   "metadata": {
    "collapsed": false
   },
   "outputs": [
    {
     "name": "stdout",
     "output_type": "stream",
     "text": [
      "<class 'pandas.io.pytables.HDFStore'>\n",
      "File path: Election.h5\n",
      "/Election            frame_table  (typ->appendable,nrows->6036458,ncols->18,indexers->[index],dc->[cand_nm,contbr_st,contb_receipt_amt,contbr_occupation,contb_receipt_dt])\n"
     ]
    }
   ],
   "source": [
    "#del store['Election']\n",
    "#store.open()\n",
    "print store\n",
    "#del store['Election']"
   ]
  },
  {
   "cell_type": "code",
   "execution_count": 8,
   "metadata": {
    "collapsed": false
   },
   "outputs": [
    {
     "ename": "HDF5ExtError",
     "evalue": "HDF5 error back trace\n\n  File \"..\\..\\hdf5-1.8.11\\src\\H5L.c\", line 609, in H5Ldelete\n    unable to delete link\n  File \"..\\..\\hdf5-1.8.11\\src\\H5L.c\", line 2344, in H5L_delete\n    can't unlink object\n  File \"..\\..\\hdf5-1.8.11\\src\\H5Gtraverse.c\", line 861, in H5G_traverse\n    internal path traversal failed\n  File \"..\\..\\hdf5-1.8.11\\src\\H5Gtraverse.c\", line 641, in H5G_traverse_real\n    traversal operator failed\n  File \"..\\..\\hdf5-1.8.11\\src\\H5L.c\", line 2301, in H5L_delete_cb\n    unable to remove link from group\n  File \"..\\..\\hdf5-1.8.11\\src\\H5Gobj.c\", line 1020, in H5G_obj_remove\n    can't remove object\n  File \"..\\..\\hdf5-1.8.11\\src\\H5Gstab.c\", line 386, in H5G__stab_remove\n    unable to remove entry\n  File \"..\\..\\hdf5-1.8.11\\src\\H5B.c\", line 1676, in H5B_remove\n    unable to remove entry from B-tree\n  File \"..\\..\\hdf5-1.8.11\\src\\H5B.c\", line 1402, in H5B_remove_helper\n    key not found in leaf node\n  File \"..\\..\\hdf5-1.8.11\\src\\H5Gnode.c\", line 872, in H5G_node_remove\n    unable to decrement object link count\n  File \"..\\..\\hdf5-1.8.11\\src\\H5O.c\", line 1617, in H5O_link\n    unable to adjust object link count\n  File \"..\\..\\hdf5-1.8.11\\src\\H5O.c\", line 1500, in H5O_link_oh\n    link count would be negative\n\nEnd of HDF5 error back trace\n\nproblems deleting the node ``/Election``",
     "output_type": "error",
     "traceback": [
      "\u001b[1;31m---------------------------------------------------------------------------\u001b[0m",
      "\u001b[1;31mHDF5ExtError\u001b[0m                              Traceback (most recent call last)",
      "\u001b[1;32m<ipython-input-8-be91e77963b1>\u001b[0m in \u001b[0;36m<module>\u001b[1;34m()\u001b[0m\n\u001b[0;32m      1\u001b[0m \u001b[0mstore\u001b[0m\u001b[1;33m.\u001b[0m\u001b[0mclose\u001b[0m\u001b[1;33m(\u001b[0m\u001b[1;33m)\u001b[0m\u001b[1;33m\u001b[0m\u001b[0m\n\u001b[0;32m      2\u001b[0m \u001b[0mstore\u001b[0m\u001b[1;33m.\u001b[0m\u001b[0mopen\u001b[0m\u001b[1;33m(\u001b[0m\u001b[1;33m)\u001b[0m\u001b[1;33m\u001b[0m\u001b[0m\n\u001b[1;32m----> 3\u001b[1;33m \u001b[1;32mdel\u001b[0m \u001b[0mstore\u001b[0m\u001b[1;33m[\u001b[0m\u001b[1;34m'Election'\u001b[0m\u001b[1;33m]\u001b[0m\u001b[1;33m\u001b[0m\u001b[0m\n\u001b[0m",
      "\u001b[1;32mC:\\Users\\Joey\\Anaconda\\lib\\site-packages\\pandas\\io\\pytables.pyc\u001b[0m in \u001b[0;36m__delitem__\u001b[1;34m(self, key)\u001b[0m\n\u001b[0;32m    413\u001b[0m \u001b[1;33m\u001b[0m\u001b[0m\n\u001b[0;32m    414\u001b[0m     \u001b[1;32mdef\u001b[0m \u001b[0m__delitem__\u001b[0m\u001b[1;33m(\u001b[0m\u001b[0mself\u001b[0m\u001b[1;33m,\u001b[0m \u001b[0mkey\u001b[0m\u001b[1;33m)\u001b[0m\u001b[1;33m:\u001b[0m\u001b[1;33m\u001b[0m\u001b[0m\n\u001b[1;32m--> 415\u001b[1;33m         \u001b[1;32mreturn\u001b[0m \u001b[0mself\u001b[0m\u001b[1;33m.\u001b[0m\u001b[0mremove\u001b[0m\u001b[1;33m(\u001b[0m\u001b[0mkey\u001b[0m\u001b[1;33m)\u001b[0m\u001b[1;33m\u001b[0m\u001b[0m\n\u001b[0m\u001b[0;32m    416\u001b[0m \u001b[1;33m\u001b[0m\u001b[0m\n\u001b[0;32m    417\u001b[0m     \u001b[1;32mdef\u001b[0m \u001b[0m__getattr__\u001b[0m\u001b[1;33m(\u001b[0m\u001b[0mself\u001b[0m\u001b[1;33m,\u001b[0m \u001b[0mname\u001b[0m\u001b[1;33m)\u001b[0m\u001b[1;33m:\u001b[0m\u001b[1;33m\u001b[0m\u001b[0m\n",
      "\u001b[1;32mC:\\Users\\Joey\\Anaconda\\lib\\site-packages\\pandas\\io\\pytables.pyc\u001b[0m in \u001b[0;36mremove\u001b[1;34m(self, key, where, start, stop)\u001b[0m\n\u001b[0;32m    851\u001b[0m         \u001b[1;31m# remove the node\u001b[0m\u001b[1;33m\u001b[0m\u001b[1;33m\u001b[0m\u001b[0m\n\u001b[0;32m    852\u001b[0m         \u001b[1;32mif\u001b[0m \u001b[0mwhere\u001b[0m \u001b[1;32mis\u001b[0m \u001b[0mNone\u001b[0m \u001b[1;32mand\u001b[0m \u001b[0mstart\u001b[0m \u001b[1;32mis\u001b[0m \u001b[0mNone\u001b[0m \u001b[1;32mand\u001b[0m \u001b[0mstop\u001b[0m \u001b[1;32mis\u001b[0m \u001b[0mNone\u001b[0m\u001b[1;33m:\u001b[0m\u001b[1;33m\u001b[0m\u001b[0m\n\u001b[1;32m--> 853\u001b[1;33m             \u001b[0ms\u001b[0m\u001b[1;33m.\u001b[0m\u001b[0mgroup\u001b[0m\u001b[1;33m.\u001b[0m\u001b[0m_f_remove\u001b[0m\u001b[1;33m(\u001b[0m\u001b[0mrecursive\u001b[0m\u001b[1;33m=\u001b[0m\u001b[0mTrue\u001b[0m\u001b[1;33m)\u001b[0m\u001b[1;33m\u001b[0m\u001b[0m\n\u001b[0m\u001b[0;32m    854\u001b[0m \u001b[1;33m\u001b[0m\u001b[0m\n\u001b[0;32m    855\u001b[0m         \u001b[1;31m# delete from the table\u001b[0m\u001b[1;33m\u001b[0m\u001b[1;33m\u001b[0m\u001b[0m\n",
      "\u001b[1;32mC:\\Users\\Joey\\Anaconda\\lib\\site-packages\\tables\\node.pyc\u001b[0m in \u001b[0;36m_f_remove\u001b[1;34m(self, recursive, force)\u001b[0m\n\u001b[0;32m    559\u001b[0m             \u001b[0mself\u001b[0m\u001b[1;33m.\u001b[0m\u001b[0m_g_remove_and_log\u001b[0m\u001b[1;33m(\u001b[0m\u001b[0mrecursive\u001b[0m\u001b[1;33m,\u001b[0m \u001b[0mforce\u001b[0m\u001b[1;33m)\u001b[0m\u001b[1;33m\u001b[0m\u001b[0m\n\u001b[0;32m    560\u001b[0m         \u001b[1;32melse\u001b[0m\u001b[1;33m:\u001b[0m\u001b[1;33m\u001b[0m\u001b[0m\n\u001b[1;32m--> 561\u001b[1;33m             \u001b[0mself\u001b[0m\u001b[1;33m.\u001b[0m\u001b[0m_g_remove\u001b[0m\u001b[1;33m(\u001b[0m\u001b[0mrecursive\u001b[0m\u001b[1;33m,\u001b[0m \u001b[0mforce\u001b[0m\u001b[1;33m)\u001b[0m\u001b[1;33m\u001b[0m\u001b[0m\n\u001b[0m\u001b[0;32m    562\u001b[0m \u001b[1;33m\u001b[0m\u001b[0m\n\u001b[0;32m    563\u001b[0m     \u001b[1;32mdef\u001b[0m \u001b[0m_g_remove_and_log\u001b[0m\u001b[1;33m(\u001b[0m\u001b[0mself\u001b[0m\u001b[1;33m,\u001b[0m \u001b[0mrecursive\u001b[0m\u001b[1;33m,\u001b[0m \u001b[0mforce\u001b[0m\u001b[1;33m)\u001b[0m\u001b[1;33m:\u001b[0m\u001b[1;33m\u001b[0m\u001b[0m\n",
      "\u001b[1;32mC:\\Users\\Joey\\Anaconda\\lib\\site-packages\\tables\\group.pyc\u001b[0m in \u001b[0;36m_g_remove\u001b[1;34m(self, recursive, force)\u001b[0m\n\u001b[0;32m    934\u001b[0m \u001b[1;33m\u001b[0m\u001b[0m\n\u001b[0;32m    935\u001b[0m         \u001b[1;31m# Remove the node itself from the hierarchy.\u001b[0m\u001b[1;33m\u001b[0m\u001b[1;33m\u001b[0m\u001b[0m\n\u001b[1;32m--> 936\u001b[1;33m         \u001b[0msuper\u001b[0m\u001b[1;33m(\u001b[0m\u001b[0mGroup\u001b[0m\u001b[1;33m,\u001b[0m \u001b[0mself\u001b[0m\u001b[1;33m)\u001b[0m\u001b[1;33m.\u001b[0m\u001b[0m_g_remove\u001b[0m\u001b[1;33m(\u001b[0m\u001b[0mrecursive\u001b[0m\u001b[1;33m,\u001b[0m \u001b[0mforce\u001b[0m\u001b[1;33m)\u001b[0m\u001b[1;33m\u001b[0m\u001b[0m\n\u001b[0m\u001b[0;32m    937\u001b[0m \u001b[1;33m\u001b[0m\u001b[0m\n\u001b[0;32m    938\u001b[0m     def _f_copy(self, newparent=None, newname=None,\n",
      "\u001b[1;32mC:\\Users\\Joey\\Anaconda\\lib\\site-packages\\tables\\node.pyc\u001b[0m in \u001b[0;36m_g_remove\u001b[1;34m(self, recursive, force)\u001b[0m\n\u001b[0;32m    539\u001b[0m         \u001b[1;31m# hdf5extension operations:\u001b[0m\u001b[1;33m\u001b[0m\u001b[1;33m\u001b[0m\u001b[0m\n\u001b[0;32m    540\u001b[0m         \u001b[1;31m# Remove the node from the HDF5 hierarchy.\u001b[0m\u001b[1;33m\u001b[0m\u001b[1;33m\u001b[0m\u001b[0m\n\u001b[1;32m--> 541\u001b[1;33m         \u001b[0mself\u001b[0m\u001b[1;33m.\u001b[0m\u001b[0m_g_delete\u001b[0m\u001b[1;33m(\u001b[0m\u001b[0mparent\u001b[0m\u001b[1;33m)\u001b[0m\u001b[1;33m\u001b[0m\u001b[0m\n\u001b[0m\u001b[0;32m    542\u001b[0m \u001b[1;33m\u001b[0m\u001b[0m\n\u001b[0;32m    543\u001b[0m     \u001b[1;32mdef\u001b[0m \u001b[0m_f_remove\u001b[0m\u001b[1;33m(\u001b[0m\u001b[0mself\u001b[0m\u001b[1;33m,\u001b[0m \u001b[0mrecursive\u001b[0m\u001b[1;33m=\u001b[0m\u001b[0mFalse\u001b[0m\u001b[1;33m,\u001b[0m \u001b[0mforce\u001b[0m\u001b[1;33m=\u001b[0m\u001b[0mFalse\u001b[0m\u001b[1;33m)\u001b[0m\u001b[1;33m:\u001b[0m\u001b[1;33m\u001b[0m\u001b[0m\n",
      "\u001b[1;32mhdf5extension.pyx\u001b[0m in \u001b[0;36mtables.hdf5extension.Node._g_delete (tables\\hdf5extension.c:8843)\u001b[1;34m()\u001b[0m\n",
      "\u001b[1;31mHDF5ExtError\u001b[0m: HDF5 error back trace\n\n  File \"..\\..\\hdf5-1.8.11\\src\\H5L.c\", line 609, in H5Ldelete\n    unable to delete link\n  File \"..\\..\\hdf5-1.8.11\\src\\H5L.c\", line 2344, in H5L_delete\n    can't unlink object\n  File \"..\\..\\hdf5-1.8.11\\src\\H5Gtraverse.c\", line 861, in H5G_traverse\n    internal path traversal failed\n  File \"..\\..\\hdf5-1.8.11\\src\\H5Gtraverse.c\", line 641, in H5G_traverse_real\n    traversal operator failed\n  File \"..\\..\\hdf5-1.8.11\\src\\H5L.c\", line 2301, in H5L_delete_cb\n    unable to remove link from group\n  File \"..\\..\\hdf5-1.8.11\\src\\H5Gobj.c\", line 1020, in H5G_obj_remove\n    can't remove object\n  File \"..\\..\\hdf5-1.8.11\\src\\H5Gstab.c\", line 386, in H5G__stab_remove\n    unable to remove entry\n  File \"..\\..\\hdf5-1.8.11\\src\\H5B.c\", line 1676, in H5B_remove\n    unable to remove entry from B-tree\n  File \"..\\..\\hdf5-1.8.11\\src\\H5B.c\", line 1402, in H5B_remove_helper\n    key not found in leaf node\n  File \"..\\..\\hdf5-1.8.11\\src\\H5Gnode.c\", line 872, in H5G_node_remove\n    unable to decrement object link count\n  File \"..\\..\\hdf5-1.8.11\\src\\H5O.c\", line 1617, in H5O_link\n    unable to adjust object link count\n  File \"..\\..\\hdf5-1.8.11\\src\\H5O.c\", line 1500, in H5O_link_oh\n    link count would be negative\n\nEnd of HDF5 error back trace\n\nproblems deleting the node ``/Election``"
     ]
    }
   ],
   "source": [
    "store.close()\n",
    "store.open()\n",
    "del store['Election']"
   ]
  },
  {
   "cell_type": "code",
   "execution_count": 9,
   "metadata": {
    "collapsed": false
   },
   "outputs": [],
   "source": [
    "store.close()"
   ]
  },
  {
   "cell_type": "code",
   "execution_count": 10,
   "metadata": {
    "collapsed": false
   },
   "outputs": [
    {
     "data": {
      "text/plain": [
       "<class 'pandas.io.pytables.HDFStore'>\n",
       "File path: Election.h5\n",
       "File is CLOSED"
      ]
     },
     "execution_count": 10,
     "metadata": {},
     "output_type": "execute_result"
    }
   ],
   "source": [
    "store"
   ]
  },
  {
   "cell_type": "code",
   "execution_count": 3,
   "metadata": {
    "collapsed": false
   },
   "outputs": [],
   "source": [
    "\n",
    "\n",
    "csv_path = 'Election.csv'\n",
    "n_chunk = 50000\n",
    "col_types = {'cmte_id':np.object,\n",
    "             'cand_id':np.object,\n",
    "             'cand_nm':np.object,\n",
    "             'contbr_nm':np.object,\n",
    "             'contbr_city':np.object,\n",
    "             'contbr_st':np.object,\n",
    "             'contbr_zip':np.object,\n",
    "             'contbr_employer':np.object,\n",
    "             'contbr_occupation':np.object,\n",
    "             'contb_receipt_amt':np.float,\n",
    "             'receipt_desc':np.object,\n",
    "             'memo_cd':np.object,\n",
    "             'memo_text':np.object,\n",
    "             'form_tp':np.object,\n",
    "             'file_num':np.float,\n",
    "             'tran_id':np.object,\n",
    "             'election_tp':np.object\n",
    "             }"
   ]
  },
  {
   "cell_type": "code",
   "execution_count": 4,
   "metadata": {
    "collapsed": false
   },
   "outputs": [],
   "source": [
    "reader = pd.read_csv(csv_path,\n",
    "                     dtype=col_types,\n",
    "                     index_col=False,\n",
    "                     parse_dates=['contb_receipt_dt'],\n",
    "                     chunksize=n_chunk\n",
    "                     #skipinitialspace=True\n",
    "                     )"
   ]
  },
  {
   "cell_type": "code",
   "execution_count": 5,
   "metadata": {
    "collapsed": true
   },
   "outputs": [
    {
     "name": "stdout",
     "output_type": "stream",
     "text": [
      "1\n",
      "2\n",
      "3\n",
      "4\n",
      "5\n",
      "6\n",
      "7\n",
      "8\n",
      "9\n",
      "10\n",
      "11\n",
      "12\n",
      "13\n",
      "14\n",
      "15\n",
      "16\n",
      "17\n",
      "18\n",
      "19\n",
      "20\n",
      "21\n",
      "22\n",
      "23\n",
      "24\n",
      "25\n",
      "26\n",
      "27\n",
      "28\n",
      "29\n",
      "30\n",
      "31\n",
      "32\n",
      "33\n",
      "34\n",
      "35\n",
      "36\n",
      "37\n",
      "38\n",
      "39\n",
      "40\n",
      "41\n",
      "42\n",
      "43\n",
      "44\n",
      "45\n",
      "46\n",
      "47\n",
      "48\n",
      "49\n",
      "50\n",
      "51\n",
      "52\n",
      "53\n",
      "54\n",
      "55\n",
      "56\n",
      "57\n",
      "58\n",
      "59\n",
      "60\n",
      "61\n",
      "62\n",
      "63\n",
      "64\n",
      "65\n",
      "66\n",
      "67\n",
      "68\n",
      "69\n",
      "70\n",
      "71\n",
      "72\n",
      "73\n",
      "74\n",
      "75\n",
      "76\n",
      "77\n",
      "78\n",
      "79\n",
      "80\n",
      "81\n",
      "82\n",
      "83\n",
      "84\n",
      "85\n",
      "86\n",
      "87\n",
      "88\n",
      "89\n",
      "90\n",
      "91\n",
      "92\n",
      "93\n",
      "94\n",
      "95\n",
      "96\n",
      "97\n",
      "98\n",
      "99\n",
      "100\n",
      "101\n",
      "102\n",
      "103\n",
      "104\n",
      "105\n",
      "106\n",
      "107\n",
      "108\n",
      "109\n",
      "110\n",
      "111\n",
      "112\n",
      "113\n",
      "114\n",
      "115\n",
      "116\n",
      "117\n",
      "118\n",
      "119\n",
      "120\n",
      "121\n"
     ]
    },
    {
     "data": {
      "text/plain": [
       "<class 'pandas.io.pytables.HDFStore'>\n",
       "File path: Election.h5\n",
       "/Election            frame_table  (typ->appendable,nrows->6036458,ncols->18,indexers->[index],dc->[cand_nm,contbr_st,contb_receipt_amt,contbr_occupation,contb_receipt_dt])"
      ]
     },
     "execution_count": 5,
     "metadata": {},
     "output_type": "execute_result"
    }
   ],
   "source": [
    "first = True\n",
    "data_cols = ['cand_nm','contbr_st','contb_receipt_amt','contbr_occupation','contb_receipt_dt']\n",
    "chunk_num = 1\n",
    "for chunk in reader:\n",
    "    print chunk_num\n",
    "    chunk_num+=1\n",
    "    if first:\n",
    "        store.append('Election', chunk, data_columns=data_cols, index=False, min_itemsize={'values':50})\n",
    "        first = False\n",
    "    else:\n",
    "        store.append('Election', chunk, index=False)\n",
    "store"
   ]
  },
  {
   "cell_type": "code",
   "execution_count": 6,
   "metadata": {
    "collapsed": false
   },
   "outputs": [],
   "source": [
    "store.create_table_index('Election', optlevel=9, kind='full')"
   ]
  },
  {
   "cell_type": "code",
   "execution_count": 6,
   "metadata": {
    "collapsed": true
   },
   "outputs": [
    {
     "data": {
      "text/html": [
       "<div style=\"max-height:1000px;max-width:1500px;overflow:auto;\">\n",
       "<table border=\"1\" class=\"dataframe\">\n",
       "  <thead>\n",
       "    <tr style=\"text-align: right;\">\n",
       "      <th></th>\n",
       "      <th>A</th>\n",
       "      <th>B</th>\n",
       "      <th>C</th>\n",
       "    </tr>\n",
       "  </thead>\n",
       "  <tbody>\n",
       "    <tr>\n",
       "      <th>5  </th>\n",
       "      <td>-0.117438</td>\n",
       "      <td>-1.158629</td>\n",
       "      <td> 0.802489</td>\n",
       "    </tr>\n",
       "    <tr>\n",
       "      <th>7  </th>\n",
       "      <td>-1.149631</td>\n",
       "      <td>-1.015535</td>\n",
       "      <td> 0.089663</td>\n",
       "    </tr>\n",
       "    <tr>\n",
       "      <th>8  </th>\n",
       "      <td>-1.176948</td>\n",
       "      <td>-2.498150</td>\n",
       "      <td> 1.169316</td>\n",
       "    </tr>\n",
       "    <tr>\n",
       "      <th>9  </th>\n",
       "      <td> 0.053147</td>\n",
       "      <td>-0.275624</td>\n",
       "      <td> 0.567064</td>\n",
       "    </tr>\n",
       "    <tr>\n",
       "      <th>11 </th>\n",
       "      <td>-0.015035</td>\n",
       "      <td>-0.551113</td>\n",
       "      <td> 0.925186</td>\n",
       "    </tr>\n",
       "    <tr>\n",
       "      <th>14 </th>\n",
       "      <td>-0.841065</td>\n",
       "      <td>-0.516207</td>\n",
       "      <td> 0.132337</td>\n",
       "    </tr>\n",
       "    <tr>\n",
       "      <th>16 </th>\n",
       "      <td>-2.596223</td>\n",
       "      <td>-0.972695</td>\n",
       "      <td> 1.265653</td>\n",
       "    </tr>\n",
       "    <tr>\n",
       "      <th>23 </th>\n",
       "      <td> 0.677981</td>\n",
       "      <td>-1.550332</td>\n",
       "      <td> 0.074337</td>\n",
       "    </tr>\n",
       "    <tr>\n",
       "      <th>29 </th>\n",
       "      <td>-1.167706</td>\n",
       "      <td>-0.789103</td>\n",
       "      <td> 1.112683</td>\n",
       "    </tr>\n",
       "    <tr>\n",
       "      <th>30 </th>\n",
       "      <td>-0.612456</td>\n",
       "      <td>-1.898663</td>\n",
       "      <td> 0.183705</td>\n",
       "    </tr>\n",
       "    <tr>\n",
       "      <th>32 </th>\n",
       "      <td> 0.698313</td>\n",
       "      <td>-1.229768</td>\n",
       "      <td> 0.318317</td>\n",
       "    </tr>\n",
       "    <tr>\n",
       "      <th>39 </th>\n",
       "      <td>-0.852818</td>\n",
       "      <td>-0.305083</td>\n",
       "      <td> 0.269789</td>\n",
       "    </tr>\n",
       "    <tr>\n",
       "      <th>41 </th>\n",
       "      <td>-0.847215</td>\n",
       "      <td>-0.089249</td>\n",
       "      <td> 0.235515</td>\n",
       "    </tr>\n",
       "    <tr>\n",
       "      <th>43 </th>\n",
       "      <td>-0.734483</td>\n",
       "      <td>-1.372640</td>\n",
       "      <td> 1.010522</td>\n",
       "    </tr>\n",
       "    <tr>\n",
       "      <th>45 </th>\n",
       "      <td> 0.326850</td>\n",
       "      <td>-0.864879</td>\n",
       "      <td> 0.725580</td>\n",
       "    </tr>\n",
       "    <tr>\n",
       "      <th>49 </th>\n",
       "      <td> 0.460059</td>\n",
       "      <td>-0.430155</td>\n",
       "      <td> 0.759741</td>\n",
       "    </tr>\n",
       "    <tr>\n",
       "      <th>55 </th>\n",
       "      <td> 0.823316</td>\n",
       "      <td>-0.900285</td>\n",
       "      <td> 0.866774</td>\n",
       "    </tr>\n",
       "    <tr>\n",
       "      <th>56 </th>\n",
       "      <td> 0.182786</td>\n",
       "      <td>-1.359643</td>\n",
       "      <td> 1.444338</td>\n",
       "    </tr>\n",
       "    <tr>\n",
       "      <th>59 </th>\n",
       "      <td> 1.881360</td>\n",
       "      <td>-0.182555</td>\n",
       "      <td> 0.765674</td>\n",
       "    </tr>\n",
       "    <tr>\n",
       "      <th>63 </th>\n",
       "      <td> 0.864449</td>\n",
       "      <td>-2.312357</td>\n",
       "      <td> 0.206331</td>\n",
       "    </tr>\n",
       "    <tr>\n",
       "      <th>67 </th>\n",
       "      <td>-0.621347</td>\n",
       "      <td>-0.557207</td>\n",
       "      <td> 2.161514</td>\n",
       "    </tr>\n",
       "    <tr>\n",
       "      <th>69 </th>\n",
       "      <td>-0.522266</td>\n",
       "      <td>-0.937964</td>\n",
       "      <td> 1.210589</td>\n",
       "    </tr>\n",
       "    <tr>\n",
       "      <th>73 </th>\n",
       "      <td>-0.535850</td>\n",
       "      <td>-0.737585</td>\n",
       "      <td> 0.369726</td>\n",
       "    </tr>\n",
       "    <tr>\n",
       "      <th>74 </th>\n",
       "      <td> 0.172769</td>\n",
       "      <td>-1.916194</td>\n",
       "      <td> 1.662304</td>\n",
       "    </tr>\n",
       "    <tr>\n",
       "      <th>77 </th>\n",
       "      <td>-0.685852</td>\n",
       "      <td>-0.235818</td>\n",
       "      <td> 0.863870</td>\n",
       "    </tr>\n",
       "    <tr>\n",
       "      <th>78 </th>\n",
       "      <td> 0.853366</td>\n",
       "      <td>-0.404907</td>\n",
       "      <td> 0.163028</td>\n",
       "    </tr>\n",
       "    <tr>\n",
       "      <th>86 </th>\n",
       "      <td>-0.579514</td>\n",
       "      <td>-0.581989</td>\n",
       "      <td> 0.388545</td>\n",
       "    </tr>\n",
       "    <tr>\n",
       "      <th>88 </th>\n",
       "      <td> 1.917358</td>\n",
       "      <td>-0.274122</td>\n",
       "      <td> 0.563848</td>\n",
       "    </tr>\n",
       "    <tr>\n",
       "      <th>91 </th>\n",
       "      <td> 0.611407</td>\n",
       "      <td>-0.802763</td>\n",
       "      <td> 0.841365</td>\n",
       "    </tr>\n",
       "    <tr>\n",
       "      <th>93 </th>\n",
       "      <td> 0.166251</td>\n",
       "      <td>-1.375033</td>\n",
       "      <td> 0.345376</td>\n",
       "    </tr>\n",
       "    <tr>\n",
       "      <th>...</th>\n",
       "      <td>...</td>\n",
       "      <td>...</td>\n",
       "      <td>...</td>\n",
       "    </tr>\n",
       "    <tr>\n",
       "      <th>846</th>\n",
       "      <td>-0.648156</td>\n",
       "      <td>-1.906752</td>\n",
       "      <td> 0.860725</td>\n",
       "    </tr>\n",
       "    <tr>\n",
       "      <th>847</th>\n",
       "      <td> 1.532645</td>\n",
       "      <td>-1.279243</td>\n",
       "      <td> 2.249431</td>\n",
       "    </tr>\n",
       "    <tr>\n",
       "      <th>848</th>\n",
       "      <td>-0.708005</td>\n",
       "      <td>-0.139262</td>\n",
       "      <td> 0.785690</td>\n",
       "    </tr>\n",
       "    <tr>\n",
       "      <th>850</th>\n",
       "      <td> 0.376509</td>\n",
       "      <td>-0.201056</td>\n",
       "      <td> 0.929524</td>\n",
       "    </tr>\n",
       "    <tr>\n",
       "      <th>853</th>\n",
       "      <td>-0.159442</td>\n",
       "      <td>-1.477427</td>\n",
       "      <td> 1.407982</td>\n",
       "    </tr>\n",
       "    <tr>\n",
       "      <th>855</th>\n",
       "      <td>-1.553687</td>\n",
       "      <td>-0.178839</td>\n",
       "      <td> 1.475865</td>\n",
       "    </tr>\n",
       "    <tr>\n",
       "      <th>857</th>\n",
       "      <td>-0.079549</td>\n",
       "      <td>-0.087957</td>\n",
       "      <td> 0.791932</td>\n",
       "    </tr>\n",
       "    <tr>\n",
       "      <th>862</th>\n",
       "      <td> 1.225147</td>\n",
       "      <td>-0.105235</td>\n",
       "      <td> 0.026624</td>\n",
       "    </tr>\n",
       "    <tr>\n",
       "      <th>863</th>\n",
       "      <td>-0.292378</td>\n",
       "      <td>-0.151506</td>\n",
       "      <td> 0.077604</td>\n",
       "    </tr>\n",
       "    <tr>\n",
       "      <th>878</th>\n",
       "      <td>-0.485163</td>\n",
       "      <td>-0.229441</td>\n",
       "      <td> 0.113269</td>\n",
       "    </tr>\n",
       "    <tr>\n",
       "      <th>895</th>\n",
       "      <td>-1.269960</td>\n",
       "      <td>-0.425621</td>\n",
       "      <td> 0.879945</td>\n",
       "    </tr>\n",
       "    <tr>\n",
       "      <th>897</th>\n",
       "      <td>-1.134133</td>\n",
       "      <td>-1.611634</td>\n",
       "      <td> 0.606143</td>\n",
       "    </tr>\n",
       "    <tr>\n",
       "      <th>906</th>\n",
       "      <td>-0.782262</td>\n",
       "      <td>-1.368227</td>\n",
       "      <td> 1.979389</td>\n",
       "    </tr>\n",
       "    <tr>\n",
       "      <th>907</th>\n",
       "      <td> 0.122588</td>\n",
       "      <td>-1.785901</td>\n",
       "      <td> 0.123840</td>\n",
       "    </tr>\n",
       "    <tr>\n",
       "      <th>918</th>\n",
       "      <td>-1.118709</td>\n",
       "      <td>-0.439949</td>\n",
       "      <td> 0.260799</td>\n",
       "    </tr>\n",
       "    <tr>\n",
       "      <th>919</th>\n",
       "      <td> 0.406096</td>\n",
       "      <td>-0.883920</td>\n",
       "      <td> 0.422368</td>\n",
       "    </tr>\n",
       "    <tr>\n",
       "      <th>931</th>\n",
       "      <td>-0.012615</td>\n",
       "      <td>-0.740078</td>\n",
       "      <td> 0.046973</td>\n",
       "    </tr>\n",
       "    <tr>\n",
       "      <th>937</th>\n",
       "      <td> 0.787500</td>\n",
       "      <td>-0.799859</td>\n",
       "      <td> 2.299828</td>\n",
       "    </tr>\n",
       "    <tr>\n",
       "      <th>942</th>\n",
       "      <td>-0.125733</td>\n",
       "      <td>-0.472850</td>\n",
       "      <td> 0.887179</td>\n",
       "    </tr>\n",
       "    <tr>\n",
       "      <th>955</th>\n",
       "      <td> 0.276577</td>\n",
       "      <td>-0.296609</td>\n",
       "      <td> 1.433124</td>\n",
       "    </tr>\n",
       "    <tr>\n",
       "      <th>956</th>\n",
       "      <td>-0.847405</td>\n",
       "      <td>-0.502515</td>\n",
       "      <td> 1.362281</td>\n",
       "    </tr>\n",
       "    <tr>\n",
       "      <th>958</th>\n",
       "      <td>-3.085089</td>\n",
       "      <td>-0.064277</td>\n",
       "      <td> 0.238277</td>\n",
       "    </tr>\n",
       "    <tr>\n",
       "      <th>971</th>\n",
       "      <td> 0.909018</td>\n",
       "      <td>-1.134416</td>\n",
       "      <td> 0.190533</td>\n",
       "    </tr>\n",
       "    <tr>\n",
       "      <th>981</th>\n",
       "      <td> 0.943738</td>\n",
       "      <td>-0.685438</td>\n",
       "      <td> 0.019765</td>\n",
       "    </tr>\n",
       "    <tr>\n",
       "      <th>985</th>\n",
       "      <td>-1.166378</td>\n",
       "      <td>-0.867728</td>\n",
       "      <td> 2.212982</td>\n",
       "    </tr>\n",
       "    <tr>\n",
       "      <th>991</th>\n",
       "      <td>-0.231192</td>\n",
       "      <td>-0.084914</td>\n",
       "      <td> 0.497627</td>\n",
       "    </tr>\n",
       "    <tr>\n",
       "      <th>994</th>\n",
       "      <td>-1.838568</td>\n",
       "      <td>-0.039834</td>\n",
       "      <td> 1.388510</td>\n",
       "    </tr>\n",
       "    <tr>\n",
       "      <th>995</th>\n",
       "      <td>-0.297432</td>\n",
       "      <td>-0.520064</td>\n",
       "      <td> 1.097071</td>\n",
       "    </tr>\n",
       "    <tr>\n",
       "      <th>997</th>\n",
       "      <td>-0.087221</td>\n",
       "      <td>-1.565420</td>\n",
       "      <td> 0.952332</td>\n",
       "    </tr>\n",
       "    <tr>\n",
       "      <th>999</th>\n",
       "      <td>-1.455524</td>\n",
       "      <td>-0.460696</td>\n",
       "      <td> 0.645156</td>\n",
       "    </tr>\n",
       "  </tbody>\n",
       "</table>\n",
       "<p>2529 rows × 3 columns</p>\n",
       "</div>"
      ],
      "text/plain": [
       "            A         B         C\n",
       "5   -0.117438 -1.158629  0.802489\n",
       "7   -1.149631 -1.015535  0.089663\n",
       "8   -1.176948 -2.498150  1.169316\n",
       "9    0.053147 -0.275624  0.567064\n",
       "11  -0.015035 -0.551113  0.925186\n",
       "14  -0.841065 -0.516207  0.132337\n",
       "16  -2.596223 -0.972695  1.265653\n",
       "23   0.677981 -1.550332  0.074337\n",
       "29  -1.167706 -0.789103  1.112683\n",
       "30  -0.612456 -1.898663  0.183705\n",
       "32   0.698313 -1.229768  0.318317\n",
       "39  -0.852818 -0.305083  0.269789\n",
       "41  -0.847215 -0.089249  0.235515\n",
       "43  -0.734483 -1.372640  1.010522\n",
       "45   0.326850 -0.864879  0.725580\n",
       "49   0.460059 -0.430155  0.759741\n",
       "55   0.823316 -0.900285  0.866774\n",
       "56   0.182786 -1.359643  1.444338\n",
       "59   1.881360 -0.182555  0.765674\n",
       "63   0.864449 -2.312357  0.206331\n",
       "67  -0.621347 -0.557207  2.161514\n",
       "69  -0.522266 -0.937964  1.210589\n",
       "73  -0.535850 -0.737585  0.369726\n",
       "74   0.172769 -1.916194  1.662304\n",
       "77  -0.685852 -0.235818  0.863870\n",
       "78   0.853366 -0.404907  0.163028\n",
       "86  -0.579514 -0.581989  0.388545\n",
       "88   1.917358 -0.274122  0.563848\n",
       "91   0.611407 -0.802763  0.841365\n",
       "93   0.166251 -1.375033  0.345376\n",
       "..        ...       ...       ...\n",
       "846 -0.648156 -1.906752  0.860725\n",
       "847  1.532645 -1.279243  2.249431\n",
       "848 -0.708005 -0.139262  0.785690\n",
       "850  0.376509 -0.201056  0.929524\n",
       "853 -0.159442 -1.477427  1.407982\n",
       "855 -1.553687 -0.178839  1.475865\n",
       "857 -0.079549 -0.087957  0.791932\n",
       "862  1.225147 -0.105235  0.026624\n",
       "863 -0.292378 -0.151506  0.077604\n",
       "878 -0.485163 -0.229441  0.113269\n",
       "895 -1.269960 -0.425621  0.879945\n",
       "897 -1.134133 -1.611634  0.606143\n",
       "906 -0.782262 -1.368227  1.979389\n",
       "907  0.122588 -1.785901  0.123840\n",
       "918 -1.118709 -0.439949  0.260799\n",
       "919  0.406096 -0.883920  0.422368\n",
       "931 -0.012615 -0.740078  0.046973\n",
       "937  0.787500 -0.799859  2.299828\n",
       "942 -0.125733 -0.472850  0.887179\n",
       "955  0.276577 -0.296609  1.433124\n",
       "956 -0.847405 -0.502515  1.362281\n",
       "958 -3.085089 -0.064277  0.238277\n",
       "971  0.909018 -1.134416  0.190533\n",
       "981  0.943738 -0.685438  0.019765\n",
       "985 -1.166378 -0.867728  2.212982\n",
       "991 -0.231192 -0.084914  0.497627\n",
       "994 -1.838568 -0.039834  1.388510\n",
       "995 -0.297432 -0.520064  1.097071\n",
       "997 -0.087221 -1.565420  0.952332\n",
       "999 -1.455524 -0.460696  0.645156\n",
       "\n",
       "[2529 rows x 3 columns]"
      ]
     },
     "execution_count": 6,
     "metadata": {},
     "output_type": "execute_result"
    }
   ],
   "source": [
    "my_store.select('toy_data', where = [\"'B'<0\",\"'C'>0\"])"
   ]
  },
  {
   "cell_type": "code",
   "execution_count": 2,
   "metadata": {
    "collapsed": false
   },
   "outputs": [
    {
     "data": {
      "text/plain": [
       "array(['Bachmann, Michele', 'Romney, Mitt', 'Obama, Barack',\n",
       "       \"Roemer, Charles E. 'Buddy' III\", 'Pawlenty, Timothy',\n",
       "       'Johnson, Gary Earl', 'Paul, Ron', 'Santorum, Rick', 'Cain, Herman',\n",
       "       'Gingrich, Newt', 'McCotter, Thaddeus G', 'Huntsman, Jon',\n",
       "       'Perry, Rick', 'Stein, Jill'], dtype=object)"
      ]
     },
     "execution_count": 2,
     "metadata": {},
     "output_type": "execute_result"
    }
   ],
   "source": [
    "cands = store.select_column('Election', 'cand_nm').unique()\n",
    "cands"
   ]
  },
  {
   "cell_type": "code",
   "execution_count": 3,
   "metadata": {
    "collapsed": false
   },
   "outputs": [
    {
     "data": {
      "text/plain": [
       "69125"
      ]
     },
     "execution_count": 3,
     "metadata": {},
     "output_type": "execute_result"
    }
   ],
   "source": [
    "n_UT = len(store.select('Election', where = [\"'contbr_st'=='UT'\", \"columns='contbr_st'\"]))\n",
    "n_UT"
   ]
  },
  {
   "cell_type": "code",
   "execution_count": 4,
   "metadata": {
    "collapsed": false
   },
   "outputs": [
    {
     "data": {
      "text/plain": [
       "45628"
      ]
     },
     "execution_count": 4,
     "metadata": {},
     "output_type": "execute_result"
    }
   ],
   "source": [
    "n_rom_UT = len(store.select('Election', where = [\"'contbr_st'=='UT'\",\"'cand_nm'=='Romney, Mitt'\"]))#, \"columns='cand_nm'\"]))\n",
    "n_rom_UT"
   ]
  },
  {
   "cell_type": "code",
   "execution_count": 5,
   "metadata": {
    "collapsed": false
   },
   "outputs": [
    {
     "data": {
      "text/plain": [
       "0.6600795660036166"
      ]
     },
     "execution_count": 5,
     "metadata": {},
     "output_type": "execute_result"
    }
   ],
   "source": [
    "np.float(n_rom_UT)/n_UT"
   ]
  },
  {
   "cell_type": "code",
   "execution_count": 6,
   "metadata": {
    "collapsed": false
   },
   "outputs": [
    {
     "name": "stdout",
     "output_type": "stream",
     "text": [
      "CA Obama Contributors: 724300\n",
      "CA Romney Contributors: 193123\n"
     ]
    }
   ],
   "source": [
    "#Problem 2\n",
    "n_CA_BO = len(store.select('Election', where=[\"'contbr_st'=='CA'\", \"'cand_nm'=='Obama, Barack'\"]))\n",
    "n_CA_MR = len(store.select('Election', where=[\"'contbr_st'=='CA'\", \"'cand_nm'=='Romney, Mitt'\"]))\n",
    "print \"CA Obama Contributors:\", n_CA_BO\n",
    "print \"CA Romney Contributors:\", n_CA_MR"
   ]
  },
  {
   "cell_type": "code",
   "execution_count": 7,
   "metadata": {
    "collapsed": false
   },
   "outputs": [
    {
     "data": {
      "text/plain": [
       "<class 'pandas.io.pytables.HDFStore'>\n",
       "File path: Election.h5\n",
       "/Election            frame_table  (typ->appendable,nrows->6036458,ncols->18,indexers->[index],dc->[cand_nm,contbr_st,contb_receipt_amt,contbr_occupation,contb_receipt_dt])"
      ]
     },
     "execution_count": 7,
     "metadata": {},
     "output_type": "execute_result"
    }
   ],
   "source": [
    "store"
   ]
  },
  {
   "cell_type": "code",
   "execution_count": 8,
   "metadata": {
    "collapsed": false
   },
   "outputs": [],
   "source": [
    "states = store.select_column('Election','contbr_st')\n",
    "states = states.value_counts()\n",
    "states"
   ]
  },
  {
   "cell_type": "code",
   "execution_count": 9,
   "metadata": {
    "collapsed": true
   },
   "outputs": [
    {
     "name": "stdout",
     "output_type": "stream",
     "text": [
      "1\n",
      "2\n",
      "3\n",
      "4\n",
      "5\n",
      "6\n",
      "7\n",
      "8\n",
      "9\n",
      "10\n",
      "11\n",
      "12\n",
      "13\n",
      "14\n",
      "15\n",
      "16\n",
      "17\n",
      "18\n",
      "19\n",
      "20\n",
      "21\n",
      "22\n",
      "23\n",
      "24\n",
      "25\n",
      "26\n",
      "27\n",
      "28\n",
      "29\n",
      "30\n",
      "31\n",
      "32\n",
      "33\n",
      "34\n",
      "35\n",
      "36\n",
      "37\n",
      "38\n",
      "39\n",
      "40\n",
      "41\n",
      "42\n",
      "43\n",
      "44\n",
      "45\n",
      "46\n",
      "47\n",
      "48\n",
      "49\n",
      "50\n",
      "51\n",
      "52\n",
      "53\n",
      "54\n",
      "55\n",
      "56\n",
      "57\n",
      "58\n",
      "59\n",
      "60\n",
      "61\n",
      "62\n",
      "63\n",
      "64\n",
      "65\n",
      "66\n",
      "67\n",
      "68\n",
      "69\n",
      "70\n",
      "71\n",
      "72\n",
      "73\n",
      "74\n",
      "75\n",
      "76\n",
      "77\n",
      "78\n",
      "79\n",
      "80\n",
      "81\n",
      "82\n",
      "83\n",
      "84\n",
      "85\n",
      "86\n",
      "87\n",
      "88\n",
      "89\n",
      "90\n",
      "91\n",
      "92\n",
      "93\n",
      "94\n",
      "95\n"
     ]
    }
   ],
   "source": [
    "st_contb = []\n",
    "i = 1\n",
    "for state in states.index:\n",
    "    print i\n",
    "    i+=1\n",
    "    grp = store.select('Election', where=[\"'contbr_st'=\\\"{}\\\"\".format(state), \"columns='contb_receipt_amt'\"])\n",
    "    st_contb.append(grp['contb_receipt_amt'].mean())"
   ]
  },
  {
   "cell_type": "code",
   "execution_count": 10,
   "metadata": {
    "collapsed": false
   },
   "outputs": [],
   "source": [
    "state_info = pd.DataFrame({'Count':states, 'Avg Contb':st_contb})\n",
    "state_info.sort(columns='Count', ascending=False, inplace=True)\n",
    "plt.subplot(211)\n",
    "state_info['Count'][:10].plot(kind='bar')\n",
    "plt.subplot(212)\n",
    "state_info['Avg Contb'][:10].plot(kind='bar')\n",
    "plt.show()\n",
    "plt.close()"
   ]
  },
  {
   "cell_type": "code",
   "execution_count": 12,
   "metadata": {
    "collapsed": false
   },
   "outputs": [
    {
     "data": {
      "text/plain": [
       "Obama, Barack                     4117404\n",
       "Romney, Mitt                      1593686\n",
       "Paul, Ron                          151722\n",
       "Santorum, Rick                      52098\n",
       "Gingrich, Newt                      51795\n",
       "Cain, Herman                        20160\n",
       "Perry, Rick                         13605\n",
       "Bachmann, Michele                   13240\n",
       "Johnson, Gary Earl                   6599\n",
       "Roemer, Charles E. 'Buddy' III       6010\n",
       "Pawlenty, Timothy                    4555\n",
       "Huntsman, Jon                        4193\n",
       "Stein, Jill                          1317\n",
       "McCotter, Thaddeus G                   74\n",
       "dtype: int64"
      ]
     },
     "execution_count": 12,
     "metadata": {},
     "output_type": "execute_result"
    }
   ],
   "source": [
    "cand = store.select_column('Election','cand_nm')\n",
    "cand = cand.value_counts()\n",
    "cand"
   ]
  },
  {
   "cell_type": "code",
   "execution_count": 14,
   "metadata": {
    "collapsed": false
   },
   "outputs": [
    {
     "data": {
      "text/plain": [
       "Index([u'Obama, Barack', u'Romney, Mitt', u'Paul, Ron', u'Santorum, Rick', u'Gingrich, Newt', u'Cain, Herman', u'Perry, Rick', u'Bachmann, Michele', u'Johnson, Gary Earl', u'Roemer, Charles E. 'Buddy' III', u'Pawlenty, Timothy', u'Huntsman, Jon', u'Stein, Jill', u'McCotter, Thaddeus G'], dtype='object')"
      ]
     },
     "execution_count": 14,
     "metadata": {},
     "output_type": "execute_result"
    }
   ],
   "source": [
    "cand.index"
   ]
  },
  {
   "cell_type": "code",
   "execution_count": 15,
   "metadata": {
    "collapsed": false
   },
   "outputs": [
    {
     "data": {
      "text/plain": [
       "array(['Bachmann, Michele', 'Romney, Mitt', 'Obama, Barack',\n",
       "       \"Roemer, Charles E. 'Buddy' III\", 'Pawlenty, Timothy',\n",
       "       'Johnson, Gary Earl', 'Paul, Ron', 'Santorum, Rick', 'Cain, Herman',\n",
       "       'Gingrich, Newt', 'McCotter, Thaddeus G', 'Huntsman, Jon',\n",
       "       'Perry, Rick', 'Stein, Jill'], dtype=object)"
      ]
     },
     "execution_count": 15,
     "metadata": {},
     "output_type": "execute_result"
    }
   ],
   "source": [
    "cand2 = store.select_column('Election','cand_nm').unique()\n",
    "cand2"
   ]
  },
  {
   "cell_type": "code",
   "execution_count": 3,
   "metadata": {
    "collapsed": false,
    "scrolled": true
   },
   "outputs": [
    {
     "data": {
      "text/html": [
       "<div style=\"max-height:1000px;max-width:1500px;overflow:auto;\">\n",
       "<table border=\"1\" class=\"dataframe\">\n",
       "  <thead>\n",
       "    <tr style=\"text-align: right;\">\n",
       "      <th></th>\n",
       "      <th>contb_receipt_amt</th>\n",
       "    </tr>\n",
       "  </thead>\n",
       "  <tbody>\n",
       "    <tr>\n",
       "      <th>411  </th>\n",
       "      <td>  200</td>\n",
       "    </tr>\n",
       "    <tr>\n",
       "      <th>412  </th>\n",
       "      <td>  100</td>\n",
       "    </tr>\n",
       "    <tr>\n",
       "      <th>413  </th>\n",
       "      <td>  225</td>\n",
       "    </tr>\n",
       "    <tr>\n",
       "      <th>414  </th>\n",
       "      <td>  126</td>\n",
       "    </tr>\n",
       "    <tr>\n",
       "      <th>415  </th>\n",
       "      <td>  225</td>\n",
       "    </tr>\n",
       "    <tr>\n",
       "      <th>416  </th>\n",
       "      <td>  200</td>\n",
       "    </tr>\n",
       "    <tr>\n",
       "      <th>417  </th>\n",
       "      <td>  100</td>\n",
       "    </tr>\n",
       "    <tr>\n",
       "      <th>418  </th>\n",
       "      <td>  126</td>\n",
       "    </tr>\n",
       "    <tr>\n",
       "      <th>419  </th>\n",
       "      <td>  110</td>\n",
       "    </tr>\n",
       "    <tr>\n",
       "      <th>420  </th>\n",
       "      <td>   41</td>\n",
       "    </tr>\n",
       "    <tr>\n",
       "      <th>421  </th>\n",
       "      <td>   50</td>\n",
       "    </tr>\n",
       "    <tr>\n",
       "      <th>422  </th>\n",
       "      <td>   50</td>\n",
       "    </tr>\n",
       "    <tr>\n",
       "      <th>423  </th>\n",
       "      <td>  110</td>\n",
       "    </tr>\n",
       "    <tr>\n",
       "      <th>424  </th>\n",
       "      <td>   41</td>\n",
       "    </tr>\n",
       "    <tr>\n",
       "      <th>425  </th>\n",
       "      <td>  200</td>\n",
       "    </tr>\n",
       "    <tr>\n",
       "      <th>426  </th>\n",
       "      <td>  200</td>\n",
       "    </tr>\n",
       "    <tr>\n",
       "      <th>427  </th>\n",
       "      <td>  100</td>\n",
       "    </tr>\n",
       "    <tr>\n",
       "      <th>428  </th>\n",
       "      <td>   55</td>\n",
       "    </tr>\n",
       "    <tr>\n",
       "      <th>429  </th>\n",
       "      <td>   74</td>\n",
       "    </tr>\n",
       "    <tr>\n",
       "      <th>430  </th>\n",
       "      <td>  500</td>\n",
       "    </tr>\n",
       "    <tr>\n",
       "      <th>431  </th>\n",
       "      <td>  500</td>\n",
       "    </tr>\n",
       "    <tr>\n",
       "      <th>432  </th>\n",
       "      <td>   55</td>\n",
       "    </tr>\n",
       "    <tr>\n",
       "      <th>433  </th>\n",
       "      <td>   74</td>\n",
       "    </tr>\n",
       "    <tr>\n",
       "      <th>434  </th>\n",
       "      <td>  350</td>\n",
       "    </tr>\n",
       "    <tr>\n",
       "      <th>435  </th>\n",
       "      <td>  350</td>\n",
       "    </tr>\n",
       "    <tr>\n",
       "      <th>436  </th>\n",
       "      <td>  120</td>\n",
       "    </tr>\n",
       "    <tr>\n",
       "      <th>437  </th>\n",
       "      <td>  120</td>\n",
       "    </tr>\n",
       "    <tr>\n",
       "      <th>438  </th>\n",
       "      <td>  150</td>\n",
       "    </tr>\n",
       "    <tr>\n",
       "      <th>439  </th>\n",
       "      <td>  150</td>\n",
       "    </tr>\n",
       "    <tr>\n",
       "      <th>440  </th>\n",
       "      <td>  120</td>\n",
       "    </tr>\n",
       "    <tr>\n",
       "      <th>...</th>\n",
       "      <td>...</td>\n",
       "    </tr>\n",
       "    <tr>\n",
       "      <th>44067</th>\n",
       "      <td> 2500</td>\n",
       "    </tr>\n",
       "    <tr>\n",
       "      <th>44068</th>\n",
       "      <td> 1000</td>\n",
       "    </tr>\n",
       "    <tr>\n",
       "      <th>44069</th>\n",
       "      <td> 1000</td>\n",
       "    </tr>\n",
       "    <tr>\n",
       "      <th>44070</th>\n",
       "      <td> 1000</td>\n",
       "    </tr>\n",
       "    <tr>\n",
       "      <th>44071</th>\n",
       "      <td>  500</td>\n",
       "    </tr>\n",
       "    <tr>\n",
       "      <th>44072</th>\n",
       "      <td> 1000</td>\n",
       "    </tr>\n",
       "    <tr>\n",
       "      <th>44073</th>\n",
       "      <td> 2500</td>\n",
       "    </tr>\n",
       "    <tr>\n",
       "      <th>44074</th>\n",
       "      <td> 2500</td>\n",
       "    </tr>\n",
       "    <tr>\n",
       "      <th>44075</th>\n",
       "      <td> 2500</td>\n",
       "    </tr>\n",
       "    <tr>\n",
       "      <th>44076</th>\n",
       "      <td>  500</td>\n",
       "    </tr>\n",
       "    <tr>\n",
       "      <th>44077</th>\n",
       "      <td> 2500</td>\n",
       "    </tr>\n",
       "    <tr>\n",
       "      <th>44078</th>\n",
       "      <td>  250</td>\n",
       "    </tr>\n",
       "    <tr>\n",
       "      <th>44079</th>\n",
       "      <td> 2500</td>\n",
       "    </tr>\n",
       "    <tr>\n",
       "      <th>44080</th>\n",
       "      <td> 2500</td>\n",
       "    </tr>\n",
       "    <tr>\n",
       "      <th>44081</th>\n",
       "      <td>  500</td>\n",
       "    </tr>\n",
       "    <tr>\n",
       "      <th>44082</th>\n",
       "      <td> 1000</td>\n",
       "    </tr>\n",
       "    <tr>\n",
       "      <th>44083</th>\n",
       "      <td>  500</td>\n",
       "    </tr>\n",
       "    <tr>\n",
       "      <th>44084</th>\n",
       "      <td> 2500</td>\n",
       "    </tr>\n",
       "    <tr>\n",
       "      <th>44085</th>\n",
       "      <td> 1000</td>\n",
       "    </tr>\n",
       "    <tr>\n",
       "      <th>44086</th>\n",
       "      <td> 2500</td>\n",
       "    </tr>\n",
       "    <tr>\n",
       "      <th>44087</th>\n",
       "      <td>  250</td>\n",
       "    </tr>\n",
       "    <tr>\n",
       "      <th>44088</th>\n",
       "      <td> 1000</td>\n",
       "    </tr>\n",
       "    <tr>\n",
       "      <th>44089</th>\n",
       "      <td> 1000</td>\n",
       "    </tr>\n",
       "    <tr>\n",
       "      <th>44090</th>\n",
       "      <td>  500</td>\n",
       "    </tr>\n",
       "    <tr>\n",
       "      <th>44091</th>\n",
       "      <td>  250</td>\n",
       "    </tr>\n",
       "    <tr>\n",
       "      <th>44092</th>\n",
       "      <td>-2500</td>\n",
       "    </tr>\n",
       "    <tr>\n",
       "      <th>44093</th>\n",
       "      <td>  250</td>\n",
       "    </tr>\n",
       "    <tr>\n",
       "      <th>44094</th>\n",
       "      <td>  100</td>\n",
       "    </tr>\n",
       "    <tr>\n",
       "      <th>44095</th>\n",
       "      <td>  250</td>\n",
       "    </tr>\n",
       "    <tr>\n",
       "      <th>44096</th>\n",
       "      <td>  250</td>\n",
       "    </tr>\n",
       "  </tbody>\n",
       "</table>\n",
       "<p>1593686 rows × 1 columns</p>\n",
       "</div>"
      ],
      "text/plain": [
       "       contb_receipt_amt\n",
       "411                  200\n",
       "412                  100\n",
       "413                  225\n",
       "414                  126\n",
       "415                  225\n",
       "416                  200\n",
       "417                  100\n",
       "418                  126\n",
       "419                  110\n",
       "420                   41\n",
       "421                   50\n",
       "422                   50\n",
       "423                  110\n",
       "424                   41\n",
       "425                  200\n",
       "426                  200\n",
       "427                  100\n",
       "428                   55\n",
       "429                   74\n",
       "430                  500\n",
       "431                  500\n",
       "432                   55\n",
       "433                   74\n",
       "434                  350\n",
       "435                  350\n",
       "436                  120\n",
       "437                  120\n",
       "438                  150\n",
       "439                  150\n",
       "440                  120\n",
       "...                  ...\n",
       "44067               2500\n",
       "44068               1000\n",
       "44069               1000\n",
       "44070               1000\n",
       "44071                500\n",
       "44072               1000\n",
       "44073               2500\n",
       "44074               2500\n",
       "44075               2500\n",
       "44076                500\n",
       "44077               2500\n",
       "44078                250\n",
       "44079               2500\n",
       "44080               2500\n",
       "44081                500\n",
       "44082               1000\n",
       "44083                500\n",
       "44084               2500\n",
       "44085               1000\n",
       "44086               2500\n",
       "44087                250\n",
       "44088               1000\n",
       "44089               1000\n",
       "44090                500\n",
       "44091                250\n",
       "44092              -2500\n",
       "44093                250\n",
       "44094                100\n",
       "44095                250\n",
       "44096                250\n",
       "\n",
       "[1593686 rows x 1 columns]"
      ]
     },
     "execution_count": 3,
     "metadata": {},
     "output_type": "execute_result"
    }
   ],
   "source": [
    "grp = store.select('Election', where=[\"'cand_nm'='Romney, Mitt'\", \"columns='contb_receipt_amt'\"])\n",
    "grp"
   ]
  },
  {
   "cell_type": "code",
   "execution_count": 4,
   "metadata": {
    "collapsed": false
   },
   "outputs": [
    {
     "name": "stdout",
     "output_type": "stream",
     "text": [
      "653630745.69\n"
     ]
    }
   ],
   "source": [
    "print grp['contb_receipt_amt'].sum()"
   ]
  },
  {
   "cell_type": "code",
   "execution_count": null,
   "metadata": {
    "collapsed": false,
    "scrolled": true
   },
   "outputs": [
    {
     "name": "stdout",
     "output_type": "stream",
     "text": [
      "1\n",
      "Bachmann, Michele"
     ]
    }
   ],
   "source": [
    "store.open()\n",
    "cand = store.select_column('Election','cand_nm').unique()\n",
    "cand_cont = []\n",
    "i = 1\n",
    "for candidate in cand:\n",
    "    print i\n",
    "    i+=1\n",
    "    grp = store.select('Election', where=[\"'cand_nm'==candidate\", \"columns=='contb_receipt_amt'\"])\n",
    "    TOT = grp['contb_receipt_amt'].sum()\n",
    "    print candidate, TOT\n",
    "    cand_cont.append(TOT)\n",
    "    \n"
   ]
  },
  {
   "cell_type": "code",
   "execution_count": 10,
   "metadata": {
    "collapsed": false
   },
   "outputs": [
    {
     "name": "stdout",
     "output_type": "stream",
     "text": [
      "[2685817.79, 653630745.68999958, 548880098.67000055, 369324.53999999998, 4255054.0899999999, 2637706.3800000004, 21650581.039999999, 10917859.82, 6965980.9900000002, 11816319.830000002, 37030.0, 3156942.3999999999, 18409641.91, 334934.08999999997]\n",
      "['Bachmann, Michele' 'Romney, Mitt' 'Obama, Barack'\n",
      " \"Roemer, Charles E. 'Buddy' III\" 'Pawlenty, Timothy' 'Johnson, Gary Earl'\n",
      " 'Paul, Ron' 'Santorum, Rick' 'Cain, Herman' 'Gingrich, Newt'\n",
      " 'McCotter, Thaddeus G' 'Huntsman, Jon' 'Perry, Rick' 'Stein, Jill']\n"
     ]
    }
   ],
   "source": [
    "store.open()\n",
    "print cand_cont\n",
    "print cand\n",
    "store.close()"
   ]
  },
  {
   "cell_type": "code",
   "execution_count": 7,
   "metadata": {
    "collapsed": false
   },
   "outputs": [],
   "source": [
    "store.close()"
   ]
  },
  {
   "cell_type": "code",
   "execution_count": 11,
   "metadata": {
    "collapsed": false
   },
   "outputs": [],
   "source": [
    "store.open()\n",
    "contribs = pd.Series(index = cand, data = cand_cont)\n",
    "contribs.plot(kind='barh')\n",
    "plt.plot()\n",
    "plt.savefig('cand_contb.pdf')\n",
    "plt.clf()\n",
    "store.close()"
   ]
  },
  {
   "cell_type": "code",
   "execution_count": null,
   "metadata": {
    "collapsed": true
   },
   "outputs": [],
   "source": [
    "store.open()\n",
    "cand2 = store.select_column('Election','cand_nm').unique()\n",
    "cand2_cont = []\n",
    "i = 1\n",
    "for candidate2 in cand2:\n",
    "    print i\n",
    "    i+=1\n",
    "    grp = store.select('Election', where=[\"'cand_nm'=\\\"{}\\\"\".format(candidate2), \"columns='contb_receipt_amt'\"])\n",
    "    TOT = grp['contb_receipt_amt'].sum()\n",
    "    print candidate2, TOT\n",
    "    cand_cont2.append(TOT)"
   ]
  }
 ],
 "metadata": {
  "kernelspec": {
   "display_name": "Python 2",
   "language": "python",
   "name": "python2"
  },
  "language_info": {
   "codemirror_mode": {
    "name": "ipython",
    "version": 2
   },
   "file_extension": ".py",
   "mimetype": "text/x-python",
   "name": "python",
   "nbconvert_exporter": "python",
   "pygments_lexer": "ipython2",
   "version": "2.7.7"
  }
 },
 "nbformat": 4,
 "nbformat_minor": 0
}
