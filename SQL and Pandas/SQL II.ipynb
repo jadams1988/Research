{
 "metadata": {
  "name": "",
  "signature": "sha256:7454cdfed6d3355a3b3f5fd60311b55391a2103688a361f2e5d343083f7b341e"
 },
 "nbformat": 3,
 "nbformat_minor": 0,
 "worksheets": [
  {
   "cells": [
    {
     "cell_type": "code",
     "collapsed": false,
     "input": [
      "import sqlite3 as sql\n",
      "db = sql.connect(\"test2\")\n",
      "cur = db.cursor()"
     ],
     "language": "python",
     "metadata": {},
     "outputs": [],
     "prompt_number": 1
    },
    {
     "cell_type": "code",
     "collapsed": false,
     "input": [
      "cur.execute(\"CREATE table students(StudentID INT NOT NULL, Name TEXT, MajorCode INT, MinorCode INT)\")"
     ],
     "language": "python",
     "metadata": {},
     "outputs": [
      {
       "metadata": {},
       "output_type": "pyout",
       "prompt_number": 8,
       "text": [
        "<sqlite3.Cursor at 0x3ef8ea0>"
       ]
      }
     ],
     "prompt_number": 8
    },
    {
     "cell_type": "code",
     "collapsed": false,
     "input": [
      "data = [[401767594,'Michelle Fernandez',1,None],\n",
      "        [678665086,'Gilbert Chapman',None,None],\n",
      "        [553725811,'Roberta Cook',2,1],\n",
      "        [886308195,'Rene Cross',3,1],\n",
      "        [103066521,'Cameron Kim',4,2],\n",
      "        [821568627,'Mercedes Hall',None,3],\n",
      "        [206208438,'Kristopher Tran',2,4],\n",
      "        [341324754,'Cassandra Holland',1,None],\n",
      "        [262019426,'Alfonso Phelps',None,None],\n",
      "        [622665098,'Sammy Burke',2,3]]"
     ],
     "language": "python",
     "metadata": {},
     "outputs": [],
     "prompt_number": 13
    },
    {
     "cell_type": "code",
     "collapsed": false,
     "input": [
      "try:\n",
      "    cur.executemany(\"INSERT INTO students VALUES(?,?,?,?)\",data)\n",
      "    db.commit()\n",
      "except sql.Error:\n",
      "    print \"Error!\"\n",
      "    db.rollback()\n",
      "    "
     ],
     "language": "python",
     "metadata": {},
     "outputs": [],
     "prompt_number": 21
    },
    {
     "cell_type": "code",
     "collapsed": false,
     "input": [
      "cur.execute(\"SELECT * FROM students\")\n",
      "for i in cur:\n",
      "    print i"
     ],
     "language": "python",
     "metadata": {},
     "outputs": [
      {
       "output_type": "stream",
       "stream": "stdout",
       "text": [
        "(401767594, u'Michelle Fernandez', 1, None)\n",
        "(678665086, u'Gilbert Chapman', None, None)\n",
        "(553725811, u'Roberta Cook', 2, 1)\n",
        "(886308195, u'Rene Cross', 3, 1)\n",
        "(103066521, u'Cameron Kim', 4, 2)\n",
        "(821568627, u'Mercedes Hall', None, 3)\n",
        "(206208438, u'Kristopher Tran', 2, 4)\n",
        "(341324754, u'Cassandra Holland', 1, None)\n",
        "(262019426, u'Alfonso Phelps', None, None)\n",
        "(622665098, u'Sammy Burke', 2, 3)\n"
       ]
      }
     ],
     "prompt_number": 22
    },
    {
     "cell_type": "code",
     "collapsed": false,
     "input": [
      "cur.execute(\"UPDATE students SET StudentID=NULL WHERE StudentID=401767594\")"
     ],
     "language": "python",
     "metadata": {},
     "outputs": [
      {
       "ename": "IntegrityError",
       "evalue": "students.StudentID may not be NULL",
       "output_type": "pyerr",
       "traceback": [
        "\u001b[1;31m---------------------------------------------------------------------------\u001b[0m\n\u001b[1;31mIntegrityError\u001b[0m                            Traceback (most recent call last)",
        "\u001b[1;32m<ipython-input-28-080eaa8e3f20>\u001b[0m in \u001b[0;36m<module>\u001b[1;34m()\u001b[0m\n\u001b[1;32m----> 1\u001b[1;33m \u001b[0mcur\u001b[0m\u001b[1;33m.\u001b[0m\u001b[0mexecute\u001b[0m\u001b[1;33m(\u001b[0m\u001b[1;34m\"UPDATE students SET StudentID=NULL WHERE StudentID=401767594\"\u001b[0m\u001b[1;33m)\u001b[0m\u001b[1;33m\u001b[0m\u001b[0m\n\u001b[0m",
        "\u001b[1;31mIntegrityError\u001b[0m: students.StudentID may not be NULL"
       ]
      }
     ],
     "prompt_number": 28
    },
    {
     "cell_type": "code",
     "collapsed": false,
     "input": [
      "cur.execute(\"CREATE TABLE majors(ID INT, Name TEXT)\")"
     ],
     "language": "python",
     "metadata": {},
     "outputs": [
      {
       "metadata": {},
       "output_type": "pyout",
       "prompt_number": 29,
       "text": [
        "<sqlite3.Cursor at 0x3fb3dc0>"
       ]
      }
     ],
     "prompt_number": 29
    },
    {
     "cell_type": "code",
     "collapsed": false,
     "input": [
      "data = [[1, 'Math'],[2,'Science'],[3,'Writing'],[4,'Art']]"
     ],
     "language": "python",
     "metadata": {},
     "outputs": [],
     "prompt_number": 30
    },
    {
     "cell_type": "code",
     "collapsed": false,
     "input": [
      "cur.executemany(\"INSERT INTO majors VALUES(?,?)\",data)"
     ],
     "language": "python",
     "metadata": {},
     "outputs": [
      {
       "metadata": {},
       "output_type": "pyout",
       "prompt_number": 32,
       "text": [
        "<sqlite3.Cursor at 0x3fb3dc0>"
       ]
      }
     ],
     "prompt_number": 32
    },
    {
     "cell_type": "code",
     "collapsed": false,
     "input": [
      "cur.execute(\"SELECT * FROM majors\")\n",
      "cur.fetchall()"
     ],
     "language": "python",
     "metadata": {},
     "outputs": [
      {
       "metadata": {},
       "output_type": "pyout",
       "prompt_number": 33,
       "text": [
        "[(1, u'Math'), (2, u'Science'), (3, u'Writing'), (4, u'Art')]"
       ]
      }
     ],
     "prompt_number": 33
    },
    {
     "cell_type": "code",
     "collapsed": false,
     "input": [
      "cur.execute(\"CREATE TABLE majors(ID INT NOT NULL, Name TEXT)\")"
     ],
     "language": "python",
     "metadata": {},
     "outputs": [
      {
       "ename": "OperationalError",
       "evalue": "table majors already exists",
       "output_type": "pyerr",
       "traceback": [
        "\u001b[1;31m---------------------------------------------------------------------------\u001b[0m\n\u001b[1;31mOperationalError\u001b[0m                          Traceback (most recent call last)",
        "\u001b[1;32m<ipython-input-34-9b673b78311c>\u001b[0m in \u001b[0;36m<module>\u001b[1;34m()\u001b[0m\n\u001b[1;32m----> 1\u001b[1;33m \u001b[0mcur\u001b[0m\u001b[1;33m.\u001b[0m\u001b[0mexecute\u001b[0m\u001b[1;33m(\u001b[0m\u001b[1;34m\"CREATE TABLE majors(ID INT NOT NULL, Name TEXT)\"\u001b[0m\u001b[1;33m)\u001b[0m\u001b[1;33m\u001b[0m\u001b[0m\n\u001b[0m",
        "\u001b[1;31mOperationalError\u001b[0m: table majors already exists"
       ]
      }
     ],
     "prompt_number": 34
    },
    {
     "cell_type": "code",
     "collapsed": false,
     "input": [
      "cur.execute(\"CREATE TABLE grades(StudentID INT NOT NULL, ClassID INT NOT NULL, Grade TEXT)\")"
     ],
     "language": "python",
     "metadata": {},
     "outputs": [
      {
       "metadata": {},
       "output_type": "pyout",
       "prompt_number": 36,
       "text": [
        "<sqlite3.Cursor at 0x3fb3dc0>"
       ]
      }
     ],
     "prompt_number": 36
    },
    {
     "cell_type": "code",
     "collapsed": false,
     "input": [
      "data = [[401767594,4,'C'],\n",
      "        [401767594,3,'B-'],\n",
      "        [678665086,4,None],\n",
      "        [678665086,3,'A+'],\n",
      "        [553725811,2,'C'],\n",
      "        [678665086,1,None],\n",
      "        [886308195,1,'A'],\n",
      "        [103066521,2,'C'],\n",
      "        [103066521,3,'C-'],\n",
      "        [821568627,4,'D'],\n",
      "        [821568627,2,None],\n",
      "        [821568627,1,'B'],\n",
      "        [206208438,2,'A'],\n",
      "        [206208438,1,'C+'],\n",
      "        [341324754,2,'D-'],\n",
      "        [341324754,1,None],\n",
      "        [103066521,4,'A'],\n",
      "        [262019426,2,'B'],\n",
      "        [262019426,3,None],\n",
      "        [622665098,1,'A'],\n",
      "        [622665098,2,'A-']]"
     ],
     "language": "python",
     "metadata": {},
     "outputs": [],
     "prompt_number": 37
    },
    {
     "cell_type": "code",
     "collapsed": false,
     "input": [
      "cur.executemany(\"Insert into grades Values(?,?,?)\",data)"
     ],
     "language": "python",
     "metadata": {},
     "outputs": [
      {
       "metadata": {},
       "output_type": "pyout",
       "prompt_number": 39,
       "text": [
        "<sqlite3.Cursor at 0x3fb3dc0>"
       ]
      }
     ],
     "prompt_number": 39
    },
    {
     "cell_type": "code",
     "collapsed": false,
     "input": [
      "cur.execute(\"select * from grades\")\n",
      "cur.fetchall()"
     ],
     "language": "python",
     "metadata": {},
     "outputs": [
      {
       "metadata": {},
       "output_type": "pyout",
       "prompt_number": 40,
       "text": [
        "[(401767594, 4, u'C'),\n",
        " (401767594, 3, u'B-'),\n",
        " (678665086, 4, None),\n",
        " (678665086, 3, u'A+'),\n",
        " (553725811, 2, u'C'),\n",
        " (678665086, 1, None),\n",
        " (886308195, 1, u'A'),\n",
        " (103066521, 2, u'C'),\n",
        " (103066521, 3, u'C-'),\n",
        " (821568627, 4, u'D'),\n",
        " (821568627, 2, None),\n",
        " (821568627, 1, u'B'),\n",
        " (206208438, 2, u'A'),\n",
        " (206208438, 1, u'C+'),\n",
        " (341324754, 2, u'D-'),\n",
        " (341324754, 1, None),\n",
        " (103066521, 4, u'A'),\n",
        " (262019426, 2, u'B'),\n",
        " (262019426, 3, None),\n",
        " (622665098, 1, u'A'),\n",
        " (622665098, 2, u'A-')]"
       ]
      }
     ],
     "prompt_number": 40
    },
    {
     "cell_type": "code",
     "collapsed": false,
     "input": [
      "cur.execute(\"create table classes(ClassID INT not null,Name TEXT)\")"
     ],
     "language": "python",
     "metadata": {},
     "outputs": [
      {
       "metadata": {},
       "output_type": "pyout",
       "prompt_number": 41,
       "text": [
        "<sqlite3.Cursor at 0x3fb3dc0>"
       ]
      }
     ],
     "prompt_number": 41
    },
    {
     "cell_type": "code",
     "collapsed": false,
     "input": [
      "data = [[1,'Calculus'],\n",
      "        [2,'English'],\n",
      "        [3,'Pottery'],\n",
      "        [4,'History']]"
     ],
     "language": "python",
     "metadata": {},
     "outputs": [],
     "prompt_number": 42
    },
    {
     "cell_type": "code",
     "collapsed": false,
     "input": [
      "cur.executemany(\"INSERT INTO classes VALUES(?,?)\",data)"
     ],
     "language": "python",
     "metadata": {},
     "outputs": [
      {
       "metadata": {},
       "output_type": "pyout",
       "prompt_number": 43,
       "text": [
        "<sqlite3.Cursor at 0x3fb3dc0>"
       ]
      }
     ],
     "prompt_number": 43
    },
    {
     "cell_type": "code",
     "collapsed": false,
     "input": [
      "cur.execute(\"SELECT STudents.Name,majors.name FROM students JOIN majors ON students.MajorCode=majors.ID\")"
     ],
     "language": "python",
     "metadata": {},
     "outputs": [
      {
       "metadata": {},
       "output_type": "pyout",
       "prompt_number": 48,
       "text": [
        "<sqlite3.Cursor at 0x3fb3dc0>"
       ]
      }
     ],
     "prompt_number": 48
    },
    {
     "cell_type": "code",
     "collapsed": false,
     "input": [
      "for i in cur:\n",
      "    print i"
     ],
     "language": "python",
     "metadata": {},
     "outputs": [
      {
       "output_type": "stream",
       "stream": "stdout",
       "text": [
        "(u'Michelle Fernandez', u'Math')\n",
        "(u'Roberta Cook', u'Science')\n",
        "(u'Rene Cross', u'Writing')\n",
        "(u'Cameron Kim', u'Art')\n",
        "(u'Kristopher Tran', u'Science')\n",
        "(u'Cassandra Holland', u'Math')\n",
        "(u'Sammy Burke', u'Science')\n"
       ]
      }
     ],
     "prompt_number": 49
    },
    {
     "cell_type": "code",
     "collapsed": false,
     "input": [
      "cur.execute(\"select students.Name,grades.Grade FROM students JOIN grades ON students.StudentID=grades.StudentID\")"
     ],
     "language": "python",
     "metadata": {},
     "outputs": [
      {
       "metadata": {},
       "output_type": "pyout",
       "prompt_number": 50,
       "text": [
        "<sqlite3.Cursor at 0x3fb3dc0>"
       ]
      }
     ],
     "prompt_number": 50
    },
    {
     "cell_type": "code",
     "collapsed": false,
     "input": [
      "for i in cur:\n",
      "    print i"
     ],
     "language": "python",
     "metadata": {},
     "outputs": [
      {
       "output_type": "stream",
       "stream": "stdout",
       "text": [
        "(u'Michelle Fernandez', u'C')\n",
        "(u'Michelle Fernandez', u'B-')\n",
        "(u'Gilbert Chapman', None)\n",
        "(u'Gilbert Chapman', u'A+')\n",
        "(u'Gilbert Chapman', None)\n",
        "(u'Roberta Cook', u'C')\n",
        "(u'Rene Cross', u'A')\n",
        "(u'Cameron Kim', u'C')\n",
        "(u'Cameron Kim', u'C-')\n",
        "(u'Cameron Kim', u'A')\n",
        "(u'Mercedes Hall', u'D')\n",
        "(u'Mercedes Hall', None)\n",
        "(u'Mercedes Hall', u'B')\n",
        "(u'Kristopher Tran', u'A')\n",
        "(u'Kristopher Tran', u'C+')\n",
        "(u'Cassandra Holland', u'D-')\n",
        "(u'Cassandra Holland', None)\n",
        "(u'Alfonso Phelps', u'B')\n",
        "(u'Alfonso Phelps', None)\n",
        "(u'Sammy Burke', u'A')\n",
        "(u'Sammy Burke', u'A-')\n"
       ]
      }
     ],
     "prompt_number": 51
    },
    {
     "cell_type": "code",
     "collapsed": false,
     "input": [
      "cur.execute(\"select students.name,majors.name FROM students LEFT OUTER JOIN majors on students.majorcode=majors.id\")"
     ],
     "language": "python",
     "metadata": {},
     "outputs": [
      {
       "metadata": {},
       "output_type": "pyout",
       "prompt_number": 52,
       "text": [
        "<sqlite3.Cursor at 0x3fb3dc0>"
       ]
      }
     ],
     "prompt_number": 52
    },
    {
     "cell_type": "code",
     "collapsed": false,
     "input": [
      "for i in cur:\n",
      "    print i"
     ],
     "language": "python",
     "metadata": {},
     "outputs": [
      {
       "output_type": "stream",
       "stream": "stdout",
       "text": [
        "(u'Michelle Fernandez', u'Math')\n",
        "(u'Gilbert Chapman', None)\n",
        "(u'Roberta Cook', u'Science')\n",
        "(u'Rene Cross', u'Writing')\n",
        "(u'Cameron Kim', u'Art')\n",
        "(u'Mercedes Hall', None)\n",
        "(u'Kristopher Tran', u'Science')\n",
        "(u'Cassandra Holland', u'Math')\n",
        "(u'Alfonso Phelps', None)\n",
        "(u'Sammy Burke', u'Science')\n"
       ]
      }
     ],
     "prompt_number": 53
    },
    {
     "cell_type": "code",
     "collapsed": false,
     "input": [
      "cur.execute(\"SELECT majorcode, COUNT(*) FROM students GROUP BY majorcode\")\n",
      "cur.fetchall()"
     ],
     "language": "python",
     "metadata": {},
     "outputs": [
      {
       "metadata": {},
       "output_type": "pyout",
       "prompt_number": 59,
       "text": [
        "[(None, 3), (1, 2), (2, 3), (3, 1), (4, 1)]"
       ]
      }
     ],
     "prompt_number": 59
    },
    {
     "cell_type": "code",
     "collapsed": false,
     "input": [
      "cur.execute(\"SELECT majors.Name,COUNT(students.name) FROM students LEFT OUTER JOIN majors ON students.MajorCode=majors.ID GROUP BY students.MajorCode ORDER BY majors.Name\")\n",
      "cur.fetchall()"
     ],
     "language": "python",
     "metadata": {},
     "outputs": [
      {
       "metadata": {},
       "output_type": "pyout",
       "prompt_number": 69,
       "text": [
        "[(None, 3), (u'Art', 1), (u'Math', 2), (u'Science', 3), (u'Writing', 1)]"
       ]
      }
     ],
     "prompt_number": 69
    },
    {
     "cell_type": "code",
     "collapsed": false,
     "input": [
      "cur.execute(\"SELECT grade FROM grades GROUP BY grade HAVING COUNT(*)=1\")\n",
      "cur.fetchall()"
     ],
     "language": "python",
     "metadata": {},
     "outputs": [
      {
       "metadata": {},
       "output_type": "pyout",
       "prompt_number": 2,
       "text": [
        "[(u'A+',), (u'A-',), (u'B-',), (u'C+',), (u'C-',), (u'D',), (u'D-',)]"
       ]
      }
     ],
     "prompt_number": 2
    },
    {
     "cell_type": "code",
     "collapsed": false,
     "input": [
      "cur.execute(\"SELECT COUNT(grade) from grades group by grade\")\n",
      "cur.fetchall()"
     ],
     "language": "python",
     "metadata": {},
     "outputs": [
      {
       "metadata": {},
       "output_type": "pyout",
       "prompt_number": 3,
       "text": [
        "[(0,), (4,), (1,), (1,), (2,), (1,), (3,), (1,), (1,), (1,), (1,)]"
       ]
      }
     ],
     "prompt_number": 3
    },
    {
     "cell_type": "code",
     "collapsed": false,
     "input": [
      "cur.execute(\"SELECT students.Name,COUNT(grades.StudentID) FROM grades LEFT OUTER JOIN students ON students.StudentID=grades.StudentID\")\n",
      "cur.fetchall()"
     ],
     "language": "python",
     "metadata": {},
     "outputs": [
      {
       "metadata": {},
       "output_type": "pyout",
       "prompt_number": 10,
       "text": [
        "[(u'Sammy Burke', 21)]"
       ]
      }
     ],
     "prompt_number": 10
    },
    {
     "cell_type": "code",
     "collapsed": false,
     "input": [
      "cur.execute(\"SELECT students.Name,COUNT(grades.Grade) FROM grades LEFT OUTER JOIN students ON students.StudentID=grades.StudentID GROUP BY students.name HAVING COUNT(grades.grade)>1\")\n",
      "cur.fetchall()"
     ],
     "language": "python",
     "metadata": {},
     "outputs": [
      {
       "metadata": {},
       "output_type": "pyout",
       "prompt_number": 23,
       "text": [
        "[(u'Cameron Kim', 3),\n",
        " (u'Kristopher Tran', 2),\n",
        " (u'Mercedes Hall', 2),\n",
        " (u'Michelle Fernandez', 2),\n",
        " (u'Sammy Burke', 2)]"
       ]
      }
     ],
     "prompt_number": 23
    },
    {
     "cell_type": "code",
     "collapsed": false,
     "input": [
      "cur.execute(\"SELECT name,\"+\n",
      "\" CASE majorcode\"+\n",
      "\" WHEN 1 THEN 'Math'\"+\n",
      "\" WHEN 2 THEN 'Science'\"+\n",
      "\" WHEN 3 THEN 'Writing'\"+\n",
      "\" WHEN 4 THEN 'Art'\"+\n",
      "\" ELSE 'Undeclared'\"+\n",
      "\" END AS major\"+\n",
      "\" FROM students;\")\n",
      "for i in cur:\n",
      "    print i"
     ],
     "language": "python",
     "metadata": {},
     "outputs": [
      {
       "output_type": "stream",
       "stream": "stdout",
       "text": [
        "(u'Michelle Fernandez', u'Math')\n",
        "(u'Gilbert Chapman', u'Undeclared')\n",
        "(u'Roberta Cook', u'Science')\n",
        "(u'Rene Cross', u'Writing')\n",
        "(u'Cameron Kim', u'Art')\n",
        "(u'Mercedes Hall', u'Undeclared')\n",
        "(u'Kristopher Tran', u'Science')\n",
        "(u'Cassandra Holland', u'Math')\n",
        "(u'Alfonso Phelps', u'Undeclared')\n",
        "(u'Sammy Burke', u'Science')\n"
       ]
      }
     ],
     "prompt_number": 45
    },
    {
     "cell_type": "code",
     "collapsed": false,
     "input": [
      "cur.execute(\"SELECT * FROM students\")\n",
      "for i in cur:\n",
      "    print i"
     ],
     "language": "python",
     "metadata": {},
     "outputs": [
      {
       "output_type": "stream",
       "stream": "stdout",
       "text": [
        "(401767594, u'Michelle Fernandez', 1, None)\n",
        "(678665086, u'Gilbert Chapman', None, None)\n",
        "(553725811, u'Roberta Cook', 2, 1)\n",
        "(886308195, u'Rene Cross', 3, 1)\n",
        "(103066521, u'Cameron Kim', 4, 2)\n",
        "(821568627, u'Mercedes Hall', None, 3)\n",
        "(206208438, u'Kristopher Tran', 2, 4)\n",
        "(341324754, u'Cassandra Holland', 1, None)\n",
        "(262019426, u'Alfonso Phelps', None, None)\n",
        "(622665098, u'Sammy Burke', 2, 3)\n"
       ]
      }
     ],
     "prompt_number": 46
    },
    {
     "cell_type": "code",
     "collapsed": false,
     "input": [
      "cur.execute(\"SELECT name,\"+\n",
      "\" CASE majorcode\"+\n",
      "\" WHEN 1 THEN 'Math'\"+\n",
      "\" WHEN 2 THEN 'Science'\"+\n",
      "\" WHEN 3 THEN 'Writing'\"+\n",
      "\" WHEN 4 THEN 'Art'\"+\n",
      "\" ELSE 'Undeclared'\"+\n",
      "\" END AS major\"+\n",
      "\" FROM students WHERE name LIKE '% C%';\")\n",
      "for i in cur:\n",
      "    print i"
     ],
     "language": "python",
     "metadata": {},
     "outputs": [
      {
       "output_type": "stream",
       "stream": "stdout",
       "text": [
        "(u'Gilbert Chapman', u'Undeclared')\n",
        "(u'Roberta Cook', u'Science')\n",
        "(u'Rene Cross', u'Writing')\n"
       ]
      }
     ],
     "prompt_number": 52
    },
    {
     "cell_type": "code",
     "collapsed": false,
     "input": [
      "cur.execute(\"\"\"SELECT ROUND(AVG(\n",
      "    CASE Grade\n",
      "        WHEN IN ('A+','A','A-') THEN 4.0\n",
      "        WHEN IN ('B+','B','B-') THEN 3.0\n",
      "        WHEN IN ('C+','C','C-') THEN 2.0\n",
      "        WHEN IN ('D+','D','D-') THEN 1.0\n",
      "        ELSE 0.0 END),2) AS score FROM grades\"\"\")\n",
      "for i in cur:\n",
      "    print i"
     ],
     "language": "python",
     "metadata": {},
     "outputs": [
      {
       "output_type": "stream",
       "stream": "stderr",
       "text": [
        "ERROR: An unexpected error occurred while tokenizing input\n",
        "The following traceback may be corrupted or invalid\n",
        "The error message is: ('EOF in multi-line string', (1, 45))\n",
        "\n"
       ]
      },
      {
       "ename": "OperationalError",
       "evalue": "near \"IN\": syntax error",
       "output_type": "pyerr",
       "traceback": [
        "\u001b[1;31m---------------------------------------------------------------------------\u001b[0m\n\u001b[1;31mOperationalError\u001b[0m                          Traceback (most recent call last)",
        "\u001b[1;32m<ipython-input-61-1fb8caaec07e>\u001b[0m in \u001b[0;36m<module>\u001b[1;34m()\u001b[0m\n\u001b[0;32m      5\u001b[0m         \u001b[0mWHEN\u001b[0m \u001b[0mIN\u001b[0m \u001b[1;33m(\u001b[0m\u001b[1;34m'C+'\u001b[0m\u001b[1;33m,\u001b[0m\u001b[1;34m'C'\u001b[0m\u001b[1;33m,\u001b[0m\u001b[1;34m'C-'\u001b[0m\u001b[1;33m)\u001b[0m \u001b[0mTHEN\u001b[0m \u001b[1;36m2.0\u001b[0m\u001b[1;33m\u001b[0m\u001b[0m\n\u001b[0;32m      6\u001b[0m         \u001b[0mWHEN\u001b[0m \u001b[0mIN\u001b[0m \u001b[1;33m(\u001b[0m\u001b[1;34m'D+'\u001b[0m\u001b[1;33m,\u001b[0m\u001b[1;34m'D'\u001b[0m\u001b[1;33m,\u001b[0m\u001b[1;34m'D-'\u001b[0m\u001b[1;33m)\u001b[0m \u001b[0mTHEN\u001b[0m \u001b[1;36m1.0\u001b[0m\u001b[1;33m\u001b[0m\u001b[0m\n\u001b[1;32m----> 7\u001b[1;33m         ELSE 0.0 END),2) AS score FROM grades\"\"\")\n\u001b[0m\u001b[0;32m      8\u001b[0m \u001b[1;32mfor\u001b[0m \u001b[0mi\u001b[0m \u001b[1;32min\u001b[0m \u001b[0mcur\u001b[0m\u001b[1;33m:\u001b[0m\u001b[1;33m\u001b[0m\u001b[0m\n\u001b[0;32m      9\u001b[0m     \u001b[1;32mprint\u001b[0m \u001b[0mi\u001b[0m\u001b[1;33m\u001b[0m\u001b[0m\n",
        "\u001b[1;31mOperationalError\u001b[0m: near \"IN\": syntax error"
       ]
      }
     ],
     "prompt_number": 61
    },
    {
     "cell_type": "code",
     "collapsed": false,
     "input": [
      "cur.execute(\"SELECT ROUND(AVG(\"+\n",
      "            \" CASE\"+\n",
      "                \" WHEN Grade IN ('A+','A','A-') THEN 4.0\"+\n",
      "                \" WHEN Grade IN ('B+','B','B-') THEN 3.0\"+\n",
      "                \" WHEN Grade IN ('C+','C','C-') THEN 2.0\"+\n",
      "                \" WHEN Grade IN ('D+','D','D-') THEN 1.0\"+\n",
      "                \" ELSE 0.0 END),2) AS score FROM grades WHERE Grade is not null\")\n",
      "for i in cur:\n",
      "    print i"
     ],
     "language": "python",
     "metadata": {},
     "outputs": [
      {
       "output_type": "stream",
       "stream": "stdout",
       "text": [
        "(2.81,)\n"
       ]
      }
     ],
     "prompt_number": 63
    },
    {
     "cell_type": "code",
     "collapsed": false,
     "input": [],
     "language": "python",
     "metadata": {},
     "outputs": []
    }
   ],
   "metadata": {}
  }
 ]
}