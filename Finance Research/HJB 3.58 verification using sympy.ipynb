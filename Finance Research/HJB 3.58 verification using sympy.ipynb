{
 "cells": [
  {
   "cell_type": "code",
   "execution_count": 1,
   "metadata": {
    "collapsed": true
   },
   "outputs": [],
   "source": [
    "from sympy import *"
   ]
  },
  {
   "cell_type": "code",
   "execution_count": 2,
   "metadata": {},
   "outputs": [],
   "source": [
    "lam, mu, r, sig, eta, i, x, gam, rho, T, t, s, v = symbols('lambda mu r sigma eta i x gamma rho T t s v')\n",
    "init_printing(use_unicode=True)"
   ]
  },
  {
   "cell_type": "code",
   "execution_count": 3,
   "metadata": {},
   "outputs": [],
   "source": [
    "H = (lam+rho)/(1-gam) - .5*gam*((mu-r)/((1-gam)*sig))**2 - gam/(1-gam)*(r+eta)"
   ]
  },
  {
   "cell_type": "code",
   "execution_count": 4,
   "metadata": {
    "collapsed": true
   },
   "outputs": [],
   "source": [
    "K = (lam**(1/(1-gam)))/(eta**((gam/(1-gam)))) + 1"
   ]
  },
  {
   "cell_type": "code",
   "execution_count": 5,
   "metadata": {},
   "outputs": [],
   "source": [
    "e = exp(-integrate(H, (v,t,T))) + integrate(exp(-integrate(H, (v,t,s))*K), (s,t,T))"
   ]
  },
  {
   "cell_type": "code",
   "execution_count": 6,
   "metadata": {},
   "outputs": [],
   "source": [
    "a = exp(-rho*t)*e**(1-gam)"
   ]
  },
  {
   "cell_type": "code",
   "execution_count": 7,
   "metadata": {},
   "outputs": [],
   "source": [
    "b = integrate(i*exp(-integrate(r+eta, (v,t,s))), (s,t,T))"
   ]
  },
  {
   "cell_type": "code",
   "execution_count": 9,
   "metadata": {},
   "outputs": [],
   "source": [
    "V = a/gam*(x+b)**gam"
   ]
  },
  {
   "cell_type": "code",
   "execution_count": 10,
   "metadata": {
    "collapsed": true
   },
   "outputs": [],
   "source": [
    "V_t = diff(V,t)"
   ]
  },
  {
   "cell_type": "code",
   "execution_count": 11,
   "metadata": {
    "collapsed": true
   },
   "outputs": [],
   "source": [
    "V_x = diff(V,x)"
   ]
  },
  {
   "cell_type": "code",
   "execution_count": 12,
   "metadata": {
    "collapsed": true
   },
   "outputs": [],
   "source": [
    "V_xx = diff(V,x,x)"
   ]
  },
  {
   "cell_type": "code",
   "execution_count": 23,
   "metadata": {},
   "outputs": [],
   "source": [
    "# Sympy doesn't simplify nicely\n",
    "# -lam*V + V_t - .5*(((mu-r)/sig)**2)*(V_x**2)/V_xx + ((r+eta)*x + i)*V_x + (1-gam)/gam*exp(-rho*t/(1-gam))*K*(V_x**(-gam/(1-gam)))"
   ]
  },
  {
   "cell_type": "code",
   "execution_count": 24,
   "metadata": {},
   "outputs": [
    {
     "data": {
      "image/png": "[encoded data removed]",
      "text/latex": [
       "$$\\eta i e^{\\eta t} e^{r t} \\int_{t}^{T} e^{- \\eta s} e^{- r s}\\, ds + i r e^{\\eta t} e^{r t} \\int_{t}^{T} e^{- \\eta s} e^{- r s}\\, ds + i \\left(\\int_{t}^{T} 0\\, ds - e^{- \\eta t} e^{- r t}\\right) e^{\\eta t} e^{r t}$$"
      ],
      "text/plain": [
       "              T                                T                              \n",
       "              ⌠                                ⌠                    ⎛T        \n",
       "     η⋅t  r⋅t ⎮  -η⋅s  -r⋅s           η⋅t  r⋅t ⎮  -η⋅s  -r⋅s        ⎜⌠        \n",
       "η⋅i⋅ℯ   ⋅ℯ   ⋅⎮ ℯ    ⋅ℯ     ds + i⋅r⋅ℯ   ⋅ℯ   ⋅⎮ ℯ    ⋅ℯ     ds + i⋅⎜⎮ 0 ds - \n",
       "              ⌡                                ⌡                    ⎜⌡        \n",
       "              t                                t                    ⎝t        \n",
       "\n",
       "                      \n",
       "           ⎞          \n",
       " -η⋅t  -r⋅t⎟  η⋅t  r⋅t\n",
       "ℯ    ⋅ℯ    ⎟⋅ℯ   ⋅ℯ   \n",
       "           ⎟          \n",
       "           ⎠          "
      ]
     },
     "execution_count": 24,
     "metadata": {},
     "output_type": "execute_result"
    }
   ],
   "source": [
    "diff(b,t)"
   ]
  },
  {
   "cell_type": "code",
   "execution_count": null,
   "metadata": {
    "collapsed": true
   },
   "outputs": [],
   "source": []
  }
 ],
 "metadata": {
  "kernelspec": {
   "display_name": "Python 3",
   "language": "python",
   "name": "python3"
  },
  "language_info": {
   "codemirror_mode": {
    "name": "ipython",
    "version": 3
   },
   "file_extension": ".py",
   "mimetype": "text/x-python",
   "name": "python",
   "nbconvert_exporter": "python",
   "pygments_lexer": "ipython3",
   "version": "3.6.4"
  }
 },
 "nbformat": 4,
 "nbformat_minor": 2
}
