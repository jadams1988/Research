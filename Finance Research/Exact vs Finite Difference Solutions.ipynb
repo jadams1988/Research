{
 "cells": [
  {
   "cell_type": "code",
   "execution_count": 1,
   "metadata": {
    "collapsed": true
   },
   "outputs": [],
   "source": [
    "import numpy as np\n",
    "import matplotlib.pyplot as plt\n",
    "from scipy.integrate import quad\n",
    "\n",
    "from mpl_toolkits.mplot3d import Axes3D\n",
    "\n",
    "# plt.switch_backend('qt5agg')"
   ]
  },
  {
   "cell_type": "markdown",
   "metadata": {},
   "source": [
    "# Initial Conditions and Definitions\n",
    "#### Follows from example 3.4.1 in Ye"
   ]
  },
  {
   "cell_type": "code",
   "execution_count": 2,
   "metadata": {
    "collapsed": true
   },
   "outputs": [],
   "source": [
    "T = 40\n",
    "\n",
    "# Income at time t, should be i(t)\n",
    "def y(t):\n",
    "    return 50000*np.exp(.03*t)\n",
    "\n",
    "# Non-risky Investment rate\n",
    "r = .04\n",
    "\n",
    "# Continuous process (think average return rate of risky investment)\n",
    "mu = .09\n",
    "\n",
    "# Standard deviation of risky investment\n",
    "sigma = .18\n",
    "\n",
    "# Utility discount rate\n",
    "rho = .03\n",
    "\n",
    "# Hazard Function (probability of death at this moment in time)\n",
    "def lamb(t):\n",
    "    return 1/200 + 9/8000*t\n",
    "\n",
    "# Insurance premium-payout ratio\n",
    "def eta(t):\n",
    "    return 1/200 + 9/8000*t\n",
    "\n",
    "# Relative risk aversion\n",
    "gamma = -3"
   ]
  },
  {
   "cell_type": "markdown",
   "metadata": {},
   "source": [
    "# Direct Solution\n",
    "### Requires a few more function definitions"
   ]
  },
  {
   "cell_type": "code",
   "execution_count": 3,
   "metadata": {
    "collapsed": true
   },
   "outputs": [],
   "source": [
    "def integral(f, t0, tf):\n",
    "    # f is a function\n",
    "    return quad(f, t0, tf)[0]\n",
    "\n",
    "# Integral function doesn't play nice with sums of constants and functions\n",
    "def sum_r(t):\n",
    "    return r+eta(t)\n",
    "def sum_rho(t):\n",
    "    return lamb(t)+rho\n",
    "\n",
    "def H(v):\n",
    "    return sum_rho(v)/(1-gamma) - .5*gamma*((mu-r)/((1-gamma)*sigma))**2 - \\\n",
    "                                gamma/(1-gamma)*sum_r(v)\n",
    "\n",
    "def K(s):\n",
    "    return (lamb(s)**(1/(1-gamma)))/eta(s)**(gamma/(1-gamma)) + 1\n",
    "\n",
    "def e(t):\n",
    "    return np.exp(-integral(H,t,T)) + integral(lambda s: np.exp(-integral(H,t,s))*K(s),t,T)\n",
    "    \n",
    "def a(t):\n",
    "    return np.exp(-rho*t)*e(t)**(1-gamma)\n",
    "\n",
    "def b(t):\n",
    "    return integral(lambda s: y(s)*np.exp(-integral(sum_r,t,s)),t,T)\n",
    "\n",
    "def c(t):\n",
    "    return (1/e(t))*(x+b(t))\n",
    "\n",
    "def D(t):\n",
    "    return (lamb(t)/eta(t))**(1/(1-gamma))*1/e(t)\n",
    "\n",
    "def Z(t):\n",
    "    return D(t)*(x+b(t))\n",
    "\n",
    "def theta(t):\n",
    "    return ((mu-r)/((1-gamma)*sigma**2))*(x+b(t))\n",
    "\n",
    "def p(t):\n",
    "    return eta(t)*((D(t)-1)*x+D(t)*b(t))"
   ]
  },
  {
   "cell_type": "code",
   "execution_count": 4,
   "metadata": {
    "collapsed": true
   },
   "outputs": [],
   "source": [
    "def V(t,x):\n",
    "    return a(t)/gamma*(x+b(t))**gamma"
   ]
  },
  {
   "cell_type": "code",
   "execution_count": null,
   "metadata": {
    "collapsed": true
   },
   "outputs": [],
   "source": [
    "time, x = np.meshgrid(np.linspace(0,40,401),np.linspace(0,3000000,51)-1100000) #-b(0))"
   ]
  },
  {
   "cell_type": "code",
   "execution_count": null,
   "metadata": {
    "collapsed": true
   },
   "outputs": [],
   "source": [
    "# b(0)~1200000, use 1100000 for graphing purposes\n",
    "moneys = np.linspace(0,3000000,51)-1100000\n",
    "times = np.linspace(0,40,400)\n",
    "Happy = np.zeros((len(moneys),len(times)))\n",
    "\n",
    "for i in range(len(moneys)):\n",
    "    for j in range(len(times)):\n",
    "        Happy[i,j] = V(times[j],moneys[i])"
   ]
  },
  {
   "cell_type": "code",
   "execution_count": null,
   "metadata": {
    "collapsed": true
   },
   "outputs": [],
   "source": [
    "Moneys, Times = np.meshgrid(moneys+1100000, times)"
   ]
  },
  {
   "cell_type": "code",
   "execution_count": null,
   "metadata": {
    "collapsed": true
   },
   "outputs": [],
   "source": [
    "fig = plt.figure()\n",
    "ax = fig.gca(projection='3d')\n",
    "ax.plot_surface(Moneys, Times, Happy.T)\n",
    "plt.show()"
   ]
  },
  {
   "cell_type": "markdown",
   "metadata": {},
   "source": [
    "# The Finite Difference Approach"
   ]
  },
  {
   "cell_type": "code",
   "execution_count": 5,
   "metadata": {
    "collapsed": true
   },
   "outputs": [],
   "source": [
    "import scipy.optimize as opt"
   ]
  },
  {
   "cell_type": "code",
   "execution_count": 6,
   "metadata": {
    "collapsed": true
   },
   "outputs": [],
   "source": [
    "# These utility definitions come in 4.3, pg 69\n",
    "# Utility of consumption c \n",
    "def U(c,t):\n",
    "    return np.exp(-rho*t)/gamma * c**gamma\n",
    "\n",
    "# Utility of bequeathance Z, if dead early\n",
    "def B(Z,t):\n",
    "    return np.exp(-rho*t)/gamma * Z**gamma\n",
    "\n",
    "# Utility of wealth remaining after T\n",
    "def L(x,T):\n",
    "    return np.exp(-rho*T)/gamma * x**gamma"
   ]
  },
  {
   "cell_type": "markdown",
   "metadata": {},
   "source": [
    "### This approach will consume too much memory. Iterating recursively we will reuse too many values."
   ]
  },
  {
   "cell_type": "code",
   "execution_count": 7,
   "metadata": {
    "collapsed": true
   },
   "outputs": [],
   "source": [
    "# These are the 'Transition Probabilities' on pg 68.\n",
    "# 3 fumctions are created for ease of substitution\n",
    "# Because there is no dependence on u, I will just make them functions of t, theta_hat, c_hat, Z_hat for optimization\n",
    "\n",
    "def Pplus(theta_hat,t):\n",
    "    return delta/h*(r+eta(t)+theta_hat*(mu-r)) + (delta/(2*h**2))*(sigma**2)*(theta_hat**2)\n",
    "\n",
    "def Pminus(theta_hat, c_hat, Z_hat, t):\n",
    "    return (delta/(2*h**2))*(sigma**2)*(theta_hat**2) + (delta/(2*h))*(sigma**2)*(theta_hat**2) + (delta/h)*(c_hat+eta(t)*Z_hat)\n",
    "\n",
    "def P(theta_hat, c_hat, Z_hat, t):\n",
    "    return 1-Pplus(theta_hat,t)-Pminus(theta_hat, c_hat, Z_hat, t)\n",
    "\n",
    "# Think of a means to save V_hat values to avoid repetition, significantly reduce the # of computations\n",
    "def V_hat(t, u, T):\n",
    "    # This will be a recursive function. It should terminate at t=T\n",
    "    if t==T:\n",
    "        return L(np.exp(u),T)\n",
    "    return None\n",
    "    \n",
    "#     # These bounds are determined in (4.5) on pg 68\n",
    "#     bounds = ((None,None), (0,None), (1-np.exp(-u)*b(t),None))\n",
    "    \n",
    "#     # The guess for theta-hat is .3, since that is about what we saw in Figure 9 on pg 61 for the closed form solution.\n",
    "#     guess = (.3,.1,1-np.exp(u)*b(t))\n",
    "#     f = lambda theta_hat, c_hat, Z_hat: \\\n",
    "#             -Pplus(theta_hat,t)*V_hat(t+delta,u+h,T) +\\\n",
    "#             -P(theta_hat,c_hat,Z_hat,t)*V_hat(t+delta,u,T) +\\\n",
    "#             -Pminus(theta_hat,c_hat,Z_hat,t)*V_hat(t+delta,u-h,T) +\\\n",
    "#             -delta*lamb(t)*B(np.exp(u)*Z_hat,t) +\\\n",
    "#             -delta*U(np.exp(u)*c_hat,t)\n",
    "    \n",
    "#     v_hat = opt.minimize(f,guess,bounds=bounds).fun\n",
    "#     return -1/(1+delta*lamb(t))*v_hat"
   ]
  },
  {
   "cell_type": "markdown",
   "metadata": {},
   "source": [
    "### Instead, we know what's supposed to happen at the boundary, $V(T,u)=L(e^u)$, so start at $t=T$ and work back to $t_0$."
   ]
  },
  {
   "cell_type": "code",
   "execution_count": 218,
   "metadata": {
    "collapsed": true
   },
   "outputs": [],
   "source": [
    "u_ = 14 # This is the u that we are interestedf in for comparison purposes\n",
    "v_ = -5 # This is another value of u to test\n",
    "\n",
    "T = 40 # represents the final time\n",
    "u_min = np.round(np.log(3e-7)) # starting u at t=0, u~-15\n",
    "u_max = np.round(np.log(3e6)) # ending u at t=0, u~15\n",
    "\n",
    "# Some success with delta = .0005, h = .01\n",
    "\n",
    "delta = .001 # time step, changed from .01\n",
    "h = .02 # wealth (u) step, changed from .02\n",
    "\n",
    "diff_0 = u_max - u_min\n",
    "u_0 = np.linspace(u_min, u_max, int(diff_0/h)+1) # array of u values at t=0\n",
    "\n",
    "steps = T/delta*h\n",
    "\n",
    "u_min -= steps # new starting u at t=T, u~-95 if delta = .01, u~-815 if delta = .001\n",
    "u_max += steps # new ending u at t=T, u~95 if delta = .01, u~815 if delta = .001\n",
    "\n",
    "diff = u_max-u_min\n",
    "\n",
    "u_new = np.linspace(u_min, u_max, int(diff/h)+1) # array of u values at t=T"
   ]
  },
  {
   "cell_type": "code",
   "execution_count": 243,
   "metadata": {},
   "outputs": [],
   "source": [
    "u_ref = int((u_ - u_min)/h) # This is the index of the u we are interested\n",
    "v_ref = int((v_ - u_min)/h)\n",
    "\n",
    "u_first = int((u_0[0] - u_min)/h)\n",
    "\n",
    "start = v_ref\n",
    "end = -u_first"
   ]
  },
  {
   "cell_type": "code",
   "execution_count": 244,
   "metadata": {},
   "outputs": [
    {
     "name": "stderr",
     "output_type": "stream",
     "text": [
      "C:\\Users\\Joey\\Anaconda3\\lib\\site-packages\\ipykernel_launcher.py:2: RuntimeWarning: overflow encountered in exp\n",
      "  \n",
      "C:\\Users\\Joey\\Anaconda3\\lib\\site-packages\\ipykernel_launcher.py:12: RuntimeWarning: divide by zero encountered in power\n",
      "  if sys.path[0] == '':\n",
      "C:\\Users\\Joey\\Anaconda3\\lib\\site-packages\\ipykernel_launcher.py:12: RuntimeWarning: overflow encountered in power\n",
      "  if sys.path[0] == '':\n"
     ]
    }
   ],
   "source": [
    "# Define the optimized happiness V at t=T\n",
    "V_T = L(np.exp(u_new),T)"
   ]
  },
  {
   "cell_type": "markdown",
   "metadata": {},
   "source": [
    "# Constrained Version"
   ]
  },
  {
   "cell_type": "code",
   "execution_count": 245,
   "metadata": {},
   "outputs": [
    {
     "name": "stderr",
     "output_type": "stream",
     "text": [
      "C:\\Users\\Joey\\Anaconda3\\lib\\site-packages\\ipykernel_launcher.py:5: RuntimeWarning: overflow encountered in exp\n",
      "  \"\"\"\n",
      "C:\\Users\\Joey\\Anaconda3\\lib\\site-packages\\ipykernel_launcher.py:5: RuntimeWarning: overflow encountered in multiply\n",
      "  \"\"\"\n"
     ]
    }
   ],
   "source": [
    "# Next we want to move backward one step in time from T to T-delta, using the iterative process in 4.5\n",
    "t = T - delta\n",
    "\n",
    "# These bounds are determined in (4.5) on pg 68, will be used in the optimize function\n",
    "Z_bound = 1-np.exp(-u_new)*b(t)\n",
    "# bounds = ((None,None), (0,None), (1-np.exp(u)*b(t),None))\n",
    "\n",
    "# Introduce a multiplier. The V values are small, of magnitude -6 - -20, so the optimizer doesn't catch these values and can't \n",
    "multiplier = 1e-1\n",
    "\n",
    "# Define the function to minimize with parameters strictly in theta_hat, c_hat, Z_hat\n",
    "def f(params, u, t, T, sign=1.0):\n",
    "    theta_hat, c_hat, Z_hat = params\n",
    "    return multiplier*-1*1/(1+delta*lamb(t))* \\\n",
    "        (Pplus(theta_hat,t)*V_hat(t+delta,u+h,T) +\\\n",
    "        P(theta_hat,c_hat,Z_hat,t)*V_hat(t+delta,u,T) +\\\n",
    "        Pminus(theta_hat,c_hat,Z_hat,t)*V_hat(t+delta,u-h,T) +\\\n",
    "        delta*lamb(t)*B(np.exp(u)*Z_hat,t) +\\\n",
    "        delta*U(np.exp(u)*c_hat,t))\n",
    "\n",
    "cons = ({'type': 'ineq', 'fun': lambda x: Pplus(x[0], t)},\n",
    "        {'type': 'ineq', 'fun': lambda x: Pminus(x[0], x[1], x[2], t)},\n",
    "        {'type': 'ineq', 'fun': lambda x: P(x[0], x[1], x[2], t)})\n",
    "\n",
    "sol = [opt.minimize(f, x0 = (.3,.7,1-np.exp(-u)*b(t)), args=(u, t, T), constraints=cons,\n",
    "                  bounds = ((0,None), (0,None), (1-np.exp(-u)*b(t),None))) for u in u_new[start:end]]\n",
    "V_T_1 = [-s.fun/multiplier for s in sol]\n",
    "V_T_1_params = [s.x for s in sol]"
   ]
  },
  {
   "cell_type": "code",
   "execution_count": 246,
   "metadata": {},
   "outputs": [
    {
     "name": "stdout",
     "output_type": "stream",
     "text": [
      "0.999999999359\n",
      "-8.56539950078e-10\n",
      "1.49764600721e-09\n"
     ]
    }
   ],
   "source": [
    "theta_hat, c_hat, Z_hat = V_T_1_params[0]\n",
    "print(Pplus(theta_hat,t))\n",
    "print(Pminus(theta_hat,c_hat,Z_hat,t))\n",
    "print(P(theta_hat,c_hat,Z_hat,t))"
   ]
  },
  {
   "cell_type": "code",
   "execution_count": 247,
   "metadata": {
    "collapsed": true
   },
   "outputs": [],
   "source": [
    "def V_tilda(t,w):\n",
    "    return a(t)/gamma*(w)**gamma\n",
    "\n",
    "def V_hat_exact(t,u):\n",
    "    return a(t)/gamma*np.exp(u)**gamma\n",
    "\n",
    "V_exact = V_hat_exact(t, u_new[start:end])"
   ]
  },
  {
   "cell_type": "code",
   "execution_count": 248,
   "metadata": {},
   "outputs": [
    {
     "name": "stdout",
     "output_type": "stream",
     "text": [
      "1001\n",
      "[-329468.74461965 -310281.97860733 -292212.56286275 -275195.42797181\n",
      " -259169.29386841 -244076.44915935 -229862.54330147 -216476.39088081\n",
      " -203869.78728988 -191997.33513892]\n"
     ]
    }
   ],
   "source": [
    "print(len(V_exact))\n",
    "print(V_exact[:10])"
   ]
  },
  {
   "cell_type": "code",
   "execution_count": 249,
   "metadata": {},
   "outputs": [
    {
     "name": "stdout",
     "output_type": "stream",
     "text": [
      "1001\n",
      "[-309074.5267495659, -291075.42753188696, -274124.50773167476, -258160.74530629077, -243126.63388965002, -228968.0409697509, -215633.9803097734, -203076.43488569834, -191250.18404312554, -180112.64031772665]\n"
     ]
    }
   ],
   "source": [
    "print(len(V_T_1))\n",
    "print(V_T_1[:10])"
   ]
  },
  {
   "cell_type": "code",
   "execution_count": 250,
   "metadata": {
    "scrolled": true
   },
   "outputs": [
    {
     "data": {
      "text/plain": [
       "[array([  4.92707901e+00,   1.20792598e+03,  -2.45602106e+04]),\n",
       " array([  4.92707902e+00,   1.18351182e+03,  -2.40719165e+04]),\n",
       " array([  4.92707965e+00,   1.15957238e+03,  -2.35931170e+04]),\n",
       " array([  4.92707901e+00,   1.13610014e+03,  -2.31236614e+04]),\n",
       " array([  4.92707902e+00,   1.11308242e+03,  -2.26632967e+04]),\n",
       " array([  4.92707902e+00,   1.09050715e+03,  -2.22117812e+04]),\n",
       " array([  4.92707902e+00,   1.06836152e+03,  -2.17688586e+04]),\n",
       " array([  4.92707901e+00,   1.04663079e+03,  -2.13342343e+04]),\n",
       " array([  4.92707904e+00,   1.02530296e+03,  -2.09076680e+04]),\n",
       " array([  4.92707902e+00,   1.00461467e+03,  -2.04938929e+04])]"
      ]
     },
     "execution_count": 250,
     "metadata": {},
     "output_type": "execute_result"
    }
   ],
   "source": [
    "V_T_1_params[:10]"
   ]
  },
  {
   "cell_type": "markdown",
   "metadata": {},
   "source": [
    "# Unconstrained Version"
   ]
  },
  {
   "cell_type": "code",
   "execution_count": 239,
   "metadata": {},
   "outputs": [
    {
     "name": "stderr",
     "output_type": "stream",
     "text": [
      "C:\\Users\\Joey\\Anaconda3\\lib\\site-packages\\ipykernel_launcher.py:5: RuntimeWarning: overflow encountered in exp\n",
      "  \"\"\"\n",
      "C:\\Users\\Joey\\Anaconda3\\lib\\site-packages\\ipykernel_launcher.py:5: RuntimeWarning: overflow encountered in multiply\n",
      "  \"\"\"\n"
     ]
    }
   ],
   "source": [
    "# Next we want to move backward one step in time from T to T-delta, using the iterative process in 4.5\n",
    "t = T - delta\n",
    "\n",
    "# These bounds are determined in (4.5) on pg 68, will be used in the optimize function\n",
    "Z_bound = 1-np.exp(-u_new)*b(t)\n",
    "# bounds = ((None,None), (0,None), (1-np.exp(u)*b(t),None))\n",
    "\n",
    "multiplier = 1e21\n",
    "# Define the function to minimize with parameters strictly in theta_hat, c_hat, Z_hat\n",
    "def f(params, u, t, T, sign=1.0):\n",
    "    theta_hat, c_hat, Z_hat = params\n",
    "    return multiplier*-1/(1+delta*lamb(t))* \\\n",
    "        (Pplus(theta_hat,t)*V_hat(t+delta,u+h,T) +\\\n",
    "        P(theta_hat,c_hat,Z_hat,t)*V_hat(t+delta,u,T) +\\\n",
    "        Pminus(theta_hat,c_hat,Z_hat,t)*V_hat(t+delta,u-h,T) +\\\n",
    "        delta*lamb(t)*B(np.exp(u)*Z_hat,t) +\\\n",
    "        delta*U(np.exp(u)*c_hat,t))\n",
    "\n",
    "cons = ({'type': 'ineq', 'fun': lambda x: Pplus(x[0], t)},\n",
    "        {'type': 'ineq', 'fun': lambda x: Pminus(x[0], x[1], x[2], t)},\n",
    "        {'type': 'ineq', 'fun': lambda x: P(x[0], x[1], x[2], t)})\n",
    "\n",
    "sol = [opt.minimize(f, x0 = (.3,.9,1-np.exp(-u)*b(t)), args=(u, t, T), constraints=cons,\n",
    "                  bounds = ((0,1), (0,1), (None,None))) for u in u_new[start:end]]\n",
    "V_T_1 = [-s.fun/multiplier for s in sol]\n",
    "V_T_1_params = [s.x for s in sol]"
   ]
  },
  {
   "cell_type": "code",
   "execution_count": 240,
   "metadata": {
    "scrolled": true
   },
   "outputs": [
    {
     "name": "stdout",
     "output_type": "stream",
     "text": [
      "[ 0.99986197  0.9998647   0.99986738  0.99987001  0.99987258  0.9998751\n",
      "  0.99987758  0.99988     0.99988238  0.99988471]\n"
     ]
    },
    {
     "data": {
      "text/plain": [
       "[array([ 0.37313998,  0.9932704 ,  0.98898213]),\n",
       " array([ 0.37294034,  0.99357892,  0.98897335]),\n",
       " array([ 0.3727779 ,  0.99367217,  0.9889767 ]),\n",
       " array([ 0.37257036,  0.99383052,  0.98896591]),\n",
       " array([ 0.37222385,  0.99270806,  0.98911481]),\n",
       " array([ 0.3725862 ,  0.99284512,  0.98903425]),\n",
       " array([ 0.37298009,  0.99307257,  0.9889199 ]),\n",
       " array([ 0.37319349,  0.9933952 ,  0.98883377]),\n",
       " array([ 0.3732122 ,  0.99377065,  0.98880972]),\n",
       " array([ 0.37234152,  0.99270449,  0.98901711])]"
      ]
     },
     "execution_count": 240,
     "metadata": {},
     "output_type": "execute_result"
    }
   ],
   "source": [
    "print(Z_bound[start:start+10])\n",
    "V_T_1_params[:10]"
   ]
  },
  {
   "cell_type": "code",
   "execution_count": 241,
   "metadata": {},
   "outputs": [
    {
     "data": {
      "image/png": "[encoded data removed]",
      "text/plain": [
       "<matplotlib.figure.Figure at 0x1a896fdbc18>"
      ]
     },
     "metadata": {},
     "output_type": "display_data"
    }
   ],
   "source": [
    "plt.plot(u_new[start:end], V_T_1)\n",
    "plt.show()"
   ]
  },
  {
   "cell_type": "code",
   "execution_count": 242,
   "metadata": {},
   "outputs": [
    {
     "data": {
      "image/png": "[encoded data removed]",
      "text/plain": [
       "<matplotlib.figure.Figure at 0x1a8983f3470>"
      ]
     },
     "metadata": {},
     "output_type": "display_data"
    }
   ],
   "source": [
    "plt.plot(u_new[start:end], V_exact)\n",
    "plt.show()"
   ]
  },
  {
   "cell_type": "code",
   "execution_count": null,
   "metadata": {
    "collapsed": true
   },
   "outputs": [],
   "source": []
  },
  {
   "cell_type": "code",
   "execution_count": 252,
   "metadata": {},
   "outputs": [
    {
     "data": {
      "text/plain": [
       "0.99904569061882942"
      ]
     },
     "execution_count": 252,
     "metadata": {},
     "output_type": "execute_result"
    }
   ],
   "source": [
    "1/e(t)"
   ]
  },
  {
   "cell_type": "code",
   "execution_count": null,
   "metadata": {
    "collapsed": true
   },
   "outputs": [],
   "source": []
  }
 ],
 "metadata": {
  "kernelspec": {
   "display_name": "Python 3",
   "language": "python",
   "name": "python3"
  },
  "language_info": {
   "codemirror_mode": {
    "name": "ipython",
    "version": 3
   },
   "file_extension": ".py",
   "mimetype": "text/x-python",
   "name": "python",
   "nbconvert_exporter": "python",
   "pygments_lexer": "ipython3",
   "version": "3.6.4"
  }
 },
 "nbformat": 4,
 "nbformat_minor": 2
}
