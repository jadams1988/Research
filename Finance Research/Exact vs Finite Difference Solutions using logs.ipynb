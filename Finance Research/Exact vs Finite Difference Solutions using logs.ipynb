{
 "cells": [
  {
   "cell_type": "code",
   "execution_count": null,
   "metadata": {
    "collapsed": true
   },
   "outputs": [],
   "source": [
    "import numpy as np\n",
    "import matplotlib.pyplot as plt\n",
    "from scipy.integrate import quad\n",
    "\n",
    "from mpl_toolkits.mplot3d import Axes3D"
   ]
  },
  {
   "cell_type": "markdown",
   "metadata": {},
   "source": [
    "# Initial Conditions and Definitions\n",
    "#### Follows from example 3.4.1 in Ye"
   ]
  },
  {
   "cell_type": "code",
   "execution_count": null,
   "metadata": {
    "collapsed": true
   },
   "outputs": [],
   "source": [
    "# Income at time t, should be i(t)\n",
    "def y(t):\n",
    "    return 50000*np.exp(.03*t)\n",
    "\n",
    "# Non-risky Investment rate\n",
    "r = .04\n",
    "\n",
    "# Continuous process (think average return rate of risky investment)\n",
    "mu = .09\n",
    "\n",
    "# Standard deviation of risky investment\n",
    "sigma = .18\n",
    "\n",
    "# Utility discount rate\n",
    "rho = .03\n",
    "\n",
    "# Hazard Function (probability of death at this moment in time)\n",
    "def lamb(t):\n",
    "    return 1/200 + 9/8000*t\n",
    "\n",
    "# Insurance premium-payout ratio\n",
    "def eta(t):\n",
    "    return 1/200 + 9/8000*t\n",
    "\n",
    "# Relative risk aversion\n",
    "gamma = -3"
   ]
  },
  {
   "cell_type": "markdown",
   "metadata": {},
   "source": [
    "# Direct Solution\n",
    "### Requires a few more function definitions"
   ]
  },
  {
   "cell_type": "code",
   "execution_count": null,
   "metadata": {
    "collapsed": true
   },
   "outputs": [],
   "source": [
    "def integral(f, t0, tf):\n",
    "    # f is a function\n",
    "    return quad(f, t0, tf)[0]\n",
    "\n",
    "# Integral function doesn't play nice with sums of constants and functions\n",
    "def sum_r(t):\n",
    "    return r+eta(t)\n",
    "def sum_rho(t):\n",
    "    return lamb(t)+rho\n",
    "\n",
    "def H(v):\n",
    "    return sum_rho(v)/(1-gamma) - .5*gamma*((mu-r)/((1-gamma)*sigma))**2 - \\\n",
    "                                gamma/(1-gamma)*sum_r(v)\n",
    "\n",
    "def K(s):\n",
    "    return (lamb(s)**(1/(1-gamma)))/eta(s)**(gamma/(1-gamma)) + 1\n",
    "\n",
    "def e(t):\n",
    "    return np.exp(-integral(H,t,T)) + integral(lambda s: np.exp(-integral(H,t,s))*K(s),t,T)\n",
    "    \n",
    "def a(t):\n",
    "    return np.exp(-rho*t)*e(t)**(1-gamma)\n",
    "\n",
    "def b(t):\n",
    "    return integral(lambda s: y(s)*np.exp(-integral(sum_r,t,s)),t,T)\n",
    "\n",
    "def c(t):\n",
    "    return (1/e(t))*(x+b(t))\n",
    "\n",
    "def D(t):\n",
    "    return (lamb(t)/eta(t))**(1/(1-gamma))*1/e(t)\n",
    "\n",
    "def Z(t):\n",
    "    return D(t)*(x+b(t))\n",
    "\n",
    "def theta(t):\n",
    "    return ((mu-r)/((1-gamma)*sigma**2))*(x+b(t))\n",
    "\n",
    "def p(t):\n",
    "    return eta(t)*((D(t)-1)*x+D(t)*b(t))"
   ]
  },
  {
   "cell_type": "code",
   "execution_count": null,
   "metadata": {
    "collapsed": true
   },
   "outputs": [],
   "source": [
    "def V(t,x):\n",
    "    return a(t)/gamma*(x+b(t))**gamma"
   ]
  },
  {
   "cell_type": "markdown",
   "metadata": {},
   "source": [
    "# The Finite Difference Approach"
   ]
  },
  {
   "cell_type": "code",
   "execution_count": null,
   "metadata": {
    "collapsed": true
   },
   "outputs": [],
   "source": [
    "import scipy.optimize as opt"
   ]
  },
  {
   "cell_type": "code",
   "execution_count": null,
   "metadata": {
    "collapsed": true
   },
   "outputs": [],
   "source": [
    "# These utility definitions come in 4.3, pg 69\n",
    "# Utility of consumption c \n",
    "def U(c,t):\n",
    "    return np.exp(-rho*t)/gamma * c**gamma\n",
    "\n",
    "# Utility of bequeathance Z, if dead early\n",
    "def B(Z,t):\n",
    "    return np.exp(-rho*t)/gamma * Z**gamma\n",
    "\n",
    "# Utility of wealth remaining after T\n",
    "def L(x,T):\n",
    "    return np.exp(-rho*T)/gamma * x**gamma"
   ]
  },
  {
   "cell_type": "markdown",
   "metadata": {},
   "source": [
    "### This approach will consume too much memory. Iterating recursively we will reuse too many values."
   ]
  },
  {
   "cell_type": "code",
   "execution_count": null,
   "metadata": {
    "collapsed": true
   },
   "outputs": [],
   "source": [
    "# These are the 'Transition Probabilities' on pg 68.\n",
    "# 3 fumctions are created for ease of substitution\n",
    "# Because there is no dependence on u, I will just make them functions of t, theta_hat, c_hat, Z_hat for optimization\n",
    "\n",
    "def Pplus(theta_hat,t):\n",
    "    return delta/h*(r+eta(t)+theta_hat*(mu-r)) + (delta/(2*h**2))*(sigma**2)*(theta_hat**2)\n",
    "\n",
    "def Pminus(theta_hat, c_hat, Z_hat, t):\n",
    "    return (delta/(2*h**2))*(sigma**2)*(theta_hat**2) + (delta/(2*h))*(sigma**2)*(theta_hat**2) + (delta/h)*(c_hat+eta(t)*Z_hat)\n",
    "\n",
    "def P(theta_hat, c_hat, Z_hat, t):\n",
    "    return 1-Pplus(theta_hat,t)-Pminus(theta_hat, c_hat, Z_hat, t)\n",
    "\n",
    "# Think of a means to save V_hat values to avoid repetition, significantly reduce the # of computations\n",
    "def V_hat(t, u, T):\n",
    "    # This will be a recursive function. It should terminate at t=T\n",
    "    if t==T:\n",
    "        return L(np.exp(u),T)\n",
    "    return None\n",
    "    \n",
    "#     # These bounds are determined in (4.5) on pg 68\n",
    "#     bounds = ((None,None), (0,None), (1-np.exp(-u)*b(t),None))\n",
    "    \n",
    "#     # The guess for theta-hat is .3, since that is about what we saw in Figure 9 on pg 61 for the closed form solution.\n",
    "#     guess = (.3,.1,1-np.exp(u)*b(t))\n",
    "#     f = lambda theta_hat, c_hat, Z_hat: \\\n",
    "#             -Pplus(theta_hat,t)*V_hat(t+delta,u+h,T) +\\\n",
    "#             -P(theta_hat,c_hat,Z_hat,t)*V_hat(t+delta,u,T) +\\\n",
    "#             -Pminus(theta_hat,c_hat,Z_hat,t)*V_hat(t+delta,u-h,T) +\\\n",
    "#             -delta*lamb(t)*B(np.exp(u)*Z_hat,t) +\\\n",
    "#             -delta*U(np.exp(u)*c_hat,t)\n",
    "    \n",
    "#     v_hat = opt.minimize(f,guess,bounds=bounds).fun\n",
    "#     return -1/(1+delta*lamb(t))*v_hat"
   ]
  },
  {
   "cell_type": "markdown",
   "metadata": {},
   "source": [
    "### Instead, we know what's supposed to happen at the boundary, $V(T,u)=L(e^u)$, so start at $t=T$ and work back to $t_0$."
   ]
  },
  {
   "cell_type": "code",
   "execution_count": null,
   "metadata": {
    "collapsed": true
   },
   "outputs": [],
   "source": [
    "u_ = 14 # This is the u that we are interestedf in for comparison purposes\n",
    "v_ = -15\n",
    "# This is another value of u to test\n",
    "\n",
    "T = 40 # represents the final time\n",
    "u_min = np.round(np.log(3e-7)) # starting u at t=0, u~-15\n",
    "u_max = np.round(np.log(3e6)) # ending u at t=0, u~15\n",
    "\n",
    "delta = .001 # time step, changed from .01\n",
    "h = .01 # wealth (u) step, changed from .02\n",
    "\n",
    "diff_0 = u_max - u_min\n",
    "u_0 = np.linspace(u_min, u_max, int(diff_0/h)+1) # array of u values at t=0\n",
    "\n",
    "steps = T/delta*h\n",
    "\n",
    "u_min -= steps # new starting u at t=T, u~-95 if delta = .01, u~-815 if delta = .001\n",
    "u_max += steps # new ending u at t=T, u~95 if delta = .01, u~815 if delta = .001\n",
    "\n",
    "diff = u_max-u_min\n",
    "\n",
    "u_new = np.linspace(u_min, u_max, int(diff/h)+1) # array of u values at t=T"
   ]
  },
  {
   "cell_type": "code",
   "execution_count": null,
   "metadata": {},
   "outputs": [],
   "source": [
    "u_ref = int((u_ - u_min)/h) # This is the index of the u we are interested in\n",
    "v_ref = int((v_ - u_min)/h)\n",
    "\n",
    "u_first = int((u_0[0] - u_min)/h)\n",
    "\n",
    "start = v_ref\n",
    "end = -u_first"
   ]
  },
  {
   "cell_type": "code",
   "execution_count": null,
   "metadata": {},
   "outputs": [],
   "source": [
    "# Define the optimized happiness V at t=T\n",
    "V_T = L(np.exp(u_new),T)\n",
    "\n",
    "# Next we want to move backward one step in time from T to T-delta, using the iterative process in 4.5\n",
    "t = T - delta\n",
    "\n",
    "def V_tilda(t,w):\n",
    "    return a(t)/gamma*(w)**gamma\n",
    "\n",
    "def V_hat_exact(t,u):\n",
    "    return a(t)/gamma*np.exp(u)**gamma\n",
    "\n",
    "V_exact = np.log(-1*(V_hat_exact(t, u_new[start:end])))"
   ]
  },
  {
   "cell_type": "markdown",
   "metadata": {},
   "source": [
    "# Constrained Version"
   ]
  },
  {
   "cell_type": "code",
   "execution_count": null,
   "metadata": {},
   "outputs": [],
   "source": [
    "# Define the function to minimize with parameters strictly in theta_hat, c_hat, Z_hat\n",
    "def f(params, u, t, T, sign=1.0):\n",
    "    theta_hat, c_hat, Z_hat = params\n",
    "    return np.log(-1*(\n",
    "        1/(1+delta*lamb(t))* \\\n",
    "        (Pplus(theta_hat,t)*V_hat(t+delta,u+h,T) +\\\n",
    "        P(theta_hat,c_hat,Z_hat,t)*V_hat(t+delta,u,T) +\\\n",
    "        Pminus(theta_hat,c_hat,Z_hat,t)*V_hat(t+delta,u-h,T) +\\\n",
    "        delta*lamb(t)*B(np.exp(u)*Z_hat,t) +\\\n",
    "        delta*U(np.exp(u)*c_hat,t))\n",
    "    ))\n",
    "\n",
    "cons = ({'type': 'ineq', 'fun': lambda x: Pplus(x[0], t)},\n",
    "        {'type': 'ineq', 'fun': lambda x: Pminus(x[0], x[1], x[2], t)},\n",
    "        {'type': 'ineq', 'fun': lambda x: P(x[0], x[1], x[2], t)})\n",
    "\n",
    "ftol = 1e-20 # This is the accuracy we want in the function f before it stops iterating.\n",
    "\n",
    "sol = [opt.minimize(f, x0 = (.1,.2,1), args=(u, t, T), constraints=cons, method='SLSQP',# tol=1e-12,\n",
    "                    options={'eps':1e-6, 'maxiter':100, 'ftol':ftol},\n",
    "                  bounds = ((0,1), (0,1), (1-np.exp(-u)*b(t),None))) for u in u_new[start:end]]\n",
    "\n",
    "V_T_1 = [s.fun for s in sol]\n",
    "V_T_1_params = [s.x for s in sol]"
   ]
  },
  {
   "cell_type": "code",
   "execution_count": null,
   "metadata": {},
   "outputs": [],
   "source": [
    "theta_hat, c_hat, Z_hat = V_T_1_params[0]\n",
    "print(Pplus(theta_hat,t))\n",
    "print(Pminus(theta_hat,c_hat,Z_hat,t))\n",
    "print(P(theta_hat,c_hat,Z_hat,t))"
   ]
  },
  {
   "cell_type": "code",
   "execution_count": null,
   "metadata": {},
   "outputs": [],
   "source": [
    "print(len(V_exact))\n",
    "print(V_exact[:10])"
   ]
  },
  {
   "cell_type": "code",
   "execution_count": null,
   "metadata": {},
   "outputs": [],
   "source": [
    "print(len(V_T_1))\n",
    "print(V_T_1[:10])"
   ]
  },
  {
   "cell_type": "code",
   "execution_count": null,
   "metadata": {
    "scrolled": true
   },
   "outputs": [],
   "source": [
    "V_T_1_params[:10]"
   ]
  },
  {
   "cell_type": "code",
   "execution_count": null,
   "metadata": {},
   "outputs": [],
   "source": [
    "plt.plot(u_new[start:end], V_T_1, label='approx', linewidth=4)\n",
    "plt.plot(u_new[start:end], V_exact, label='exact', color='red')\n",
    "plt.legend()\n",
    "plt.show()"
   ]
  },
  {
   "cell_type": "code",
   "execution_count": null,
   "metadata": {},
   "outputs": [],
   "source": [
    "th = [s[2] for s in V_T_1_params]\n",
    "plt.plot(u_new[start:end], th, linewidth=4, label='approx $\\hat Z^*$')\n",
    "plt.plot(u_new[end-450:end], 1-np.exp(-u_new[end-450:end])*b(t), color='red', label='$1-e^{-u}b(T-\\delta)$')\n",
    "\n",
    "plt.legend()\n",
    "plt.xlabel('$u$')\n",
    "plt.ylabel('$\\hat Z$')\n",
    "# plt.savefig('ConstrainedZ.jpg')\n",
    "plt.show()\n",
    "plt.close()"
   ]
  },
  {
   "cell_type": "markdown",
   "metadata": {},
   "source": [
    "# Unconstrained Version"
   ]
  },
  {
   "cell_type": "code",
   "execution_count": null,
   "metadata": {},
   "outputs": [],
   "source": [
    "# Define the function to minimize with parameters strictly in theta_hat, c_hat, Z_hat\n",
    "def f(params, u, t, T, sign=1.0):\n",
    "    theta_hat, c_hat, Z_hat = params\n",
    "    return np.log(-1*(\n",
    "        1/(1+delta*lamb(t))* \\\n",
    "        (Pplus(theta_hat,t)*V_hat(t+delta,u+h,T) +\\\n",
    "        P(theta_hat,c_hat,Z_hat,t)*V_hat(t+delta,u,T) +\\\n",
    "        Pminus(theta_hat,c_hat,Z_hat,t)*V_hat(t+delta,u-h,T) +\\\n",
    "        delta*lamb(t)*B(np.exp(u)*Z_hat,t) +\\\n",
    "        delta*U(np.exp(u)*c_hat,t))\n",
    "    ))\n",
    "\n",
    "cons = ({'type': 'ineq', 'fun': lambda x: Pplus(x[0], t)},\n",
    "        {'type': 'ineq', 'fun': lambda x: Pminus(x[0], x[1], x[2], t)},\n",
    "        {'type': 'ineq', 'fun': lambda x: P(x[0], x[1], x[2], t)})\n",
    "\n",
    "sol = [opt.minimize(f, x0 = (.1,.7,.7), args=(u, t, T), constraints=cons, method='SLSQP',\n",
    "                    options={'eps':1e-6, 'maxiter':100, 'ftol':ftol},\n",
    "                  bounds = ((0,1), (0,1), (None,None))) for u in u_new[start:end]]\n",
    "\n",
    "V_T_1 = [s.fun for s in sol]\n",
    "V_T_1_params = [s.x for s in sol]"
   ]
  },
  {
   "cell_type": "code",
   "execution_count": null,
   "metadata": {
    "scrolled": true
   },
   "outputs": [],
   "source": [
    "V_T_1_params[:10]"
   ]
  },
  {
   "cell_type": "code",
   "execution_count": null,
   "metadata": {},
   "outputs": [],
   "source": [
    "plt.plot(u_new[start:end], V_T_1, label='approx $\\log(-\\hat V(t=T-\\delta,u))$', linewidth=4)\n",
    "plt.plot(u_new[start:end], V_exact, label='exact $\\log(-V(t=T-\\delta,u))$', color='red')\n",
    "plt.legend()\n",
    "plt.xlabel('$u$')\n",
    "plt.ylabel('$\\log(-V)$')\n",
    "# plt.savefig('Vvalues.jpg')\n",
    "plt.show()\n",
    "plt.close()"
   ]
  },
  {
   "cell_type": "code",
   "execution_count": null,
   "metadata": {},
   "outputs": [],
   "source": [
    "ths = [s[2] for s in V_T_1_params]\n",
    "plt.plot(u_new[start:end], ths, label='approx $\\hat Z^*$')\n",
    "plt.plot(u_new[start:end], 1/e(t)*np.ones(len(u_new[start:end])), label='exact $\\hat Z^*$')\n",
    "plt.plot(u_new[end-450:end], 1-np.exp(-u_new[end-450:end])*b(t), label='$1-e^{-u}b(T-\\delta)$')\n",
    "plt.legend()\n",
    "plt.xlabel('$u$')\n",
    "plt.ylabel('$\\hat Z$')\n",
    "# plt.savefig('UnconstrainedZ.jpg')\n",
    "plt.show()\n",
    "plt.close()"
   ]
  },
  {
   "cell_type": "code",
   "execution_count": null,
   "metadata": {
    "collapsed": true
   },
   "outputs": [],
   "source": []
  }
 ],
 "metadata": {
  "kernelspec": {
   "display_name": "Python 3",
   "language": "python",
   "name": "python3"
  },
  "language_info": {
   "codemirror_mode": {
    "name": "ipython",
    "version": 3
   },
   "file_extension": ".py",
   "mimetype": "text/x-python",
   "name": "python",
   "nbconvert_exporter": "python",
   "pygments_lexer": "ipython3",
   "version": "3.6.4"
  }
 },
 "nbformat": 4,
 "nbformat_minor": 2
}
