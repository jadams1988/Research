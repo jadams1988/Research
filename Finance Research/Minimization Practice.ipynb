{
 "cells": [
  {
   "cell_type": "code",
   "execution_count": 1,
   "metadata": {
    "collapsed": true
   },
   "outputs": [],
   "source": [
    "import numpy as np\n",
    "import scipy.optimize as opt"
   ]
  },
  {
   "cell_type": "code",
   "execution_count": 2,
   "metadata": {},
   "outputs": [
    {
     "data": {
      "text/plain": [
       "      fun: -4.0\n",
       " hess_inv: <2x2 LbfgsInvHessProduct with dtype=float64>\n",
       "      jac: array([ 0.        ,  1.99999999])\n",
       "  message: b'CONVERGENCE: NORM_OF_PROJECTED_GRADIENT_<=_PGTOL'\n",
       "     nfev: 21\n",
       "      nit: 6\n",
       "   status: 0\n",
       "  success: True\n",
       "        x: array([ -2.13263771e-09,  -2.00000000e+00])"
      ]
     },
     "execution_count": 2,
     "metadata": {},
     "output_type": "execute_result"
    }
   ],
   "source": [
    "opt.minimize(lambda x:x[0]**2+2*x[1],[3,2],bounds=((None,None),(-2,5)))"
   ]
  },
  {
   "cell_type": "code",
   "execution_count": 3,
   "metadata": {
    "collapsed": true
   },
   "outputs": [],
   "source": [
    "def f(xy):\n",
    "    x, y, = xy\n",
    "    return x**2+2*y"
   ]
  },
  {
   "cell_type": "code",
   "execution_count": 4,
   "metadata": {},
   "outputs": [
    {
     "data": {
      "text/plain": [
       "      fun: -4.0\n",
       " hess_inv: <2x2 LbfgsInvHessProduct with dtype=float64>\n",
       "      jac: array([ 0.        ,  1.99999999])\n",
       "  message: b'CONVERGENCE: NORM_OF_PROJECTED_GRADIENT_<=_PGTOL'\n",
       "     nfev: 21\n",
       "      nit: 6\n",
       "   status: 0\n",
       "  success: True\n",
       "        x: array([ -2.13263771e-09,  -2.00000000e+00])"
      ]
     },
     "execution_count": 4,
     "metadata": {},
     "output_type": "execute_result"
    }
   ],
   "source": [
    "opt.minimize(f, [3,2], bounds=((None,None),(-2,5)))"
   ]
  },
  {
   "cell_type": "markdown",
   "metadata": {},
   "source": [
    "# My problem"
   ]
  },
  {
   "cell_type": "code",
   "execution_count": 5,
   "metadata": {
    "collapsed": true
   },
   "outputs": [],
   "source": [
    "import numpy as np\n",
    "import scipy.optimize as opt\n",
    "from scipy.integrate import quad\n",
    "import matplotlib.pyplot as plt"
   ]
  },
  {
   "cell_type": "code",
   "execution_count": 80,
   "metadata": {
    "collapsed": true
   },
   "outputs": [],
   "source": [
    "T = 40\n",
    "\n",
    "# Income at time t, should be i(t)\n",
    "def y(t):\n",
    "    return 50000*np.exp(.03*t)\n",
    "\n",
    "# Non-risky Investment rate\n",
    "r = .04\n",
    "\n",
    "# Continuous process (think average return rate of risky investment)\n",
    "mu = .09\n",
    "\n",
    "# Standard deviation of risky investment\n",
    "sigma = .18\n",
    "\n",
    "# Utility discount rate\n",
    "rho = .03\n",
    "\n",
    "# Hazard Function (probability of death at this moment in time)\n",
    "def lamb(t):\n",
    "    return 1/200 + 9/8000*t\n",
    "\n",
    "# Insurance premium-payout ratio\n",
    "def eta(t):\n",
    "    return 1/200 + 9/8000*t\n",
    "\n",
    "# Relative risk aversion\n",
    "gamma = -3\n",
    "\n",
    "def integral(f, t0, tf):\n",
    "    # f is a function\n",
    "    return quad(f, t0, tf)[0]\n",
    "\n",
    "# Integral function doesn't play nice with sums of constants and functions\n",
    "def sum_r(t):\n",
    "    return r+eta(t)\n",
    "def sum_rho(t):\n",
    "    return lamb(t)+rho\n",
    "\n",
    "def H(v):\n",
    "    return sum_rho(v)/(1-gamma) - .5*gamma*((mu-r)/((1-gamma)*sigma))**2 - \\\n",
    "                                gamma/(1-gamma)*sum_r(v)\n",
    "\n",
    "def K(s):\n",
    "    return (lamb(s)**(1/(1-gamma)))/eta(s)**(gamma/(1-gamma)) + 1\n",
    "\n",
    "def e(t):\n",
    "    return np.exp(-integral(H,t,T)) + integral(lambda s: np.exp(-integral(H,t,s))*K(s),t,T)\n",
    "    \n",
    "def a(t):\n",
    "    return np.exp(-rho*t)*e(t)**(1-gamma)\n",
    "\n",
    "def b(t):\n",
    "    return integral(lambda s: y(s)*np.exp(-integral(sum_r,t,s)),t,T)\n",
    "\n",
    "def c(t):\n",
    "    return (1/e(t))*(x+b(t))\n",
    "\n",
    "def D(t):\n",
    "    return (lamb(t)/eta(t))**(1/(1-gamma))*1/e(t)\n",
    "\n",
    "def Z(t):\n",
    "    return D(t)*(x+b(t))\n",
    "\n",
    "def theta(t):\n",
    "    return ((mu-r)/((1-gamma)*sigma**2))*(x+b(t))\n",
    "\n",
    "def p(t):\n",
    "    return eta(t)*((D(t)-1)*x+D(t)*b(t))\n",
    "\n",
    "def V(t,x):\n",
    "    return a(t)/gamma*(x+b(t))**gamma\n",
    "\n",
    "# These utility definitions come in 4.3, pg 69\n",
    "# Utility of consumption c \n",
    "def U(c,t):\n",
    "    return np.exp(-rho*t)/gamma * c**gamma\n",
    "\n",
    "# Utility of bequeathance Z, if dead early\n",
    "def B(Z,t):\n",
    "    return np.exp(-rho*t)/gamma * Z**gamma\n",
    "\n",
    "# Utility of wealth remaining after T\n",
    "def L(x,T):\n",
    "    return np.exp(-rho*T)/gamma * x**gamma\n",
    "\n",
    "# These are the 'Transition Probabilities' on pg 68.\n",
    "# 3 fumctions are created for ease of substitution\n",
    "# Because there is no dependence on u, I will just make them functions of t, theta_hat, c_hat, Z_hat for optimization\n",
    "\n",
    "def Pplus(theta_hat,t):\n",
    "    return delta/h*(r+eta(t)+theta_hat*(mu-r)) + (delta/(2*h**2))*(sigma**2)*(theta_hat**2)\n",
    "\n",
    "def Pminus(theta_hat, c_hat, Z_hat, t):\n",
    "    return (delta/(2*h**2))*(sigma**2)*(theta_hat**2) + (delta/(2*h))*(sigma**2)*(theta_hat**2) + (delta/h)*(c_hat+eta(t)*Z_hat)\n",
    "\n",
    "def P(theta_hat, c_hat, Z_hat, t):\n",
    "    return 1-Pplus(theta_hat,t)-Pminus(theta_hat, c_hat, Z_hat, t)\n",
    "\n",
    "# Think of a means to save V_hat values to avoid repetition, significantly reduce the # of computations\n",
    "def V_hat(t, u, T):\n",
    "    # This will be a recursive function. It should terminate at t=T\n",
    "#     if t==T:\n",
    "    return L(np.exp(u),T)\n",
    "\n",
    "# Define the function to minimize with parameters strictly in theta_hat, c_hat, Z_hat\n",
    "def f(params, u, t, T, sign=1.0):\n",
    "    theta_hat, c_hat, Z_hat = params\n",
    "    return 1e20*-1*1/(1+delta*lamb(t))* \\\n",
    "        (Pplus(theta_hat,t)*V_hat(t+delta,u+h,T) +\\\n",
    "        P(theta_hat,c_hat,Z_hat,t)*V_hat(t+delta,u,T) +\\\n",
    "        Pminus(theta_hat,c_hat,Z_hat,t)*V_hat(t+delta,u-h,T) +\\\n",
    "        delta*lamb(t)*B(np.exp(u)*Z_hat,t) +\\\n",
    "        delta*U(np.exp(u)*c_hat,t))\n",
    "\n",
    "def g(params, u, t, T):\n",
    "    theta_hat, c_hat, Z_hat = params\n",
    "    return -1/(1+delta*lamb(t))* \\\n",
    "        (Pplus(theta_hat,t)*V_hat(t+delta,u+h,T) +\\\n",
    "        P(theta_hat,c_hat,Z_hat,t)*V_hat(t+delta,u,T) +\\\n",
    "        Pminus(theta_hat,c_hat,Z_hat,t)*V_hat(t+delta,u-h,T) +\\\n",
    "        delta*lamb(t)*B(np.exp(u)*Z_hat,t) +\\\n",
    "        delta*U(np.exp(u)*c_hat,t))"
   ]
  },
  {
   "cell_type": "code",
   "execution_count": null,
   "metadata": {
    "collapsed": true
   },
   "outputs": [],
   "source": []
  },
  {
   "cell_type": "code",
   "execution_count": 81,
   "metadata": {},
   "outputs": [
    {
     "name": "stdout",
     "output_type": "stream",
     "text": [
      "0.999861969653\n",
      "      fun: 5.7952496021157165\n",
      " hess_inv: <3x3 LbfgsInvHessProduct with dtype=float64>\n",
      "      jac: array([ -8.8817841970e-08,   2.6645352591e-06,   3.9968028887e-06])\n",
      "  message: b'CONVERGENCE: NORM_OF_PROJECTED_GRADIENT_<=_PGTOL'\n",
      "     nfev: 40\n",
      "      nit: 9\n",
      "   status: 0\n",
      "  success: True\n",
      "        x: array([ 0.3714595733,  0.9925338082,  0.9935948337])\n"
     ]
    }
   ],
   "source": [
    "u = 14\n",
    "delta = .001\n",
    "h = .02\n",
    "t = T - delta\n",
    "\n",
    "z = 1-np.exp(-u)*b(t)\n",
    "print(z)\n",
    "\n",
    "sol = opt.minimize(f, [.6, .7, 1-np.exp(-u)*b(t)], args=(u,t,T), bounds=((0,1),(0,1),(None,None)))\n",
    "print(sol)"
   ]
  },
  {
   "cell_type": "markdown",
   "metadata": {},
   "source": [
    "# If $Z$ and $c$ are fixed, we easily see $\\max\\limits_\\theta \\{f\\}$ occurs around $\\theta=.371$, which is expected"
   ]
  },
  {
   "cell_type": "code",
   "execution_count": 57,
   "metadata": {},
   "outputs": [
    {
     "name": "stdout",
     "output_type": "stream",
     "text": [
      "0.999861969653 14 39.999 40\n"
     ]
    },
    {
     "data": {
      "image/png": "[encoded data removed]",
      "text/plain": [
       "<matplotlib.figure.Figure at 0x2b5b1f88ef0>"
      ]
     },
     "metadata": {},
     "output_type": "display_data"
    }
   ],
   "source": [
    "print(z, u, t, T)\n",
    "\n",
    "THETA = np.linspace(0,1,10000)\n",
    "plt.plot(THETA, -1e-20*f((THETA, .9, z), u, t, T))\n",
    "plt.show()"
   ]
  },
  {
   "cell_type": "code",
   "execution_count": 58,
   "metadata": {},
   "outputs": [
    {
     "data": {
      "text/plain": [
       "      fun: 5.795612859501656\n",
       " hess_inv: array([[ 442.1726703984]])\n",
       "      jac: array([ -1.7881393433e-07])\n",
       "  message: 'Optimization terminated successfully.'\n",
       "     nfev: 21\n",
       "      nit: 3\n",
       "     njev: 7\n",
       "   status: 0\n",
       "  success: True\n",
       "        x: array([ 0.3714879823])"
      ]
     },
     "execution_count": 58,
     "metadata": {},
     "output_type": "execute_result"
    }
   ],
   "source": [
    "def f_theta(theta_hat, c_hat, Z_hat, u, t, T):\n",
    "    return 1e20*-1*1/(1+delta*lamb(t))* \\\n",
    "        (Pplus(theta_hat,t)*V_hat(t+delta,u+h,T) +\\\n",
    "        P(theta_hat,c_hat,Z_hat,t)*V_hat(t+delta,u,T) +\\\n",
    "        Pminus(theta_hat,c_hat,Z_hat,t)*V_hat(t+delta,u-h,T) +\\\n",
    "        delta*lamb(t)*B(np.exp(u)*Z_hat,t) +\\\n",
    "        delta*U(np.exp(u)*c_hat,t))\n",
    "\n",
    "opt.minimize(f_theta, .8, args=(.9, z, u, t, T))"
   ]
  },
  {
   "cell_type": "code",
   "execution_count": 60,
   "metadata": {},
   "outputs": [
    {
     "name": "stdout",
     "output_type": "stream",
     "text": [
      "[ -5.7957689680e-20  -5.7957688840e-20  -5.7957688000e-20 ...,\n",
      "  -5.7960592678e-20  -5.7960594099e-20  -5.7960595521e-20]\n"
     ]
    }
   ],
   "source": [
    "np.set_printoptions(precision=10)\n",
    "print(-1e-20*f((THETA, .9, z), u, t, T))"
   ]
  },
  {
   "cell_type": "code",
   "execution_count": 61,
   "metadata": {},
   "outputs": [
    {
     "data": {
      "text/plain": [
       "array([9999, 9998, 9997, ..., 3716, 3714, 3715], dtype=int64)"
      ]
     },
     "execution_count": 61,
     "metadata": {},
     "output_type": "execute_result"
    }
   ],
   "source": [
    "np.argsort(-f((THETA, .9, z), u, t, T))"
   ]
  },
  {
   "cell_type": "markdown",
   "metadata": {},
   "source": [
    "# Now we fix $\\theta$ and $Z$, and see that $\\max\\limits_c\\{f\\}$ occurs at $c=.992$, which is about what is expected"
   ]
  },
  {
   "cell_type": "code",
   "execution_count": 62,
   "metadata": {},
   "outputs": [
    {
     "data": {
      "text/plain": [
       "      fun: 5.795249696531143\n",
       " hess_inv: array([[ 13.776211765]])\n",
       "      jac: array([ -5.9604644775e-08])\n",
       "  message: 'Optimization terminated successfully.'\n",
       "     nfev: 21\n",
       "      nit: 6\n",
       "     njev: 7\n",
       "   status: 0\n",
       "  success: True\n",
       "        x: array([ 0.9924980085])"
      ]
     },
     "execution_count": 62,
     "metadata": {},
     "output_type": "execute_result"
    }
   ],
   "source": [
    "def f_c(c_hat, theta_hat, Z_hat, u, t, T):\n",
    "    return 1e20*-1*1/(1+delta*lamb(t))* \\\n",
    "        (Pplus(theta_hat,t)*V_hat(t+delta,u+h,T) +\\\n",
    "        P(theta_hat,c_hat,Z_hat,t)*V_hat(t+delta,u,T) +\\\n",
    "        Pminus(theta_hat,c_hat,Z_hat,t)*V_hat(t+delta,u-h,T) +\\\n",
    "        delta*lamb(t)*B(np.exp(u)*Z_hat,t) +\\\n",
    "        delta*U(np.exp(u)*c_hat,t))\n",
    "\n",
    "opt.minimize(f_c, .9, args=(.371, z, u, t, T))"
   ]
  },
  {
   "cell_type": "code",
   "execution_count": 63,
   "metadata": {},
   "outputs": [
    {
     "data": {
      "image/png": "[encoded data removed]",
      "text/plain": [
       "<matplotlib.figure.Figure at 0x2b5b2153d68>"
      ]
     },
     "metadata": {},
     "output_type": "display_data"
    }
   ],
   "source": [
    "C = np.linspace(.9,1,1000)\n",
    "\n",
    "plt.plot(C, -1e-20*f_c(C, .371, z, u, t, T))\n",
    "plt.show()"
   ]
  },
  {
   "cell_type": "markdown",
   "metadata": {},
   "source": [
    "# Now fix just $Z$, we get $\\max\\limits_{c,\\theta}\\{f\\}$ occurs at $c=.9925$, $\\theta=.3715$ which is about what's expected"
   ]
  },
  {
   "cell_type": "code",
   "execution_count": 64,
   "metadata": {},
   "outputs": [
    {
     "data": {
      "text/plain": [
       "      fun: 5.795249696663299\n",
       " hess_inv: array([[  13.9832427501,    0.7975237531],\n",
       "       [   0.7975237531,  354.4950398951]])\n",
       "      jac: array([ -4.7683715820e-07,   1.4305114746e-06])\n",
       "  message: 'Optimization terminated successfully.'\n",
       "     nfev: 72\n",
       "      nit: 17\n",
       "     njev: 18\n",
       "   status: 0\n",
       "  success: True\n",
       "        x: array([ 0.9924908043,  0.3721588875])"
      ]
     },
     "execution_count": 64,
     "metadata": {},
     "output_type": "execute_result"
    }
   ],
   "source": [
    "def f_c_theta(ct, Z_hat, u, t, T):\n",
    "    c_hat, theta_hat = ct\n",
    "    return 1e20*-1*1/(1+delta*lamb(t))* \\\n",
    "        (Pplus(theta_hat,t)*V_hat(t+delta,u+h,T) +\\\n",
    "        P(theta_hat,c_hat,Z_hat,t)*V_hat(t+delta,u,T) +\\\n",
    "        Pminus(theta_hat,c_hat,Z_hat,t)*V_hat(t+delta,u-h,T) +\\\n",
    "        delta*lamb(t)*B(np.exp(u)*Z_hat,t) +\\\n",
    "        delta*U(np.exp(u)*c_hat,t))\n",
    "\n",
    "opt.minimize(f_c_theta, (.9,.3), args=(z, u, t, T))"
   ]
  },
  {
   "cell_type": "markdown",
   "metadata": {},
   "source": [
    "# Fix $c$ and $theta$. Notice $f$ is linear in $Z$, so we must add in the fact that $P_{plus}$, $P_{minus}$, and $P$ are all positive (they are technically transition probabilities, and forcing them all positive forces them between $0$ and $1$ since $P=1-P_{plus}-P_{minus}$)."
   ]
  },
  {
   "cell_type": "code",
   "execution_count": 65,
   "metadata": {},
   "outputs": [
    {
     "name": "stdout",
     "output_type": "stream",
     "text": [
      "     fun: 5.7952497054675325\n",
      "     jac: array([  2.5987625122e-05])\n",
      " message: 'Optimization terminated successfully.'\n",
      "    nfev: 3\n",
      "     nit: 1\n",
      "    njev: 1\n",
      "  status: 0\n",
      " success: True\n",
      "       x: array([ 0.9998619697])\n"
     ]
    }
   ],
   "source": [
    "def f_z(Z_hat, theta_hat, c_hat, u, t, T):\n",
    "    return 1e20*-1*1/(1+delta*lamb(t))* \\\n",
    "        (Pplus(theta_hat,t)*V_hat(t+delta,u+h,T) +\\\n",
    "        P(theta_hat,c_hat,Z_hat,t)*V_hat(t+delta,u,T) +\\\n",
    "        Pminus(theta_hat,c_hat,Z_hat,t)*V_hat(t+delta,u-h,T) +\\\n",
    "        delta*lamb(t)*B(np.exp(u)*Z_hat,t) +\\\n",
    "        delta*U(np.exp(u)*c_hat,t))\n",
    "\n",
    "theta_hat = .371\n",
    "c_hat = .992\n",
    "# Z is free\n",
    "\n",
    "cons = ({'type': 'ineq', 'fun': lambda x: Pplus(theta_hat, t)},\n",
    "        {'type': 'ineq', 'fun': lambda x: Pminus(theta_hat, c_hat, x, t)},\n",
    "        {'type': 'ineq', 'fun': lambda x: P(theta_hat, c_hat, x, t)})\n",
    "\n",
    "sol = opt.minimize(f_z, 1-np.exp(-u)*b(t), args=(theta_hat, c_hat, u, t, T), constraints=cons)\n",
    "print(sol)"
   ]
  },
  {
   "cell_type": "code",
   "execution_count": 66,
   "metadata": {},
   "outputs": [
    {
     "name": "stdout",
     "output_type": "stream",
     "text": [
      "0.999861969653\n"
     ]
    },
    {
     "data": {
      "image/png": "[encoded data removed]",
      "text/plain": [
       "<matplotlib.figure.Figure at 0x2b5b2102278>"
      ]
     },
     "metadata": {},
     "output_type": "display_data"
    }
   ],
   "source": [
    "print(z)\n",
    "\n",
    "Zs = np.linspace(-1000,1000,1000)\n",
    "\n",
    "plt.subplot(221)\n",
    "plt.plot(Zs, f_z(Zs, .371, .992, u, t, T))\n",
    "plt.title('$f(z)$')\n",
    "\n",
    "plt.subplot(222)\n",
    "plt.plot(Zs, Pplus(.371, t)*np.ones(len(Zs)))\n",
    "plt.title('Pplus')\n",
    "\n",
    "plt.subplot(223)\n",
    "plt.plot(Zs, Pminus(.371, .992, Zs, t))\n",
    "plt.title('Pminus')\n",
    "\n",
    "plt.subplot(224)\n",
    "plt.plot(Zs, P(.371, .992, Zs, t))\n",
    "plt.title('P')\n",
    "\n",
    "plt.subplots_adjust(hspace=.5, wspace=.35)\n",
    "plt.show()"
   ]
  },
  {
   "cell_type": "markdown",
   "metadata": {},
   "source": [
    "# Now let everything be free."
   ]
  },
  {
   "cell_type": "code",
   "execution_count": 82,
   "metadata": {},
   "outputs": [
    {
     "name": "stdout",
     "output_type": "stream",
     "text": [
      "0.999861969653\n",
      "     fun: 57.95249741424585\n",
      "     jac: array([  2.8610229492e-06,   4.6205520630e-04,   2.9802322388e-04])\n",
      " message: 'Optimization terminated successfully.'\n",
      "    nfev: 76\n",
      "     nit: 15\n",
      "    njev: 15\n",
      "  status: 0\n",
      " success: True\n",
      "       x: array([ 0.3716790634,  0.9931405999,  1.0009510452])\n"
     ]
    }
   ],
   "source": [
    "def f_all(params, u, t, T, delta, h):\n",
    "    theta_hat, c_hat, Z_hat = params\n",
    "    return 1e21*-1/(1+delta*lamb(t))* \\\n",
    "        (Pplus(theta_hat,t)*V_hat(t+delta,u+h,T) +\\\n",
    "        P(theta_hat,c_hat,Z_hat,t)*V_hat(t+delta,u,T) +\\\n",
    "        Pminus(theta_hat,c_hat,Z_hat,t)*V_hat(t+delta,u-h,T) +\\\n",
    "        delta*lamb(t)*B(np.exp(u)*Z_hat,t) +\\\n",
    "        delta*U(np.exp(u)*c_hat,t))\n",
    "\n",
    "# cons = ({'type': 'ineq', 'fun': lambda x: Pplus(theta_hat, t)},\n",
    "#         {'type': 'ineq', 'fun': lambda x: Pminus(theta_hat, c_hat, x, t)},\n",
    "#         {'type': 'ineq', 'fun': lambda x: P(theta_hat, c_hat, x, t)})\n",
    "\n",
    "cons = ({'type': 'ineq', 'fun': lambda x: Pplus(x[0], t)},\n",
    "        {'type': 'ineq', 'fun': lambda x: Pminus(x[0], x[1], x[2], t)},\n",
    "        {'type': 'ineq', 'fun': lambda x: P(x[0], x[1], x[2], t)})\n",
    "\n",
    "# cons=None\n",
    "\n",
    "z = 1-np.exp(-u)*b(t)\n",
    "print(z)\n",
    "\n",
    "sol = opt.minimize(f_all, [.1, .2, 1-np.exp(-u)*b(t)], args=(u,t,T,delta,h), bounds=((0,1),(0,1),(None,None)), constraints=cons)\n",
    "print(sol)"
   ]
  },
  {
   "cell_type": "code",
   "execution_count": 77,
   "metadata": {},
   "outputs": [
    {
     "name": "stdout",
     "output_type": "stream",
     "text": [
      "0.0110717480611 0.0578876533733 0.931040598566\n"
     ]
    }
   ],
   "source": [
    "print(Pplus(sol.x[0],t), Pminus(sol.x[0], sol.x[1], sol.x[2], t), P(sol.x[0], sol.x[1], sol.x[2], t))"
   ]
  },
  {
   "cell_type": "code",
   "execution_count": null,
   "metadata": {
    "collapsed": true
   },
   "outputs": [],
   "source": []
  },
  {
   "cell_type": "code",
   "execution_count": null,
   "metadata": {
    "collapsed": true
   },
   "outputs": [],
   "source": []
  }
 ],
 "metadata": {
  "kernelspec": {
   "display_name": "Python 3",
   "language": "python",
   "name": "python3"
  },
  "language_info": {
   "codemirror_mode": {
    "name": "ipython",
    "version": 3
   },
   "file_extension": ".py",
   "mimetype": "text/x-python",
   "name": "python",
   "nbconvert_exporter": "python",
   "pygments_lexer": "ipython3",
   "version": "3.6.4"
  }
 },
 "nbformat": 4,
 "nbformat_minor": 2
}
