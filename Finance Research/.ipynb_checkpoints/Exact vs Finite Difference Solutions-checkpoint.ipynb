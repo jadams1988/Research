{
 "cells": [
  {
   "cell_type": "code",
   "execution_count": 1,
   "metadata": {
    "collapsed": true
   },
   "outputs": [],
   "source": [
    "import numpy as np\n",
    "import matplotlib.pyplot as plt\n",
    "from scipy.integrate import quad\n",
    "\n",
    "from mpl_toolkits.mplot3d import Axes3D\n",
    "\n",
    "# plt.switch_backend('qt5agg')"
   ]
  },
  {
   "cell_type": "markdown",
   "metadata": {},
   "source": [
    "# Initial Conditions and Definitions\n",
    "#### Follows from example 3.4.1 in Ye"
   ]
  },
  {
   "cell_type": "code",
   "execution_count": 2,
   "metadata": {
    "collapsed": true
   },
   "outputs": [],
   "source": [
    "T = 40\n",
    "\n",
    "# Income at time t, should be i(t)\n",
    "def y(t):\n",
    "    return 50000*np.exp(.03*t)\n",
    "\n",
    "# Non-risky Investment rate\n",
    "r = .04\n",
    "\n",
    "# Continuous process (think average return rate of risky investment)\n",
    "mu = .09\n",
    "\n",
    "# Standard deviation of risky investment\n",
    "sigma = .18\n",
    "\n",
    "# Utility discount rate\n",
    "rho = .03\n",
    "\n",
    "# Hazard Function (probability of death at this moment in time)\n",
    "def lamb(t):\n",
    "    return 1/200 + 9/8000*t\n",
    "\n",
    "# Insurance premium-payout ratio\n",
    "def eta(t):\n",
    "    return 1/200 + 9/8000*t\n",
    "\n",
    "# Relative risk aversion\n",
    "gamma = -3"
   ]
  },
  {
   "cell_type": "markdown",
   "metadata": {},
   "source": [
    "# Direct Solution\n",
    "### Requires a few more function definitions"
   ]
  },
  {
   "cell_type": "code",
   "execution_count": 3,
   "metadata": {
    "collapsed": true
   },
   "outputs": [],
   "source": [
    "def integral(f, t0, tf):\n",
    "    # f is a function\n",
    "    return quad(f, t0, tf)[0]\n",
    "\n",
    "# Integral function doesn't play nice with sums of constants and functions\n",
    "def sum_r(t):\n",
    "    return r+eta(t)\n",
    "def sum_rho(t):\n",
    "    return lamb(t)+rho\n",
    "\n",
    "def H(v):\n",
    "    return sum_rho(v)/(1-gamma) - .5*gamma*((mu-r)/((1-gamma)*sigma))**2 - \\\n",
    "                                gamma/(1-gamma)*sum_r(v)\n",
    "\n",
    "def K(s):\n",
    "    return (lamb(s)**(1/(1-gamma)))/eta(s)**(gamma/(1-gamma)) + 1\n",
    "\n",
    "def e(t):\n",
    "    return np.exp(-integral(H,t,T)) + integral(lambda s: np.exp(-integral(H,t,s))*K(s),t,T)\n",
    "    \n",
    "def a(t):\n",
    "    return np.exp(-rho*t)*e(t)**(1-gamma)\n",
    "\n",
    "def b(t):\n",
    "    return integral(lambda s: y(s)*np.exp(-integral(sum_r,t,s)),t,T)\n",
    "\n",
    "def c(t):\n",
    "    return (1/e(t))*(x+b(t))\n",
    "\n",
    "def D(t):\n",
    "    return (lamb(t)/eta(t))**(1/(1-gamma))*1/e(t)\n",
    "\n",
    "def Z(t):\n",
    "    return D(t)*(x+b(t))\n",
    "\n",
    "def theta(t):\n",
    "    return ((mu-r)/((1-gamma)*sigma**2))*(x+b(t))\n",
    "\n",
    "def p(t):\n",
    "    return eta(t)*((D(t)-1)*x+D(t)*b(t))"
   ]
  },
  {
   "cell_type": "code",
   "execution_count": 4,
   "metadata": {
    "collapsed": true
   },
   "outputs": [],
   "source": [
    "def V(t,x):\n",
    "    return a(t)/gamma*(x+b(t))**gamma"
   ]
  },
  {
   "cell_type": "code",
   "execution_count": null,
   "metadata": {
    "collapsed": true
   },
   "outputs": [],
   "source": [
    "time, x = np.meshgrid(np.linspace(0,40,401),np.linspace(0,3000000,51)-1100000) #-b(0))"
   ]
  },
  {
   "cell_type": "code",
   "execution_count": null,
   "metadata": {
    "collapsed": true
   },
   "outputs": [],
   "source": [
    "# b(0)~1200000, use 1100000 for graphing purposes\n",
    "moneys = np.linspace(0,3000000,51)-1100000\n",
    "times = np.linspace(0,40,400)\n",
    "Happy = np.zeros((len(moneys),len(times)))\n",
    "\n",
    "for i in range(len(moneys)):\n",
    "    for j in range(len(times)):\n",
    "        Happy[i,j] = V(times[j],moneys[i])"
   ]
  },
  {
   "cell_type": "code",
   "execution_count": null,
   "metadata": {
    "collapsed": true
   },
   "outputs": [],
   "source": [
    "Moneys, Times = np.meshgrid(moneys+1100000, times)"
   ]
  },
  {
   "cell_type": "code",
   "execution_count": null,
   "metadata": {
    "collapsed": true
   },
   "outputs": [],
   "source": [
    "fig = plt.figure()\n",
    "ax = fig.gca(projection='3d')\n",
    "ax.plot_surface(Moneys, Times, Happy.T)\n",
    "plt.show()"
   ]
  },
  {
   "cell_type": "markdown",
   "metadata": {},
   "source": [
    "# The Finite Difference Approach"
   ]
  },
  {
   "cell_type": "code",
   "execution_count": 5,
   "metadata": {
    "collapsed": true
   },
   "outputs": [],
   "source": [
    "import scipy.optimize as opt"
   ]
  },
  {
   "cell_type": "code",
   "execution_count": 6,
   "metadata": {
    "collapsed": true
   },
   "outputs": [],
   "source": [
    "# These utility definitions come in 4.3, pg 69\n",
    "# Utility of consumption c \n",
    "def U(c,t):\n",
    "    return np.exp(-rho*t)/gamma * c**gamma\n",
    "\n",
    "# Utility of bequeathance Z, if dead early\n",
    "def B(Z,t):\n",
    "    return np.exp(-rho*t)/gamma * Z**gamma\n",
    "\n",
    "# Utility of wealth remaining after T\n",
    "def L(x,T):\n",
    "    return np.exp(-rho*T)/gamma * x**gamma"
   ]
  },
  {
   "cell_type": "markdown",
   "metadata": {},
   "source": [
    "### This approach will consume too much memory. Iterating recursively we will reuse too many values."
   ]
  },
  {
   "cell_type": "code",
   "execution_count": 7,
   "metadata": {
    "collapsed": true
   },
   "outputs": [],
   "source": [
    "# These are the 'Transition Probabilities' on pg 68.\n",
    "# 3 fumctions are created for ease of substitution\n",
    "# Because there is no dependence on u, I will just make them functions of t, theta_hat, c_hat, Z_hat for optimization\n",
    "\n",
    "def Pplus(theta_hat,t):\n",
    "    return delta/h*(r+eta(t)+theta_hat*(mu-r)) + (delta/(2*h**2))*(sigma**2)*(theta_hat**2)\n",
    "\n",
    "def Pminus(theta_hat, c_hat, Z_hat, t):\n",
    "    return (delta/(2*h**2))*(sigma**2)*(theta_hat**2) + (delta/(2*h))*(sigma**2)*(theta_hat**2) + (delta/h)*(c_hat+eta(t)*Z_hat)\n",
    "\n",
    "def P(theta_hat, c_hat, Z_hat, t):\n",
    "    return 1-Pplus(theta_hat,t)-Pminus(theta_hat, c_hat, Z_hat, t)\n",
    "\n",
    "# Think of a means to save V_hat values to avoid repetition, significantly reduce the # of computations\n",
    "def V_hat(t, u, T):\n",
    "    # This will be a recursive function. It should terminate at t=T\n",
    "    if t==T:\n",
    "        return L(np.exp(u),T)\n",
    "    return None\n",
    "    \n",
    "#     # These bounds are determined in (4.5) on pg 68\n",
    "#     bounds = ((None,None), (0,None), (1-np.exp(-u)*b(t),None))\n",
    "    \n",
    "#     # The guess for theta-hat is .3, since that is about what we saw in Figure 9 on pg 61 for the closed form solution.\n",
    "#     guess = (.3,.1,1-np.exp(u)*b(t))\n",
    "#     f = lambda theta_hat, c_hat, Z_hat: \\\n",
    "#             -Pplus(theta_hat,t)*V_hat(t+delta,u+h,T) +\\\n",
    "#             -P(theta_hat,c_hat,Z_hat,t)*V_hat(t+delta,u,T) +\\\n",
    "#             -Pminus(theta_hat,c_hat,Z_hat,t)*V_hat(t+delta,u-h,T) +\\\n",
    "#             -delta*lamb(t)*B(np.exp(u)*Z_hat,t) +\\\n",
    "#             -delta*U(np.exp(u)*c_hat,t)\n",
    "    \n",
    "#     v_hat = opt.minimize(f,guess,bounds=bounds).fun\n",
    "#     return -1/(1+delta*lamb(t))*v_hat"
   ]
  },
  {
   "cell_type": "markdown",
   "metadata": {},
   "source": [
    "### Instead, we know what's supposed to happen at the boundary, $V(T,u)=L(e^u)$, so start at $t=T$ and work back to $t_0$."
   ]
  },
  {
   "cell_type": "code",
   "execution_count": 121,
   "metadata": {},
   "outputs": [],
   "source": [
    "u_ = 14 # This is the u that we are interestedf in for comparison purposes\n",
    "v_ = 2 # This is another value of u to test\n",
    "\n",
    "T = 40\n",
    "u_min = np.round(np.log(3e-7)) # starting u at t=0, u~-15\n",
    "u_max = np.round(np.log(3e6)) # ending u at t=0, u~15\n",
    "\n",
    "# Some success with delta = .0005, h = .01\n",
    "\n",
    "delta = .001 # time step, changed from .01\n",
    "h = .02 # wealth (u) step, changed from .02\n",
    "\n",
    "diff_0 = u_max - u_min\n",
    "u_0 = np.linspace(u_min, u_max, int(diff_0/h)+1) # array of u values at t=0\n",
    "\n",
    "steps = T/delta*h\n",
    "\n",
    "u_min -= steps # new starting u at t=T, u~-95 if delta = .01, u~-815 if delta = .001\n",
    "u_max += steps # new ending u at t=T, u~95 if delta = .01, u~815 if delta = .001\n",
    "\n",
    "diff = u_max-u_min\n",
    "\n",
    "u_new = np.linspace(u_min, u_max, int(diff/h)+1) # array of u values at t=T"
   ]
  },
  {
   "cell_type": "code",
   "execution_count": 175,
   "metadata": {},
   "outputs": [],
   "source": [
    "u_ref = int((u_ - u_min)/h) # This is the index of the u we are interested\n",
    "u_first = int((u_0[0] - u_min)/h)\n",
    "\n",
    "v_ref = int((v_ - u_min)/h)\n",
    "\n",
    "# print(len(u_new))\n",
    "# print(len(u_0))\n",
    "# print(u_new[u_first])\n",
    "# print(u_new[u_ref])\n",
    "# print(u_min)\n",
    "\n",
    "# print(v_ref)\n",
    "\n",
    "start = v_ref\n",
    "\n",
    "end = -u_first"
   ]
  },
  {
   "cell_type": "code",
   "execution_count": 176,
   "metadata": {},
   "outputs": [
    {
     "name": "stderr",
     "output_type": "stream",
     "text": [
      "C:\\Users\\Joey\\Anaconda3\\lib\\site-packages\\ipykernel_launcher.py:2: RuntimeWarning: overflow encountered in exp\n",
      "  \n",
      "C:\\Users\\Joey\\Anaconda3\\lib\\site-packages\\ipykernel_launcher.py:12: RuntimeWarning: divide by zero encountered in power\n",
      "  if sys.path[0] == '':\n",
      "C:\\Users\\Joey\\Anaconda3\\lib\\site-packages\\ipykernel_launcher.py:12: RuntimeWarning: overflow encountered in power\n",
      "  if sys.path[0] == '':\n"
     ]
    }
   ],
   "source": [
    "# Define the optimized happiness V at t=T\n",
    "V_T = L(np.exp(u_new),T)"
   ]
  },
  {
   "cell_type": "markdown",
   "metadata": {},
   "source": [
    "# Constrained Version"
   ]
  },
  {
   "cell_type": "code",
   "execution_count": 196,
   "metadata": {},
   "outputs": [
    {
     "name": "stderr",
     "output_type": "stream",
     "text": [
      "C:\\Users\\Joey\\Anaconda3\\lib\\site-packages\\ipykernel_launcher.py:5: RuntimeWarning: overflow encountered in exp\n",
      "  \"\"\"\n",
      "C:\\Users\\Joey\\Anaconda3\\lib\\site-packages\\ipykernel_launcher.py:5: RuntimeWarning: overflow encountered in multiply\n",
      "  \"\"\"\n"
     ]
    }
   ],
   "source": [
    "# Next we want to move backward one step in time from T to T-delta, using the iterative process in 4.5\n",
    "t = T - delta\n",
    "\n",
    "# These bounds are determined in (4.5) on pg 68, will be used in the optimize function\n",
    "Z_bound = 1-np.exp(-u_new)*b(t)\n",
    "# bounds = ((None,None), (0,None), (1-np.exp(u)*b(t),None))\n",
    "\n",
    "# Introduce a multiplier. The V values are small, of magnitude -6 - -20, so the optimizer doesn't catch these values and can't \n",
    "multiplier = 1e6\n",
    "\n",
    "# Define the function to minimize with parameters strictly in theta_hat, c_hat, Z_hat\n",
    "def f(params, u, t, T, sign=1.0):\n",
    "    theta_hat, c_hat, Z_hat = params\n",
    "    return multiplier*-1*1/(1+delta*lamb(t))* \\\n",
    "        (Pplus(theta_hat,t)*V_hat(t+delta,u+h,T) +\\\n",
    "        P(theta_hat,c_hat,Z_hat,t)*V_hat(t+delta,u,T) +\\\n",
    "        Pminus(theta_hat,c_hat,Z_hat,t)*V_hat(t+delta,u-h,T) +\\\n",
    "        delta*lamb(t)*B(np.exp(u)*Z_hat,t) +\\\n",
    "        delta*U(np.exp(u)*c_hat,t))\n",
    "\n",
    "sol = [opt.minimize(f, x0 = (.3,.7,1-np.exp(-u)*b(t)), args=(u, t, T),\n",
    "                  bounds = ((0,None), (0,None), (1-np.exp(-u)*b(t),None))) for u in u_new[start:end]]\n",
    "V_T_1 = [-s.fun/multiplier for s in sol]\n",
    "V_T_1_params = [s.x for s in sol]"
   ]
  },
  {
   "cell_type": "code",
   "execution_count": 197,
   "metadata": {},
   "outputs": [
    {
     "name": "stdout",
     "output_type": "stream",
     "text": [
      "0.0110209041133\n",
      "0.00166716731424\n",
      "0.987311928572\n"
     ]
    }
   ],
   "source": [
    "theta_hat, c_hat, Z_hat = V_T_1_params[0]\n",
    "print(Pplus(theta_hat,t))\n",
    "print(Pminus(theta_hat,c_hat,Z_hat,t))\n",
    "print(P(theta_hat,c_hat,Z_hat,t))"
   ]
  },
  {
   "cell_type": "code",
   "execution_count": 198,
   "metadata": {
    "collapsed": true
   },
   "outputs": [],
   "source": [
    "def V_tilda(t,w):\n",
    "    return a(t)/gamma*(w)**gamma\n",
    "\n",
    "def V_hat_exact(t,u):\n",
    "    return a(t)/gamma*np.exp(u)**gamma\n",
    "\n",
    "V_exact = V_hat_exact(t, u_new[start:end])"
   ]
  },
  {
   "cell_type": "code",
   "execution_count": 199,
   "metadata": {},
   "outputs": [
    {
     "name": "stdout",
     "output_type": "stream",
     "text": [
      "651\n",
      "[-0.00024982 -0.00023527 -0.00022157 -0.00020867 -0.00019652 -0.00018507\n",
      " -0.00017429 -0.00016414 -0.00015459 -0.00014558]\n"
     ]
    }
   ],
   "source": [
    "print(len(V_exact))\n",
    "print(V_exact[:10])"
   ]
  },
  {
   "cell_type": "code",
   "execution_count": 200,
   "metadata": {},
   "outputs": [
    {
     "name": "stdout",
     "output_type": "stream",
     "text": [
      "651\n",
      "[-0.00024896997688070993, -0.00023448721007469507, -0.00022084661489165909, -0.0002079992423373133, -0.00019589898666127367, -0.00018450242034099575, -0.00017376863863578277, -0.00016365911314973844, -0.00015413755388739812, -0.0001451697793088402]\n"
     ]
    }
   ],
   "source": [
    "print(len(V_T_1))\n",
    "print(V_T_1[:10])"
   ]
  },
  {
   "cell_type": "code",
   "execution_count": 201,
   "metadata": {
    "collapsed": true
   },
   "outputs": [
    {
     "data": {
      "text/plain": [
       "[array([  0.37158327,   0.99249737, -21.46510027]),\n",
       " array([  0.37153248,   0.99249829, -21.02026148]),\n",
       " array([  0.37154851,   0.99249947, -20.58423109]),\n",
       " array([  0.37155337,   0.99249842, -20.15683468]),\n",
       " array([  0.37145396,   0.99249728, -19.73790128]),\n",
       " array([  0.37156898,   0.99249872, -19.32726333]),\n",
       " array([  0.37152227,   0.99249772, -18.92475654]),\n",
       " array([  0.37148431,   0.99249765, -18.53021993]),\n",
       " array([  0.37149856,   0.99249793, -18.14349566]),\n",
       " array([  0.37152608,   0.99250187, -17.76442905]),\n",
       " array([  0.37153864,   0.99249873, -17.39286846]),\n",
       " array([  0.37160205,   0.99250319, -17.02866527]),\n",
       " array([  0.37151575,   0.99249903, -16.67167377]),\n",
       " array([  0.37154909,   0.99249752, -16.32175119]),\n",
       " array([  0.37150897,   0.99249867, -15.97875754]),\n",
       " array([  0.37167049,   0.99252582, -15.64255561]),\n",
       " array([  0.37153429,   0.99250412, -15.31301093]),\n",
       " array([  0.3715903 ,   0.99249449, -14.98999167]),\n",
       " array([  0.37168095,   0.99247022, -14.67336862]),\n",
       " array([  0.37148772,   0.99249761, -14.36301513]),\n",
       " array([  0.37153649,   0.99250436, -14.05880705]),\n",
       " array([  0.37171035,   0.99247121, -13.76062269]),\n",
       " array([  0.37174083,   0.99248611, -13.46834278]),\n",
       " array([  0.37155597,   0.99249853, -13.1818504 ]),\n",
       " array([  0.37169496,   0.99252647, -12.90103094]),\n",
       " array([  0.37190168,   0.99245219, -12.62577209]),\n",
       " array([  0.37160507,   0.99249839, -12.35596372]),\n",
       " array([  0.37178445,   0.99247329, -12.09149792]),\n",
       " array([  0.37183341,   0.99246934, -11.8322689 ]),\n",
       " array([  0.37162842,   0.99249747, -11.57817295]),\n",
       " array([  0.37148449,   0.99249513, -11.32910843]),\n",
       " array([  0.37164036,   0.992494  , -11.08497573]),\n",
       " array([  0.37174078,   0.99252366, -10.84567718]),\n",
       " array([  0.37179716,   0.99252829, -10.61111705]),\n",
       " array([  0.37153485,   0.99250981, -10.38120153]),\n",
       " array([  0.37171572,   0.99251598, -10.15583864]),\n",
       " array([ 0.37174656,  0.99251099, -9.93493824]),\n",
       " array([ 0.37155001,  0.99249944, -9.71841195]),\n",
       " array([ 0.37168667,  0.9925045 , -9.50617318]),\n",
       " array([ 0.37180708,  0.99251906, -9.29813701]),\n",
       " array([ 0.3716041 ,  0.99249633, -9.09422023]),\n",
       " array([ 0.37170387,  0.99251654, -8.89434128]),\n",
       " array([ 0.37164493,  0.99250589, -8.6984202 ]),\n",
       " array([ 0.3715542 ,  0.99250883, -8.50637861]),\n",
       " array([ 0.37171673,  0.99252687, -8.3181397 ]),\n",
       " array([ 0.3718074 ,  0.99254245, -8.13362817]),\n",
       " array([ 0.37156256,  0.99249837, -7.95277022]),\n",
       " array([ 0.371609  ,  0.99250381, -7.77549349]),\n",
       " array([ 0.37175632,  0.9925119 , -7.60172708]),\n",
       " array([ 0.37188293,  0.99252415, -7.43140147]),\n",
       " array([ 0.37186014,  0.99253197, -7.26444853]),\n",
       " array([ 0.37195533,  0.99254477, -7.10080149]),\n",
       " array([ 0.3718974 ,  0.99254406, -6.94039487]),\n",
       " array([ 0.3718038 ,  0.9925307 , -6.78316452]),\n",
       " array([ 0.37169108,  0.99251673, -6.62904754]),\n",
       " array([ 0.37162777,  0.99250133, -6.47798227]),\n",
       " array([ 0.37147867,  0.99251232, -6.3299083 ]),\n",
       " array([ 0.37155836,  0.99251782, -6.18476639]),\n",
       " array([ 0.37157631,  0.99255601, -6.04249849]),\n",
       " array([ 0.37161603,  0.99250329, -5.90304767]),\n",
       " array([ 0.37162098,  0.99250963, -5.76635817]),\n",
       " array([ 0.37165556,  0.9925133 , -5.6323753 ]),\n",
       " array([ 0.37173348,  0.9925168 , -5.50104547]),\n",
       " array([ 0.37170612,  0.99251575, -5.37231615]),\n",
       " array([ 0.37168689,  0.99252353, -5.24613583]),\n",
       " array([ 0.3716845 ,  0.99252682, -5.12245406]),\n",
       " array([ 0.37169555,  0.99252617, -5.00122134]),\n",
       " array([ 0.37175701,  0.99253234, -4.8823892 ]),\n",
       " array([ 0.37169089,  0.99253109, -4.76591009]),\n",
       " array([ 0.37182449,  0.99253796, -4.65173742]),\n",
       " array([ 0.3717958 ,  0.992542  , -4.53982552]),\n",
       " array([ 0.37180355,  0.99253987, -4.43012963]),\n",
       " array([ 0.37175338,  0.99254746, -4.32260586]),\n",
       " array([ 0.37188477,  0.99255152, -4.2172112 ]),\n",
       " array([ 0.3717802 ,  0.99255186, -4.1139035 ]),\n",
       " array([ 0.37184825,  0.99256373, -4.01264142]),\n",
       " array([ 0.37184726,  0.99256417, -3.91338447]),\n",
       " array([ 0.37195592,  0.99257337, -3.81609294]),\n",
       " array([ 0.37194045,  0.99257395, -3.72072791]),\n",
       " array([ 0.37198918,  0.99257967, -3.62725123]),\n",
       " array([ 0.37199169,  0.99258227, -3.53562552]),\n",
       " array([ 0.37195791,  0.99258983, -3.44581412]),\n",
       " array([ 0.37206119,  0.99260159, -3.3577811 ]),\n",
       " array([ 0.3720469 ,  0.99260122, -3.27149125]),\n",
       " array([ 0.37203574,  0.99260002, -3.18691006]),\n",
       " array([ 0.3720326 ,  0.99261354, -3.10400369]),\n",
       " array([ 0.37209944,  0.99261215, -3.02273897]),\n",
       " array([ 0.37209492,  0.99262385, -2.9430834 ]),\n",
       " array([ 0.37218084,  0.99262856, -2.86500512]),\n",
       " array([ 0.37213634,  0.99263322, -2.78847289]),\n",
       " array([ 0.37223456,  0.99263798, -2.7134561 ]),\n",
       " array([ 0.37213892,  0.99263414, -2.63992474]),\n",
       " array([ 0.37218198,  0.99264296, -2.5678494 ]),\n",
       " array([ 0.37216675,  0.99264391, -2.49720125]),\n",
       " array([ 0.37221703,  0.99265679, -2.42795203]),\n",
       " array([ 0.37221203,  0.99265559, -2.36007403]),\n",
       " array([ 0.37224079,  0.99266179, -2.2935401 ]),\n",
       " array([ 0.37231409,  0.99266661, -2.22832364]),\n",
       " array([ 0.3722534 ,  0.9926625 , -2.16439855]),\n",
       " array([ 0.37228333,  0.99267232, -2.10173926])]"
      ]
     },
     "execution_count": 201,
     "metadata": {},
     "output_type": "execute_result"
    }
   ],
   "source": [
    "V_T_1_params[:100] # I broke this :("
   ]
  },
  {
   "cell_type": "markdown",
   "metadata": {},
   "source": [
    "# Unconstrained Version"
   ]
  },
  {
   "cell_type": "code",
   "execution_count": 204,
   "metadata": {},
   "outputs": [
    {
     "name": "stderr",
     "output_type": "stream",
     "text": [
      "C:\\Users\\Joey\\Anaconda3\\lib\\site-packages\\ipykernel_launcher.py:5: RuntimeWarning: overflow encountered in exp\n",
      "  \"\"\"\n",
      "C:\\Users\\Joey\\Anaconda3\\lib\\site-packages\\ipykernel_launcher.py:5: RuntimeWarning: overflow encountered in multiply\n",
      "  \"\"\"\n",
      "C:\\Users\\Joey\\Anaconda3\\lib\\site-packages\\ipykernel_launcher.py:4: RuntimeWarning: divide by zero encountered in double_scalars\n",
      "  after removing the cwd from sys.path.\n"
     ]
    }
   ],
   "source": [
    "# Next we want to move backward one step in time from T to T-delta, using the iterative process in 4.5\n",
    "t = T - delta\n",
    "\n",
    "# These bounds are determined in (4.5) on pg 68, will be used in the optimize function\n",
    "Z_bound = 1-np.exp(-u_new)*b(t)\n",
    "# bounds = ((None,None), (0,None), (1-np.exp(u)*b(t),None))\n",
    "\n",
    "multiplier = 1e8\n",
    "# Define the function to minimize with parameters strictly in theta_hat, c_hat, Z_hat\n",
    "def f(params, u, t, T, sign=1.0):\n",
    "    theta_hat, c_hat, Z_hat = params\n",
    "    return multiplier*-1/(1+delta*lamb(t))* \\\n",
    "        (Pplus(theta_hat,t)*V_hat(t+delta,u+h,T) +\\\n",
    "        P(theta_hat,c_hat,Z_hat,t)*V_hat(t+delta,u,T) +\\\n",
    "        Pminus(theta_hat,c_hat,Z_hat,t)*V_hat(t+delta,u-h,T) +\\\n",
    "        delta*lamb(t)*B(np.exp(u)*Z_hat,t) +\\\n",
    "        delta*U(np.exp(u)*c_hat,t))\n",
    "\n",
    "# V_T_1 = [opt.minimize(f, x0 = (1,1,-10), args=(u, t, T), method='SLSQP', options={'ftol': 1e-12},\n",
    "#                   bounds = ((0,None), (0,None), (None,None))).fun for u in u_new[40850:-40000]]\n",
    "# V_T_1_params = [opt.minimize(f, x0 = (1,1,-10), args=(u, t, T), method='SLSQP', options={'ftol': 1e-12},\n",
    "#                   bounds = ((0,None), (0,None), (None,None))).x for u in u_new[40850:-40000]]\n",
    "\n",
    "cons = ({'type': 'ineq', 'fun': lambda x: Pplus(x[0], t)},\n",
    "        {'type': 'ineq', 'fun': lambda x: Pminus(x[0], x[1], x[2], t)},\n",
    "        {'type': 'ineq', 'fun': lambda x: P(x[0], x[1], x[2], t)})\n",
    "\n",
    "sol = [opt.minimize(f, x0 = (.3,.7,1-np.exp(-u)*b(t)), args=(u, t, T), constraints=cons,\n",
    "                  bounds = ((0,None), (0,None), (None,None))) for u in u_new[start:end]]\n",
    "V_T_1 = [-s.fun/multiplier for s in sol]\n",
    "V_T_1_params = [s.x for s in sol]\n",
    "\n",
    "# V_T_1 = [opt.minimize(f, x0=(.3,.9,1-np.exp(-u)*b(t)), args=(u, t, T), #method='SLSQP', options={'ftol': 1e-9},\n",
    "#                   bounds=((0,1), (0,1), (1-np.exp(-u)*b(t),None)), constraints=cons).fun for u in u_new[40850:-40000]]\n",
    "# V_T_1_params = [opt.minimize(f, x0 = (.3,.9,1-np.exp(-u)*b(t)), args=(u, t, T), #method='SLSQP', options={'ftol': 1e-9},\n",
    "#                   bounds=((0,1), (0,1), (1-np.exp(-u)*b(t),None)), constraints=cons).x for u in u_new[40850:-40000]]\n",
    "\n",
    "# cons = ({'type': 'ineq', 'fun': lambda x: Pplus(x[0], t)},\n",
    "#         {'type': 'ineq', 'fun': lambda x: Pminus(x[0], x[1], x[2], t)},\n",
    "#         {'type': 'ineq', 'fun': lambda x: P(x[0], x[1], x[2], t)})\n",
    "\n",
    "# V_T_1 = [opt.minimize(f, x0=(.6,.7,1-np.exp(-u)*b(t)), args=(u, t, T), method='SLSQP', options={'ftol': 1e-9},\n",
    "#                   constraints=\n",
    "#                       ({'type': 'ineq', 'fun': lambda x: Pplus(x[0], t)},\n",
    "#                        {'type': 'ineq', 'fun': lambda x: Pminus(x[0], x[1], x[2], t)},\n",
    "#                        {'type': 'ineq', 'fun': lambda x: P(x[0], x[1], x[2], t)},\n",
    "#                        {'type': 'ineq', 'fun': lambda x: x[0]},\n",
    "#                        {'type': 'ineq', 'fun': lambda x: x[1]},\n",
    "#                        {'type': 'ineq', 'fun': lambda x: x[2]-1+np.exp(-u)*b(t)})\n",
    "#                      ).fun for u in u_new[40850:-40000]]\n",
    "# V_T_1_params = [opt.minimize(f, x0 = (.6,.7,1-np.exp(-u)*b(t)), args=(u, t, T), method='SLSQP', options={'ftol': 1e-9},\n",
    "#                   constraints=\n",
    "#                       ({'type': 'ineq', 'fun': lambda x: Pplus(x[0], t)},\n",
    "#                        {'type': 'ineq', 'fun': lambda x: Pminus(x[0], x[1], x[2], t)},\n",
    "#                        {'type': 'ineq', 'fun': lambda x: P(x[0], x[1], x[2], t)},\n",
    "#                        {'type': 'ineq', 'fun': lambda x: x[0]},\n",
    "#                        {'type': 'ineq', 'fun': lambda x: x[1]},\n",
    "#                        {'type': 'ineq', 'fun': lambda x: x[2]-1+np.exp(-u)*b(t)})\n",
    "#                             ).x for u in u_new[40850:-40000]]"
   ]
  },
  {
   "cell_type": "code",
   "execution_count": 205,
   "metadata": {},
   "outputs": [
    {
     "data": {
      "text/plain": [
       "[array([   4.92707901,   21.95059355, -840.16917729]),\n",
       " array([   4.9270795 ,   26.76423069, -936.44415708]),\n",
       " array([   4.92707901,   19.65625116, -794.28147276]),\n",
       " array([   4.92707902,   18.67490424, -774.65387856]),\n",
       " array([   4.92707902,   12.91304762, -659.41436345]),\n",
       " array([   4.92707902,   17.213767  , -745.43051466]),\n",
       " array([   4.92707902,   19.34124899, -787.98113962]),\n",
       " array([   4.92707901,   13.37114768, -668.57638102]),\n",
       " array([   4.92707902,   17.94571858, -760.06987433]),\n",
       " array([   4.92707902,   14.26936472, -686.54113354])]"
      ]
     },
     "execution_count": 205,
     "metadata": {},
     "output_type": "execute_result"
    }
   ],
   "source": [
    "V_T_1_params[:10]"
   ]
  },
  {
   "cell_type": "code",
   "execution_count": 147,
   "metadata": {},
   "outputs": [
    {
     "data": {
      "image/png": "[encoded data removed]",
      "text/plain": [
       "<matplotlib.figure.Figure at 0x215016399b0>"
      ]
     },
     "metadata": {},
     "output_type": "display_data"
    }
   ],
   "source": [
    "plt.plot(u_new[start:end], V_T_1)\n",
    "plt.show()"
   ]
  },
  {
   "cell_type": "code",
   "execution_count": 148,
   "metadata": {},
   "outputs": [
    {
     "data": {
      "image/png": "[encoded data removed]",
      "text/plain": [
       "<matplotlib.figure.Figure at 0x215016394e0>"
      ]
     },
     "metadata": {},
     "output_type": "display_data"
    }
   ],
   "source": [
    "plt.plot(u_new[start:end], V_exact)\n",
    "plt.show()"
   ]
  },
  {
   "cell_type": "code",
   "execution_count": null,
   "metadata": {},
   "outputs": [],
   "source": []
  },
  {
   "cell_type": "code",
   "execution_count": null,
   "metadata": {
    "collapsed": true
   },
   "outputs": [],
   "source": []
  }
 ],
 "metadata": {
  "kernelspec": {
   "display_name": "Python 3",
   "language": "python",
   "name": "python3"
  },
  "language_info": {
   "codemirror_mode": {
    "name": "ipython",
    "version": 3
   },
   "file_extension": ".py",
   "mimetype": "text/x-python",
   "name": "python",
   "nbconvert_exporter": "python",
   "pygments_lexer": "ipython3",
   "version": "3.6.4"
  }
 },
 "nbformat": 4,
 "nbformat_minor": 2
}
