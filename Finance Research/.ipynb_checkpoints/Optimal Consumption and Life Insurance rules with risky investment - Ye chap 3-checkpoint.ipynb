{
 "cells": [
  {
   "cell_type": "code",
   "execution_count": 1,
   "metadata": {
    "collapsed": true
   },
   "outputs": [],
   "source": [
    "import numpy as np\n",
    "import matplotlib.pyplot as plt\n",
    "from scipy.integrate import quad\n",
    "\n",
    "from mpl_toolkits.mplot3d import Axes3D\n",
    "\n",
    "plt.switch_backend('qt5agg')"
   ]
  },
  {
   "cell_type": "code",
   "execution_count": 2,
   "metadata": {
    "collapsed": true
   },
   "outputs": [],
   "source": [
    "def integral(f, t0, tf):\n",
    "    # f is a function\n",
    "    return quad(f, t0, tf)[0]"
   ]
  },
  {
   "cell_type": "markdown",
   "metadata": {},
   "source": [
    "# Initialize Parameters"
   ]
  },
  {
   "cell_type": "code",
   "execution_count": 3,
   "metadata": {
    "collapsed": true
   },
   "outputs": [],
   "source": [
    "# End time\n",
    "#T = 65\n",
    "\n",
    "# Income at time t, should be i(t)\n",
    "def y(t):\n",
    "    return 50000*np.exp(.03*(t))\n",
    "\n",
    "# Non-risky Investment rate\n",
    "r = .04\n",
    "\n",
    "# Continuous process (think average return rate of risky investment)\n",
    "mu = .09\n",
    "\n",
    "# Standard deviation of risky investment\n",
    "sigma = .18\n",
    "\n",
    "# Utility discount rate\n",
    "rho = .03\n",
    "\n",
    "# Hazard Function (probability of death at this moment in time)\n",
    "def lamb(t):\n",
    "    return 1/200 + 9/8000*t\n",
    "\n",
    "# Insurance premium-payout ratio\n",
    "def eta(t):\n",
    "    return 1/200 + 9/8000*t\n",
    "\n",
    "# Relative risk aversion\n",
    "gamma = -3\n",
    "\n",
    "# Integral function doesn't play nice with sums of constants and functions\n",
    "def sum_r(t):\n",
    "    return r+eta(t)\n",
    "def sum_rho(t):\n",
    "    return lamb(t)+rho\n",
    "\n",
    "def H(v):\n",
    "    return sum_rho(v)/(1-gamma) - .5*gamma*((mu-r)/((1-gamma)*sigma))**2 - \\\n",
    "                                gamma/(1-gamma)*sum_r(v)\n",
    "\n",
    "def K(s):\n",
    "    return (lamb(s)**(1/(1-gamma)))/eta(t)**(gamma/(1-gamma)) + 1\n",
    "\n",
    "def e(t):\n",
    "    return np.exp(-integral(H,t,T)) + integral(lambda s: np.exp(-integral(H,t,s))*K(s),t,T)\n",
    "    \n",
    "def a(t):\n",
    "    return np.exp(-rho*t)*e(t)**(1-gamma)\n",
    "\n",
    "def b(t):\n",
    "    return integral(lambda s: y(s)*np.exp(-integral(sum_r,t,s)),t,T)\n",
    "\n",
    "def c(t):\n",
    "    return (1/e(t))*(x+b(t))\n",
    "\n",
    "def D(t):\n",
    "    return (lamb(t)/eta(t))**(1/(1-gamma))*1/e(t)\n",
    "\n",
    "def Z(t):\n",
    "    return D(t)*(x+b(t))\n",
    "\n",
    "def theta(t):\n",
    "    return ((mu-r)/((1-gamma)*sigma**2))*(x+b(t))\n",
    "\n",
    "def p(t):\n",
    "    return eta(t)*((D(t)-1)*x+D(t)*b(t))\n",
    "\n",
    "def dW(t):\n",
    "    return np.random.normal(0,1)-np.random.normal(0,1)"
   ]
  },
  {
   "cell_type": "code",
   "execution_count": 7,
   "metadata": {
    "collapsed": true
   },
   "outputs": [],
   "source": [
    "t0 = 0\n",
    "T = 40\n",
    "num_int = 400\n",
    "\n",
    "# Since p(t) is the rate per year, \n",
    "\n",
    "# W0 = np.random.normal()\n",
    "# W1 = np.random.normal()\n",
    "\n",
    "timeline = np.linspace(t0,T,num_int+1)\n",
    "dt = (T-t0)/num_int\n",
    "\n",
    "future_wealth = b(0)\n",
    "# future_wealth ~ 1200000\n",
    "wealth = np.linspace(0, 3000000, 51) - future_wealth\n",
    "\n",
    "ps = []\n",
    "cs = []\n",
    "thetas = []\n",
    "for w in wealth:\n",
    "    p_star = []\n",
    "    c_star = []\n",
    "    theta_star = []\n",
    "    x = w\n",
    "    for t in timeline:\n",
    "#         dW = W0 - W1\n",
    "#         W0, W1 = W1, np.random.normal()\n",
    "        z = p(t)\n",
    "        chat = c(t)\n",
    "        p_star.append(z)\n",
    "        c_star.append(chat/(x+b(t)))\n",
    "        theta_star.append(theta(t)/(x+b(t)))\n",
    "        x += ((r*x - chat - z + y(t) + theta(t)*(mu-r))*dt)# + theta(t)*sigma*dW)\n",
    "    ps.append(p_star)\n",
    "    cs.append(c_star)\n",
    "    thetas.append(theta_star)"
   ]
  },
  {
   "cell_type": "markdown",
   "metadata": {},
   "source": [
    "# Figure 7. Optimal Life Insurance Rule"
   ]
  },
  {
   "cell_type": "code",
   "execution_count": 5,
   "metadata": {
    "collapsed": true
   },
   "outputs": [],
   "source": [
    "X, Y = np.meshgrid(wealth, timeline)\n",
    "\n",
    "ps = np.array(ps)\n",
    "\n",
    "fig = plt.figure()\n",
    "ax = fig.gca(projection='3d')\n",
    "ax.plot_surface(X, Y, ps.T)\n",
    "plt.show()"
   ]
  },
  {
   "cell_type": "markdown",
   "metadata": {},
   "source": [
    "# Figure 8. Optimal Consumption Proportion"
   ]
  },
  {
   "cell_type": "code",
   "execution_count": 8,
   "metadata": {
    "collapsed": true
   },
   "outputs": [],
   "source": [
    "X, Y = np.meshgrid(wealth, timeline)\n",
    "\n",
    "cs = np.array(cs)\n",
    "\n",
    "fig = plt.figure()\n",
    "ax = fig.gca(projection='3d')\n",
    "ax.plot_surface(X, Y, cs.T)\n",
    "plt.show()"
   ]
  },
  {
   "cell_type": "markdown",
   "metadata": {},
   "source": [
    "# Figure 9. Optimal Portfolio Proportion"
   ]
  },
  {
   "cell_type": "code",
   "execution_count": 9,
   "metadata": {
    "collapsed": true
   },
   "outputs": [],
   "source": [
    "X, Y = np.meshgrid(wealth, timeline)\n",
    "\n",
    "thetas = np.array(thetas)\n",
    "\n",
    "fig = plt.figure()\n",
    "ax = fig.gca(projection='3d')\n",
    "ax.plot_surface(X, Y, thetas.T)\n",
    "plt.show()"
   ]
  },
  {
   "cell_type": "markdown",
   "metadata": {},
   "source": [
    "# Figure 10. Critical level curve"
   ]
  },
  {
   "cell_type": "code",
   "execution_count": 11,
   "metadata": {
    "collapsed": true
   },
   "outputs": [],
   "source": [
    "def f(t):\n",
    "    return (lamb(t)/eta(t))**(1/(1-gamma))\n",
    "\n",
    "def phi(t):\n",
    "    return f(t)*b(t)/(a(t)**(1/(1-gamma))-f(t))\n",
    "\n",
    "def phi2(t):\n",
    "    return f(t)*b(t)/(e(t)-f(t))\n",
    "\n",
    "crit = []\n",
    "for t in timeline:\n",
    "    crit.append(phi(t))\n",
    "\n",
    "plt.plot(timeline, crit)\n",
    "plt.show()"
   ]
  },
  {
   "cell_type": "code",
   "execution_count": 16,
   "metadata": {},
   "outputs": [
    {
     "data": {
      "text/plain": [
       "1199833.498258459"
      ]
     },
     "execution_count": 16,
     "metadata": {},
     "output_type": "execute_result"
    }
   ],
   "source": [
    "b(0)"
   ]
  },
  {
   "cell_type": "code",
   "execution_count": null,
   "metadata": {
    "collapsed": true
   },
   "outputs": [],
   "source": []
  }
 ],
 "metadata": {
  "kernelspec": {
   "display_name": "Python 3",
   "language": "python",
   "name": "python3"
  },
  "language_info": {
   "codemirror_mode": {
    "name": "ipython",
    "version": 3
   },
   "file_extension": ".py",
   "mimetype": "text/x-python",
   "name": "python",
   "nbconvert_exporter": "python",
   "pygments_lexer": "ipython3",
   "version": "3.6.4"
  }
 },
 "nbformat": 4,
 "nbformat_minor": 2
}
