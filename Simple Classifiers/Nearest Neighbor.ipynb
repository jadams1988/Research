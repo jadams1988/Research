{
 "cells": [
  {
   "cell_type": "code",
   "execution_count": 1,
   "metadata": {
    "collapsed": false
   },
   "outputs": [
    {
     "name": "stdout",
     "output_type": "stream",
     "text": [
      "C:\\Users\\Joey\\Desktop\n"
     ]
    }
   ],
   "source": [
    "cd Desktop"
   ]
  },
  {
   "cell_type": "code",
   "execution_count": 125,
   "metadata": {
    "collapsed": true
   },
   "outputs": [],
   "source": [
    "import math\n",
    "\n",
    "def dist(x,y):\n",
    "    if type(x)==int:\n",
    "        return abs(x-y)\n",
    "    else:\n",
    "        sum=0\n",
    "        for i in range(len(x)):\n",
    "            sum+=(x[i]-y[i])**2\n",
    "        return math.sqrt(sum)\n",
    "\n",
    "def NN(Data,Point):\n",
    "    \n",
    "    if type(Point)==int:\n",
    "        ORIGIN=0\n",
    "        NumData=len(Data)\n",
    "        Dim=1\n",
    "    else:\n",
    "        ORIGIN=[0 for i in range(len(Point))]\n",
    "        NumData=len(Data)\n",
    "        Dim=len(Point)\n",
    "    MIN=dist(Data[0],Point)\n",
    "    POS=0\n",
    "    for points in Data:\n",
    "        print \"for \"+str(points)+\": \"+str(dist(points,Point))\n",
    "        if dist(points,Point)<MIN:\n",
    "            MIN=dist(points,Point)\n",
    "            POS=Data.index(points)\n",
    "    print \"Min distance is \"+str(MIN)+\" at index \"+str(POS)"
   ]
  },
  {
   "cell_type": "code",
   "execution_count": 126,
   "metadata": {
    "collapsed": false
   },
   "outputs": [
    {
     "name": "stdout",
     "output_type": "stream",
     "text": [
      "for [2, 3]: 8.0\n",
      "for [2, 5]: 10.0\n",
      "for [0, 0]: 5.38516480713\n",
      "Min distance is 5.38516480713 at index 2\n"
     ]
    }
   ],
   "source": [
    "NN([[2,3],[2,5],[0,0]],[2,-5])"
   ]
  },
  {
   "cell_type": "code",
   "execution_count": 128,
   "metadata": {
    "collapsed": false
   },
   "outputs": [
    {
     "name": "stdout",
     "output_type": "stream",
     "text": [
      "for 1: 5\n",
      "for 2: 6\n",
      "for 3: 7\n",
      "Min distance is 5 at index 0\n"
     ]
    }
   ],
   "source": [
    "NN([1,2,3],-4)"
   ]
  },
  {
   "cell_type": "code",
   "execution_count": 113,
   "metadata": {
    "collapsed": false
   },
   "outputs": [],
   "source": [
    "L=list([4,3])"
   ]
  },
  {
   "cell_type": "code",
   "execution_count": 114,
   "metadata": {
    "collapsed": false
   },
   "outputs": [
    {
     "data": {
      "text/plain": [
       "0"
      ]
     },
     "execution_count": 114,
     "metadata": {},
     "output_type": "execute_result"
    }
   ],
   "source": [
    "L.index(4)"
   ]
  },
  {
   "cell_type": "code",
   "execution_count": 32,
   "metadata": {
    "collapsed": false
   },
   "outputs": [
    {
     "data": {
      "text/plain": [
       "int"
      ]
     },
     "execution_count": 32,
     "metadata": {},
     "output_type": "execute_result"
    }
   ],
   "source": [
    "a=2;type(a)"
   ]
  },
  {
   "cell_type": "code",
   "execution_count": 193,
   "metadata": {
    "collapsed": false
   },
   "outputs": [
    {
     "name": "stdout",
     "output_type": "stream",
     "text": [
      "[(7, 2),\n",
      " [(5, 4), [(2, 3), None, None], [(4, 7), None, None]],\n",
      " [(9, 6), [(8, 1), None, None], None]]\n"
     ]
    }
   ],
   "source": [
    "from collections import namedtuple\n",
    "from operator import itemgetter\n",
    "from pprint import pformat\n",
    "\n",
    "class Node(namedtuple('Node', 'location left_child right_child')):\n",
    "    def __repr__(self):\n",
    "        return pformat(list(self))\n",
    "\n",
    "def kdtree(point_list, depth=0):\n",
    "    try:\n",
    "        k = len(point_list[0]) # assumes all points have the same dimension\n",
    "    except IndexError as e: # if not point_list:\n",
    "        return None\n",
    "    # Select axis based on depth so that axis cycles through all valid values\n",
    "    axis = depth % k\n",
    " \n",
    "    # Sort point list and choose median as pivot element\n",
    "    point_list.sort(key=itemgetter(axis))\n",
    "    median = len(point_list) // 2 # choose median\n",
    "    \n",
    "    while((point_list[median][axis]==point_list[median-1][axis]) and median>0):\n",
    "        median-=1\n",
    " \n",
    "    # Create node and construct subtrees\n",
    "    return Node(\n",
    "        location=point_list[median],\n",
    "        left_child=kdtree(point_list[:median], depth + 1),\n",
    "        right_child=kdtree(point_list[median + 1:], depth + 1)\n",
    "    )\n",
    "\n",
    "def main():\n",
    "    \"\"\"Example usage\"\"\"\n",
    "    point_list = [(2,3), (5,4), (9,6), (4,7), (8,1), (7,2)]\n",
    "    tree = kdtree(point_list)\n",
    "    print(tree)\n",
    "\n",
    "if __name__ == '__main__':\n",
    "    main()\n"
   ]
  },
  {
   "cell_type": "code",
   "execution_count": 194,
   "metadata": {
    "collapsed": false
   },
   "outputs": [],
   "source": [
    "point_list=[(2,3),(1,0),(1,-1),(1,3)]\n",
    "tree=kdtree(point_list)"
   ]
  },
  {
   "cell_type": "code",
   "execution_count": 195,
   "metadata": {
    "collapsed": false
   },
   "outputs": [
    {
     "name": "stdout",
     "output_type": "stream",
     "text": [
      "[(1, 0), None, [(1, 3), [(1, -1), None, None], [(2, 3), None, None]]]\n"
     ]
    }
   ],
   "source": [
    "print tree"
   ]
  },
  {
   "cell_type": "code",
   "execution_count": 163,
   "metadata": {
    "collapsed": false
   },
   "outputs": [
    {
     "data": {
      "text/plain": [
       "[(3, -1), (0, 0), (2, 3)]"
      ]
     },
     "execution_count": 163,
     "metadata": {},
     "output_type": "execute_result"
    }
   ],
   "source": [
    "point_list.sort(key=itemgetter(1))\n",
    "point_list"
   ]
  },
  {
   "cell_type": "code",
   "execution_count": 177,
   "metadata": {
    "collapsed": false
   },
   "outputs": [
    {
     "data": {
      "text/plain": [
       "((0, 0), None, None)"
      ]
     },
     "execution_count": 177,
     "metadata": {},
     "output_type": "execute_result"
    }
   ],
   "source": [
    "tree[1][1]"
   ]
  },
  {
   "cell_type": "code",
   "execution_count": 150,
   "metadata": {
    "collapsed": false
   },
   "outputs": [
    {
     "ename": "TypeError",
     "evalue": "'tuple' object is not callable",
     "output_type": "error",
     "traceback": [
      "\u001b[1;31m---------------------------------------------------------------------------\u001b[0m\n\u001b[1;31mTypeError\u001b[0m                                 Traceback (most recent call last)",
      "\u001b[1;32m<ipython-input-150-1c20307658cc>\u001b[0m in \u001b[0;36m<module>\u001b[1;34m()\u001b[0m\n\u001b[1;32m----> 1\u001b[1;33m \u001b[0mtree\u001b[0m\u001b[1;33m.\u001b[0m\u001b[0mlocation\u001b[0m\u001b[1;33m(\u001b[0m\u001b[1;36m2\u001b[0m\u001b[1;33m,\u001b[0m\u001b[1;36m3\u001b[0m\u001b[1;33m)\u001b[0m\u001b[1;33m\u001b[0m\u001b[0m\n\u001b[0m",
      "\u001b[1;31mTypeError\u001b[0m: 'tuple' object is not callable"
     ]
    }
   ],
   "source": [
    "tree.location(2,3)"
   ]
  },
  {
   "cell_type": "code",
   "execution_count": null,
   "metadata": {
    "collapsed": false
   },
   "outputs": [],
   "source": [
    "from collections import namedtuple\n",
    "from operator import itemgetter\n",
    "from pprint import pformat\n",
    "\n",
    "class Node(namedtuple('Node','location, left_child, right_child')):\n",
    "    def __repr__(self):\n",
    "        return pformat(tuple(self))\n",
    "\n",
    "def kdtree(point_list,depth=0):\n",
    "    try:\n",
    "        k=len(point_list[0])\n",
    "    except IndexError as e:\n",
    "        return None\n",
    "    axis = depth%k\n",
    "    \n",
    "    point_list.sort(key=itemgetter(axis))\n",
    "    median=len(point_list)//2\n",
    "    if median>0:\n",
    "        while(point_list[median][axis]==point_list[median-1][axis]):\n",
    "            median-=1"
   ]
  }
 ],
 "metadata": {
  "kernelspec": {
   "display_name": "Python 2",
   "language": "python",
   "name": "python2"
  },
  "language_info": {
   "codemirror_mode": {
    "name": "ipython",
    "version": 2
   },
   "file_extension": ".py",
   "mimetype": "text/x-python",
   "name": "python",
   "nbconvert_exporter": "python",
   "pygments_lexer": "ipython2",
   "version": "2.7.12"
  }
 },
 "nbformat": 4,
 "nbformat_minor": 0
}
