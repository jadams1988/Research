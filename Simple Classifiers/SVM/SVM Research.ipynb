{
 "cells": [
  {
   "cell_type": "code",
   "execution_count": 12,
   "metadata": {
    "collapsed": false
   },
   "outputs": [],
   "source": [
    "import numpy as np\n",
    "import matplotlib.pyplot as plt\n",
    "# from sklearn import datasets\n",
    "# from sklearn import svm\n",
    "from sklearn import *\n",
    "from sklearn.metrics import roc_curve, auc\n",
    "import optunity\n",
    "import optunity.metrics\n",
    "import time\n",
    "\n",
    "%matplotlib inline"
   ]
  },
  {
   "cell_type": "code",
   "execution_count": 2,
   "metadata": {
    "collapsed": false
   },
   "outputs": [],
   "source": [
    "# digits = datasets.load_digits()  # This is the old toy data, 1797x8x8\n",
    "\n",
    "digits = datasets.fetch_mldata('MNIST original') # This is the full data, 70000x28x28"
   ]
  },
  {
   "cell_type": "code",
   "execution_count": 3,
   "metadata": {
    "collapsed": false
   },
   "outputs": [
    {
     "data": {
      "image/png": "[encoded data removed]",
      "text/plain": [
       "<matplotlib.figure.Figure at 0xc350668>"
      ]
     },
     "metadata": {},
     "output_type": "display_data"
    },
    {
     "name": "stdout",
     "output_type": "stream",
     "text": [
      "0\n"
     ]
    }
   ],
   "source": [
    "size = int(np.sqrt(len(digits.data[0])))\n",
    "Shape = digits.data[0].reshape((size,size))\n",
    "plt.imshow(Shape, cmap=plt.cm.gray_r)\n",
    "plt.show()\n",
    "print digits.target[0]"
   ]
  },
  {
   "cell_type": "markdown",
   "metadata": {},
   "source": [
    "# First Crack\n",
    "#### I will sort these into two groups for binary classification. 0-4 will be classifed as 0, 5-9 as 1."
   ]
  },
  {
   "cell_type": "code",
   "execution_count": 3,
   "metadata": {
    "collapsed": false
   },
   "outputs": [],
   "source": [
    "labels = np.where(digits.target>4, np.ones(digits.target.shape), np.zeros(digits.target.shape))"
   ]
  },
  {
   "cell_type": "markdown",
   "metadata": {},
   "source": [
    "#### Split the data into 80% training and 20% test sets."
   ]
  },
  {
   "cell_type": "code",
   "execution_count": 4,
   "metadata": {
    "collapsed": false
   },
   "outputs": [],
   "source": [
    "X = np.float64(digits.data)\n",
    "y = labels\n",
    "# X = preprocessing.StandardScaler().fit_transform(X)\n",
    "# y = preprocessing.label_binarize(y, classes=[0,1])"
   ]
  },
  {
   "cell_type": "code",
   "execution_count": 10,
   "metadata": {
    "collapsed": false
   },
   "outputs": [
    {
     "name": "stdout",
     "output_type": "stream",
     "text": [
      "[ 0.  1.  0.  1.  0.  1.  0.  0.  1.  1.]\n"
     ]
    }
   ],
   "source": [
    "X_train, X_test, y_train, y_test = \\\n",
    "            model_selection.train_test_split(X, y, test_size=2./7)\n",
    "\n",
    "# The cross_validate method already takes this into account\n",
    "# X_train, X_validate, y_train, y_validate = \\\n",
    "#             model_selection.train_test_split(X_train, y_train, test_size=.3)\n",
    "\n",
    "print y_train[:10]"
   ]
  },
  {
   "cell_type": "code",
   "execution_count": 11,
   "metadata": {
    "collapsed": false
   },
   "outputs": [
    {
     "data": {
      "text/plain": [
       "(50000L, 784L)"
      ]
     },
     "execution_count": 11,
     "metadata": {},
     "output_type": "execute_result"
    }
   ],
   "source": [
    "X_train.shape"
   ]
  },
  {
   "cell_type": "code",
   "execution_count": null,
   "metadata": {
    "collapsed": false
   },
   "outputs": [],
   "source": [
    "for machine in [svm.SVC(  kernel='linear',decision_function_shape='ovr',C =1.0,gamma='auto',tol=.01),\n",
    "                svm.SVC(  kernel='rbf'   ,decision_function_shape='ovr',C =1.0,gamma='auto',tol=.01),\n",
    "                svm.NuSVC(kernel='linear',decision_function_shape='ovr',nu=.05,gamma='auto',tol=.01),\n",
    "                svm.NuSVC(kernel='rbf'   ,decision_function_shape='ovr',nu=.05,gamma='auto',tol=.01)]:\n",
    "    start = time.clock()\n",
    "    machine.fit(X_train,y_train)\n",
    "    finish = time.clock()\n",
    "\n",
    "    print 'Train Acc:',machine.score(X_train,y_train)\n",
    "    print 'Test Acc: ',machine.score(X_test ,y_test )\n",
    "    print 'Time:',finish-start"
   ]
  },
  {
   "cell_type": "markdown",
   "metadata": {},
   "source": [
    "#### We want a base case. I will run a couple SVMs on this data, linear and kernalized. That will be the base probability."
   ]
  },
  {
   "cell_type": "code",
   "execution_count": 20,
   "metadata": {
    "collapsed": true
   },
   "outputs": [],
   "source": [
    "def train_linear_svm( data, labels, C):\n",
    "    model = svm.SVC(kernel='linear', C=C)\n",
    "    model.fit(data, labels)\n",
    "    return model\n",
    "\n",
    "\n",
    "search_linear_low = {'linear': {'C': [0,1]}}\n",
    "search_linear_high = {'linear': {'C': [2,10]}}\n",
    "\n",
    "@optunity.cross_validated(x=X_train, y=y_train, num_folds=2)\n",
    "def performance_linear(x_train, y_train, x_test, y_test, C=1.):\n",
    "    \n",
    "    model = train_linear_svm(x_train, y_train, C)\n",
    "#     predictions = model.decision_function(x_test)\n",
    "    return model.score(x_test, y_test)\n",
    "#     return optunity.metrics.roc_auc(y_test, predictions, positive=True)"
   ]
  },
  {
   "cell_type": "code",
   "execution_count": 21,
   "metadata": {
    "collapsed": false
   },
   "outputs": [
    {
     "name": "stdout",
     "output_type": "stream",
     "text": [
      "{'C': 0.35009765625}\n",
      "Prediction on training data: 0.887266\n",
      "Prediction on test data: 0.897222\n"
     ]
    }
   ],
   "source": [
    "optimal_configuration_low, info_low, _ = optunity.maximize_structured(performance_linear, search_space=search_linear_low, num_evals=10)\n",
    "print optimal_configuration_low\n",
    "print 'Prediction on training data: %g' %info_low.optimum\n",
    "\n",
    "# optimal_configuration_high, info_high, _ = optunity.maximize_structured(performance_linear, search_space=search_linear_high, num_evals=10)\n",
    "# print optimal_configuration_high\n",
    "# print info_high.optimum\n",
    "\n",
    "svc = svm.SVC(kernel='linear', C=optimal_configuration_low['C']).fit(X_train, y_train)\n",
    "linear_score = svc.score(X_test, y_test)\n",
    "print 'Prediction on test data: %g' %linear_score\n",
    "\n",
    "# svc = svm.SVC(kernel='linear', C=optimal_configuration_high['C']).fit(X_train, y_train)\n",
    "# print svc.score(X_test, y_test)"
   ]
  },
  {
   "cell_type": "code",
   "execution_count": 65,
   "metadata": {
    "collapsed": true
   },
   "outputs": [],
   "source": [
    "def train_svm( data, labels, kernel, C, gamma, degree, coef0):\n",
    "    if kernel == 'linear':\n",
    "        model = svm.SVC(kernel=kernel,C=C)\n",
    "    elif kernel == 'poly':\n",
    "        model = svm.SVC(kernel=kernel,C=C,degree=degree,coef0=coef0)\n",
    "    elif kernel == 'rbf':\n",
    "        model = svm.SVC(kernel=kernel,C=C,gamma=gamma)\n",
    "    else:\n",
    "        #raise ArgumentError(\"Noob\")\n",
    "        print 'Noob'\n",
    "    \n",
    "    model.fit(data, labels)\n",
    "    return model\n",
    "\n",
    "def train_rbf_svm( data, labels, C, gamma ):\n",
    "    model = svm.SVC(C=C)\n",
    "    model.fit(data, labels)\n",
    "    return model\n",
    "\n",
    "def train_poly_svm( data, labels, C, degree, coef0 ):\n",
    "    model = svm.SVC(kernel='poly', C=C, degree=degree, coef0=coef0)\n",
    "    model.fit(data, labels)\n",
    "    return model\n",
    "\n",
    "search_all = {'kernel': {'linear': {'C': [0,2]},\n",
    "                            'rbf': {'gamma': [0,1], 'C': [0,10]},\n",
    "                            'poly': {'degree': [2,5], 'C': [0,50], 'coef0': [0,1]}\n",
    "                           }\n",
    "             }\n",
    "\n",
    "search_rbf = {'rbf': {'gamma': [0,3], 'C': [0,100]}}\n",
    "\n",
    "search_poly = {'poly': {'degree': [2,5], 'C': [0,50], 'coef0': [0,1]}}\n",
    "\n",
    "@optunity.cross_validated(x=X_train, y=y_train, num_folds=5)\n",
    "def performance(x_train, y_train, x_test, y_test,\n",
    "                n_neighbors=None, n_estimators=None, max_features=None,\n",
    "                kernel=None, C=None, gamma=None, degree=None, coef0=None):\n",
    "    \n",
    "    model = train_svm(x_train, y_train, kernel, C, gamma, degree, coef0)\n",
    "    predictions = model.decision_function(x_test)\n",
    "    \n",
    "    return optunity.metrics.roc_auc(y_test, predictions, positive=True)\n",
    "\n",
    "@optunity.cross_validated(x=X_train, y=y_train, num_folds=5)\n",
    "def performance_rbf(x_train, y_train, x_test, y_test,\n",
    "                n_neighbors=None, n_estimators=None, max_features=None,\n",
    "                kernel=None, C=None, gamma=None, degree=None, coef0=None):\n",
    "    \n",
    "    model = train_rbf_svm(x_train, y_train, C, gamma)\n",
    "    predictions = model.decision_function(x_test)\n",
    "    \n",
    "    return optunity.metrics.roc_auc(y_test, predictions, positive=True)\n",
    "\n",
    "@optunity.cross_validated(x=X_train, y=y_train, num_folds=5)\n",
    "def performance_poly(x_train, y_train, x_test, y_test,\n",
    "                n_neighbors=None, n_estimators=None, max_features=None,\n",
    "                kernel=None, C=None, gamma=None, degree=None, coef0=None):\n",
    "    \n",
    "    model = train_poly_svm(x_train, y_train, C, degree, coef0)\n",
    "    predictions = model.decision_function(x_test)\n",
    "    \n",
    "    return optunity.metrics.roc_auc(y_test, predictions, positive=True)"
   ]
  },
  {
   "cell_type": "code",
   "execution_count": 67,
   "metadata": {
    "collapsed": false
   },
   "outputs": [
    {
     "name": "stdout",
     "output_type": "stream",
     "text": [
      "{'C': 1.787109375, 'gamma': 0.712890625}\n",
      "0.998912300667\n",
      "{'C': 7.6123046875, 'gamma': 0.0849609375}\n",
      "0.998912300667\n",
      "{'C': 5.361328125, 'gamma': 0.435546875}\n",
      "0.998912300667\n",
      "{'C': 5.05859375, 'gamma': 1.99609375}\n",
      "0.998912300667\n",
      "{'C': 1.572265625, 'gamma': 1.818359375}\n",
      "0.998912300667\n",
      "{'C': 7.12890625, 'gamma': 0.42578125}\n",
      "0.998912300667\n",
      "{'C': 8.9697265625, 'gamma': 1.8994140625}\n",
      "0.998912300667\n",
      "{'C': 8.759765625, 'gamma': 0.255859375}\n",
      "0.998912300667\n",
      "{'C': 5.4833984375, 'gamma': 1.2841796875}\n",
      "0.998912300667\n",
      "{'C': 7.63671875, 'gamma': 1.16796875}\n",
      "0.998912300667\n",
      "Done\n"
     ]
    }
   ],
   "source": [
    "for i in xrange(10):\n",
    "    optimal_configuration_rbf, info_rbf, _ = optunity.maximize_structured(performance_rbf, search_space=search_rbf, num_evals=300)\n",
    "    print optimal_configuration_rbf\n",
    "    print info_rbf.optimum\n",
    "print 'Done'"
   ]
  },
  {
   "cell_type": "code",
   "execution_count": 63,
   "metadata": {
    "collapsed": false
   },
   "outputs": [],
   "source": [
    "svc_rbf = svm.SVC(kernel='rbf',\n",
    "    C=optimal_configuration_rbf['C'],\n",
    "    gamma=optimal_configuration_rbf['gamma']).fit(X_train, y_train)\n",
    "\n",
    "rbf_score = svc_rbf.score(X_test, y_test)"
   ]
  },
  {
   "cell_type": "code",
   "execution_count": 61,
   "metadata": {
    "collapsed": false
   },
   "outputs": [
    {
     "name": "stdout",
     "output_type": "stream",
     "text": [
      "{'C': 31.84476543339445, 'coef0': 0.46468926440731906, 'degree': 4.591399904128725}\n",
      "0.998942176425\n"
     ]
    }
   ],
   "source": [
    "optimal_configuration_poly, info_poly, _ = optunity.maximize_structured(performance_poly, search_space=search_poly, num_evals=30)\n",
    "print optimal_configuration_poly\n",
    "print info_poly.optimum"
   ]
  },
  {
   "cell_type": "code",
   "execution_count": 62,
   "metadata": {
    "collapsed": false
   },
   "outputs": [],
   "source": [
    "svc_poly = svm.SVC(kernel='poly',\n",
    "    C=optimal_configuration_poly['C'],\n",
    "    degree=optimal_configuration_poly['degree'],\n",
    "    coef0=optimal_configuration_poly['coef0']).fit(X_train, y_train)\n",
    "\n",
    "poly_score = svc_poly.score(X_test, y_test)"
   ]
  },
  {
   "cell_type": "markdown",
   "metadata": {
    "variables": {
     "linear_score": "0.89722222222222225",
     "poly_score": "0.9916666666666667",
     "rbf_score": "0.78888888888888886"
    }
   },
   "source": [
    "### Our Baseline then becomes:\n",
    "Linear Classifier: {{linear_score}}\n",
    "\n",
    "RBF Kernel: {{rbf_score}}\n",
    "\n",
    "Poly Kernel: {{poly_score}}"
   ]
  },
  {
   "cell_type": "markdown",
   "metadata": {
    "collapsed": true
   },
   "source": [
    "### In this research, we will call various SVMs for each neuron which should give unique output. We want all the outputs from each SVM to be in [0,1], not necessarily binary. We won't use SVC here, but will switch to SVR (Support Vector Regression) using various kernels. The following are up for debate:\n",
    "- Do I optimize the parameters before plugging them in?\n",
    "- Do I cut out some of the training data at each step?\n",
    "- Do I take a subset of features?\n",
    " - Which ones and how do I determine the best ones?"
   ]
  },
  {
   "cell_type": "code",
   "execution_count": 7,
   "metadata": {
    "collapsed": false
   },
   "outputs": [],
   "source": [
    "num_train = len(X_train)\n",
    "num_test = len(X_test)\n",
    "num_features = len(X_train[0])"
   ]
  },
  {
   "cell_type": "markdown",
   "metadata": {
    "variables": {
     "num_features": "64",
     "num_test": "360",
     "num_train": "1437"
    }
   },
   "source": [
    "Number of training points: {{num_train}}\n",
    "\n",
    "Number of testing points: {{num_test}}\n",
    "\n",
    "Number of features: {{num_features}}"
   ]
  },
  {
   "cell_type": "markdown",
   "metadata": {},
   "source": [
    "#### I will assume for the time being that I don't want to optimize right now. I will use all linear kernels, with C=1, only taking in some of the features, randomly."
   ]
  },
  {
   "cell_type": "code",
   "execution_count": 9,
   "metadata": {
    "collapsed": false
   },
   "outputs": [
    {
     "data": {
      "text/plain": [
       "array([12, 59, 24, 17, 13, 32, 51, 36, 27, 19, 22, 56, 63, 48, 38, 14, 45,\n",
       "       20, 55, 62])"
      ]
     },
     "execution_count": 9,
     "metadata": {},
     "output_type": "execute_result"
    }
   ],
   "source": [
    "np.random.choice(np.arange(num_features), 20, replace=False)"
   ]
  },
  {
   "cell_type": "code",
   "execution_count": 8,
   "metadata": {
    "collapsed": true
   },
   "outputs": [],
   "source": [
    "kernels = {2:'linear', 0:'rbf', 1:'poly'}"
   ]
  },
  {
   "cell_type": "code",
   "execution_count": null,
   "metadata": {
    "collapsed": false
   },
   "outputs": [
    {
     "name": "stdout",
     "output_type": "stream",
     "text": [
      "poly 2.62009090299 1 0.142857142857 0.645337432897\n",
      "poly 9.8455101055 3 0.2 0.644897305269\n"
     ]
    }
   ],
   "source": [
    "Layer1_neurons = 40\n",
    "X_train_layer_1 = np.zeros((num_train, Layer1_neurons))\n",
    "X_test_layer_1 = np.zeros((num_test, Layer1_neurons))\n",
    "\n",
    "for i in xrange(Layer1_neurons):\n",
    "#     print i\n",
    "    num_subset = 8    # This is the number of features to look at\n",
    "    select_features = np.random.choice(np.arange(num_features), num_subset, replace=False)\n",
    "    select_inputs = np.random.choice(np.arange(num_train), num_train/4, replace=False)\n",
    "    kernel = kernels[np.random.randint(2)]\n",
    "    C = 10*np.random.rand()\n",
    "    degree = np.random.randint(3)+1\n",
    "    gamma = 1./np.random.randint(5,15)\n",
    "    coef0 = np.random.rand(1)[0]\n",
    "        \n",
    "    print kernel, C, degree, gamma, coef0\n",
    "    \n",
    "    svr = svm.SVR(kernel=kernel, C=C, degree=degree, gamma=gamma, coef0=coef0).fit(X_train[:,select_features][select_inputs], y_train[select_inputs])\n",
    "    X_train_layer_1[:,i] = svr.predict(X_train[:,select_features])\n",
    "    X_test_layer_1[:,i] = svr.predict(X_test[:,select_features])\n",
    "\n",
    "print \"Layer 1 trained\"\n",
    "\n",
    "Layer2_neurons = 10\n",
    "X_train_layer_2 = np.zeros((num_train, Layer2_neurons))\n",
    "X_test_layer_2 = np.zeros((num_test, Layer2_neurons))\n",
    "\n",
    "for i in xrange(Layer2_neurons):\n",
    "#     print i\n",
    "    num_subset = 20    # This is the number of features to look at\n",
    "    select_features = np.random.choice(np.arange(Layer1_neurons), num_subset, replace=False)\n",
    "    select_inputs = np.random.choice(np.arange(num_train), num_train/4, replace=False)\n",
    "    kernel = kernels[np.random.randint(2)]\n",
    "    C = 10*np.random.rand()\n",
    "    degree = np.random.randint(3)+1\n",
    "    gamma = 1./np.random.randint(5,15)\n",
    "    coef0 = np.random.rand(1)[0]\n",
    "    \n",
    "    svr = svm.SVR(kernel=kernel, C=C, degree=degree, gamma=gamma, coef0=coef0).fit(X_train_layer_1[:,select_features][select_inputs], y_train[select_inputs])\n",
    "\n",
    "    X_train_layer_2[:,i] = svr.predict(X_train_layer_1[:,select_features])\n",
    "    X_test_layer_2[:,i] = svr.predict(X_test_layer_1[:,select_features])\n",
    "\n",
    "print \"Layer 2 trained\"\n",
    "\n",
    "Layer3_neurons = 10\n",
    "X_train_layer_3 = np.zeros((num_train, Layer3_neurons))\n",
    "X_test_layer_3 = np.zeros((num_test, Layer3_neurons))\n",
    "\n",
    "for i in xrange(Layer3_neurons):\n",
    "#     print i\n",
    "    num_subset = 10    # This is the number of features to look at\n",
    "    select_features = np.random.choice(np.arange(Layer2_neurons), num_subset, replace=False)\n",
    "    select_inputs = np.random.choice(np.arange(num_train), num_train/4, replace=False)\n",
    "    kernel = kernels[np.random.randint(2)]\n",
    "    C = 10*np.random.rand()\n",
    "    degree = np.random.randint(3)+1\n",
    "    gamma = 1./np.random.randint(5,15)\n",
    "    coef0 = np.random.rand(1)[0]\n",
    "    svr = svm.SVR(kernel=kernel, C=C, degree=degree, gamma=gamma, coef0=coef0).fit(X_train_layer_2[:,select_features][select_inputs], y_train[select_inputs])\n",
    "    X_train_layer_3[:,i] = svr.predict(X_train_layer_2[:,select_features])\n",
    "    X_test_layer_3[:,i] = svr.predict(X_test_layer_2[:,select_features])\n",
    "\n",
    "print \"Layer 3 trained\""
   ]
  },
  {
   "cell_type": "code",
   "execution_count": 12,
   "metadata": {
    "collapsed": false
   },
   "outputs": [
    {
     "name": "stdout",
     "output_type": "stream",
     "text": [
      "0.619444444444\n"
     ]
    }
   ],
   "source": [
    "randomize_regular = np.random.choice(np.arange(num_features),num_subset, replace=False)\n",
    "svc_generic = svm.SVC(kernel='linear', C=1).fit(X_train[:,randomize_regular], y_train)\n",
    "print svc_generic.score(X_test[:,randomize_regular], y_test)"
   ]
  },
  {
   "cell_type": "code",
   "execution_count": 13,
   "metadata": {
    "collapsed": false
   },
   "outputs": [
    {
     "name": "stdout",
     "output_type": "stream",
     "text": [
      "0.894444444444\n"
     ]
    }
   ],
   "source": [
    "randomize_research = np.random.choice(np.arange(Layer2_neurons),Layer2_neurons, replace=False)\n",
    "svc_research = svm.SVC(kernel='linear').fit(X_train_layer_2[:,randomize_research], y_train)\n",
    "print svc_research.score(X_test_layer_2[:,randomize_research], y_test)"
   ]
  },
  {
   "cell_type": "markdown",
   "metadata": {},
   "source": [
    "I'm gonna try to plot a probability curve"
   ]
  },
  {
   "cell_type": "code",
   "execution_count": null,
   "metadata": {
    "collapsed": false
   },
   "outputs": [],
   "source": [
    "normal_prob = []\n",
    "research_prob_1_layer = []\n",
    "research_prob_2_layer = []\n",
    "research_prob_3_layer = []\n",
    "\n",
    "for i in xrange(30):\n",
    "    print i\n",
    "    randomize_regular = np.random.choice(np.arange(num_features),64)\n",
    "    kernel = kernels[np.random.randint(2)]\n",
    "    C = 10*np.random.rand()\n",
    "    degree = np.random.randint(3)+1\n",
    "    gamma = 1./np.random.randint(5,15)\n",
    "    coef0 = np.random.rand(1)[0]\n",
    "    svc_generic = svm.SVC(kernel=kernel, C=C, degree=degree, gamma=gamma, coef0=coef0).fit(X_train[:,randomize_regular], y_train)\n",
    "    normal_prob.append(svc_generic.score(X_test[:,randomize_regular], y_test))\n",
    "    \n",
    "    randomize_research = np.random.choice(np.arange(Layer1_neurons),Layer1_neurons)\n",
    "    kernel = kernels[np.random.randint(2)]\n",
    "    C = 10*np.random.rand()\n",
    "    degree = np.random.randint(3)+1\n",
    "    gamma = 1./np.random.randint(5,15)\n",
    "    coef0 = np.random.rand(1)[0]\n",
    "    svc_research = svm.SVC(kernel=kernel, C=C, degree=degree, gamma=gamma, coef0=coef0).fit(X_train_layer_1[:,randomize_research], y_train)\n",
    "    research_prob_1_layer.append(svc_research.score(X_test_layer_1[:,randomize_research], y_test))\n",
    "    \n",
    "    randomize_research = np.random.choice(np.arange(Layer2_neurons),Layer2_neurons)\n",
    "    kernel = kernels[np.random.randint(2)]\n",
    "    C = 10*np.random.rand()\n",
    "    degree = np.random.randint(3)+1\n",
    "    gamma = 1./np.random.randint(5,15)\n",
    "    coef0 = np.random.rand(1)[0]\n",
    "    svc_research = svm.SVC(kernel=kernel, C=C, degree=degree, gamma=gamma, coef0=coef0).fit(X_train_layer_2[:,randomize_research], y_train)\n",
    "    research_prob_2_layer.append(svc_research.score(X_test_layer_2[:,randomize_research], y_test))\n",
    "    \n",
    "    randomize_research = np.random.choice(np.arange(Layer3_neurons),Layer3_neurons)\n",
    "    kernel = kernels[np.random.randint(2)]\n",
    "    C = 10*np.random.rand()\n",
    "    degree = np.random.randint(3)+1\n",
    "    gamma = 1./np.random.randint(5,15)\n",
    "    coef0 = np.random.rand(1)[0]\n",
    "    svc_research = svm.SVC(kernel=kernel, C=C, degree=degree, gamma=gamma, coef0=coef0).fit(X_train_layer_3[:,randomize_research], y_train)\n",
    "    research_prob_3_layer.append(svc_research.score(X_test_layer_3[:,randomize_research], y_test))"
   ]
  },
  {
   "cell_type": "code",
   "execution_count": null,
   "metadata": {
    "collapsed": false
   },
   "outputs": [],
   "source": [
    "import pandas as pd\n",
    "import scipy.stats as stats\n",
    "\n",
    "probs = pd.concat([pd.DataFrame(normal_prob, columns=['normal']),\n",
    "                   pd.DataFrame(research_prob_1_layer, columns=['1 Layer']),\n",
    "                   pd.DataFrame(research_prob_2_layer, columns=['2 Layer']),\n",
    "                   pd.DataFrame(research_prob_3_layer, columns=['3 Layer'])],\n",
    "                   axis=1)\n",
    "\n",
    "plt.figure()\n",
    "probs.plot(kind='density', figsize=(4,4), xlim=(.5,1), ylim=(0,100))"
   ]
  },
  {
   "cell_type": "code",
   "execution_count": null,
   "metadata": {
    "collapsed": false
   },
   "outputs": [],
   "source": [
    "probs.mean(axis=0)"
   ]
  },
  {
   "cell_type": "code",
   "execution_count": null,
   "metadata": {
    "collapsed": false
   },
   "outputs": [],
   "source": [
    "probs.std(axis=0)"
   ]
  },
  {
   "cell_type": "code",
   "execution_count": null,
   "metadata": {
    "collapsed": false
   },
   "outputs": [],
   "source": [
    "print X_test_layer_1"
   ]
  },
  {
   "cell_type": "code",
   "execution_count": null,
   "metadata": {
    "collapsed": true
   },
   "outputs": [],
   "source": []
  },
  {
   "cell_type": "markdown",
   "metadata": {},
   "source": [
    "### I will try to get the ROC/AUC curve for the regular classifier and my creation"
   ]
  },
  {
   "cell_type": "code",
   "execution_count": null,
   "metadata": {
    "collapsed": false
   },
   "outputs": [],
   "source": [
    "y_regular_score = svm.SVC(kernel='linear').fit(X_train[:,randomize_regular], y_train).decision_function(X_test[:,randomize_regular])\n",
    "y_research_score = svm.SVC(kernel='linear').fit(X_train_layer_1[:,randomize_research], y_train).decision_function(X_test_layer_1[:,randomize_research])\n",
    "\n",
    "fpr_regular , tpr_regular, _ = roc_curve(y_test, y_regular_score)\n",
    "roc_auc_regular = auc(fpr_regular, tpr_regular)\n",
    "\n",
    "fpr_research , tpr_research, _ = roc_curve(y_test, y_research_score)\n",
    "roc_auc_research = auc(fpr_research, tpr_research)\n",
    "\n",
    "plt.figure()\n",
    "lw = 2\n",
    "plt.plot(fpr_regular, tpr_regular, color='darkorange',\n",
    "         lw=lw, label='Normal ROC curve (area = %0.2f)' % roc_auc_regular)\n",
    "plt.plot(fpr_research, tpr_research, color='r',\n",
    "         lw=lw, label='Research ROC curve (area = %0.2f)' % roc_auc_research)\n",
    "plt.plot([0, 1], [0, 1], color='navy', lw=lw, linestyle='--')\n",
    "plt.xlim([0.0, 1.0])\n",
    "plt.ylim([0.0, 1.05])\n",
    "plt.xlabel('False Positive Rate')\n",
    "plt.ylabel('True Positive Rate')\n",
    "plt.title('Receiver operating characteristic example')\n",
    "plt.legend(loc=\"lower right\")\n",
    "plt.show()\n"
   ]
  },
  {
   "cell_type": "markdown",
   "metadata": {},
   "source": [
    "# This is from online. The original code gives the ROC/AUC score on a multiclass problem, but it easily reduces down to binary."
   ]
  },
  {
   "cell_type": "code",
   "execution_count": null,
   "metadata": {
    "collapsed": false
   },
   "outputs": [],
   "source": []
  },
  {
   "cell_type": "code",
   "execution_count": null,
   "metadata": {
    "collapsed": false
   },
   "outputs": [],
   "source": [
    "kernel = kernels[np.random.randint(3)]\n",
    "C = 10*np.random.rand()\n",
    "degree = np.random.randint(5)+1\n",
    "gamma = np.random.rand(1)\n",
    "coef0 = np.random.rand(1)*10 - 5\n",
    "svr = svm.SVR(kernel=kernel, C=C, degree=degree, gamma=gamma, coef0=coef0).fit(X_train, y_train)\n",
    "print svr.predict(X_test, y_test)"
   ]
  },
  {
   "cell_type": "code",
   "execution_count": null,
   "metadata": {
    "collapsed": false
   },
   "outputs": [],
   "source": [
    "kernels[2]"
   ]
  }
 ],
 "metadata": {
  "kernelspec": {
   "display_name": "Python 2",
   "language": "python",
   "name": "python2"
  },
  "language_info": {
   "codemirror_mode": {
    "name": "ipython",
    "version": 2
   },
   "file_extension": ".py",
   "mimetype": "text/x-python",
   "name": "python",
   "nbconvert_exporter": "python",
   "pygments_lexer": "ipython2",
   "version": "2.7.12"
  }
 },
 "nbformat": 4,
 "nbformat_minor": 1
}
